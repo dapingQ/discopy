{
 "cells": [
  {
   "cell_type": "markdown",
   "metadata": {},
   "source": [
    "# Photonic kernels\n",
    "\n",
    "- Generate a dataset using the chip with $n$ photons\n",
    "- Learn the dataset using $k \\leq n$ photons\n",
    "- Compare performance with standard Gaussian kernels"
   ]
  },
  {
   "cell_type": "markdown",
   "metadata": {},
   "source": [
    "## Code to construct chips"
   ]
  },
  {
   "cell_type": "code",
   "execution_count": 5,
   "metadata": {},
   "outputs": [],
   "source": [
    "from discopy.quantum.optics import MZI, BeamSplitter, PhaseShift, Id\n",
    "\n",
    "def params_shape(width, depth):\n",
    "    \"\"\" Returns the shape of parameters given width and depth. \"\"\"\n",
    "    even_width = not width % 2\n",
    "    even_depth = not depth % 2\n",
    "    if even_width:\n",
    "        if even_depth:\n",
    "            # we have width // 2 MZIs on the first row\n",
    "            # followed by width // 2 - 1 equals width - 1\n",
    "            return (depth // 2, width - 1, 2)\n",
    "        else:\n",
    "            # we have the parameters for even depths plus\n",
    "            # a last layer of width // 2 MZIs\n",
    "            return (depth // 2 * (width - 1) + width // 2, 2)\n",
    "    else:\n",
    "        # we have width // 2 MZIs on each row, where\n",
    "        # the even layers are tensored by Id on the right\n",
    "        # and the odd layers are tensored on the left.\n",
    "        return (depth, width // 2, 2)\n",
    "\n",
    "\n",
    "def ansatz(width, depth, x):\n",
    "        \"\"\" Returns the chip given width, depth and parameters x\"\"\"\n",
    "        params = x.reshape(params_shape(width, depth))\n",
    "        chip = Id(width)\n",
    "        if not width % 2:\n",
    "            if depth % 2:\n",
    "                params, last_layer = params[:-width // 2].reshape(\n",
    "                    params_shape(width, depth - 1)), params[-width // 2:]\n",
    "            for i in range(depth // 2):\n",
    "                chip = chip\\\n",
    "                    >> Id().tensor(*[\n",
    "                        MZI(*params[i, j])\n",
    "                        for j in range(width // 2)])\\\n",
    "                    >> Id(1) @ Id().tensor(*[\n",
    "                        MZI(*params[i, j + width // 2])\n",
    "                        for j in range(width // 2 - 1)]) @ Id(1)\n",
    "            if depth % 2:\n",
    "                chip = chip >> Id().tensor(*[\n",
    "                    MZI(*last_layer[j]) for j in range(width // 2)])\n",
    "        else:\n",
    "            for i in range(depth):\n",
    "                left, right = (Id(1), Id()) if i % 2 else (Id(), Id(1))\n",
    "                chip >>= left.tensor(*[\n",
    "                    MZI(*params[i, j])\n",
    "                    for j in range(width // 2)]) @ right\n",
    "        return chip"
   ]
  },
  {
   "cell_type": "markdown",
   "metadata": {},
   "source": [
    "## Initialise width and depth of chip"
   ]
  },
  {
   "cell_type": "code",
   "execution_count": 6,
   "metadata": {
    "scrolled": true
   },
   "outputs": [
    {
     "data": {
      "image/png": "[encoded data removed]",
      "text/plain": [
       "<Figure size 432x288 with 1 Axes>"
      ]
     },
     "metadata": {
      "needs_background": "light"
     },
     "output_type": "display_data"
    }
   ],
   "source": [
    "import numpy as np\n",
    "\n",
    "depth = 4\n",
    "width = 5\n",
    "n_params = 2 * (depth * width // 2 - depth // 2)\n",
    "\n",
    "random_datapoint = lambda: np.random.uniform(0, 2, size=(n_params,))\n",
    "\n",
    "x0 = random_datapoint()\n",
    "ansatz(width, depth, x0).draw()"
   ]
  },
  {
   "cell_type": "code",
   "execution_count": 7,
   "metadata": {},
   "outputs": [
    {
     "data": {
      "image/png": "[encoded data removed]",
      "text/plain": [
       "<Figure size 432x288 with 1 Axes>"
      ]
     },
     "metadata": {
      "needs_background": "light"
     },
     "output_type": "display_data"
    }
   ],
   "source": [
    "(ansatz(width, depth, x0) >> ansatz(width, depth, x0).dagger()).draw()"
   ]
  },
  {
   "cell_type": "markdown",
   "metadata": {},
   "source": [
    "## Generate the dataset"
   ]
  },
  {
   "cell_type": "code",
   "execution_count": 8,
   "metadata": {},
   "outputs": [],
   "source": [
    "from discopy.quantum.optics import occupation_numbers\n",
    "\n",
    "n_photons = 3\n",
    "a = [0, 1, 1, 1, 0]\n",
    "\n",
    "def label(x):\n",
    "    ''' Returns label of datapoint x, obtained by sampling from the chip with input state a'''\n",
    "    basis_states = occupation_numbers(n_photons, width)\n",
    "    chip = ansatz(width, depth, x)\n",
    "    p_left = sum([np.absolute(chip.amp(a, b)) ** 2 for b in basis_states[:len(basis_states) // 2]])\n",
    "    if p_left > .5:\n",
    "        return 1\n",
    "    else:\n",
    "        return -1      "
   ]
  },
  {
   "cell_type": "code",
   "execution_count": 9,
   "metadata": {
    "scrolled": false
   },
   "outputs": [
    {
     "name": "stdout",
     "output_type": "stream",
     "text": [
      "Number of positive samples: 60, Number of negative samples: 60\n",
      "Number of discarded samples: 23\n"
     ]
    }
   ],
   "source": [
    "D = 120 # number of datapoints, must be even.\n",
    "\n",
    "data = []\n",
    "labels =[]\n",
    "count_positive, count_negative, count_discarded = 0, 0, 0\n",
    "\n",
    "while count_negative + count_positive < D:\n",
    "        x = random_datapoint()\n",
    "        y = label(x)\n",
    "        if y == -1 and count_negative < D // 2:\n",
    "            data += [x]\n",
    "            labels += [y]\n",
    "            count_negative += 1\n",
    "        elif y == 1 and count_positive < D // 2:\n",
    "            data += [x]\n",
    "            labels += [y]\n",
    "            count_positive += 1\n",
    "        else:\n",
    "            count_discarded += 1\n",
    "        print('Number of positive samples: {}, Number of negative samples: {}'.format(\n",
    "                count_positive, count_negative), end='\\r')\n",
    "\n",
    "assert sum(labels) == 0 \n",
    "print('\\nNumber of discarded samples: {}'.format(count_discarded))"
   ]
  },
  {
   "cell_type": "code",
   "execution_count": 10,
   "metadata": {},
   "outputs": [
    {
     "data": {
      "text/plain": [
       "-4"
      ]
     },
     "execution_count": 10,
     "metadata": {},
     "output_type": "execute_result"
    }
   ],
   "source": [
    "from sklearn.model_selection import train_test_split\n",
    "\n",
    "X_train, X_test, y_train, y_test = train_test_split(data, labels, test_size=1/4, random_state=115)\n",
    "sum(y_train)"
   ]
  },
  {
   "cell_type": "markdown",
   "metadata": {},
   "source": [
    "# Learn dataset with photonic kernel"
   ]
  },
  {
   "cell_type": "code",
   "execution_count": 11,
   "metadata": {},
   "outputs": [
    {
     "data": {
      "text/plain": [
       "1.0000000000000009"
      ]
     },
     "execution_count": 11,
     "metadata": {},
     "output_type": "execute_result"
    }
   ],
   "source": [
    "photonic_kernel = lambda state: lambda x0, x1: np.absolute(\n",
    "                        (ansatz(width, depth, x0) >> ansatz(width, depth, x1).dagger()).amp(state, state)) ** 2\n",
    "\n",
    "photonic_kernel(a)(data[4], data[4])"
   ]
  },
  {
   "cell_type": "code",
   "execution_count": 12,
   "metadata": {},
   "outputs": [],
   "source": [
    "from sklearn import svm\n",
    "from sklearn.metrics import classification_report\n",
    "\n",
    "classifier = svm.SVC(kernel='precomputed', verbose=True)\n",
    "\n",
    "state = [0, 1, 1, 1, 0]\n",
    "\n",
    "gram_train = np.array([[photonic_kernel(state)(x0, x1) for x1 in X_train] for x0 in X_train])\n",
    "K3 = gram_train\n",
    "\n",
    "# classifier.fit(gram_train, y_train)\n",
    "\n",
    "# print('Performance on TRAIN data:')\n",
    "# print(classification_report(y_train, classifier.predict(gram_train)))"
   ]
  },
  {
   "cell_type": "code",
   "execution_count": 9,
   "metadata": {
    "scrolled": true
   },
   "outputs": [
    {
     "name": "stdout",
     "output_type": "stream",
     "text": [
      "Performance on TEST data:\n"
     ]
    },
    {
     "ename": "NotFittedError",
     "evalue": "This SVC instance is not fitted yet. Call 'fit' with appropriate arguments before using this estimator.",
     "output_type": "error",
     "traceback": [
      "\u001b[1;31m---------------------------------------------------------------------------\u001b[0m",
      "\u001b[1;31mNotFittedError\u001b[0m                            Traceback (most recent call last)",
      "\u001b[1;32m<ipython-input-9-a1b6a75633aa>\u001b[0m in \u001b[0;36m<module>\u001b[1;34m\u001b[0m\n\u001b[0;32m      1\u001b[0m \u001b[0mgram_test\u001b[0m \u001b[1;33m=\u001b[0m \u001b[1;33m[\u001b[0m\u001b[1;33m[\u001b[0m\u001b[0mphotonic_kernel\u001b[0m\u001b[1;33m(\u001b[0m\u001b[0mstate\u001b[0m\u001b[1;33m)\u001b[0m\u001b[1;33m(\u001b[0m\u001b[0mx0\u001b[0m\u001b[1;33m,\u001b[0m \u001b[0mx1\u001b[0m\u001b[1;33m)\u001b[0m \u001b[1;32mfor\u001b[0m \u001b[0mx1\u001b[0m \u001b[1;32min\u001b[0m \u001b[0mX_train\u001b[0m\u001b[1;33m]\u001b[0m \u001b[1;32mfor\u001b[0m \u001b[0mx0\u001b[0m \u001b[1;32min\u001b[0m \u001b[0mX_test\u001b[0m\u001b[1;33m]\u001b[0m\u001b[1;33m\u001b[0m\u001b[1;33m\u001b[0m\u001b[0m\n\u001b[0;32m      2\u001b[0m \u001b[0mprint\u001b[0m\u001b[1;33m(\u001b[0m\u001b[1;34m'Performance on TEST data:'\u001b[0m\u001b[1;33m)\u001b[0m\u001b[1;33m\u001b[0m\u001b[1;33m\u001b[0m\u001b[0m\n\u001b[1;32m----> 3\u001b[1;33m \u001b[0mprint\u001b[0m\u001b[1;33m(\u001b[0m\u001b[0mclassification_report\u001b[0m\u001b[1;33m(\u001b[0m\u001b[0my_test\u001b[0m\u001b[1;33m,\u001b[0m \u001b[0mclassifier\u001b[0m\u001b[1;33m.\u001b[0m\u001b[0mpredict\u001b[0m\u001b[1;33m(\u001b[0m\u001b[0mgram_test\u001b[0m\u001b[1;33m)\u001b[0m\u001b[1;33m)\u001b[0m\u001b[1;33m)\u001b[0m\u001b[1;33m\u001b[0m\u001b[1;33m\u001b[0m\u001b[0m\n\u001b[0m",
      "\u001b[1;32mC:\\Programs\\Miniconda3\\envs\\discopy\\lib\\site-packages\\sklearn\\svm\\_base.py\u001b[0m in \u001b[0;36mpredict\u001b[1;34m(self, X)\u001b[0m\n\u001b[0;32m    612\u001b[0m             \u001b[0mClass\u001b[0m \u001b[0mlabels\u001b[0m \u001b[1;32mfor\u001b[0m \u001b[0msamples\u001b[0m \u001b[1;32min\u001b[0m \u001b[0mX\u001b[0m\u001b[1;33m.\u001b[0m\u001b[1;33m\u001b[0m\u001b[1;33m\u001b[0m\u001b[0m\n\u001b[0;32m    613\u001b[0m         \"\"\"\n\u001b[1;32m--> 614\u001b[1;33m         \u001b[0mcheck_is_fitted\u001b[0m\u001b[1;33m(\u001b[0m\u001b[0mself\u001b[0m\u001b[1;33m)\u001b[0m\u001b[1;33m\u001b[0m\u001b[1;33m\u001b[0m\u001b[0m\n\u001b[0m\u001b[0;32m    615\u001b[0m         \u001b[1;32mif\u001b[0m \u001b[0mself\u001b[0m\u001b[1;33m.\u001b[0m\u001b[0mbreak_ties\u001b[0m \u001b[1;32mand\u001b[0m \u001b[0mself\u001b[0m\u001b[1;33m.\u001b[0m\u001b[0mdecision_function_shape\u001b[0m \u001b[1;33m==\u001b[0m \u001b[1;34m'ovo'\u001b[0m\u001b[1;33m:\u001b[0m\u001b[1;33m\u001b[0m\u001b[1;33m\u001b[0m\u001b[0m\n\u001b[0;32m    616\u001b[0m             raise ValueError(\"break_ties must be False when \"\n",
      "\u001b[1;32mC:\\Programs\\Miniconda3\\envs\\discopy\\lib\\site-packages\\sklearn\\utils\\validation.py\u001b[0m in \u001b[0;36minner_f\u001b[1;34m(*args, **kwargs)\u001b[0m\n\u001b[0;32m     61\u001b[0m             \u001b[0mextra_args\u001b[0m \u001b[1;33m=\u001b[0m \u001b[0mlen\u001b[0m\u001b[1;33m(\u001b[0m\u001b[0margs\u001b[0m\u001b[1;33m)\u001b[0m \u001b[1;33m-\u001b[0m \u001b[0mlen\u001b[0m\u001b[1;33m(\u001b[0m\u001b[0mall_args\u001b[0m\u001b[1;33m)\u001b[0m\u001b[1;33m\u001b[0m\u001b[1;33m\u001b[0m\u001b[0m\n\u001b[0;32m     62\u001b[0m             \u001b[1;32mif\u001b[0m \u001b[0mextra_args\u001b[0m \u001b[1;33m<=\u001b[0m \u001b[1;36m0\u001b[0m\u001b[1;33m:\u001b[0m\u001b[1;33m\u001b[0m\u001b[1;33m\u001b[0m\u001b[0m\n\u001b[1;32m---> 63\u001b[1;33m                 \u001b[1;32mreturn\u001b[0m \u001b[0mf\u001b[0m\u001b[1;33m(\u001b[0m\u001b[1;33m*\u001b[0m\u001b[0margs\u001b[0m\u001b[1;33m,\u001b[0m \u001b[1;33m**\u001b[0m\u001b[0mkwargs\u001b[0m\u001b[1;33m)\u001b[0m\u001b[1;33m\u001b[0m\u001b[1;33m\u001b[0m\u001b[0m\n\u001b[0m\u001b[0;32m     64\u001b[0m \u001b[1;33m\u001b[0m\u001b[0m\n\u001b[0;32m     65\u001b[0m             \u001b[1;31m# extra_args > 0\u001b[0m\u001b[1;33m\u001b[0m\u001b[1;33m\u001b[0m\u001b[1;33m\u001b[0m\u001b[0m\n",
      "\u001b[1;32mC:\\Programs\\Miniconda3\\envs\\discopy\\lib\\site-packages\\sklearn\\utils\\validation.py\u001b[0m in \u001b[0;36mcheck_is_fitted\u001b[1;34m(estimator, attributes, msg, all_or_any)\u001b[0m\n\u001b[0;32m   1096\u001b[0m \u001b[1;33m\u001b[0m\u001b[0m\n\u001b[0;32m   1097\u001b[0m     \u001b[1;32mif\u001b[0m \u001b[1;32mnot\u001b[0m \u001b[0mattrs\u001b[0m\u001b[1;33m:\u001b[0m\u001b[1;33m\u001b[0m\u001b[1;33m\u001b[0m\u001b[0m\n\u001b[1;32m-> 1098\u001b[1;33m         \u001b[1;32mraise\u001b[0m \u001b[0mNotFittedError\u001b[0m\u001b[1;33m(\u001b[0m\u001b[0mmsg\u001b[0m \u001b[1;33m%\u001b[0m \u001b[1;33m{\u001b[0m\u001b[1;34m'name'\u001b[0m\u001b[1;33m:\u001b[0m \u001b[0mtype\u001b[0m\u001b[1;33m(\u001b[0m\u001b[0mestimator\u001b[0m\u001b[1;33m)\u001b[0m\u001b[1;33m.\u001b[0m\u001b[0m__name__\u001b[0m\u001b[1;33m}\u001b[0m\u001b[1;33m)\u001b[0m\u001b[1;33m\u001b[0m\u001b[1;33m\u001b[0m\u001b[0m\n\u001b[0m\u001b[0;32m   1099\u001b[0m \u001b[1;33m\u001b[0m\u001b[0m\n\u001b[0;32m   1100\u001b[0m \u001b[1;33m\u001b[0m\u001b[0m\n",
      "\u001b[1;31mNotFittedError\u001b[0m: This SVC instance is not fitted yet. Call 'fit' with appropriate arguments before using this estimator."
     ]
    }
   ],
   "source": [
    "gram_test = [[photonic_kernel(state)(x0, x1) for x1 in X_train] for x0 in X_test] \n",
    "print('Performance on TEST data:')\n",
    "print(classification_report(y_test, classifier.predict(gram_test)))\n"
   ]
  },
  {
   "cell_type": "markdown",
   "metadata": {},
   "source": [
    "## Learn dataset with less photons"
   ]
  },
  {
   "cell_type": "code",
   "execution_count": 13,
   "metadata": {},
   "outputs": [],
   "source": [
    "state = [0, 1, 0, 1, 0]\n",
    "\n",
    "gram_train = np.array([[photonic_kernel(state)(x0, x1) for x1 in X_train] for x0 in X_train])\n",
    "K2 = gram_train\n",
    "# # classifier.fit(gram_train, y_train)\n",
    "\n",
    "# print('Performance on TRAIN data:')\n",
    "# print(classification_report(y_train, classifier.predict(gram_train)))\n",
    "\n",
    "# gram_test = [[photonic_kernel(state)(x0, x1) for x1 in X_train] for x0 in X_test] \n",
    "\n",
    "# print('Performance on TEST data:')\n",
    "# print(classification_report(y_test, classifier.predict(gram_test)))"
   ]
  },
  {
   "cell_type": "code",
   "execution_count": 14,
   "metadata": {
    "scrolled": true
   },
   "outputs": [],
   "source": [
    "state = [0, 0, 1, 0, 0]\n",
    "\n",
    "gram_train = np.array([[photonic_kernel(state)(x0, x1) for x1 in X_train] for x0 in X_train])\n",
    "K1 = gram_train\n",
    "# classifier.fit(gram_train, y_train)\n",
    "\n",
    "# print('Performance on TRAIN data:')\n",
    "# print(classification_report(y_train, classifier.predict(gram_train)))\n",
    "\n",
    "# gram_test = [[photonic_kernel(state)(x0, x1) for x1 in X_train] for x0 in X_test] \n",
    "\n",
    "# print('Performance on TEST data:')\n",
    "# print(classification_report(y_test, classifier.predict(gram_test)))"
   ]
  },
  {
   "cell_type": "markdown",
   "metadata": {},
   "source": [
    "### Learn with distinguishable photons"
   ]
  },
  {
   "cell_type": "code",
   "execution_count": 15,
   "metadata": {},
   "outputs": [],
   "source": [
    "dist_photons_kernel = lambda state: lambda x0, x1: (\n",
    "        ansatz(width, depth, x0) >> ansatz(width, depth, x1).dagger()).D_prob(state, state)\n",
    "\n",
    "state = [0, 1, 1, 1, 0]\n",
    "\n",
    "gram_train = np.array([[dist_photons_kernel(state)(x0, x1) for x1 in X_train] for x0 in X_train])\n",
    "K_D = gram_train\n",
    "# classifier.fit(gram_train, y_train)\n",
    "\n",
    "# print('Performance on TRAIN data:')\n",
    "# print(classification_report(y_train, classifier.predict(gram_train)))\n",
    "\n",
    "# gram_test = [[dist_photons_kernel(state)(x0, x1) for x1 in X_train] for x0 in X_test] \n",
    "\n",
    "# print('Performance on TEST data:')\n",
    "# print(classification_report(y_test, classifier.predict(gram_test)))"
   ]
  },
  {
   "cell_type": "markdown",
   "metadata": {},
   "source": [
    "## Compare with Gaussian kernels"
   ]
  },
  {
   "cell_type": "code",
   "execution_count": 72,
   "metadata": {},
   "outputs": [
    {
     "data": {
      "text/plain": [
       "<bound method BaseEstimator.get_params of GridSearchCV(estimator=SVC(),\n",
       "             param_grid={'C': array([1.00000000e-02, 1.20679264e-02, 1.45634848e-02, ...,\n",
       "       6.86648845e+01, 8.28642773e+01, 1.00000000e+02]),\n",
       "                         'gamma': array([1.00000000e-09, 1.67683294e-09, 2.81176870e-09, ...,\n",
       "       3.55648031e+01, 5.96362332e+01, 1.00000000e+02])})>"
      ]
     },
     "execution_count": 72,
     "metadata": {},
     "output_type": "execute_result"
    }
   ],
   "source": [
    "grid.get_params"
   ]
  },
  {
   "cell_type": "code",
   "execution_count": 55,
   "metadata": {},
   "outputs": [
    {
     "data": {
      "text/plain": [
       "GridSearchCV(estimator=SVC(),\n",
       "             param_grid={'C': array([1.00000000e-02, 1.20679264e-02, 1.45634848e-02, ...,\n",
       "       6.86648845e+01, 8.28642773e+01, 1.00000000e+02]),\n",
       "                         'gamma': array([1.00000000e-09, 1.67683294e-09, 2.81176870e-09, ...,\n",
       "       3.55648031e+01, 5.96362332e+01, 1.00000000e+02])})"
      ]
     },
     "execution_count": 55,
     "metadata": {},
     "output_type": "execute_result"
    }
   ],
   "source": [
    "from sklearn.model_selection import GridSearchCV, StratifiedShuffleSplit\n",
    "\n",
    "C_range = np.logspace(-2, 2, 50)\n",
    "gamma_range = np.logspace(-9, 2, 50)\n",
    "param_grid = dict(gamma=gamma_range, C=C_range)\n",
    "grid = GridSearchCV(svm.SVC(), param_grid=param_grid)\n",
    "grid.fit(X_train, y_train)"
   ]
  },
  {
   "cell_type": "code",
   "execution_count": 73,
   "metadata": {},
   "outputs": [
    {
     "name": "stdout",
     "output_type": "stream",
     "text": [
      "The best parameters are {'C': 0.01, 'gamma': 1e-09} with a score of 0.52\n",
      "Performance on TRAIN data:\n",
      "              precision    recall  f1-score   support\n",
      "\n",
      "          -1       0.52      1.00      0.69        47\n",
      "           1       0.00      0.00      0.00        43\n",
      "\n",
      "    accuracy                           0.52        90\n",
      "   macro avg       0.26      0.50      0.34        90\n",
      "weighted avg       0.27      0.52      0.36        90\n",
      "\n",
      "Performance on TEST data:\n",
      "              precision    recall  f1-score   support\n",
      "\n",
      "          -1       0.43      1.00      0.60        13\n",
      "           1       0.00      0.00      0.00        17\n",
      "\n",
      "    accuracy                           0.43        30\n",
      "   macro avg       0.22      0.50      0.30        30\n",
      "weighted avg       0.19      0.43      0.26        30\n",
      "\n"
     ]
    },
    {
     "name": "stderr",
     "output_type": "stream",
     "text": [
      "C:\\Programs\\Miniconda3\\envs\\discopy\\lib\\site-packages\\sklearn\\metrics\\_classification.py:1248: UndefinedMetricWarning: Precision and F-score are ill-defined and being set to 0.0 in labels with no predicted samples. Use `zero_division` parameter to control this behavior.\n",
      "  _warn_prf(average, modifier, msg_start, len(result))\n",
      "C:\\Programs\\Miniconda3\\envs\\discopy\\lib\\site-packages\\sklearn\\metrics\\_classification.py:1248: UndefinedMetricWarning: Precision and F-score are ill-defined and being set to 0.0 in labels with no predicted samples. Use `zero_division` parameter to control this behavior.\n",
      "  _warn_prf(average, modifier, msg_start, len(result))\n",
      "C:\\Programs\\Miniconda3\\envs\\discopy\\lib\\site-packages\\sklearn\\metrics\\_classification.py:1248: UndefinedMetricWarning: Precision and F-score are ill-defined and being set to 0.0 in labels with no predicted samples. Use `zero_division` parameter to control this behavior.\n",
      "  _warn_prf(average, modifier, msg_start, len(result))\n",
      "C:\\Programs\\Miniconda3\\envs\\discopy\\lib\\site-packages\\sklearn\\metrics\\_classification.py:1248: UndefinedMetricWarning: Precision and F-score are ill-defined and being set to 0.0 in labels with no predicted samples. Use `zero_division` parameter to control this behavior.\n",
      "  _warn_prf(average, modifier, msg_start, len(result))\n",
      "C:\\Programs\\Miniconda3\\envs\\discopy\\lib\\site-packages\\sklearn\\metrics\\_classification.py:1248: UndefinedMetricWarning: Precision and F-score are ill-defined and being set to 0.0 in labels with no predicted samples. Use `zero_division` parameter to control this behavior.\n",
      "  _warn_prf(average, modifier, msg_start, len(result))\n",
      "C:\\Programs\\Miniconda3\\envs\\discopy\\lib\\site-packages\\sklearn\\metrics\\_classification.py:1248: UndefinedMetricWarning: Precision and F-score are ill-defined and being set to 0.0 in labels with no predicted samples. Use `zero_division` parameter to control this behavior.\n",
      "  _warn_prf(average, modifier, msg_start, len(result))\n"
     ]
    }
   ],
   "source": [
    "print(\n",
    "    \"The best parameters are %s with a score of %0.2f\"\n",
    "    % (grid.best_params_, grid.best_score_)\n",
    ")\n",
    "\n",
    "print('Performance on TRAIN data:')\n",
    "print(classification_report(y_train, grid.predict(X_train)))\n",
    "\n",
    "print('Performance on TEST data:')\n",
    "print(classification_report(y_test, grid.predict(X_test)))"
   ]
  },
  {
   "cell_type": "code",
   "execution_count": null,
   "metadata": {},
   "outputs": [],
   "source": [
    "# import pickle\n",
    "# pickle_out = open('dataset-D120-w5-d4-01110.pickle',\"wb\")\n",
    "# pickle.dump(data, pickle_out)\n",
    "# pickle_out.close()"
   ]
  },
  {
   "cell_type": "markdown",
   "metadata": {},
   "source": [
    "# geometric difference\n",
    "\n",
    "see Reference \n",
    "http://dx.doi.org/10.1038/s41467-021-22539-9\n",
    "\n",
    "$$\n",
    "g_{12} = g(K^1||K^2) = \\sqrt{ || \\sqrt{K^2}(K^1)^{-1}\\sqrt{K^2} ||_{\\inf} }\n",
    "$$"
   ]
  },
  {
   "cell_type": "code",
   "execution_count": 44,
   "metadata": {},
   "outputs": [],
   "source": [
    "#np.save('data.npy', (K1,K2,K3))\n",
    "\n",
    "K1, K2, K3 = np.load('data.npy')\n"
   ]
  },
  {
   "cell_type": "code",
   "execution_count": 20,
   "metadata": {
    "scrolled": true
   },
   "outputs": [
    {
     "data": {
      "text/plain": [
       "[array([0.42234051, 0.7814031 , 1.81470576, 1.65521259, 0.96798502,\n",
       "        1.87102947, 0.55405159, 0.5646851 , 1.41977946, 1.29487278,\n",
       "        1.02247353, 0.60404661, 0.82719138, 1.36221748, 1.4041428 ,\n",
       "        0.79896805]),\n",
       " array([1.46254092, 0.18612518, 0.65283363, 1.01083445, 1.23078084,\n",
       "        1.86204427, 1.42318671, 0.45753089, 1.46799292, 0.90902183,\n",
       "        0.51584748, 1.51899218, 1.43199822, 0.03118849, 0.44422154,\n",
       "        1.46318796]),\n",
       " array([0.11233918, 0.72233588, 1.38523091, 1.21025313, 0.72389449,\n",
       "        1.71198239, 1.39202675, 0.22144624, 1.14955772, 1.21771303,\n",
       "        0.32400232, 0.42331958, 0.49661106, 0.81515893, 1.95371453,\n",
       "        0.57105515]),\n",
       " array([0.1519415 , 1.1152076 , 1.13380175, 1.26143436, 0.96238891,\n",
       "        0.91497104, 1.49643744, 1.06455478, 0.19788137, 1.10757115,\n",
       "        1.28040439, 1.06370499, 0.24856354, 0.43655152, 0.88209717,\n",
       "        0.30906574]),\n",
       " array([1.38147039, 0.92138475, 1.25982249, 0.51017526, 0.37412245,\n",
       "        1.38603484, 1.98894637, 0.47163875, 0.32637371, 1.8804026 ,\n",
       "        0.38450617, 1.06219433, 1.10638742, 0.55835413, 1.98175827,\n",
       "        0.95929453]),\n",
       " array([0.16463536, 1.57432107, 0.19834189, 1.2030515 , 1.95392951,\n",
       "        0.74993812, 0.93503854, 1.68300137, 1.63858214, 0.35106468,\n",
       "        1.93913899, 0.72607344, 0.98822   , 0.91588744, 1.00919299,\n",
       "        1.56955911]),\n",
       " array([0.03718943, 0.44455138, 1.35108648, 0.02756828, 1.03860518,\n",
       "        0.01466552, 0.34809139, 0.17666411, 0.96724838, 1.77349413,\n",
       "        0.11327183, 0.21218621, 1.75208692, 1.95563525, 0.03592862,\n",
       "        1.47421446]),\n",
       " array([0.61473242, 1.68980945, 0.36805416, 1.59729507, 1.96563226,\n",
       "        1.78186614, 1.58296173, 0.17713173, 1.46160039, 0.30314325,\n",
       "        1.09289561, 1.57387721, 1.99789271, 1.85549381, 1.69197196,\n",
       "        0.49106145]),\n",
       " array([0.90081484, 0.84439524, 1.70306716, 1.7148317 , 1.82980022,\n",
       "        1.31546197, 0.13505858, 1.3781862 , 1.86843767, 1.46794744,\n",
       "        0.58308229, 1.45550514, 0.50472323, 1.99611679, 0.91009457,\n",
       "        0.39345418]),\n",
       " array([0.72831441, 1.21327926, 0.61342331, 0.27429807, 0.33323396,\n",
       "        1.34345046, 1.96756942, 1.03594255, 1.96059397, 1.95578318,\n",
       "        0.86704955, 0.52049689, 1.97999667, 1.21619402, 0.80594071,\n",
       "        1.181388  ]),\n",
       " array([0.87266897, 0.77796041, 0.76544371, 1.35290504, 1.65404782,\n",
       "        1.50259884, 0.98803966, 1.10147123, 1.34655068, 1.76730347,\n",
       "        1.26360406, 0.03197753, 1.28771218, 1.86228997, 0.38913089,\n",
       "        0.33666613]),\n",
       " array([1.83091966e+00, 1.15648500e+00, 8.03003349e-01, 6.32833195e-01,\n",
       "        9.15497284e-01, 1.46853008e+00, 1.39315504e+00, 1.45665421e+00,\n",
       "        1.87261898e+00, 7.19938746e-01, 9.51543134e-02, 9.98170089e-01,\n",
       "        9.82107750e-04, 1.14945152e+00, 1.10021842e+00, 1.52267757e+00]),\n",
       " array([0.19805055, 0.586468  , 0.09770157, 0.75253842, 1.20763063,\n",
       "        1.10737435, 1.65399775, 1.45326129, 0.01959791, 1.75442424,\n",
       "        0.37898633, 1.47130751, 0.58332844, 0.0744121 , 0.10602377,\n",
       "        0.50996968]),\n",
       " array([0.93279804, 0.92718014, 1.65945538, 1.03288078, 1.77325243,\n",
       "        0.58627862, 1.71739146, 0.46116872, 0.8652351 , 0.14319507,\n",
       "        1.87279078, 0.37574915, 0.71958188, 0.56124845, 0.61582752,\n",
       "        1.76429116]),\n",
       " array([1.74396086, 1.65971549, 0.72317615, 0.34385708, 1.73932701,\n",
       "        1.42254064, 0.21158418, 1.25790102, 1.45100753, 0.37761057,\n",
       "        0.3033354 , 0.62540888, 1.14052231, 0.29894635, 0.63961988,\n",
       "        0.90300058]),\n",
       " array([0.09246674, 0.40433995, 1.41137668, 0.31595794, 0.07804431,\n",
       "        0.62429996, 1.03973825, 1.9712049 , 1.32084817, 1.27523002,\n",
       "        1.30997089, 1.89152345, 0.49135995, 0.35269736, 1.19650226,\n",
       "        0.36461239]),\n",
       " array([1.46718689, 0.71377606, 0.73540493, 1.60418657, 1.60598283,\n",
       "        1.86715916, 1.95870396, 0.72226668, 1.44702907, 0.68629501,\n",
       "        1.85075554, 0.90867074, 0.63656592, 0.39838401, 1.15759165,\n",
       "        1.53615946]),\n",
       " array([0.59024055, 1.59203896, 1.43527325, 0.46579284, 1.98148998,\n",
       "        1.94003139, 0.05765567, 0.31541049, 0.00564252, 1.17807869,\n",
       "        0.30433974, 1.0054291 , 1.99845111, 0.43502554, 1.49096921,\n",
       "        0.13110728]),\n",
       " array([0.4178854 , 0.62190184, 1.35559798, 1.65379956, 1.27975458,\n",
       "        0.55259086, 1.48149269, 0.5017195 , 1.32516361, 1.91691117,\n",
       "        0.31846424, 0.04362958, 1.16077931, 0.66501804, 0.50739045,\n",
       "        1.19235072]),\n",
       " array([0.51170643, 1.39610583, 1.01086895, 1.74399647, 0.56593937,\n",
       "        1.77812865, 0.98724911, 0.99731886, 0.92113371, 0.09072979,\n",
       "        1.70796227, 1.62586258, 1.88971667, 1.71705246, 1.02525074,\n",
       "        1.18058018]),\n",
       " array([1.99203594, 1.87763222, 1.61542909, 1.78750189, 1.37553366,\n",
       "        1.22150899, 1.87218617, 0.40041919, 1.72594101, 0.53817041,\n",
       "        0.41056082, 1.98191436, 0.41191397, 0.86391029, 0.8520738 ,\n",
       "        1.41099114]),\n",
       " array([0.03990345, 1.10906454, 1.33658367, 1.45026112, 1.65728644,\n",
       "        0.26032689, 0.36178802, 1.12928971, 1.21203626, 1.05800142,\n",
       "        0.82468219, 1.05894287, 1.7488418 , 0.97609535, 1.45359868,\n",
       "        1.69187274]),\n",
       " array([0.21673601, 0.50325622, 1.71495451, 0.04232735, 0.87855686,\n",
       "        1.87185911, 0.31051962, 0.79049293, 0.83170945, 1.75077159,\n",
       "        1.72285621, 1.58714384, 1.57148458, 1.63715087, 1.53831581,\n",
       "        1.0943275 ]),\n",
       " array([1.91631883, 1.8095314 , 0.52952084, 1.45663006, 0.03843265,\n",
       "        0.76236958, 0.29172984, 0.1834816 , 0.21210259, 1.43006509,\n",
       "        1.39913994, 1.69087428, 0.98460127, 0.25184336, 1.71879427,\n",
       "        0.76097484]),\n",
       " array([1.61668318, 1.9642966 , 1.25964149, 1.91709405, 1.54469466,\n",
       "        0.78769447, 0.28321927, 0.77576261, 0.61526885, 1.35209306,\n",
       "        1.53650435, 1.92630952, 0.98620353, 0.17920639, 1.29540076,\n",
       "        0.17255688]),\n",
       " array([1.45152963, 0.85424327, 0.75007114, 1.98308743, 0.72905481,\n",
       "        1.95211537, 1.65711735, 1.57519202, 0.08977238, 1.18487638,\n",
       "        1.45354748, 0.00892023, 1.77455616, 0.79220829, 0.23706848,\n",
       "        1.35346116]),\n",
       " array([0.60946212, 1.71176322, 0.90176751, 0.83276581, 0.59139673,\n",
       "        0.9662541 , 1.71549548, 1.31344355, 1.40245906, 1.61347886,\n",
       "        0.82180663, 1.65466872, 1.70549617, 0.15174158, 0.70919911,\n",
       "        1.88072235]),\n",
       " array([1.16338899, 0.00679561, 1.10902106, 0.96935055, 0.37165587,\n",
       "        1.29745416, 0.99995948, 1.10692128, 1.93437332, 0.11211083,\n",
       "        0.68319838, 0.15353672, 0.46652126, 0.64246968, 1.62473348,\n",
       "        1.57060406]),\n",
       " array([0.89266975, 1.28088329, 1.10823661, 0.2567715 , 1.77014932,\n",
       "        0.87613856, 1.03482611, 1.73506772, 1.10338882, 0.79810163,\n",
       "        1.65469947, 1.70292423, 0.11602715, 0.60573944, 1.63145851,\n",
       "        1.14826821]),\n",
       " array([0.37014251, 1.5933949 , 1.22174751, 0.43787889, 1.74594304,\n",
       "        1.53283979, 1.90481848, 0.63492026, 0.25192663, 0.70733376,\n",
       "        1.59655382, 1.76317768, 0.77025505, 0.80746825, 1.79178526,\n",
       "        0.77355644]),\n",
       " array([0.27723814, 0.08110308, 1.77070137, 0.49096881, 0.66228207,\n",
       "        0.36127046, 0.30747795, 0.7394407 , 1.07993063, 0.76188535,\n",
       "        1.99557575, 1.5508923 , 0.91459178, 0.1314794 , 0.96181141,\n",
       "        0.60099895]),\n",
       " array([1.89606805, 0.97400528, 0.95722845, 0.54381828, 0.8333943 ,\n",
       "        0.07182162, 0.27131492, 0.60191064, 1.39559121, 1.34334406,\n",
       "        0.34265015, 1.29690071, 0.76461755, 0.67176951, 1.89919017,\n",
       "        1.47553381]),\n",
       " array([0.42741608, 1.619629  , 1.82873318, 0.73141143, 0.83881555,\n",
       "        0.45499347, 0.8139826 , 0.56266204, 1.06325611, 1.64200995,\n",
       "        1.18814555, 1.82841433, 1.95592608, 1.95724067, 0.54366113,\n",
       "        0.90093583]),\n",
       " array([1.11212738, 0.29551031, 0.3559339 , 0.32460766, 1.37632516,\n",
       "        0.74729535, 1.30393079, 1.84549577, 1.66339902, 0.73384145,\n",
       "        0.27712299, 1.19184998, 0.39102062, 1.85892332, 0.70053888,\n",
       "        1.81822795]),\n",
       " array([1.87025181, 1.35960582, 1.74793492, 1.29892727, 1.63429628,\n",
       "        0.79174863, 1.05250391, 0.80979206, 0.02936931, 1.05726332,\n",
       "        1.75197459, 0.77663029, 1.26850313, 0.93999179, 1.23710941,\n",
       "        0.12303458]),\n",
       " array([1.85905234, 0.23671634, 0.24594358, 1.55738369, 0.3004707 ,\n",
       "        1.53887078, 0.21895575, 1.12141527, 0.14061728, 1.01819817,\n",
       "        0.63211843, 1.3960507 , 0.41626502, 1.83802465, 1.54538293,\n",
       "        0.18488048]),\n",
       " array([0.24742972, 1.31315693, 1.02357931, 0.13217208, 1.87590645,\n",
       "        1.15788332, 0.32197674, 1.34366985, 1.57594666, 0.36284593,\n",
       "        1.22925853, 0.76614825, 1.50106378, 0.48909371, 1.45129308,\n",
       "        1.62555025]),\n",
       " array([0.8988546 , 1.5491197 , 0.72720848, 0.7426654 , 0.95253229,\n",
       "        1.73278938, 0.72592228, 0.87562779, 1.9975762 , 0.16995385,\n",
       "        0.47775171, 0.58790398, 1.50391132, 0.40069155, 1.46457693,\n",
       "        1.31271009]),\n",
       " array([0.04329481, 0.60692958, 0.93159833, 1.78673375, 0.5309898 ,\n",
       "        0.47490041, 0.02981444, 0.77910352, 1.90846133, 0.39176966,\n",
       "        0.90425995, 0.00256994, 0.37424057, 0.7706067 , 1.7460659 ,\n",
       "        0.2231272 ]),\n",
       " array([1.99775708, 1.55827997, 1.34669151, 0.84342011, 1.44533803,\n",
       "        0.59849023, 1.887875  , 1.4826539 , 1.84692192, 0.22071965,\n",
       "        1.95387658, 0.84961591, 1.08901234, 1.25809219, 1.71427327,\n",
       "        1.57632563]),\n",
       " array([1.97065778, 1.74005047, 1.48125108, 1.65607336, 0.97508165,\n",
       "        1.97982399, 0.83894706, 1.489314  , 0.87175177, 0.22421017,\n",
       "        1.25238523, 0.20036651, 0.60570973, 0.69067975, 1.40325542,\n",
       "        0.27999992]),\n",
       " array([0.02761836, 1.59353473, 1.31050502, 1.22725964, 0.66402233,\n",
       "        1.09199557, 1.72654065, 0.27566789, 0.52342443, 0.36464726,\n",
       "        0.98232857, 0.64561033, 0.67824241, 0.42592849, 0.26107105,\n",
       "        0.12597891]),\n",
       " array([1.07858487, 0.16927974, 1.74686918, 0.4873499 , 0.67808973,\n",
       "        1.9658488 , 0.69769837, 0.25186728, 1.16314142, 1.5846083 ,\n",
       "        0.7768207 , 1.31068125, 1.68760499, 1.4351145 , 0.90134637,\n",
       "        0.7948438 ]),\n",
       " array([0.97514895, 0.35414043, 1.6244698 , 1.60713892, 1.31452895,\n",
       "        1.84432259, 1.90628568, 0.07050396, 1.36305422, 0.78423935,\n",
       "        0.51286842, 1.48747616, 0.23570943, 0.72403108, 0.85485708,\n",
       "        0.72969252]),\n",
       " array([0.99063369, 1.15692083, 0.03757081, 0.95782843, 0.22988598,\n",
       "        0.09202285, 0.28072339, 0.05018473, 1.72693803, 1.77355642,\n",
       "        0.28393577, 0.10465698, 1.35175772, 1.71428887, 1.85022564,\n",
       "        0.66080104]),\n",
       " array([1.57417874, 0.68635483, 0.78306741, 1.21123573, 1.21691526,\n",
       "        0.61197642, 1.69854321, 0.7884786 , 0.95144824, 0.68224374,\n",
       "        1.95342225, 1.06135507, 0.38656692, 0.28040838, 1.51365027,\n",
       "        1.25093835]),\n",
       " array([0.11645425, 1.73008518, 1.34131973, 0.08686821, 0.64512364,\n",
       "        0.9330525 , 0.77857823, 1.676548  , 1.83206335, 0.68293874,\n",
       "        0.15603354, 1.00964919, 0.22780328, 1.11963215, 1.46143101,\n",
       "        1.46314969]),\n",
       " array([1.53656997, 1.74914668, 0.50159228, 1.55523185, 1.40656804,\n",
       "        1.25678968, 1.38901752, 0.84982011, 1.6426942 , 0.23532374,\n",
       "        0.89539803, 1.35209369, 1.11227597, 0.23230569, 1.1300405 ,\n",
       "        1.31620029]),\n",
       " array([1.5042973 , 0.13762406, 0.49258525, 0.89266223, 0.96935852,\n",
       "        1.29074927, 0.35635052, 1.5995448 , 1.68899174, 0.59524058,\n",
       "        1.72255013, 1.41288091, 1.08309038, 0.82548687, 0.25908422,\n",
       "        0.25423718]),\n",
       " array([1.67632675, 0.90284541, 1.96012169, 1.73608722, 0.31657171,\n",
       "        1.98263192, 1.6277954 , 0.78339955, 1.14072947, 1.93910733,\n",
       "        0.50069596, 1.38704626, 0.85337183, 0.78608189, 1.69882654,\n",
       "        1.17771545]),\n",
       " array([0.25261671, 1.60770142, 0.41719097, 0.61705933, 0.66270458,\n",
       "        0.99459515, 0.45067314, 0.79806344, 1.49657231, 1.78650553,\n",
       "        0.40617211, 1.98905458, 0.97358649, 0.58089492, 0.56973862,\n",
       "        1.55959265]),\n",
       " array([1.0510089 , 0.96336522, 0.21284147, 1.18934322, 0.43170893,\n",
       "        0.00494889, 1.89862359, 0.90917213, 0.40140842, 0.06823595,\n",
       "        0.09462525, 0.30388146, 1.45599187, 0.25347548, 0.49047379,\n",
       "        0.43255315]),\n",
       " array([1.73850393, 0.54632259, 1.73093797, 1.94537835, 1.17167508,\n",
       "        1.38442843, 1.37929725, 1.30684765, 0.88556974, 1.74995238,\n",
       "        1.2253778 , 1.13036767, 0.70950953, 1.46590857, 1.63002157,\n",
       "        1.97470738]),\n",
       " array([1.88703708, 0.03358968, 1.42997444, 1.59850428, 0.47824611,\n",
       "        1.68735502, 1.50976525, 0.79509888, 1.16201133, 1.81858915,\n",
       "        0.9147097 , 0.62550104, 0.31812096, 1.1643515 , 0.73017247,\n",
       "        0.46332751]),\n",
       " array([0.92967426, 0.50799794, 0.96944319, 0.86218706, 1.16135977,\n",
       "        0.05809955, 1.77055854, 1.02643222, 0.02392163, 0.84169097,\n",
       "        0.9676097 , 0.88154439, 0.03999913, 1.40568544, 1.66434815,\n",
       "        1.03543022]),\n",
       " array([1.63140287, 1.36244662, 1.53188598, 0.94812926, 1.90022058,\n",
       "        0.09351237, 1.41835355, 0.75410919, 1.12866615, 1.65103617,\n",
       "        0.90781001, 1.65902862, 1.29311252, 0.61968323, 0.86407979,\n",
       "        1.38759184]),\n",
       " array([1.17813414, 0.11557056, 1.2294979 , 1.44219467, 0.47464274,\n",
       "        1.05978262, 1.82787575, 0.01595358, 0.00389181, 1.62292346,\n",
       "        1.83794301, 0.05054265, 0.59605406, 1.15900085, 0.72533529,\n",
       "        1.6921451 ]),\n",
       " array([0.77885359, 1.20208517, 0.69056277, 1.90489759, 0.9338955 ,\n",
       "        1.04203336, 0.71356453, 0.74761599, 0.11329292, 0.53779061,\n",
       "        0.38449646, 0.239189  , 0.70864769, 0.60713072, 0.64511315,\n",
       "        1.51907761]),\n",
       " array([0.4328605 , 0.66869285, 1.02432893, 0.13846402, 0.52682355,\n",
       "        1.13042232, 1.95543381, 0.4890529 , 1.98574872, 0.69197893,\n",
       "        1.68377842, 0.05001623, 1.97068439, 1.55346514, 0.60398502,\n",
       "        1.72929938]),\n",
       " array([0.74401033, 1.16919494, 1.69989717, 0.1224152 , 1.3795507 ,\n",
       "        1.99704155, 0.26093375, 0.26643831, 1.62541138, 0.60049292,\n",
       "        0.85193093, 0.1217629 , 0.98797417, 1.40372485, 0.90751674,\n",
       "        0.17846544]),\n",
       " array([1.22319669, 1.96345731, 0.04126265, 1.2908619 , 0.78370151,\n",
       "        1.34997119, 1.23038908, 0.31676183, 0.01759857, 1.16099561,\n",
       "        1.85848429, 1.70520185, 1.02333253, 0.52455171, 0.14239689,\n",
       "        0.38140787]),\n",
       " array([1.10345924, 0.33750908, 1.8742309 , 1.67574824, 1.66315608,\n",
       "        1.6478671 , 0.33174197, 0.5065561 , 0.32114542, 1.28056279,\n",
       "        1.18035775, 0.49412343, 1.17974568, 0.24904085, 0.57511043,\n",
       "        0.91890071]),\n",
       " array([0.22179755, 0.23125493, 1.54945879, 1.09456049, 1.94594742,\n",
       "        1.70004086, 1.66924716, 0.6131277 , 0.96841345, 0.19280874,\n",
       "        1.67992571, 1.46308861, 0.84996241, 0.9076139 , 0.43113799,\n",
       "        0.60157945]),\n",
       " array([1.34732461, 1.09768371, 1.71126287, 1.35369002, 0.95960075,\n",
       "        1.9189511 , 0.98169512, 0.83628747, 0.10504406, 0.42926516,\n",
       "        0.05245784, 0.37316113, 0.54128347, 1.45897199, 0.63415555,\n",
       "        0.51437215]),\n",
       " array([1.65363673, 1.82331788, 0.54717111, 1.3963359 , 0.0817713 ,\n",
       "        1.59134395, 0.96452227, 0.61180792, 1.54741226, 1.83978948,\n",
       "        0.30985082, 0.69017028, 0.90011662, 1.89046835, 1.42250838,\n",
       "        1.36998417]),\n",
       " array([1.79632382, 0.3870597 , 1.2403704 , 0.6623812 , 1.62895848,\n",
       "        0.94202309, 0.86367782, 1.45237564, 1.98113476, 0.1985946 ,\n",
       "        1.51250185, 1.79733597, 0.5149524 , 1.04629109, 1.33327657,\n",
       "        0.52288806]),\n",
       " array([0.14920404, 0.2091067 , 1.39459848, 1.41993741, 1.05157888,\n",
       "        1.91324216, 1.51632137, 1.48207119, 1.67849247, 1.31069439,\n",
       "        0.62182421, 1.39384   , 0.48999106, 0.60346312, 0.90740596,\n",
       "        1.86236948]),\n",
       " array([0.17712276, 1.49188641, 1.62303949, 1.71703747, 1.16488667,\n",
       "        0.0362569 , 1.05991925, 1.51673871, 0.37097285, 1.91390744,\n",
       "        1.91223574, 1.53966184, 0.79966216, 1.06958681, 0.45801502,\n",
       "        0.5279727 ]),\n",
       " array([1.96185843, 1.32909209, 0.63704136, 1.9189276 , 1.30419553,\n",
       "        1.41100355, 0.94603632, 0.05818203, 1.73891659, 1.04313006,\n",
       "        0.00278327, 1.14733471, 0.07456257, 1.80349172, 0.60614794,\n",
       "        1.71377268]),\n",
       " array([0.22357426, 1.68328999, 0.96792015, 1.63643278, 0.26299443,\n",
       "        1.69021687, 1.59543023, 1.64615584, 1.74461674, 0.42439905,\n",
       "        0.09270636, 0.30890271, 0.2722122 , 0.51975838, 1.5675118 ,\n",
       "        1.76346426]),\n",
       " array([1.05910209, 1.35790569, 0.07345811, 0.95731389, 0.74637771,\n",
       "        0.23221933, 0.50242259, 1.54498473, 0.19578947, 1.97276837,\n",
       "        0.21308859, 1.48906914, 1.15957224, 1.36711372, 1.63506499,\n",
       "        1.9451211 ]),\n",
       " array([1.31146793, 0.96498516, 1.2459884 , 1.07208284, 1.78796348,\n",
       "        0.31185811, 0.36133104, 0.36388565, 1.746088  , 1.65868008,\n",
       "        1.71989669, 0.56707296, 0.45584637, 0.92632478, 0.853632  ,\n",
       "        0.52364984]),\n",
       " array([0.65997112, 0.99104327, 1.35911735, 0.29391396, 0.15315181,\n",
       "        1.59338029, 1.13382155, 1.99789495, 0.49050821, 0.53749026,\n",
       "        0.22058624, 1.55112205, 0.19950314, 0.41328371, 1.77303857,\n",
       "        1.30535036]),\n",
       " array([1.53262419, 1.80662886, 1.4404587 , 0.11117026, 1.04661975,\n",
       "        1.26377575, 1.70682417, 0.77909703, 1.57898786, 0.78397173,\n",
       "        1.78730719, 1.36272401, 0.01427712, 0.87231206, 1.75223516,\n",
       "        1.70908621]),\n",
       " array([1.19626319, 0.25116167, 0.99225242, 1.75089385, 0.64355752,\n",
       "        0.53143913, 1.65893814, 1.25579429, 1.79188092, 0.89576003,\n",
       "        1.6284157 , 1.10844675, 0.58547136, 1.4302066 , 1.6669323 ,\n",
       "        1.82916767]),\n",
       " array([0.59516595, 0.14436223, 1.13447041, 0.28885577, 1.55992542,\n",
       "        1.9596999 , 0.65349733, 0.35302782, 0.70348682, 1.34136105,\n",
       "        1.19792125, 0.11794924, 0.26714026, 0.72936074, 0.41059529,\n",
       "        0.20831739]),\n",
       " array([0.1815611 , 1.75317504, 0.0229992 , 1.07580731, 1.12480771,\n",
       "        1.10844861, 0.02431638, 1.25086733, 0.0858558 , 0.23192578,\n",
       "        1.6893172 , 0.43596428, 1.2078463 , 0.68788541, 0.01081772,\n",
       "        0.9364912 ]),\n",
       " array([0.82186233, 0.62946793, 1.85711797, 0.95589629, 0.16607533,\n",
       "        0.04480678, 1.96478549, 1.69242187, 0.23961347, 1.42091806,\n",
       "        0.25553729, 1.15490493, 1.15754   , 0.0622856 , 1.53180005,\n",
       "        1.61747044]),\n",
       " array([0.59074601, 0.14427955, 0.53642693, 1.15385105, 1.98542731,\n",
       "        1.65698016, 1.53711134, 1.70065264, 0.4359172 , 0.09421585,\n",
       "        0.36207554, 0.67769841, 1.80721989, 0.72421015, 0.62170959,\n",
       "        1.60538717]),\n",
       " array([1.4276403 , 1.26860491, 1.56888278, 1.87338074, 0.82171781,\n",
       "        0.41831183, 1.43118944, 1.433175  , 0.46930011, 1.77249196,\n",
       "        0.2577943 , 0.13716151, 1.23853006, 1.25008419, 0.25357559,\n",
       "        1.63194053]),\n",
       " array([0.87001838, 0.91731585, 0.47840338, 0.89735083, 0.59096255,\n",
       "        1.80865869, 0.74147622, 1.1695592 , 0.62680286, 1.4617364 ,\n",
       "        0.87833803, 0.43523673, 0.72857904, 1.68346059, 0.17019298,\n",
       "        0.68017194]),\n",
       " array([1.10716456, 0.96089113, 1.96576923, 0.53816259, 1.98876417,\n",
       "        1.66259207, 0.17683687, 0.56129067, 0.30516904, 1.8775802 ,\n",
       "        0.45324146, 1.34251931, 0.92992927, 0.79648943, 1.12506015,\n",
       "        0.52053666]),\n",
       " array([1.64883407, 0.19851881, 0.80914943, 0.7285406 , 1.22287229,\n",
       "        0.6774371 , 1.67459698, 0.93629893, 0.24485866, 0.09851153,\n",
       "        0.40368525, 0.83086462, 1.49961893, 0.74962702, 0.95431729,\n",
       "        1.38614358]),\n",
       " array([0.86360302, 0.18301479, 1.91654893, 1.77582002, 0.4482634 ,\n",
       "        1.34624489, 1.7664411 , 0.77368175, 1.95415374, 0.97405907,\n",
       "        1.0981113 , 1.551941  , 0.99046455, 0.77816941, 1.97940046,\n",
       "        0.37552358]),\n",
       " array([0.59844053, 1.6251772 , 1.80928276, 1.36449489, 0.1853926 ,\n",
       "        1.68527593, 1.02950529, 0.52541641, 0.21378075, 0.46308508,\n",
       "        0.96072282, 0.49095734, 0.01673964, 0.164921  , 1.66303918,\n",
       "        0.93206066]),\n",
       " array([0.72327236, 0.91081928, 0.04516904, 1.6973714 , 0.84134429,\n",
       "        0.55642339, 1.12913561, 1.67688714, 0.98200437, 0.40228885,\n",
       "        1.26607923, 1.27757029, 0.61604668, 0.7559735 , 0.07721844,\n",
       "        0.26188642]),\n",
       " array([0.27621747, 1.66201473, 1.02161131, 1.16716943, 1.08524011,\n",
       "        0.57164581, 0.28737762, 1.34028386, 0.23596424, 1.97374001,\n",
       "        0.79254133, 0.76324279, 1.66916118, 1.00413034, 1.93884024,\n",
       "        1.89625611]),\n",
       " array([1.82491784, 1.78048626, 0.35792924, 0.08723782, 0.78263086,\n",
       "        0.60130199, 1.37798404, 1.52510192, 0.67427811, 1.48712452,\n",
       "        0.00234831, 1.67878541, 1.4380398 , 1.21008319, 0.04919095,\n",
       "        1.81276724]),\n",
       " array([0.82111185, 1.51807151, 0.76941402, 1.01444102, 0.25541424,\n",
       "        0.79075107, 0.0278237 , 0.28660081, 1.48151143, 1.15500457,\n",
       "        1.77583   , 1.13028172, 0.03571588, 0.12005046, 0.10298756,\n",
       "        0.1404373 ]),\n",
       " array([1.28763871, 0.0778055 , 0.51740045, 0.66790907, 0.2959858 ,\n",
       "        0.98782394, 0.04045243, 0.16670849, 0.87861986, 1.21498655,\n",
       "        1.93256018, 0.67893243, 1.14183352, 0.66024957, 0.60328871,\n",
       "        0.3215757 ]),\n",
       " array([1.0485756 , 1.76005043, 0.03698435, 0.30793742, 1.91328017,\n",
       "        0.20096995, 1.57141089, 0.24926788, 1.00682091, 0.97189098,\n",
       "        0.30390877, 0.23257234, 1.61409595, 1.30839458, 0.63734593,\n",
       "        0.2163428 ]),\n",
       " array([0.83320703, 0.39687747, 1.89083889, 0.8327366 , 1.54500516,\n",
       "        1.23248193, 1.54453432, 1.64802066, 0.12128921, 0.89073838,\n",
       "        0.64838712, 0.33496789, 1.10879001, 1.14900967, 1.51510529,\n",
       "        0.80751745]),\n",
       " array([0.80434635, 1.45889633, 1.82137273, 1.76812494, 1.22293024,\n",
       "        1.83377483, 0.48528996, 1.83136115, 1.24696474, 1.53209926,\n",
       "        0.97890548, 1.39042973, 0.80455023, 0.38037043, 0.37097335,\n",
       "        0.71742163]),\n",
       " array([1.61600054, 1.45352576, 0.63266699, 0.91845765, 0.27868544,\n",
       "        0.4582037 , 0.73555359, 1.29251217, 1.05349362, 1.12366749,\n",
       "        0.88120821, 1.88697202, 0.33443518, 0.21197207, 1.46653197,\n",
       "        1.90999631]),\n",
       " array([1.69344148, 0.96036143, 0.39995843, 1.28997767, 1.15068756,\n",
       "        0.80521384, 0.8630769 , 1.93967529, 1.505987  , 1.41255388,\n",
       "        1.06936657, 1.43678572, 0.06887746, 1.39824818, 1.24195189,\n",
       "        1.57060944]),\n",
       " array([1.57839787, 0.10027911, 0.72657564, 0.56862399, 0.38995478,\n",
       "        0.79197736, 1.19918149, 0.43352026, 0.58461879, 1.82261852,\n",
       "        1.88632906, 1.58956733, 0.40612481, 0.80329744, 0.1082479 ,\n",
       "        0.71793879]),\n",
       " array([0.28122561, 0.12196528, 1.17262931, 0.54841572, 1.67156691,\n",
       "        1.23262114, 1.92743821, 0.12682267, 1.76555627, 0.26583213,\n",
       "        0.56230996, 1.03730199, 0.00293341, 1.14384699, 0.40951057,\n",
       "        1.81150572]),\n",
       " array([0.30413812, 0.85186146, 0.5471511 , 0.86863443, 1.90268819,\n",
       "        0.45008761, 1.34489021, 1.01799978, 1.29419486, 1.17163783,\n",
       "        0.08290011, 0.20857548, 0.29557852, 1.28613092, 0.65439158,\n",
       "        0.89325631]),\n",
       " array([0.72886897, 0.91712567, 0.87662185, 1.85657029, 0.81567182,\n",
       "        1.61715147, 1.91045012, 1.33339202, 1.55071208, 1.51035646,\n",
       "        1.33393864, 1.7661417 , 1.35053803, 0.28124317, 0.50222118,\n",
       "        1.61187864]),\n",
       " array([1.20798947, 1.4041667 , 1.72288589, 1.34698586, 0.68201591,\n",
       "        1.74367255, 1.20691198, 1.98241909, 1.75245579, 0.10755278,\n",
       "        0.0197013 , 1.16044791, 1.35081176, 0.08070447, 1.6325016 ,\n",
       "        0.86007168]),\n",
       " array([1.37324578, 0.72922282, 0.7000275 , 1.54546079, 1.49156747,\n",
       "        1.11443437, 1.97067001, 0.32579937, 0.00794881, 1.61397641,\n",
       "        0.79922789, 0.67426016, 1.89015009, 1.05137162, 0.5631574 ,\n",
       "        0.93654044]),\n",
       " array([1.98100664, 1.63724736, 0.54355143, 1.24912315, 1.92308324,\n",
       "        0.17897973, 0.77532909, 0.1617054 , 0.97233812, 0.92686069,\n",
       "        1.70854362, 1.25752964, 0.85297522, 0.05557596, 1.24585072,\n",
       "        0.36181172]),\n",
       " array([0.59611126, 1.06081146, 1.04989322, 0.15582854, 1.84435897,\n",
       "        1.29330688, 0.41917598, 1.93639613, 0.95661956, 0.04822666,\n",
       "        1.9583385 , 1.06383645, 1.64869847, 0.5956884 , 1.88912642,\n",
       "        0.39237473]),\n",
       " array([0.36359778, 0.85259538, 0.72459779, 1.83210002, 1.14567386,\n",
       "        0.61501181, 1.86330682, 0.90344629, 1.41279558, 0.09211081,\n",
       "        0.65693619, 1.92720727, 0.59132911, 1.53446375, 0.49926694,\n",
       "        1.40233541]),\n",
       " array([1.38172912, 0.48298083, 0.62329816, 1.16487794, 0.48070231,\n",
       "        1.51006847, 1.82241085, 1.82180397, 1.88092937, 0.36622957,\n",
       "        0.58482229, 0.80491612, 0.83096006, 1.52930781, 1.08396295,\n",
       "        0.21206228]),\n",
       " array([0.77441895, 1.66684965, 0.94435885, 0.58439372, 0.08617492,\n",
       "        1.1861356 , 0.35049125, 0.34193197, 1.02791923, 0.66091183,\n",
       "        1.22166406, 1.0542243 , 1.5392368 , 1.30819718, 1.7593284 ,\n",
       "        0.71750216]),\n",
       " array([1.04730835, 0.66781131, 1.87760172, 0.85919336, 0.74454652,\n",
       "        1.6211408 , 1.44029969, 0.51622343, 0.80047837, 1.49574135,\n",
       "        0.39572797, 1.35195187, 0.10634119, 1.08592045, 1.59108063,\n",
       "        0.60381498]),\n",
       " array([0.18114702, 1.13137322, 1.59006931, 1.61945769, 0.8901803 ,\n",
       "        0.64174593, 1.50702501, 1.26149276, 0.88214198, 1.06336136,\n",
       "        0.2991706 , 0.45619405, 1.80282581, 0.27997052, 0.70481001,\n",
       "        0.03121471]),\n",
       " array([0.17888367, 1.29104132, 1.98794985, 1.24758288, 1.18756644,\n",
       "        0.650199  , 1.3984693 , 0.83454868, 1.2136181 , 1.53764961,\n",
       "        1.47239723, 1.20878916, 1.29603913, 0.11014233, 0.85697937,\n",
       "        0.93203608]),\n",
       " array([1.44750782, 0.38463506, 1.56810011, 1.93507405, 0.96367801,\n",
       "        0.66359971, 0.14717803, 0.9490573 , 1.9504007 , 0.36643464,\n",
       "        1.02699931, 0.53938589, 0.73683808, 0.55908623, 1.56961928,\n",
       "        0.97066604]),\n",
       " array([0.39415806, 0.00935808, 0.38317711, 1.54402644, 1.36535488,\n",
       "        1.29902617, 1.97124575, 1.23222646, 0.05616958, 0.8404915 ,\n",
       "        0.32850631, 0.79995096, 0.90375034, 1.33607406, 1.47184672,\n",
       "        1.12378118]),\n",
       " array([0.32301722, 1.52454032, 0.66979263, 1.25256364, 0.45529212,\n",
       "        0.27318148, 1.3796372 , 0.54385908, 1.94346536, 0.429173  ,\n",
       "        1.96503246, 0.79709395, 0.07916722, 1.93276151, 1.19224513,\n",
       "        1.40855926]),\n",
       " array([0.11124137, 0.95727659, 1.53946357, 0.37003431, 1.26101712,\n",
       "        0.58777606, 1.8065145 , 0.91996593, 0.32315783, 0.90508934,\n",
       "        1.07699625, 1.96601325, 1.02224229, 1.02992952, 0.37517355,\n",
       "        0.51883072]),\n",
       " array([0.2468278 , 0.80645451, 0.14082026, 1.46503273, 0.16430823,\n",
       "        1.12965945, 1.8090253 , 0.04830879, 1.32537076, 1.2781762 ,\n",
       "        0.64092972, 0.85869282, 0.57869462, 0.93794428, 0.47210776,\n",
       "        1.49095212]),\n",
       " array([0.03637407, 1.6858495 , 1.75274021, 1.21503024, 1.74335789,\n",
       "        1.58451414, 1.74260572, 0.81478038, 1.7757265 , 1.28519089,\n",
       "        0.17474977, 1.79620183, 1.45735754, 1.51213204, 1.57899988,\n",
       "        0.18711436]),\n",
       " array([1.79862223, 0.394617  , 1.99076537, 1.98537077, 1.14088966,\n",
       "        0.22575528, 1.48055133, 0.22339204, 1.17082502, 0.52700086,\n",
       "        0.15131471, 1.3526292 , 0.53449781, 1.87177962, 1.43057754,\n",
       "        1.83054874]),\n",
       " array([0.2046334 , 0.31674041, 0.8497569 , 1.15995248, 1.00901282,\n",
       "        0.18711704, 0.46517139, 1.6622604 , 0.46438848, 1.67347559,\n",
       "        0.32821586, 1.84368439, 0.08096508, 0.75102614, 0.13498717,\n",
       "        0.16844144]),\n",
       " array([1.78981397, 1.67484838, 0.22779681, 0.7434306 , 0.63987863,\n",
       "        0.39315086, 0.37713292, 0.7278871 , 1.26022631, 0.57135484,\n",
       "        1.96339816, 1.95641088, 0.42504954, 1.85543062, 1.59169335,\n",
       "        1.77046148]),\n",
       " array([1.23531868, 0.45360985, 0.48265893, 0.04912355, 0.49111761,\n",
       "        0.83178052, 0.9876435 , 1.2621429 , 1.30389006, 1.58671317,\n",
       "        0.61628926, 0.99027246, 0.87682969, 0.52621167, 0.71281038,\n",
       "        0.28845007]),\n",
       " array([1.08529252, 0.78671001, 0.75490091, 0.11518064, 0.85352464,\n",
       "        1.47516032, 0.47718678, 0.02245251, 1.52897656, 0.68986204,\n",
       "        0.36560762, 1.44906894, 0.67921618, 1.27540321, 0.32825783,\n",
       "        0.24610846])]"
      ]
     },
     "execution_count": 20,
     "metadata": {},
     "output_type": "execute_result"
    }
   ],
   "source": [
    "data"
   ]
  },
  {
   "cell_type": "code",
   "execution_count": 53,
   "metadata": {},
   "outputs": [
    {
     "data": {
      "text/plain": [
       "54"
      ]
     },
     "execution_count": 53,
     "metadata": {},
     "output_type": "execute_result"
    }
   ],
   "source": [
    "np.sum(np.absolute(K1-0.1) < 0.001)"
   ]
  },
  {
   "cell_type": "code",
   "execution_count": 54,
   "metadata": {
    "scrolled": false
   },
   "outputs": [
    {
     "data": {
      "application/vnd.jupyter.widget-view+json": {
       "model_id": "7ad1e75d3f954d5588a644746f5ca43a",
       "version_major": 2,
       "version_minor": 0
      },
      "text/plain": [
       "Canvas(toolbar=Toolbar(toolitems=[('Home', 'Reset original view', 'home', 'home'), ('Back', 'Back to previous …"
      ]
     },
     "metadata": {},
     "output_type": "display_data"
    },
    {
     "data": {
      "text/plain": [
       "(array([[29., 15., 14., ...,  1.,  0.,  1.],\n",
       "        [31., 23., 16., ...,  0.,  0.,  1.],\n",
       "        [30., 23., 15., ...,  2.,  0.,  1.],\n",
       "        ...,\n",
       "        [29., 21., 11., ...,  1.,  0.,  1.],\n",
       "        [27., 25., 19., ...,  3.,  0.,  1.],\n",
       "        [28., 27.,  9., ...,  1.,  1.,  1.]]),\n",
       " array([2.32449570e-04, 1.00209205e-01, 2.00185960e-01, 3.00162715e-01,\n",
       "        4.00139470e-01, 5.00116225e-01, 6.00092980e-01, 7.00069735e-01,\n",
       "        8.00046490e-01, 9.00023245e-01, 1.00000000e+00]),\n",
       " <a list of 90 BarContainer objects>)"
      ]
     },
     "execution_count": 54,
     "metadata": {},
     "output_type": "execute_result"
    }
   ],
   "source": [
    "%matplotlib widget\n",
    "import matplotlib.pyplot as plt\n",
    "# plt.hist(K1)\n",
    "plt.hist(K1, )\n",
    "# plt.hist(K3)"
   ]
  },
  {
   "cell_type": "code",
   "execution_count": 31,
   "metadata": {},
   "outputs": [
    {
     "name": "stdout",
     "output_type": "stream",
     "text": [
      "inv: -0.5624465755960446\n",
      "root: 0.9927565578020799\n",
      "prod: 1.1631647676176788\n",
      "prod: 2.8872229642236285\n"
     ]
    },
    {
     "data": {
      "text/plain": [
       "1.699183028465041"
      ]
     },
     "execution_count": 31,
     "metadata": {},
     "output_type": "execute_result"
    }
   ],
   "source": [
    "from scipy.linalg import sqrtm\n",
    "from numpy.linalg import matrix_power, norm, inv\n",
    "def geo_diff(K1,K2):\n",
    "    prod = np.dot( sqrtm(K2), inv(K1), sqrtm(K2) )\n",
    "    print(f'inv: {np.max(inv(K1))}')\n",
    "    print(f'root: {np.max(sqrtm(K2))}')\n",
    "    print(f'prod: {np.max(prod)}')\n",
    "    print(f'prod: {np.max(norm(prod, ord=np.inf))}')\n",
    "    \n",
    "    return np.sqrt(norm(prod, ord=np.inf))\n",
    "\n",
    "geo_diff(K3,K3)"
   ]
  },
  {
   "cell_type": "code",
   "execution_count": 30,
   "metadata": {},
   "outputs": [
    {
     "name": "stdout",
     "output_type": "stream",
     "text": [
      "inv: 1.2253342792714684e+16\n",
      "root: (0.6448192006097427-5.158627036371979e-10j)\n",
      "prod: (2949504142.391997-477381593.92688215j)\n",
      "prod: 69966499940.9978\n",
      "264511.8143694111\n",
      "inv: 5.89675161413346\n",
      "root: 0.9613129693965253\n",
      "prod: 2.1223885840568237\n",
      "prod: 8.689621975613594\n",
      "2.947816475904427\n",
      "inv: 1.4708657702678494\n",
      "root: 0.9927565578020799\n",
      "prod: 1.1631647676176788\n",
      "prod: 2.8872229642236285\n",
      "1.699183028465041\n",
      "inv: 1.2253342792714684e+16\n",
      "root: 0.9613129693965253\n",
      "prod: 8772691896749823.0\n",
      "prod: 2.3232673710106867e+17\n",
      "482002839.30809855\n",
      "inv: 5.89675161413346\n",
      "root: 0.9927565578020799\n",
      "prod: 5.596869730147134\n",
      "prod: 32.093607586415324\n",
      "5.665122027495553\n",
      "inv: 1.4708657702678494\n",
      "root: (0.6448192006097427-5.158627036371979e-10j)\n",
      "prod: (0.8309499824941019-8.703720319788865e-09j)\n",
      "prod: 8.2068022570386\n",
      "2.864751692038701\n",
      "inv: 1.4708657702678494\n",
      "root: 0.9613129693965253\n",
      "prod: 1.3549285757642506\n",
      "prod: 5.663488792340277\n",
      "2.3798085621201293\n",
      "inv: 5.89675161413346\n",
      "root: (0.6448192006097427-5.158627036371979e-10j)\n",
      "prod: (2.8767298828652046-1.0785977081248875e-08j)\n",
      "prod: 25.413268826531823\n",
      "5.041157488765037\n",
      "inv: 1.2253342792714684e+16\n",
      "root: 0.9927565578020799\n",
      "prod: 1.0368059143856852e+16\n",
      "prod: 2.7235256395694096e+17\n",
      "521874088.2214224\n"
     ]
    }
   ],
   "source": [
    "print(geo_diff(K1,K1))\n",
    "print(geo_diff(K2,K2))\n",
    "print(geo_diff(K3,K3))\n",
    "print(geo_diff(K1,K2))\n",
    "print(geo_diff(K2,K3))\n",
    "print(geo_diff(K3,K1))\n",
    "print(geo_diff(K3,K2))\n",
    "print(geo_diff(K2,K1))\n",
    "print(geo_diff(K1,K3))"
   ]
  },
  {
   "cell_type": "code",
   "execution_count": 62,
   "metadata": {},
   "outputs": [
    {
     "data": {
      "text/plain": [
       "array([[  30.33943207,  -24.39552892,    9.59610634, ...,   12.25500602,\n",
       "          64.        ,   -8.        ],\n",
       "       [  -4.62565806,  -47.54967267,  -64.73179367, ...,  -79.64921295,\n",
       "         -16.75      , -100.75      ],\n",
       "       [ -57.32218599,   23.407069  ,  -11.35256494, ...,   61.2950424 ,\n",
       "         -51.        ,   -0.25      ],\n",
       "       ...,\n",
       "       [   6.        ,    1.5       ,    1.        , ...,    6.5       ,\n",
       "           3.        ,    9.        ],\n",
       "       [   3.        ,   -2.5       ,   -2.25      , ...,    0.        ,\n",
       "           4.375     ,    9.        ],\n",
       "       [  -1.21875   ,   -0.375     ,    2.        , ...,    1.75      ,\n",
       "          -2.3125    ,    2.        ]])"
      ]
     },
     "execution_count": 62,
     "metadata": {},
     "output_type": "execute_result"
    }
   ],
   "source": [
    "np.dot(matrix_power(K1,-1),K1)"
   ]
  },
  {
   "cell_type": "code",
   "execution_count": 52,
   "metadata": {},
   "outputs": [
    {
     "name": "stdout",
     "output_type": "stream",
     "text": [
      "Failed to find a square root.\n"
     ]
    },
    {
     "ename": "LinAlgError",
     "evalue": "Singular matrix",
     "output_type": "error",
     "traceback": [
      "\u001b[1;31m---------------------------------------------------------------------------\u001b[0m",
      "\u001b[1;31mLinAlgError\u001b[0m                               Traceback (most recent call last)",
      "\u001b[1;32m<ipython-input-52-ff1a417fd564>\u001b[0m in \u001b[0;36m<module>\u001b[1;34m\u001b[0m\n\u001b[0;32m      1\u001b[0m \u001b[0mMM\u001b[0m \u001b[1;33m=\u001b[0m \u001b[0mnp\u001b[0m\u001b[1;33m.\u001b[0m\u001b[0mones\u001b[0m\u001b[1;33m(\u001b[0m\u001b[1;33m[\u001b[0m\u001b[1;36m4\u001b[0m\u001b[1;33m,\u001b[0m\u001b[1;36m4\u001b[0m\u001b[1;33m]\u001b[0m\u001b[1;33m)\u001b[0m\u001b[1;33m\u001b[0m\u001b[1;33m\u001b[0m\u001b[0m\n\u001b[1;32m----> 2\u001b[1;33m \u001b[0mgeo_diff\u001b[0m\u001b[1;33m(\u001b[0m\u001b[0mMM\u001b[0m\u001b[1;33m,\u001b[0m\u001b[0mMM\u001b[0m\u001b[1;33m)\u001b[0m\u001b[1;33m\u001b[0m\u001b[1;33m\u001b[0m\u001b[0m\n\u001b[0m",
      "\u001b[1;32m<ipython-input-50-102a71f7756d>\u001b[0m in \u001b[0;36mgeo_diff\u001b[1;34m(K1, K2)\u001b[0m\n\u001b[0;32m      2\u001b[0m \u001b[1;32mfrom\u001b[0m \u001b[0mnumpy\u001b[0m\u001b[1;33m.\u001b[0m\u001b[0mlinalg\u001b[0m \u001b[1;32mimport\u001b[0m \u001b[0mmatrix_power\u001b[0m\u001b[1;33m,\u001b[0m \u001b[0mnorm\u001b[0m\u001b[1;33m\u001b[0m\u001b[1;33m\u001b[0m\u001b[0m\n\u001b[0;32m      3\u001b[0m \u001b[1;32mdef\u001b[0m \u001b[0mgeo_diff\u001b[0m\u001b[1;33m(\u001b[0m\u001b[0mK1\u001b[0m\u001b[1;33m,\u001b[0m\u001b[0mK2\u001b[0m\u001b[1;33m)\u001b[0m\u001b[1;33m:\u001b[0m\u001b[1;33m\u001b[0m\u001b[1;33m\u001b[0m\u001b[0m\n\u001b[1;32m----> 4\u001b[1;33m     \u001b[0mprod\u001b[0m \u001b[1;33m=\u001b[0m \u001b[0mnp\u001b[0m\u001b[1;33m.\u001b[0m\u001b[0mdot\u001b[0m\u001b[1;33m(\u001b[0m \u001b[0msqrtm\u001b[0m\u001b[1;33m(\u001b[0m\u001b[0mK2\u001b[0m\u001b[1;33m)\u001b[0m\u001b[1;33m,\u001b[0m \u001b[0mmatrix_power\u001b[0m\u001b[1;33m(\u001b[0m\u001b[0mK1\u001b[0m\u001b[1;33m,\u001b[0m\u001b[1;33m-\u001b[0m\u001b[1;36m1\u001b[0m\u001b[1;33m)\u001b[0m\u001b[1;33m,\u001b[0m \u001b[0msqrtm\u001b[0m\u001b[1;33m(\u001b[0m\u001b[0mK2\u001b[0m\u001b[1;33m)\u001b[0m \u001b[1;33m)\u001b[0m\u001b[1;33m\u001b[0m\u001b[1;33m\u001b[0m\u001b[0m\n\u001b[0m\u001b[0;32m      5\u001b[0m     \u001b[1;32mreturn\u001b[0m \u001b[0mnp\u001b[0m\u001b[1;33m.\u001b[0m\u001b[0msqrt\u001b[0m\u001b[1;33m(\u001b[0m\u001b[0mnorm\u001b[0m\u001b[1;33m(\u001b[0m\u001b[0mprod\u001b[0m\u001b[1;33m,\u001b[0m \u001b[0mord\u001b[0m\u001b[1;33m=\u001b[0m\u001b[0mnp\u001b[0m\u001b[1;33m.\u001b[0m\u001b[0minf\u001b[0m\u001b[1;33m)\u001b[0m\u001b[1;33m)\u001b[0m\u001b[1;33m\u001b[0m\u001b[1;33m\u001b[0m\u001b[0m\n\u001b[0;32m      6\u001b[0m \u001b[1;33m\u001b[0m\u001b[0m\n",
      "\u001b[1;32m<__array_function__ internals>\u001b[0m in \u001b[0;36mmatrix_power\u001b[1;34m(*args, **kwargs)\u001b[0m\n",
      "\u001b[1;32mC:\\Programs\\Miniconda3\\envs\\discopy\\lib\\site-packages\\numpy\\linalg\\linalg.py\u001b[0m in \u001b[0;36mmatrix_power\u001b[1;34m(a, n)\u001b[0m\n\u001b[0;32m    641\u001b[0m \u001b[1;33m\u001b[0m\u001b[0m\n\u001b[0;32m    642\u001b[0m     \u001b[1;32melif\u001b[0m \u001b[0mn\u001b[0m \u001b[1;33m<\u001b[0m \u001b[1;36m0\u001b[0m\u001b[1;33m:\u001b[0m\u001b[1;33m\u001b[0m\u001b[1;33m\u001b[0m\u001b[0m\n\u001b[1;32m--> 643\u001b[1;33m         \u001b[0ma\u001b[0m \u001b[1;33m=\u001b[0m \u001b[0minv\u001b[0m\u001b[1;33m(\u001b[0m\u001b[0ma\u001b[0m\u001b[1;33m)\u001b[0m\u001b[1;33m\u001b[0m\u001b[1;33m\u001b[0m\u001b[0m\n\u001b[0m\u001b[0;32m    644\u001b[0m         \u001b[0mn\u001b[0m \u001b[1;33m=\u001b[0m \u001b[0mabs\u001b[0m\u001b[1;33m(\u001b[0m\u001b[0mn\u001b[0m\u001b[1;33m)\u001b[0m\u001b[1;33m\u001b[0m\u001b[1;33m\u001b[0m\u001b[0m\n\u001b[0;32m    645\u001b[0m \u001b[1;33m\u001b[0m\u001b[0m\n",
      "\u001b[1;32m<__array_function__ internals>\u001b[0m in \u001b[0;36minv\u001b[1;34m(*args, **kwargs)\u001b[0m\n",
      "\u001b[1;32mC:\\Programs\\Miniconda3\\envs\\discopy\\lib\\site-packages\\numpy\\linalg\\linalg.py\u001b[0m in \u001b[0;36minv\u001b[1;34m(a)\u001b[0m\n\u001b[0;32m    543\u001b[0m     \u001b[0msignature\u001b[0m \u001b[1;33m=\u001b[0m \u001b[1;34m'D->D'\u001b[0m \u001b[1;32mif\u001b[0m \u001b[0misComplexType\u001b[0m\u001b[1;33m(\u001b[0m\u001b[0mt\u001b[0m\u001b[1;33m)\u001b[0m \u001b[1;32melse\u001b[0m \u001b[1;34m'd->d'\u001b[0m\u001b[1;33m\u001b[0m\u001b[1;33m\u001b[0m\u001b[0m\n\u001b[0;32m    544\u001b[0m     \u001b[0mextobj\u001b[0m \u001b[1;33m=\u001b[0m \u001b[0mget_linalg_error_extobj\u001b[0m\u001b[1;33m(\u001b[0m\u001b[0m_raise_linalgerror_singular\u001b[0m\u001b[1;33m)\u001b[0m\u001b[1;33m\u001b[0m\u001b[1;33m\u001b[0m\u001b[0m\n\u001b[1;32m--> 545\u001b[1;33m     \u001b[0mainv\u001b[0m \u001b[1;33m=\u001b[0m \u001b[0m_umath_linalg\u001b[0m\u001b[1;33m.\u001b[0m\u001b[0minv\u001b[0m\u001b[1;33m(\u001b[0m\u001b[0ma\u001b[0m\u001b[1;33m,\u001b[0m \u001b[0msignature\u001b[0m\u001b[1;33m=\u001b[0m\u001b[0msignature\u001b[0m\u001b[1;33m,\u001b[0m \u001b[0mextobj\u001b[0m\u001b[1;33m=\u001b[0m\u001b[0mextobj\u001b[0m\u001b[1;33m)\u001b[0m\u001b[1;33m\u001b[0m\u001b[1;33m\u001b[0m\u001b[0m\n\u001b[0m\u001b[0;32m    546\u001b[0m     \u001b[1;32mreturn\u001b[0m \u001b[0mwrap\u001b[0m\u001b[1;33m(\u001b[0m\u001b[0mainv\u001b[0m\u001b[1;33m.\u001b[0m\u001b[0mastype\u001b[0m\u001b[1;33m(\u001b[0m\u001b[0mresult_t\u001b[0m\u001b[1;33m,\u001b[0m \u001b[0mcopy\u001b[0m\u001b[1;33m=\u001b[0m\u001b[1;32mFalse\u001b[0m\u001b[1;33m)\u001b[0m\u001b[1;33m)\u001b[0m\u001b[1;33m\u001b[0m\u001b[1;33m\u001b[0m\u001b[0m\n\u001b[0;32m    547\u001b[0m \u001b[1;33m\u001b[0m\u001b[0m\n",
      "\u001b[1;32mC:\\Programs\\Miniconda3\\envs\\discopy\\lib\\site-packages\\numpy\\linalg\\linalg.py\u001b[0m in \u001b[0;36m_raise_linalgerror_singular\u001b[1;34m(err, flag)\u001b[0m\n\u001b[0;32m     86\u001b[0m \u001b[1;33m\u001b[0m\u001b[0m\n\u001b[0;32m     87\u001b[0m \u001b[1;32mdef\u001b[0m \u001b[0m_raise_linalgerror_singular\u001b[0m\u001b[1;33m(\u001b[0m\u001b[0merr\u001b[0m\u001b[1;33m,\u001b[0m \u001b[0mflag\u001b[0m\u001b[1;33m)\u001b[0m\u001b[1;33m:\u001b[0m\u001b[1;33m\u001b[0m\u001b[1;33m\u001b[0m\u001b[0m\n\u001b[1;32m---> 88\u001b[1;33m     \u001b[1;32mraise\u001b[0m \u001b[0mLinAlgError\u001b[0m\u001b[1;33m(\u001b[0m\u001b[1;34m\"Singular matrix\"\u001b[0m\u001b[1;33m)\u001b[0m\u001b[1;33m\u001b[0m\u001b[1;33m\u001b[0m\u001b[0m\n\u001b[0m\u001b[0;32m     89\u001b[0m \u001b[1;33m\u001b[0m\u001b[0m\n\u001b[0;32m     90\u001b[0m \u001b[1;32mdef\u001b[0m \u001b[0m_raise_linalgerror_nonposdef\u001b[0m\u001b[1;33m(\u001b[0m\u001b[0merr\u001b[0m\u001b[1;33m,\u001b[0m \u001b[0mflag\u001b[0m\u001b[1;33m)\u001b[0m\u001b[1;33m:\u001b[0m\u001b[1;33m\u001b[0m\u001b[1;33m\u001b[0m\u001b[0m\n",
      "\u001b[1;31mLinAlgError\u001b[0m: Singular matrix"
     ]
    }
   ],
   "source": [
    "MM = np.ones([4,4])\n",
    "geo_diff(MM,MM)"
   ]
  },
  {
   "cell_type": "code",
   "execution_count": null,
   "metadata": {},
   "outputs": [],
   "source": [
    "\n"
   ]
  }
 ],
 "metadata": {
  "kernelspec": {
   "display_name": "Python 3",
   "language": "python",
   "name": "python3"
  },
  "language_info": {
   "codemirror_mode": {
    "name": "ipython",
    "version": 3
   },
   "file_extension": ".py",
   "mimetype": "text/x-python",
   "name": "python",
   "nbconvert_exporter": "python",
   "pygments_lexer": "ipython3",
   "version": "3.9.4"
  },
  "toc": {
   "base_numbering": 1,
   "nav_menu": {},
   "number_sections": true,
   "sideBar": true,
   "skip_h1_title": false,
   "title_cell": "Table of Contents",
   "title_sidebar": "Contents",
   "toc_cell": false,
   "toc_position": {},
   "toc_section_display": true,
   "toc_window_display": false
  }
 },
 "nbformat": 4,
 "nbformat_minor": 2
}
