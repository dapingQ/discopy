{
 "cells": [
  {
   "cell_type": "code",
   "execution_count": 1,
   "metadata": {},
   "outputs": [
    {
     "name": "stdout",
     "output_type": "stream",
     "text": [
      "Vocabulary:\n",
      "Word('Alice', Ty('n'))\n",
      "Word('loves', Ty(Ob('n', z=1), 's', Ob('n', z=-1)))\n",
      "Word('Bob', Ty('n'))\n"
     ]
    }
   ],
   "source": [
    "from discopy import Ty, Word\n",
    "\n",
    "s, n = Ty('s'), Ty('n')\n",
    "Alice, loves, Bob = Word('Alice', n), Word('loves', n.r @ s @ n.l), Word('Bob', n)\n",
    "\n",
    "print(\"Vocabulary:\\n{}\".format('\\n'.join(map(repr, [Alice, loves, Bob]))))"
   ]
  },
  {
   "cell_type": "code",
   "execution_count": 2,
   "metadata": {},
   "outputs": [
    {
     "name": "stdout",
     "output_type": "stream",
     "text": [
      "Diagram for 'Alice loves Bob':\n"
     ]
    },
    {
     "data": {
      "image/png": "[encoded data removed]",
      "text/plain": [
       "<Figure size 432x288 with 1 Axes>"
      ]
     },
     "metadata": {
      "needs_background": "light"
     },
     "output_type": "display_data"
    }
   ],
   "source": [
    "from discopy import Diagram, Id, Cup, pregroup\n",
    "\n",
    "grammar = Cup(n, n.r) @ Id(s) @ Cup(n.l, n)\n",
    "parsing = {\"{} {} {}.\".format(subj, verb, obj): subj @ verb @ obj >> grammar\n",
    "            for subj in [Alice, Bob] for verb in [loves] for obj in [Alice, Bob]}\n",
    "\n",
    "diagram = parsing['Alice loves Bob.']\n",
    "print(\"Diagram for 'Alice loves Bob':\")\n",
    "pregroup.draw(diagram, draw_types=True)"
   ]
  },
  {
   "cell_type": "code",
   "execution_count": 3,
   "metadata": {},
   "outputs": [
    {
     "name": "stdout",
     "output_type": "stream",
     "text": [
      "Grammatical sentences:\n",
      "Alice loves Alice.\n",
      "Alice loves Bob.\n",
      "Bob loves Alice.\n",
      "Bob loves Bob.\n"
     ]
    }
   ],
   "source": [
    "sentences = list(parsing.keys())\n",
    "print(\"Grammatical sentences:\\n{}\".format('\\n'.join(sentences)))"
   ]
  },
  {
   "cell_type": "code",
   "execution_count": 4,
   "metadata": {},
   "outputs": [
    {
     "name": "stdout",
     "output_type": "stream",
     "text": [
      "Matrix(dom=Dim(1), cod=Dim(2, 2), array=[(0.99999994+0j), 0j, 0j, (0.99999994+0j)])\n"
     ]
    }
   ],
   "source": [
    "from discopy.circuit import Gate, Ket, Rx, CX, H, sqrt\n",
    "\n",
    "def verb_ansatz(phase):\n",
    "    return Ket(0, 0) >> H @ sqrt(2) @ Rx(phase) >> CX\n",
    "\n",
    "print(verb_ansatz(0).eval())"
   ]
  },
  {
   "cell_type": "code",
   "execution_count": 5,
   "metadata": {},
   "outputs": [
    {
     "name": "stdout",
     "output_type": "stream",
     "text": [
      "Circuit for 'Alice loves Bob':\n"
     ]
    },
    {
     "data": {
      "image/png": "[encoded data removed]",
      "text/plain": [
       "<Figure size 360x360 with 1 Axes>"
      ]
     },
     "metadata": {},
     "output_type": "display_data"
    }
   ],
   "source": [
    "from discopy import CircuitFunctor\n",
    "\n",
    "ob = {s: 0, n: 1}\n",
    "ar = lambda params: {\n",
    "    Alice: Ket(0), Bob: Ket(1),\n",
    "    loves: verb_ansatz(params['loves'])}\n",
    "\n",
    "F = lambda params: CircuitFunctor(ob, ar(params))\n",
    "\n",
    "params0 = {'loves': 0.5}\n",
    "\n",
    "print(\"Circuit for 'Alice loves Bob':\")\n",
    "F(params0)(parsing['Alice loves Bob.']).normal_form().draw(\n",
    "    aspect='auto', draw_types=False, figsize=(5, 5))"
   ]
  },
  {
   "cell_type": "code",
   "execution_count": 6,
   "metadata": {},
   "outputs": [
    {
     "name": "stdout",
     "output_type": "stream",
     "text": [
      "Amplitude for 'Alice loves Bob':\n",
      "Matrix(dom=Dim(1), cod=Dim(1), array=[(0.9999999+4.3711385e-08j)])\n"
     ]
    }
   ],
   "source": [
    "print(\"Amplitude for 'Alice loves Bob':\")\n",
    "print(F(params0)(parsing['Alice loves Bob.']).eval())"
   ]
  },
  {
   "cell_type": "code",
   "execution_count": 7,
   "metadata": {},
   "outputs": [],
   "source": [
    "from pytket.backends.ibm import AerBackend, IBMQBackend\n",
    "from qiskit.providers.aer import noise\n",
    "\n",
    "from qiskit import QuantumCircuit, execute, Aer, IBMQ\n",
    "from qiskit.providers.aer import noise\n",
    "\n",
    "IBMQ.load_account()\n",
    "provider = IBMQ.get_provider(group='open')\n",
    "device = provider.get_backend('ibmq_16_melbourne')\n",
    "properties = device.properties()\n",
    "noise_model = noise.device.basic_device_noise_model(properties)\n",
    "\n",
    "backend = AerBackend(noise_model)"
   ]
  },
  {
   "cell_type": "code",
   "execution_count": 13,
   "metadata": {},
   "outputs": [
    {
     "name": "stdout",
     "output_type": "stream",
     "text": [
      "Does Alice love Bob?\n",
      "0.8437498211860657\n"
     ]
    }
   ],
   "source": [
    "evaluate = lambda F, sentence: F(parsing[sentence]).get_counts(backend, n_shots=2**10).array\n",
    "\n",
    "print(\"Does Alice love Bob?\\n{}\".format(evaluate(F(params0), 'Alice loves Bob.')))"
   ]
  },
  {
   "cell_type": "code",
   "execution_count": 14,
   "metadata": {},
   "outputs": [
    {
     "name": "stdout",
     "output_type": "stream",
     "text": [
      "True sentences:\n",
      "Alice loves Bob.\n",
      "Bob loves Alice.\n",
      "\n",
      "False sentences:\n",
      "Alice loves Alice.\n",
      "Bob loves Bob.\n"
     ]
    }
   ],
   "source": [
    "corpus = {sentence: evaluate(F(params0), sentence) for sentence in sentences}\n",
    "\n",
    "epsilon = .33\n",
    "\n",
    "print(\"True sentences:\\n{}\\n\".format('\\n'.join(sentence\n",
    "    for sentence, probability in corpus.items() if probability > 1 - epsilon)))\n",
    "print(\"False sentences:\\n{}\".format('\\n'.join(sentence\n",
    "    for sentence, probability in corpus.items() if probability < epsilon)))"
   ]
  },
  {
   "cell_type": "code",
   "execution_count": 15,
   "metadata": {},
   "outputs": [],
   "source": [
    "import numpy as np\n",
    "\n",
    "def mean_squared(y_true, y_pred):\n",
    "    return np.mean((np.array(y_true) - np.array(y_pred)) ** 2)\n",
    "\n",
    "loss = lambda corpus, phase: - mean_squared(*zip(*[\n",
    "    (evaluate(F(params0), sentence), evaluate(F({'loves': phase}), sentence))\n",
    "     for sentence in corpus]))"
   ]
  },
  {
   "cell_type": "code",
   "execution_count": 16,
   "metadata": {
    "scrolled": true
   },
   "outputs": [
    {
     "name": "stdout",
     "output_type": "stream",
     "text": [
      "Training set:\n",
      "Bob loves Bob.\n",
      "Alice loves Alice.\n",
      "Bob loves Alice.\n",
      "\n",
      "Testing set:\n",
      "Does Alice love Bob?\n"
     ]
    }
   ],
   "source": [
    "from sklearn.model_selection import train_test_split\n",
    "\n",
    "sentence_train, sentence_test = train_test_split(sentences, test_size=0.25, random_state=42)\n",
    "\n",
    "print(\"Training set:\\n{}\\n\".format('\\n'.join(sentence_train)))\n",
    "print(\"Testing set:\\n{}\".format('\\n'.join(map(\n",
    "    lambda x: 'Does ' + x.replace('loves', 'love').replace('.', '?'), sentence_test))))"
   ]
  },
  {
   "cell_type": "code",
   "execution_count": 17,
   "metadata": {},
   "outputs": [],
   "source": [
    "training_loss = lambda phase: loss(sentence_train, phase[0])\n",
    "testing_loss = lambda phase: loss(sentence_test, phase[0])"
   ]
  },
  {
   "cell_type": "code",
   "execution_count": 18,
   "metadata": {},
   "outputs": [
    {
     "name": "stdout",
     "output_type": "stream",
     "text": [
      "Random parameter initialisation...\n",
      "Initial parameters: [0.84487321]\n",
      "Initial testing loss: -0.21246\n",
      "\n",
      "[0.86365153]\n",
      "[0.77473305]\n",
      "[0.6758851]\n",
      "[0.62723358]\n",
      "[0.59035445]\n",
      "[0.55288917]\n",
      "[0.53853004]\n",
      "[0.52561663]\n",
      "[0.51206186]\n",
      "[0.51168541]\n"
     ]
    },
    {
     "data": {
      "text/plain": [
       "     fun: -0.006693522\n",
       " message: 'terminated after reaching max number of iterations'\n",
       "    nfev: 20\n",
       "     nit: 10\n",
       " success: True\n",
       "       x: array([0.51168541])"
      ]
     },
     "execution_count": 18,
     "metadata": {},
     "output_type": "execute_result"
    }
   ],
   "source": [
    "from random import random\n",
    "import noisyopt\n",
    "\n",
    "print(\"Random parameter initialisation...\")\n",
    "\n",
    "params = np.array([random()])\n",
    "print(\"Initial parameters: {}\".format(params))\n",
    "print(\"Initial testing loss: {:.5f}\\n\".format(testing_loss(params)))\n",
    "\n",
    "result = noisyopt.minimizeSPSA(training_loss, params, paired=False, callback=print, niter=10)\n",
    "result"
   ]
  },
  {
   "cell_type": "code",
   "execution_count": 19,
   "metadata": {},
   "outputs": [
    {
     "name": "stdout",
     "output_type": "stream",
     "text": [
      "Does Alice love Bob?\n",
      "Yes\n"
     ]
    }
   ],
   "source": [
    "print(\"Does Alice love Bob?\")\n",
    "\n",
    "print(\"Yes\" if evaluate(F({'loves': result.x[0]}), 'Alice loves Bob.') > 1 - epsilon else \"No\")"
   ]
  },
  {
   "cell_type": "code",
   "execution_count": null,
   "metadata": {},
   "outputs": [],
   "source": []
  }
 ],
 "metadata": {
  "kernelspec": {
   "display_name": "Python 3",
   "language": "python",
   "name": "python3"
  },
  "language_info": {
   "codemirror_mode": {
    "name": "ipython",
    "version": 3
   },
   "file_extension": ".py",
   "mimetype": "text/x-python",
   "name": "python",
   "nbconvert_exporter": "python",
   "pygments_lexer": "ipython3",
   "version": "3.9.4"
  },
  "toc": {
   "base_numbering": 1,
   "nav_menu": {},
   "number_sections": true,
   "sideBar": true,
   "skip_h1_title": false,
   "title_cell": "Table of Contents",
   "title_sidebar": "Contents",
   "toc_cell": false,
   "toc_position": {},
   "toc_section_display": true,
   "toc_window_display": false
  }
 },
 "nbformat": 4,
 "nbformat_minor": 2
}
