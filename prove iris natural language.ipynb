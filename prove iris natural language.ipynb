{
 "cells": [
  {
   "cell_type": "markdown",
   "metadata": {},
   "source": [
    "## prove iris"
   ]
  },
  {
   "cell_type": "code",
   "execution_count": 1,
   "metadata": {},
   "outputs": [],
   "source": [
    "import numpy as np\n",
    "from scipy.linalg import block_diag\n",
    "from math import factorial\n",
    "from discopy import cat, monoidal\n",
    "from discopy.monoidal import PRO\n",
    "from discopy.tensor import Dim\n",
    "from itertools import permutations as pr\n",
    "SEED = 420\n",
    "import numpy as np; np.random.seed(SEED)\n",
    "from matplotlib import pyplot as plt\n",
    "from noisyopt import minimizeSPSA\n",
    "from time import time "
   ]
  },
  {
   "cell_type": "markdown",
   "metadata": {},
   "source": [
    "## creazione data set e inizializzazione input"
   ]
  },
  {
   "cell_type": "code",
   "execution_count": 2,
   "metadata": {},
   "outputs": [],
   "source": [
    "width, depth = 4, 2  # width and depth of the piece of chip for one word\n",
    "\n",
    "n_photons = 2\n",
    "input_modes = output_modes = [0, 1, 1, 0]\n",
    "\n",
    "bias, weight = -0.7, 5  # bias and weight for the classical post-processing\n",
    "\n",
    "n_iter, alpha, gamma = 100, 0.602, 0.101  # optimization, hyper-parameters\n",
    "\n",
    "SEED = 420"
   ]
  },
  {
   "cell_type": "code",
   "execution_count": 3,
   "metadata": {},
   "outputs": [
    {
     "name": "stdout",
     "output_type": "stream",
     "text": [
      "Nouns: Alice, Bob, Claire, Dave, Eve, Fred\n",
      "Verbs: loves, kills, hates\n"
     ]
    }
   ],
   "source": [
    "E = [x if not i else x + str(i + 1) \n",
    "     for i in range(1) for x in [\"Alice\", \"Bob\", \"Claire\", \"Dave\", \"Eve\", \"Fred\"]]\n",
    "R = [\"loves\", \"kills\", \"hates\"]\n",
    "\n",
    "print(\"Nouns: {}\".format(', '.join(E)))\n",
    "print(\"Verbs: {}\".format(', '.join(R)))"
   ]
  },
  {
   "cell_type": "code",
   "execution_count": 4,
   "metadata": {},
   "outputs": [
    {
     "name": "stdout",
     "output_type": "stream",
     "text": [
      "108 subject-verb-object sentences:\n"
     ]
    },
    {
     "data": {
      "image/png": "[encoded data removed]",
      "text/plain": [
       "<Figure size 720x144 with 1 Axes>"
      ]
     },
     "metadata": {
      "needs_background": "light"
     },
     "output_type": "display_data"
    }
   ],
   "source": [
    "from discopy import Ty, Word, drawing\n",
    "\n",
    "n = Ty('n')\n",
    "\n",
    "class SimpleWord(Word):\n",
    "    \"\"\" Word boxes with `dom == cod == n`. \"\"\"\n",
    "    def __init__(self, name, dom=n, cod=n, data=None, _dagger=False):\n",
    "        super().__init__(name, dom=dom, cod=cod, data=data, _dagger=_dagger)\n",
    "\n",
    "corpus = {\n",
    "    ' '.join([x, r, y]):\n",
    "    SimpleWord(x) >> SimpleWord(r) >> SimpleWord(y).dagger()\n",
    "    for x in E for r in R for y in E}\n",
    "\n",
    "print(\"{} subject-verb-object sentences:\".format(len(corpus)))\n",
    "start = drawing.Equation(*list(corpus.values())[:3], symbol=',')\n",
    "end = drawing.Equation(*list(corpus.values())[-3:], symbol=',')\n",
    "drawing.equation(start, end, symbol='...', asymmetry=5e-2, figsize=(10, 2), draw_type_labels=False)"
   ]
  },
  {
   "cell_type": "code",
   "execution_count": 5,
   "metadata": {},
   "outputs": [],
   "source": [
    "## optics functions\n",
    "\n",
    "def npperm(M):\n",
    "    \"\"\"\n",
    "    Numpy code for computing the permanent of a matrix,\n",
    "    from https://github.com/scipy/scipy/issues/7151\n",
    "    \"\"\"\n",
    "    n = M.shape[0]\n",
    "    d = np.ones(n)\n",
    "    j = 0\n",
    "    s = 1\n",
    "    f = np.arange(n)\n",
    "    v = M.sum(axis=0)\n",
    "    p = np.prod(v)\n",
    "    while (j < n - 1):\n",
    "        v -= 2 * d[j] * M[j]\n",
    "        d[j] = -d[j]\n",
    "        s = -s\n",
    "        prod = np.prod(v)\n",
    "        p += s * prod\n",
    "        f[0] = 0\n",
    "        f[j] = f[j + 1]\n",
    "        f[j + 1] = j + 1\n",
    "        j = f[0]\n",
    "    return p / 2 ** (n - 1)\n",
    "\n",
    "\n",
    "@monoidal.Diagram.subclass\n",
    "class Diagram(monoidal.Diagram):\n",
    "    \"\"\"\n",
    "    Linear optical network seen as a diagram of beam splitters, phase shifters\n",
    "    and Mach-Zender interferometers.\n",
    "\n",
    "    >>> mach = lambda x, y: PhaseShift(x) @ Id(PRO(1)) >> BeamSplitter(y)\n",
    "    >>> assert np.allclose(MZI(0.4, 0.9).array, mach(0.4, 0.9).array)\n",
    "    >>> MZI(0, 0).amp(1, [1, 0], [0, 1])\n",
    "    (1+0j)\n",
    "    >>> assert np.allclose((BeamSplitter(0.4) >> BeamSplitter(0.4)).array,\\\n",
    "                           Id(PRO(2)).array)\n",
    "    >>> grid = MZI(0.5, 0.3) @ MZI(0.5, 0.3) >> MZI(0.5, 0.3) @ MZI(0.5, 0.3)\n",
    "    >>> np.absolute(grid.amp(7, [1, 3, 2, 1], [1, 3, 3, 0])) ** 2\n",
    "    0.01503226280870989\n",
    "    \"\"\"\n",
    "    def __repr__(self):\n",
    "        return super().__repr__().replace('Diagram', 'optics.Diagram')\n",
    "\n",
    "    @property\n",
    "    def array(self):\n",
    "        \"\"\"\n",
    "        The array corresponding to the diagram.\n",
    "        Builds a block diagonal matrix for each layer and then multiplies them\n",
    "        in sequence.\n",
    "\n",
    "        >>> MZI(0, 0).array\n",
    "        array([[ 0.+0.j,  1.+0.j],\n",
    "               [ 1.+0.j, -0.+0.j]])\n",
    "        \"\"\"\n",
    "        scan, array = self.dom, np.identity(len(self.dom))\n",
    "        for box, off in zip(self.boxes, self.offsets):\n",
    "            left, right = len(scan[:off]), len(scan[off + len(box.dom):])\n",
    "            array = np.matmul(array, block_diag(np.identity(left), box.array,\n",
    "                                                np.identity(right)))\n",
    "        return array\n",
    "\n",
    "    def amp(self, n_photons, x, y, permanent=npperm):\n",
    "        \"\"\"\n",
    "        Evaluates the amplitude of an optics.Diagram on input x and output y,\n",
    "        where x and y are lists of natural numbers summing to n_photons.\n",
    "\n",
    "        Parameters\n",
    "        ----------\n",
    "        n_photons : int\n",
    "            Number of photons\n",
    "        x : List[int]\n",
    "            Input vector of occupation numbers\n",
    "        y : List[int]\n",
    "            Output vector of occupation numbers\n",
    "        permanent : callable, optional\n",
    "            Use another function for computing the permanent\n",
    "            (e.g. from thewalrus)\n",
    "\n",
    "        >>> network = PhaseShift(0.4) @ Id(2) @ PhaseShift(0.5)\\\n",
    "                      >> MZI(0.4, 0.3) @ MZI(0.2, 0.5)\n",
    "        >>> amplitude = network.amp(2, [1, 0, 0, 1], [0, 1, 1, 0])\n",
    "        >>> amplitude\n",
    "        (0.2562725928380136+0.9231201340089097j)\n",
    "        >>> probability = np.abs(amplitude) ** 2\n",
    "        >>> probability\n",
    "        0.9178264236525457\n",
    "        >>> MZI(0, 0).amp(1, [1, 0], [0, 1])\n",
    "        (1+0j)\n",
    "        >>> MZI(0, np.pi).amp(1, [1, 0], [1, 0])\n",
    "        (1+0j)\n",
    "        >>> MZI(0, 0).amp(2, [1, 1], [1, 0])\n",
    "        0\n",
    "        \"\"\"\n",
    "        if sum(x) != sum(y):\n",
    "            return 0\n",
    "        n_modes = len(self.dom)\n",
    "        unitary = self.array\n",
    "        matrix = np.stack([unitary[:, i] for i in range(n_modes)\n",
    "                          for j in range(y[i])], axis=1)\n",
    "        matrix = np.stack([matrix[i] for i in range(n_modes)\n",
    "                          for j in range(x[i])], axis=0)\n",
    "        divisor = np.sqrt(np.prod([factorial(n) for n in x + y]))\n",
    "        amp = permanent(matrix) / divisor\n",
    "        return amp\n",
    "\n",
    "\n",
    "    def amp_dist(self, n_photons, x, y, permanent=npperm):\n",
    "        \"\"\"\n",
    "        Evaluates the probability of an optics.Diagram on input x and output y,\n",
    "        where x and y are lists of natural numbers summing to DISTINGUISHABLE n_photons. \n",
    "\n",
    "        Parameters\n",
    "        ----------\n",
    "        n_photons : int\n",
    "            Number of photons\n",
    "        x : List[int]\n",
    "            Input vector of occupation numbers\n",
    "        y : List[int]\n",
    "            Output vector of occupation numbers\n",
    "        permanent : callable, optional\n",
    "            Use another function for computing the permanent\n",
    "            (e.g. from thewalrus)\n",
    "\n",
    "        >>> network = PhaseShift(0.4) @ Id(2) @ PhaseShift(0.5)\\\n",
    "                      >> MZI(0.4, 0.3) @ MZI(0.2, 0.5)\n",
    "        >>> probability = network.amp(2, [1, 0, 0, 1], [0, 1, 1, 0])\n",
    "        >>> MZI(0, 0).amp(1, [1, 0], [0, 1])\n",
    "        (1+0j)\n",
    "        >>> MZI(0, np.pi).amp(1, [1, 0], [1, 0])\n",
    "        (1+0j)\n",
    "        >>> MZI(0, 0).amp(2, [1, 1], [1, 0])\n",
    "        0\n",
    "        \"\"\"\n",
    "\n",
    "        n_modes = len(self.dom)\n",
    "        unitary = self.array\n",
    "        if sum(x) != sum(y):\n",
    "            return 0\n",
    "        i=[]\n",
    "        o=[]\n",
    "        for xx in range(len(x)):\n",
    "            if x[xx] > 0:\n",
    "                for z in range(x[xx]):\n",
    "                    i.append(xx)\n",
    "        for xx in range(len(y)):\n",
    "            if y[xx] > 0:\n",
    "                for z in range(y[xx]):\n",
    "                    o.append(xx)        \n",
    "        p=0;\n",
    "        pm=list(set(pr(o)));\n",
    "        for kk in range(len(pm)):\n",
    "            u=1;\n",
    "            for k in range(len(i)):\n",
    "                u*=abs(unitary[i[k], pm[kk][k]])**2;\n",
    "            p+=u;   \n",
    "        pio=p\n",
    "        return(pio)  \n",
    "            \n",
    "    def amp_CL(self, n_photons, x, y, permanent=npperm):\n",
    "        \"\"\"\n",
    "        Evaluates the light intensity rate at the output of an optics.Diagram, when sending incoherent light on input x and \n",
    "        measuring the intensity on output y.\n",
    "        x and y are lists of natural numbers, e.g. x=[0,1,1,0] means I am sending incoherent light from modes 2 and 3,\n",
    "        while y=[1,1,1,0], means I am measuring the intensity from output modes 1,2 and 3. If y=[1,1,1,1] the probability is trivially 1.\n",
    "\n",
    "        Parameters\n",
    "        ----------\n",
    "        n_photons : int\n",
    "            Number of photons\n",
    "        x : List[int]\n",
    "            0 means no light is being injected, 1 means a light beam is being injected, e.g. [1,1,0,0] means I am\n",
    "            sending light from mode 1 and 2\n",
    "        y : List[int]\n",
    "            0 means I am not measuring on that output mode, 1 means I am measuring intensity there, e.g. [1,1,0,0] means I am\n",
    "            measuring light intensities from mode 1 and 2\n",
    "        permanent : callable, optional\n",
    "            Use another function for computing the permanent\n",
    "            (e.g. from thewalrus)\n",
    "\n",
    "        >>> network = PhaseShift(0.4) @ Id(2) @ PhaseShift(0.5)\\\n",
    "                      >> MZI(0.4, 0.3) @ MZI(0.2, 0.5)\n",
    "        >>> probability = network.amp(2, [1, 0, 0, 1], [0, 1, 1, 0])\n",
    "        >>> MZI(0, 0).amp(1, [1, 0], [0, 1])\n",
    "        (1+0j)\n",
    "        >>> MZI(0, np.pi).amp(1, [1, 0], [1, 0])\n",
    "        (1+0j)\n",
    "        >>> MZI(0, 0).amp(2, [1, 1], [1, 0])\n",
    "        0\n",
    "        \"\"\"\n",
    "            n_modes = len(self.dom)\n",
    "            unitary = self.array\n",
    "            i=[]\n",
    "            o=[]\n",
    "            for xx in range(len(x)):\n",
    "                if x[xx] > 0:\n",
    "                    for z in range(x[xx]):\n",
    "                        i.append(xx)\n",
    "            for xx in range(len(y)):\n",
    "                if y[xx] > 0:\n",
    "                    for z in range(y[xx]):\n",
    "                        o.append(xx) \n",
    "            u=0\n",
    "            for k in range(len(i)):\n",
    "                for kk in range(len(o)):\n",
    "                    u=u+abs(unitary[i[k], o[kk]])**2\n",
    "            u=u/n_photons\n",
    "            return(u)  \n",
    "    \n",
    "class Box(Diagram, monoidal.Box):\n",
    "    \"\"\"\n",
    "    Box in an optics.Diagram\n",
    "    \"\"\"\n",
    "    def __init__(self, name, dom, cod, data, **params):\n",
    "        if not isinstance(dom, PRO):\n",
    "            raise TypeError(messages.type_err(PRO, dom))\n",
    "        if not isinstance(cod, PRO):\n",
    "            raise TypeError(messages.type_err(PRO, cod))\n",
    "        monoidal.Box.__init__(self, name, dom, cod, data=data, **params)\n",
    "        Diagram.__init__(self, dom, cod, [self], [0], layers=self.layers)\n",
    "\n",
    "    def __repr__(self):\n",
    "        return super().__repr__().replace('Box', 'optics.Box')\n",
    "\n",
    "    @property\n",
    "    def array(self):\n",
    "        \"\"\" The array inside the box. \"\"\"\n",
    "        return np.array(self.data).reshape(\n",
    "            Dim(len(self.dom)) @ Dim(len(self.cod)) or (1, ))\n",
    "\n",
    "\n",
    "class Id(monoidal.Id, Diagram):\n",
    "    \"\"\"\n",
    "    Identity optics.Diagram\n",
    "    \"\"\"\n",
    "    def __init__(self, dom=PRO()):\n",
    "        if isinstance(dom, int):\n",
    "            dom = PRO(dom)\n",
    "        monoidal.Id.__init__(self, dom)\n",
    "        Diagram.__init__(self, dom, dom, [], [], layers=cat.Id(dom))\n",
    "\n",
    "\n",
    "Diagram.id = Id\n",
    "\n",
    "\n",
    "class PhaseShift(Box):\n",
    "    \"\"\"\n",
    "    Phase shifter\n",
    "\n",
    "    Parameters\n",
    "    ----------\n",
    "    phase : float\n",
    "    \"\"\"\n",
    "    def __init__(self, phase):\n",
    "        self.phase = phase\n",
    "        super().__init__('Phase shift', PRO(1), PRO(1), [phase])\n",
    "\n",
    "    @property\n",
    "    def array(self):\n",
    "        return np.array(np.exp(2j * np.pi * self.phase))\n",
    "\n",
    "\n",
    "class BeamSplitter(Box):\n",
    "    \"\"\"\n",
    "    Beam splitter\n",
    "\n",
    "    Parameters\n",
    "    ----------\n",
    "    angle : float\n",
    "    \"\"\"\n",
    "    def __init__(self, angle):\n",
    "        self.angle = angle\n",
    "        super().__init__('Beam splitter', PRO(2), PRO(2), [angle])\n",
    "\n",
    "    @property\n",
    "    def array(self):\n",
    "        cos, sin = np.cos(np.pi * self.angle), np.sin(np.pi * self.angle)\n",
    "        return np.array([sin, cos, cos, -sin]).reshape((2, 2))\n",
    "\n",
    "\n",
    "class MZI(Box):\n",
    "    \"\"\"\n",
    "    Mach-Zender interferometer\n",
    "\n",
    "    Parameters\n",
    "    ----------\n",
    "    phase, angle : float\n",
    "    \"\"\"\n",
    "    def __init__(self, phase, angle):\n",
    "        self.phase, self.angle = phase, angle\n",
    "        super().__init__('MZI', PRO(2), PRO(2), [phase, angle])\n",
    "\n",
    "    @property\n",
    "    def array(self):\n",
    "        cos, sin = np.cos(np.pi * self.angle), np.sin(np.pi * self.angle)\n",
    "        exp = np.exp(2j * np.pi * self.phase)\n",
    "        return np.array([exp * sin, exp * cos, cos, -sin]).reshape((2, 2))\n",
    "\n",
    "    def dagger(self):\n",
    "        return MZI(-self.phase, self.angle)\n",
    "\n",
    "\n",
    "class Functor(monoidal.Functor):\n",
    "    def __init__(self, ob, ar):\n",
    "        super().__init__(ob, ar, ob_factory=PRO, ar_factory=Diagram)\n",
    "\n",
    "\n",
    "        "
   ]
  },
  {
   "cell_type": "code",
   "execution_count": 6,
   "metadata": {},
   "outputs": [
    {
     "ename": "NameError",
     "evalue": "name 'it' is not defined",
     "output_type": "error",
     "traceback": [
      "\u001b[0;31m---------------------------------------------------------------------------\u001b[0m",
      "\u001b[0;31mNameError\u001b[0m                                 Traceback (most recent call last)",
      "\u001b[0;32m<ipython-input-6-d289404c3c58>\u001b[0m in \u001b[0;36m<module>\u001b[0;34m\u001b[0m\n\u001b[1;32m      2\u001b[0m \u001b[0mt\u001b[0m\u001b[0;34m=\u001b[0m\u001b[0;34m[\u001b[0m\u001b[0;34m]\u001b[0m\u001b[0;34m\u001b[0m\u001b[0;34m\u001b[0m\u001b[0m\n\u001b[1;32m      3\u001b[0m \u001b[0mmodes\u001b[0m\u001b[0;34m=\u001b[0m\u001b[0mnp\u001b[0m\u001b[0;34m.\u001b[0m\u001b[0marray\u001b[0m\u001b[0;34m(\u001b[0m\u001b[0;34m[\u001b[0m\u001b[0;36m0\u001b[0m\u001b[0;34m,\u001b[0m\u001b[0;36m0\u001b[0m\u001b[0;34m,\u001b[0m\u001b[0;36m1\u001b[0m\u001b[0;34m,\u001b[0m\u001b[0;36m1\u001b[0m\u001b[0;34m,\u001b[0m\u001b[0;36m2\u001b[0m\u001b[0;34m,\u001b[0m\u001b[0;36m2\u001b[0m\u001b[0;34m,\u001b[0m\u001b[0;36m3\u001b[0m\u001b[0;34m,\u001b[0m\u001b[0;36m3\u001b[0m\u001b[0;34m]\u001b[0m\u001b[0;34m)\u001b[0m\u001b[0;34m\u001b[0m\u001b[0;34m\u001b[0m\u001b[0m\n\u001b[0;32m----> 4\u001b[0;31m \u001b[0mcomb\u001b[0m\u001b[0;34m=\u001b[0m\u001b[0mset\u001b[0m\u001b[0;34m(\u001b[0m\u001b[0mit\u001b[0m\u001b[0;34m.\u001b[0m\u001b[0mcombinations\u001b[0m\u001b[0;34m(\u001b[0m\u001b[0mmodes\u001b[0m\u001b[0;34m,\u001b[0m \u001b[0;36m2\u001b[0m\u001b[0;34m)\u001b[0m\u001b[0;34m)\u001b[0m\u001b[0;34m\u001b[0m\u001b[0;34m\u001b[0m\u001b[0m\n\u001b[0m\u001b[1;32m      5\u001b[0m \u001b[0mcombs\u001b[0m\u001b[0;34m=\u001b[0m\u001b[0mlist\u001b[0m\u001b[0;34m(\u001b[0m\u001b[0mcomb\u001b[0m\u001b[0;34m)\u001b[0m\u001b[0;34m\u001b[0m\u001b[0;34m\u001b[0m\u001b[0m\n\u001b[1;32m      6\u001b[0m \u001b[0mp_bs\u001b[0m\u001b[0;34m=\u001b[0m\u001b[0;36m0\u001b[0m\u001b[0;34m\u001b[0m\u001b[0;34m\u001b[0m\u001b[0m\n",
      "\u001b[0;31mNameError\u001b[0m: name 'it' is not defined"
     ]
    }
   ],
   "source": [
    "#controllo normalizzazione\n",
    "t=[]\n",
    "modes=np.array([0,0,1,1,2,2,3,3])\n",
    "comb=set(it.combinations(modes, 2))\n",
    "combs=list(comb)\n",
    "p_bs=0\n",
    "p_dist=0\n",
    "for y in combs:\n",
    "    output=[0,0,0,0]\n",
    "    for xx in range(len(y)):\n",
    "        output[y[xx]]+=1\n",
    "    print(output)\n",
    "    p_bs=p_bs+probability(F(params0)(corpus[\"Alice loves Bob\"]).amp(2, [0,1,1,0],output))\n",
    "    p_dist=p_dist+F(params0)(corpus[\"Alice loves Bob\"]).amp_dist(2, [0,1,1,0],output)  \n",
    "F(params0)(corpus[\"Alice kills Eve\"]).amp_CL(2, [0,1,1,0],[1,0,0,0])+\\\n",
    "F(params0)(corpus[\"Alice kills Eve\"]).amp_CL(2, [0,1,1,0],[0,1,0,0])+\\\n",
    "F(params0)(corpus[\"Alice kills Eve\"]).amp_CL(2, [0,1,1,0],[0,0,1,0])+\\\n",
    "F(params0)(corpus[\"Alice kills Eve\"]).amp_CL(2, [0,1,1,0],[0,0,0,1])"
   ]
  },
  {
   "cell_type": "code",
   "execution_count": null,
   "metadata": {},
   "outputs": [],
   "source": [
    "t=[]\n",
    "modes=np.array([0,0,1,1,2,2,3,3])\n",
    "comb=set(it.combinations(modes, 2))\n",
    "combs=list(comb)\n",
    "p_cl=0\n",
    "for y in combs:\n",
    "    output=[0,0,0,0]\n",
    "    for xx in range(len(y)):\n",
    "        output[y[xx]]+=1\n",
    "    print(output)\n",
    "    p_bs=p_bs+probability(F(params0)(corpus[\"Alice loves Bob\"]).amp(2, [0,1,1,0],output))\n",
    "    p_dist=p_dist+F(params0)(corpus[\"Alice loves Bob\"]).amp_dist(2, [0,1,1,0],output)  "
   ]
  },
  {
   "cell_type": "code",
   "execution_count": 124,
   "metadata": {},
   "outputs": [
    {
     "data": {
      "text/plain": [
       "1.0000000000000004"
      ]
     },
     "execution_count": 124,
     "metadata": {},
     "output_type": "execute_result"
    }
   ],
   "source": [
    "p_bs"
   ]
  },
  {
   "cell_type": "code",
   "execution_count": 125,
   "metadata": {},
   "outputs": [
    {
     "data": {
      "text/plain": [
       "1.0000000000000004"
      ]
     },
     "execution_count": 125,
     "metadata": {},
     "output_type": "execute_result"
    }
   ],
   "source": [
    "p_dist"
   ]
  },
  {
   "cell_type": "code",
   "execution_count": 7,
   "metadata": {},
   "outputs": [],
   "source": [
    "#costruisce il chip\n",
    "\n",
    "def ansatz(params):\n",
    "    depth, half_width, _ = params.shape\n",
    "    chip = Id(2 * half_width)\n",
    "    for i in range(depth):\n",
    "        chip >>= Id().tensor(*[\n",
    "                MZI(*params[i, j]) for j in range(half_width)])\\\n",
    "            if not i % 2 else Id(1).tensor(*[\n",
    "                MZI(*params[i, j]) for j in range(half_width - 1)]) @ Id(1)\n",
    "    return chip"
   ]
  },
  {
   "cell_type": "code",
   "execution_count": 8,
   "metadata": {},
   "outputs": [
    {
     "name": "stdout",
     "output_type": "stream",
     "text": [
      "Ansatz for 'Bob' (6 parameters):\n"
     ]
    },
    {
     "data": {
      "image/png": "[encoded data removed]",
      "text/plain": [
       "<Figure size 720x288 with 1 Axes>"
      ]
     },
     "metadata": {
      "needs_background": "light"
     },
     "output_type": "display_data"
    },
    {
     "name": "stdout",
     "output_type": "stream",
     "text": [
      "Total: 9 * 6 = 54 parameters.\n",
      "[0.31564591 0.45303068 0.26698226 ... 0.25445189 0.35811394 0.50401754]\n"
     ]
    }
   ],
   "source": [
    "n_params = 2 * (depth * width // 2 - depth // 2)\n",
    "\n",
    "random_params = lambda: np.random.uniform(size=(len(E + R), depth, width // 2, 2))\n",
    "\n",
    "params0 = random_params()\n",
    "\n",
    "print(\"Ansatz for 'Bob' ({} parameters):\".format(n_params))\n",
    "\n",
    "drawing.equation(\n",
    "    SimpleWord('Bob'), ansatz(params0[1]),\n",
    "    draw_type_labels=False, symbol='$\\\\mapsto$', figsize=(10, 4))\n",
    "\n",
    "print(\"Total: {} * {} = {} parameters.\".format(len(E + R), n_params, len(E + R) * n_params))\n",
    "print(params0.flatten())"
   ]
  },
  {
   "cell_type": "markdown",
   "metadata": {},
   "source": [
    "## giro di prova"
   ]
  },
  {
   "cell_type": "code",
   "execution_count": 9,
   "metadata": {},
   "outputs": [
    {
     "name": "stdout",
     "output_type": "stream",
     "text": [
      "Ansatz for 'Alice loves Bob':\n"
     ]
    },
    {
     "data": {
      "image/png": "[encoded data removed]",
      "text/plain": [
       "<Figure size 720x576 with 1 Axes>"
      ]
     },
     "metadata": {
      "needs_background": "light"
     },
     "output_type": "display_data"
    }
   ],
   "source": [
    "F = lambda params: Functor(\n",
    "    ob={n: Ty(1) ** width},\n",
    "    ar={SimpleWord(w): ansatz(params[i]) for i, w in enumerate(E + R)})\n",
    "\n",
    "F0 = F(params0)\n",
    "\n",
    "print(\"Ansatz for 'Alice loves Bob':\")\n",
    "drawing.equation(\n",
    "    corpus[\"Alice loves Bob\"], F0(corpus[\"Alice loves Bob\"]),\n",
    "    symbol='$\\\\mapsto$', figsize=(10, 8), draw_type_labels=False, asymmetry=5e-2)\n",
    "\n",
    "activation = lambda x: 1 / (1 + np.exp(-x))\n",
    "post_processing = lambda x: activation(x * weight + bias)"
   ]
  },
  {
   "cell_type": "code",
   "execution_count": 10,
   "metadata": {},
   "outputs": [
    {
     "name": "stdout",
     "output_type": "stream",
     "text": [
      "[0.31564591 0.45303068 0.26698226 ... 0.25445189 0.35811394 0.50401754]\n",
      "None\n",
      "CPU times: user 1.03 s, sys: 5.72 ms, total: 1.04 s\n",
      "Wall time: 1.03 s\n",
      "Does Fred love Eve? Yes (0.51)\n"
     ]
    }
   ],
   "source": [
    "#generazione dataset con valori di true e false\n",
    "\n",
    "probability = lambda amplitude: np.absolute(amplitude) ** 2\n",
    "\n",
    "def evaluate(params, sentence):\n",
    "    params = params.reshape(params0.shape)\n",
    "    return post_processing(probability(\n",
    "        F(params)(corpus[sentence]).amp(\n",
    "            n_photons, input_modes, output_modes)))\n",
    "\n",
    "print(print(params0.flatten()))\n",
    "\n",
    "%time scores = {sentence: evaluate(params0, sentence) for sentence in corpus}\n",
    "\n",
    "print(\"Does Fred love Eve? {} ({:.2F})\".format(\n",
    "    \"Yes\" if scores[\"Fred loves Eve\"] > .5 else \"No\", scores[\"Fred loves Eve\"]))"
   ]
  },
  {
   "cell_type": "code",
   "execution_count": 11,
   "metadata": {},
   "outputs": [
    {
     "name": "stdout",
     "output_type": "stream",
     "text": [
      "Min: 0.34 (Eve kills Fred)\n",
      "Max: 0.78 (Eve hates Claire)\n",
      "Mean: 0.47\n",
      "Standard deviation: 0.10\n",
      "\n",
      "38 true sentences (score > .5)\n"
     ]
    },
    {
     "data": {
      "image/png": "[encoded data removed]",
      "text/plain": [
       "<Figure size 432x288 with 1 Axes>"
      ]
     },
     "metadata": {
      "needs_background": "light"
     },
     "output_type": "display_data"
    }
   ],
   "source": [
    "X = list(scores.values())\n",
    "\n",
    "plt.hist(X, 20)\n",
    "\n",
    "_min, _max = min(X), max(X)\n",
    "arg_min, arg_max = list(corpus)[X.index(_min)], list(corpus)[X.index(_max)]\n",
    "\n",
    "print(\"Min: {:.2F} ({})\".format(_min, arg_min))\n",
    "print(\"Max: {:.2F} ({})\".format(_max, arg_max))\n",
    "print(\"Mean: {:.2F}\".format(np.mean(X)))\n",
    "print(\"Standard deviation: {:.2F}\".format(np.std(X)))\n",
    "print()\n",
    "print(\"{} true sentences (score > .5)\".format(sum([x > .5 for x in X])))"
   ]
  },
  {
   "cell_type": "code",
   "execution_count": 12,
   "metadata": {},
   "outputs": [
    {
     "name": "stdout",
     "output_type": "stream",
     "text": [
      "Does Fred love Eve? Yes (0.51)\n",
      "Min: 0.34 (Eve kills Fred)\n",
      "Max: 0.78 (Eve hates Claire)\n",
      "Mean: 0.47\n",
      "Standard deviation: 0.10\n",
      "\n",
      "38 true sentences (score > .5)\n"
     ]
    },
    {
     "data": {
      "image/png": "[encoded data removed]",
      "text/plain": [
       "<Figure size 432x288 with 1 Axes>"
      ]
     },
     "metadata": {
      "needs_background": "light"
     },
     "output_type": "display_data"
    }
   ],
   "source": [
    "#evaluation per fotoni distinguibili\n",
    "\n",
    "def evaluate_dist(params, sentence):\n",
    "    params = params.reshape(params0.shape)\n",
    "    return post_processing(\n",
    "        F(params)(corpus[sentence]).amp_dist(\n",
    "            n_photons, input_modes, output_modes))\n",
    "\n",
    "#%time scores = {sentence: evaluate_dist(params0, sentence) for sentence in corpus}\n",
    "\n",
    "print(\"Does Fred love Eve? {} ({:.2F})\".format(\n",
    "    \"Yes\" if scores[\"Fred loves Eve\"] > .5 else \"No\", scores[\"Fred loves Eve\"]))\n",
    "\n",
    "X = list(scores.values())\n",
    "\n",
    "plt.hist(X, 20)\n",
    "\n",
    "_min, _max = min(X), max(X)\n",
    "arg_min, arg_max = list(corpus)[X.index(_min)], list(corpus)[X.index(_max)]\n",
    "\n",
    "print(\"Min: {:.2F} ({})\".format(_min, arg_min))\n",
    "print(\"Max: {:.2F} ({})\".format(_max, arg_max))\n",
    "print(\"Mean: {:.2F}\".format(np.mean(X)))\n",
    "print(\"Standard deviation: {:.2F}\".format(np.std(X)))\n",
    "print()\n",
    "print(\"{} true sentences (score > .5)\".format(sum([x > .5 for x in X])))"
   ]
  },
  {
   "cell_type": "code",
   "execution_count": 13,
   "metadata": {},
   "outputs": [
    {
     "name": "stdout",
     "output_type": "stream",
     "text": [
      "Does Fred love Eve? Yes (0.51)\n",
      "Min: 0.34 (Eve kills Fred)\n",
      "Max: 0.78 (Eve hates Claire)\n",
      "Mean: 0.47\n",
      "Standard deviation: 0.10\n",
      "\n",
      "38 true sentences (score > .5)\n"
     ]
    },
    {
     "data": {
      "image/png": "[encoded data removed]",
      "text/plain": [
       "<Figure size 432x288 with 1 Axes>"
      ]
     },
     "metadata": {
      "needs_background": "light"
     },
     "output_type": "display_data"
    }
   ],
   "source": [
    "#evaluation per luce classica (fasci che non interferiscono)\n",
    "\n",
    "params0 = random_params()\n",
    "\n",
    "def evaluate_CL(params, sentence):\n",
    "    params = params.reshape(params0.shape)\n",
    "    return post_processing(\n",
    "        F(params)(corpus[sentence]).amp_CL(\n",
    "            n_photons, input_modes, output_modes))\n",
    "\n",
    "#%time scores = {sentence: evaluate_CL(params0, sentence) for sentence in corpus}\n",
    "\n",
    "print(\"Does Fred love Eve? {} ({:.2F})\".format(\n",
    "    \"Yes\" if scores[\"Fred loves Eve\"] > .50 else \"No\", scores[\"Fred loves Eve\"]))\n",
    "X = list(scores.values())\n",
    "\n",
    "plt.hist(X, 20)\n",
    "\n",
    "_min, _max = min(X), max(X)\n",
    "arg_min, arg_max = list(corpus)[X.index(_min)], list(corpus)[X.index(_max)]\n",
    "\n",
    "print(\"Min: {:.2F} ({})\".format(_min, arg_min))\n",
    "print(\"Max: {:.2F} ({})\".format(_max, arg_max))\n",
    "print(\"Mean: {:.2F}\".format(np.mean(X)))\n",
    "print(\"Standard deviation: {:.2F}\".format(np.std(X)))\n",
    "print()\n",
    "print(\"{} true sentences (score > .5)\".format(sum([x > .5 for x in X])))"
   ]
  },
  {
   "cell_type": "markdown",
   "metadata": {},
   "source": [
    "## ottimizzazione "
   ]
  },
  {
   "cell_type": "code",
   "execution_count": 14,
   "metadata": {},
   "outputs": [
    {
     "name": "stdout",
     "output_type": "stream",
     "text": [
      "Training set:\n",
      "Bob kills Eve\n",
      "Claire loves Eve\n",
      "Alice loves Fred\n",
      "...\n",
      "\n",
      "Testing set:\n",
      "Eve loves Fred\n",
      "Alice kills Eve\n",
      "Alice loves Eve\n",
      "...\n",
      "\n"
     ]
    }
   ],
   "source": [
    "## separazione training set e testing set\n",
    "\n",
    "from sklearn.model_selection import train_test_split\n",
    "from sklearn.metrics import mean_squared_error\n",
    "\n",
    "dataset = {sentence: int(score > .5) for sentence, score in scores.items()}\n",
    "\n",
    "train, test = train_test_split(list(corpus), test_size=1 / 3, random_state=42)\n",
    "\n",
    "print(\"Training set:\\n{}\\n{}\".format('\\n'.join(train[:3]), '...\\n' if len(train) > 3 else ''))\n",
    "print(\"Testing set:\\n{}\\n{}\".format('\\n'.join(test[:3]), '...\\n' if len(test) > 3 else ''))"
   ]
  },
  {
   "cell_type": "code",
   "execution_count": 15,
   "metadata": {},
   "outputs": [
    {
     "name": "stdout",
     "output_type": "stream",
     "text": [
      "Random initialisation, training_loss: 0.265, testing loss: 0.245\n",
      "[0.04689655 0.14173987 0.25197844 ... 0.7641264  0.50990268 0.93593863]\n",
      "\n",
      "Does Fred love Eve?\n",
      "Yes\n"
     ]
    }
   ],
   "source": [
    "def loss(corpus, params, mode):\n",
    "    if mode=='bs':\n",
    "        return mean_squared_error(*zip(*[\n",
    "        (dataset[sentence], evaluate(params, sentence))\n",
    "        for sentence in corpus]))\n",
    "    if mode=='dist':\n",
    "        return mean_squared_error(*zip(*[\n",
    "        (dataset[sentence], evaluate_dist(params, sentence))\n",
    "        for sentence in corpus]))\n",
    "    if mode=='cl':\n",
    "        return mean_squared_error(*zip(*[\n",
    "        (dataset[sentence], evaluate_CL(params, sentence))\n",
    "        for sentence in corpus]))\n",
    "\n",
    "testing_loss = lambda params: loss(test, params, 'bs')\n",
    "training_loss = lambda params: loss(train, params, 'bs')\n",
    "\n",
    "params_in = random_params().flatten()\n",
    "params= params_in.copy()\n",
    "\n",
    "print(\"Random initialisation, training_loss: {:.3f}, testing loss: {:.3f}\".format(\n",
    "    training_loss(params), testing_loss(params)))\n",
    "print(params)\n",
    "print()\n",
    "print(\"Does Fred love Eve?\")\n",
    "print(\"Yes\" if evaluate(params, 'Fred loves Eve') > .5 else \"No\")"
   ]
  },
  {
   "cell_type": "code",
   "execution_count": 16,
   "metadata": {},
   "outputs": [
    {
     "data": {
      "text/plain": [
       "array([0.04689655, 0.14173987, 0.25197844, ..., 0.7641264 , 0.50990268,\n",
       "       0.93593863])"
      ]
     },
     "execution_count": 16,
     "metadata": {},
     "output_type": "execute_result"
    }
   ],
   "source": [
    "params_in"
   ]
  },
  {
   "cell_type": "code",
   "execution_count": 18,
   "metadata": {},
   "outputs": [
    {
     "name": "stdout",
     "output_type": "stream",
     "text": [
      "[0.04689655 0.14173987 0.25197844 ... 0.7641264  0.50990268 0.93593863]\n",
      "Iteration 1, training_loss: 0.255, testing loss: 0.245\n",
      "[0.07620502 0.1124314  0.22266997 ... 0.79343486 0.48059421 0.9652471 ]\n",
      "\n",
      "Iteration 2, training_loss: 0.253, testing loss: 0.238\n",
      "[0.0908463  0.09779012 0.20802869 ... 0.80807614 0.49523549 0.97988837]\n",
      "\n",
      "Iteration 3, training_loss: 0.232, testing loss: 0.257\n",
      "[0.13700692 0.0516295  0.16186807 ... 0.76191552 0.44907487 0.93372775]\n",
      "\n",
      "Iteration 4, training_loss: 0.234, testing loss: 0.264\n",
      "[0.10404412 0.0845923  0.12890528 ... 0.72895273 0.41611208 0.96669055]\n",
      "\n",
      "Iteration 5, training_loss: 0.230, testing loss: 0.260\n",
      "[0.08940039 0.09923603 0.143549   ... 0.74359646 0.43075581 0.95204682]\n",
      "\n",
      "Iteration 6, training_loss: 0.228, testing loss: 0.257\n",
      "[0.09779394 0.10762957 0.15194255 ... 0.73520291 0.43914935 0.96044037]\n",
      "\n",
      "Iteration 7, training_loss: 0.222, testing loss: 0.236\n",
      "[0.05312735 0.15229616 0.19660914 ... 0.69053633 0.39448277 1.00510695]\n",
      "\n",
      "Iteration 8, training_loss: 0.222, testing loss: 0.239\n",
      "[0.06202028 0.16118909 0.18771621 ... 0.69942926 0.38558984 1.01399988]\n",
      "\n",
      "Iteration 9, training_loss: 0.222, testing loss: 0.236\n",
      "[0.03719324 0.13636205 0.16288917 ... 0.67460221 0.41041688 1.03882692]\n",
      "\n",
      "Iteration 10, training_loss: 0.220, testing loss: 0.229\n",
      "[0.02599842 0.12516722 0.17408399 ... 0.66340739 0.39922205 1.0276321 ]\n",
      "\n",
      "Iteration 20, training_loss: 0.212, testing loss: 0.227\n",
      "[0.02207768 0.16278266 0.16870757 ... 0.63273597 0.41481545 1.02898116]\n",
      "\n",
      "Iteration 30, training_loss: 0.198, testing loss: 0.223\n",
      "[0.04537836 0.18567398 0.24227675 ... 0.65636756 0.4239913  0.96329357]\n",
      "\n",
      "Iteration 40, training_loss: 0.189, testing loss: 0.210\n",
      "[0.05852277 0.19800321 0.26567688 ... 0.64605755 0.40406995 0.98716723]\n",
      "\n",
      "Iteration 50, training_loss: 0.186, testing loss: 0.208\n",
      "[0.04863466 0.21845553 0.26181129 ... 0.66963893 0.42579952 0.98879792]\n",
      "\n",
      "Iteration 60, training_loss: 0.182, testing loss: 0.202\n",
      "[0.04494974 0.22530546 0.26429742 ... 0.68501245 0.43694608 0.99220261]\n",
      "\n",
      "Iteration 70, training_loss: 0.176, testing loss: 0.195\n",
      "[0.0487004  0.22022036 0.26245452 ... 0.66245662 0.46786198 0.99103327]\n",
      "\n",
      "Iteration 80, training_loss: 0.176, testing loss: 0.196\n",
      "[0.03239304 0.23451222 0.26557279 ... 0.66064708 0.48549811 0.98568817]\n",
      "\n",
      "Iteration 90, training_loss: 0.172, testing loss: 0.194\n",
      "[0.02128702 0.22371939 0.25614558 ... 0.65777914 0.48376202 0.97901169]\n",
      "\n",
      "Iteration 100, training_loss: 0.169, testing loss: 0.195\n",
      "[0.02635218 0.24068542 0.25618964 ... 0.67302865 0.48508578 0.99075428]\n",
      "\n",
      "Iteration 110, training_loss: 0.167, testing loss: 0.197\n",
      "[0.01821329 0.23180143 0.26417248 ... 0.68183536 0.47629318 0.98453978]\n",
      "\n",
      "Iteration 120, training_loss: 0.164, testing loss: 0.194\n",
      "[0.01982758 0.22610741 0.26328179 ... 0.68415148 0.48973271 0.97185323]\n",
      "\n",
      "Iteration 130, training_loss: 0.163, testing loss: 0.188\n",
      "[0.01564227 0.22280058 0.27658165 ... 0.67848918 0.49252022 0.96733168]\n",
      "\n",
      "Iteration 140, training_loss: 0.161, testing loss: 0.183\n",
      "[0.00817259 0.21558581 0.28117983 ... 0.67416165 0.49820274 0.96784025]\n",
      "\n",
      "Iteration 150, training_loss: 0.158, testing loss: 0.182\n",
      "[0.00608151 0.21263179 0.29850578 ... 0.66500503 0.51637521 0.96709679]\n",
      "\n",
      "Iteration 160, training_loss: 0.155, testing loss: 0.183\n",
      "[-0.00919929  0.20500883  0.29610465 ...  0.65693397  0.51984886\n",
      "  0.96750808]\n",
      "\n",
      "Iteration 170, training_loss: 0.154, testing loss: 0.186\n",
      "[0.00594123 0.20712457 0.2826366  ... 0.65621054 0.5115099  0.96164549]\n",
      "\n",
      "Iteration 180, training_loss: 0.153, testing loss: 0.186\n",
      "[0.00713926 0.20259019 0.29408059 ... 0.65435023 0.52295389 0.95961274]\n",
      "\n",
      "Iteration 190, training_loss: 0.152, testing loss: 0.185\n",
      "[0.00519691 0.2113026  0.29532837 ... 0.65766407 0.51807244 0.9641873 ]\n",
      "\n",
      "Iteration 200, training_loss: 0.151, testing loss: 0.183\n",
      "[0.00110111 0.21635486 0.29763158 ... 0.64356114 0.53048022 0.96433189]\n",
      "\n",
      "Iteration 210, training_loss: 0.149, testing loss: 0.183\n",
      "[0.00584882 0.21914026 0.304178   ... 0.63538065 0.52711287 0.96349727]\n",
      "\n",
      "Iteration 220, training_loss: 0.148, testing loss: 0.181\n",
      "[0.01193662 0.21912701 0.30833952 ... 0.6358792  0.52589658 0.95971522]\n",
      "\n",
      "Iteration 230, training_loss: 0.147, testing loss: 0.181\n",
      "[0.01772602 0.21839816 0.30499928 ... 0.64137857 0.52616041 0.95014702]\n",
      "\n",
      "Iteration 240, training_loss: 0.146, testing loss: 0.181\n",
      "[0.01138044 0.22597406 0.30700175 ... 0.62861215 0.52968387 0.94999877]\n",
      "\n",
      "Iteration 250, training_loss: 0.144, testing loss: 0.184\n",
      "[0.00845226 0.23177692 0.31606889 ... 0.62955503 0.53906292 0.94721244]\n",
      "\n",
      "Iteration 260, training_loss: 0.143, testing loss: 0.183\n",
      "[0.01594208 0.23326023 0.31854369 ... 0.62459207 0.54545739 0.9441146 ]\n",
      "\n",
      "Iteration 270, training_loss: 0.142, testing loss: 0.182\n",
      "[0.01919328 0.23910635 0.3181029  ... 0.62197548 0.55031281 0.94545564]\n",
      "\n",
      "Iteration 280, training_loss: 0.141, testing loss: 0.182\n",
      "[0.01296328 0.24605259 0.32700438 ... 0.62260406 0.56008256 0.94966797]\n",
      "\n",
      "Iteration 290, training_loss: 0.140, testing loss: 0.185\n",
      "[0.02287279 0.23965265 0.3205979  ... 0.62209354 0.55183348 0.94326149]\n",
      "\n",
      "Iteration 300, training_loss: 0.139, testing loss: 0.183\n",
      "[0.029911   0.23351782 0.31729706 ... 0.63103521 0.54746992 0.9385471 ]\n",
      "\n",
      "Iteration 310, training_loss: 0.139, testing loss: 0.184\n",
      "[0.02293732 0.23995597 0.31768916 ... 0.63522617 0.54389511 0.94111535]\n",
      "\n",
      "Iteration 320, training_loss: 0.138, testing loss: 0.185\n",
      "[0.02516862 0.2383427  0.32524988 ... 0.63294496 0.54653985 0.94710319]\n",
      "\n",
      "Iteration 330, training_loss: 0.138, testing loss: 0.185\n",
      "[0.02510437 0.24129301 0.32859342 ... 0.62817991 0.54931151 0.95235109]\n",
      "\n",
      "Iteration 340, training_loss: 0.137, testing loss: 0.187\n",
      "[0.02926316 0.23923224 0.32704996 ... 0.62904472 0.54432045 0.94997772]\n",
      "\n",
      "Iteration 350, training_loss: 0.137, testing loss: 0.188\n",
      "[0.02732894 0.23955776 0.32681314 ... 0.62560576 0.54386849 0.95164938]\n",
      "\n",
      "Iteration 360, training_loss: 0.137, testing loss: 0.187\n",
      "[0.02729326 0.24092846 0.32719358 ... 0.62748352 0.54542422 0.95463141]\n",
      "\n",
      "Iteration 370, training_loss: 0.137, testing loss: 0.190\n",
      "[0.02949286 0.23511571 0.33191911 ... 0.62215116 0.5460685  0.9505696 ]\n",
      "\n",
      "Iteration 380, training_loss: 0.136, testing loss: 0.190\n",
      "[0.0302302  0.23570518 0.32989192 ... 0.62518358 0.54532216 0.9516515 ]\n",
      "\n",
      "Iteration 390, training_loss: 0.136, testing loss: 0.189\n",
      "[0.03018549 0.23420206 0.32583322 ... 0.62503087 0.53924975 0.95244636]\n",
      "\n",
      "Iteration 400, training_loss: 0.136, testing loss: 0.189\n",
      "[0.03238475 0.23733113 0.32367425 ... 0.62325221 0.54156552 0.95464562]\n",
      "\n",
      "Does Alice love Bob?\n",
      "No\n",
      "time taken 954.2960660457611\n"
     ]
    }
   ],
   "source": [
    "params=params_in.copy()\n",
    "print(params)\n",
    "\n",
    "training_losses, testing_losses = [], []\n",
    "start = time()\n",
    "def callback(params):\n",
    "    training_losses.append(training_loss(params))\n",
    "    testing_losses.append(testing_loss(params))\n",
    "    if not len(training_losses) % (n_iter // 10) or len(training_losses) < 10:\n",
    "        print(\"Iteration {}, training_loss: {:.3f}, testing loss: {:.3f}\".format(\n",
    "            len(training_losses), training_losses[-1], testing_losses[-1]))\n",
    "        print(params)\n",
    "        print()\n",
    "\n",
    "result = minimizeSPSA(training_loss, params, paired=False, callback=callback, niter=400, a = 0.5, alpha=alpha, c= 0.1, gamma=gamma)\n",
    "\n",
    "print(\"Does Alice love Bob?\")\n",
    "print(\"Yes\" if evaluate(result.x, 'Alice loves Bob') > .5 else \"No\")\n",
    "print(\"time taken\", time()-start)"
   ]
  },
  {
   "cell_type": "code",
   "execution_count": 19,
   "metadata": {},
   "outputs": [
    {
     "name": "stdout",
     "output_type": "stream",
     "text": [
      "Does Fred love Eve?\n",
      "Yes\n",
      "time taken 954.3084309101105\n"
     ]
    }
   ],
   "source": [
    "print(\"Does Fred love Eve?\")\n",
    "print(\"Yes\" if evaluate(result.x, 'Fred loves Eve') > .5 else \"No\")\n",
    "print(\"time taken\", time()-start)"
   ]
  },
  {
   "cell_type": "code",
   "execution_count": 20,
   "metadata": {},
   "outputs": [
    {
     "data": {
      "text/plain": [
       "[<matplotlib.lines.Line2D at 0x16d9a64e0>]"
      ]
     },
     "execution_count": 20,
     "metadata": {},
     "output_type": "execute_result"
    },
    {
     "data": {
      "image/png": "[encoded data removed]",
      "text/plain": [
       "<Figure size 432x288 with 1 Axes>"
      ]
     },
     "metadata": {
      "needs_background": "light"
     },
     "output_type": "display_data"
    }
   ],
   "source": [
    "plt.plot(training_losses)"
   ]
  },
  {
   "cell_type": "code",
   "execution_count": 21,
   "metadata": {},
   "outputs": [
    {
     "data": {
      "text/plain": [
       "[<matplotlib.lines.Line2D at 0x16da5b710>]"
      ]
     },
     "execution_count": 21,
     "metadata": {},
     "output_type": "execute_result"
    },
    {
     "data": {
      "image/png": "[encoded data removed]",
      "text/plain": [
       "<Figure size 432x288 with 1 Axes>"
      ]
     },
     "metadata": {
      "needs_background": "light"
     },
     "output_type": "display_data"
    }
   ],
   "source": [
    "plt.plot(testing_losses)"
   ]
  },
  {
   "cell_type": "code",
   "execution_count": 20,
   "metadata": {},
   "outputs": [],
   "source": [
    "testing_loss_dist = lambda params: loss(test, params, 'dist')\n",
    "training_loss_dist = lambda params: loss(train, params, 'dist')\n",
    "\n",
    "params=params_in.copy()\n",
    "\n",
    "training_losses_dist, testing_losses_dist = [], []\n",
    "start = time()\n",
    "def callback_dist(params):\n",
    "    training_losses_dist.append(training_loss_dist(params))\n",
    "    testing_losses_dist.append(testing_loss_dist(params))\n",
    "    if not len(training_losses_dist) % (n_iter // 10) or len(training_losses_dist) < 10:\n",
    "        print(\"Iteration {}, training_loss: {:.3f}, testing loss: {:.3f}\".format(\n",
    "            len(training_losses_dist), training_losses_dist[-1], testing_losses_dist[-1]))\n",
    "        print(params)\n",
    "        print()\n",
    "\n",
    "#result_dist = minimizeSPSA(training_loss_dist, params, paired=False, callback=callback_dist, niter=400, a = 0.5, alpha=alpha, c= 0.1, gamma=gamma)\n",
    "\n",
    "#print(\"Does Alice love Bob?\")\n",
    "#print(\"Yes\" if evaluate_dist(result_dist.x, 'Alice loves Bob') > .5 else \"No\")\n",
    "#print(\"time taken\", time()-start)"
   ]
  },
  {
   "cell_type": "code",
   "execution_count": 24,
   "metadata": {},
   "outputs": [
    {
     "name": "stdout",
     "output_type": "stream",
     "text": [
      "Does Fred love Eve?\n",
      "Yes\n",
      "time taken 1228.901316165924\n"
     ]
    }
   ],
   "source": [
    "print(\"Does Fred love Eve?\")\n",
    "print(\"Yes\" if evaluate(result_dist.x, 'Fred loves Eve') > .5 else \"No\")\n",
    "print(\"time taken\", time()-start)"
   ]
  },
  {
   "cell_type": "code",
   "execution_count": 30,
   "metadata": {},
   "outputs": [
    {
     "data": {
      "text/plain": [
       "[<matplotlib.lines.Line2D at 0x16d872c50>]"
      ]
     },
     "execution_count": 30,
     "metadata": {},
     "output_type": "execute_result"
    },
    {
     "data": {
      "image/png": "[encoded data removed]",
      "text/plain": [
       "<Figure size 432x288 with 1 Axes>"
      ]
     },
     "metadata": {
      "needs_background": "light"
     },
     "output_type": "display_data"
    }
   ],
   "source": [
    "plt.plot(training_losses_dist)\n",
    "plt.plot(training_losses_cl)\n",
    "plt.plot(training_losses)"
   ]
  },
  {
   "cell_type": "code",
   "execution_count": 31,
   "metadata": {},
   "outputs": [
    {
     "data": {
      "text/plain": [
       "[<matplotlib.lines.Line2D at 0x16d850668>]"
      ]
     },
     "execution_count": 31,
     "metadata": {},
     "output_type": "execute_result"
    },
    {
     "data": {
      "image/png": "[encoded data removed]",
      "text/plain": [
       "<Figure size 432x288 with 1 Axes>"
      ]
     },
     "metadata": {
      "needs_background": "light"
     },
     "output_type": "display_data"
    }
   ],
   "source": [
    "plt.plot(testing_losses_dist)\n",
    "plt.plot(testing_losses_cl)\n",
    "plt.plot(testing_losses)"
   ]
  },
  {
   "cell_type": "code",
   "execution_count": 19,
   "metadata": {},
   "outputs": [
    {
     "name": "stdout",
     "output_type": "stream",
     "text": [
      "[0.04689655 0.14173987 0.25197844 ... 0.7641264  0.50990268 0.93593863]\n"
     ]
    }
   ],
   "source": [
    "testing_loss_cl = lambda params: loss(test, params, 'cl')\n",
    "training_loss_cl = lambda params: loss(train, params, 'cl')\n",
    "\n",
    "params=params_in.copy()\n",
    "print(params)\n",
    "training_losses_cl, testing_losses_cl = [], []\n",
    "start = time()\n",
    "def callback_cl(params):\n",
    "    training_losses_cl.append(training_loss_cl(params))\n",
    "    testing_losses_cl.append(testing_loss_cl(params))\n",
    "    if not len(training_losses_cl) % (n_iter // 10) or len(training_losses_cl) < 10:\n",
    "        print(\"Iteration {}, training_loss: {:.3f}, testing loss: {:.3f}\".format(\n",
    "            len(training_losses_cl), training_losses_cl[-1], testing_losses_cl[-1]))\n",
    "        print(params)\n",
    "        print()\n",
    "\n",
    "#result_cl = minimizeSPSA(training_loss_cl, params, paired=False, callback=callback_cl, niter=400, a = 0.5, alpha=alpha, c= 0.1, gamma=gamma)\n",
    "\n",
    "#print(\"Does Alice love Bob?\")\n",
    "#print(\"Yes\" if evaluate_CL(result_cl.x, 'Alice loves Bob') > .5 else \"No\")\n",
    "#print(\"time taken\", time()-start)"
   ]
  },
  {
   "cell_type": "code",
   "execution_count": 28,
   "metadata": {},
   "outputs": [
    {
     "data": {
      "text/plain": [
       "[<matplotlib.lines.Line2D at 0x16dcc1438>]"
      ]
     },
     "execution_count": 28,
     "metadata": {},
     "output_type": "execute_result"
    },
    {
     "data": {
      "image/png": "[encoded data removed]",
      "text/plain": [
       "<Figure size 432x288 with 1 Axes>"
      ]
     },
     "metadata": {
      "needs_background": "light"
     },
     "output_type": "display_data"
    }
   ],
   "source": [
    "plt.plot(training_losses_cl)"
   ]
  },
  {
   "cell_type": "code",
   "execution_count": 29,
   "metadata": {},
   "outputs": [
    {
     "data": {
      "text/plain": [
       "[<matplotlib.lines.Line2D at 0x16db3eef0>]"
      ]
     },
     "execution_count": 29,
     "metadata": {},
     "output_type": "execute_result"
    },
    {
     "data": {
      "image/png": "[encoded data removed]",
      "text/plain": [
       "<Figure size 432x288 with 1 Axes>"
      ]
     },
     "metadata": {
      "needs_background": "light"
     },
     "output_type": "display_data"
    }
   ],
   "source": [
    "plt.plot(testing_losses_cl)"
   ]
  },
  {
   "cell_type": "code",
   "execution_count": 32,
   "metadata": {},
   "outputs": [
    {
     "name": "stdout",
     "output_type": "stream",
     "text": [
      "              precision    recall  f1-score   support\n",
      "\n",
      "           0       0.92      0.96      0.94        48\n",
      "           1       0.91      0.83      0.87        24\n",
      "\n",
      "    accuracy                           0.92        72\n",
      "   macro avg       0.91      0.90      0.90        72\n",
      "weighted avg       0.92      0.92      0.92        72\n",
      "\n",
      "              precision    recall  f1-score   support\n",
      "\n",
      "           0       0.79      0.68      0.73        22\n",
      "           1       0.59      0.71      0.65        14\n",
      "\n",
      "    accuracy                           0.69        36\n",
      "   macro avg       0.69      0.70      0.69        36\n",
      "weighted avg       0.71      0.69      0.70        36\n",
      "\n"
     ]
    }
   ],
   "source": [
    "#bs\n",
    "from sklearn.metrics import classification_report\n",
    "\n",
    "y_train_true = [dataset[sentence] for sentence in train]\n",
    "y_train_pred = [evaluate(result.x, sentence) > .5 for sentence in train]\n",
    "\n",
    "print(classification_report(y_train_true, y_train_pred))\n",
    "\n",
    "y_test_true = [dataset[sentence] for sentence in test]\n",
    "y_test_pred = [evaluate(result.x, sentence) > .5 for sentence in test]\n",
    "\n",
    "print(classification_report(y_test_true, y_test_pred))"
   ]
  },
  {
   "cell_type": "code",
   "execution_count": 37,
   "metadata": {},
   "outputs": [
    {
     "name": "stdout",
     "output_type": "stream",
     "text": [
      "              precision    recall  f1-score   support\n",
      "\n",
      "           0       0.90      0.98      0.94        48\n",
      "           1       0.95      0.79      0.86        24\n",
      "\n",
      "    accuracy                           0.92        72\n",
      "   macro avg       0.93      0.89      0.90        72\n",
      "weighted avg       0.92      0.92      0.91        72\n",
      "\n",
      "              precision    recall  f1-score   support\n",
      "\n",
      "           0       0.83      0.86      0.84        22\n",
      "           1       0.77      0.71      0.74        14\n",
      "\n",
      "    accuracy                           0.81        36\n",
      "   macro avg       0.80      0.79      0.79        36\n",
      "weighted avg       0.80      0.81      0.80        36\n",
      "\n"
     ]
    }
   ],
   "source": [
    "#dist\n",
    "y_train_true = [dataset[sentence] for sentence in train]\n",
    "y_train_pred = [evaluate_dist(result_dist.x, sentence) > .5 for sentence in train]\n",
    "\n",
    "print(classification_report(y_train_true, y_train_pred))\n",
    "\n",
    "y_test_true = [dataset[sentence] for sentence in test]\n",
    "y_test_pred = [evaluate_dist(result_dist.x, sentence) > .5 for sentence in test]\n",
    "\n",
    "print(classification_report(y_test_true, y_test_pred))"
   ]
  },
  {
   "cell_type": "code",
   "execution_count": 38,
   "metadata": {},
   "outputs": [
    {
     "name": "stdout",
     "output_type": "stream",
     "text": [
      "              precision    recall  f1-score   support\n",
      "\n",
      "           0       0.79      0.92      0.85        48\n",
      "           1       0.75      0.50      0.60        24\n",
      "\n",
      "    accuracy                           0.78        72\n",
      "   macro avg       0.77      0.71      0.72        72\n",
      "weighted avg       0.77      0.78      0.76        72\n",
      "\n",
      "              precision    recall  f1-score   support\n",
      "\n",
      "           0       0.73      0.73      0.73        22\n",
      "           1       0.57      0.57      0.57        14\n",
      "\n",
      "    accuracy                           0.67        36\n",
      "   macro avg       0.65      0.65      0.65        36\n",
      "weighted avg       0.67      0.67      0.67        36\n",
      "\n"
     ]
    }
   ],
   "source": [
    "#cl\n",
    "from sklearn.metrics import classification_report\n",
    "y_train_true = [dataset[sentence] for sentence in train]\n",
    "y_train_pred = [evaluate_CL(result_cl.x, sentence) > .5 for sentence in train]\n",
    "\n",
    "print(classification_report(y_train_true, y_train_pred))\n",
    "\n",
    "y_test_true = [dataset[sentence] for sentence in test]\n",
    "y_test_pred = [evaluate_CL(result_cl.x, sentence) > .5 for sentence in test]\n",
    "\n",
    "print(classification_report(y_test_true, y_test_pred))"
   ]
  },
  {
   "cell_type": "markdown",
   "metadata": {},
   "source": [
    "## Average"
   ]
  },
  {
   "cell_type": "code",
   "execution_count": 22,
   "metadata": {},
   "outputs": [
    {
     "data": {
      "text/plain": [
       "array([0.04689655, 0.14173987, 0.25197844, ..., 0.7641264 , 0.50990268,\n",
       "       0.93593863])"
      ]
     },
     "execution_count": 22,
     "metadata": {},
     "output_type": "execute_result"
    }
   ],
   "source": [
    "params_in"
   ]
  },
  {
   "cell_type": "code",
   "execution_count": 23,
   "metadata": {},
   "outputs": [],
   "source": [
    "from sklearn.metrics import classification_report"
   ]
  },
  {
   "cell_type": "code",
   "execution_count": 24,
   "metadata": {},
   "outputs": [
    {
     "name": "stdout",
     "output_type": "stream",
     "text": [
      "giro # 1 di 5\n",
      "[0.04689655 0.14173987 0.25197844 ... 0.7641264  0.50990268 0.93593863]\n",
      "bs case train                precision    recall  f1-score   support\n",
      "\n",
      "           0       0.82      0.98      0.90        48\n",
      "           1       0.93      0.58      0.72        24\n",
      "\n",
      "    accuracy                           0.85        72\n",
      "   macro avg       0.88      0.78      0.81        72\n",
      "weighted avg       0.86      0.85      0.84        72\n",
      "\n",
      "bs case test                precision    recall  f1-score   support\n",
      "\n",
      "           0       0.82      0.82      0.82        22\n",
      "           1       0.71      0.71      0.71        14\n",
      "\n",
      "    accuracy                           0.78        36\n",
      "   macro avg       0.77      0.77      0.77        36\n",
      "weighted avg       0.78      0.78      0.78        36\n",
      "\n",
      "cl case train                precision    recall  f1-score   support\n",
      "\n",
      "           0       0.79      0.96      0.87        48\n",
      "           1       0.86      0.50      0.63        24\n",
      "\n",
      "    accuracy                           0.81        72\n",
      "   macro avg       0.83      0.73      0.75        72\n",
      "weighted avg       0.81      0.81      0.79        72\n",
      "\n",
      "cl case test                precision    recall  f1-score   support\n",
      "\n",
      "           0       0.69      0.82      0.75        22\n",
      "           1       0.60      0.43      0.50        14\n",
      "\n",
      "    accuracy                           0.67        36\n",
      "   macro avg       0.65      0.62      0.62        36\n",
      "weighted avg       0.66      0.67      0.65        36\n",
      "\n",
      "dist case train                precision    recall  f1-score   support\n",
      "\n",
      "           0       0.93      0.90      0.91        48\n",
      "           1       0.81      0.88      0.84        24\n",
      "\n",
      "    accuracy                           0.89        72\n",
      "   macro avg       0.87      0.89      0.88        72\n",
      "weighted avg       0.89      0.89      0.89        72\n",
      "\n",
      "dist case test                precision    recall  f1-score   support\n",
      "\n",
      "           0       0.77      0.77      0.77        22\n",
      "           1       0.64      0.64      0.64        14\n",
      "\n",
      "    accuracy                           0.72        36\n",
      "   macro avg       0.71      0.71      0.71        36\n",
      "weighted avg       0.72      0.72      0.72        36\n",
      "\n",
      "giro # 2 di 5\n",
      "[0.19837707 0.19193911 0.40422224 ... 0.61836254 0.47890782 0.78252238]\n",
      "bs case train                precision    recall  f1-score   support\n",
      "\n",
      "           0       0.84      0.98      0.90        96\n",
      "           1       0.94      0.62      0.75        48\n",
      "\n",
      "    accuracy                           0.86       144\n",
      "   macro avg       0.89      0.80      0.83       144\n",
      "weighted avg       0.87      0.86      0.85       144\n",
      "\n",
      "bs case test                precision    recall  f1-score   support\n",
      "\n",
      "           0       0.68      0.77      0.72        44\n",
      "           1       0.55      0.43      0.48        28\n",
      "\n",
      "    accuracy                           0.64        72\n",
      "   macro avg       0.61      0.60      0.60        72\n",
      "weighted avg       0.63      0.64      0.63        72\n",
      "\n",
      "cl case train                precision    recall  f1-score   support\n",
      "\n",
      "           0       0.77      0.77      0.77        96\n",
      "           1       0.54      0.54      0.54        48\n",
      "\n",
      "    accuracy                           0.69       144\n",
      "   macro avg       0.66      0.66      0.66       144\n",
      "weighted avg       0.69      0.69      0.69       144\n",
      "\n",
      "cl case test                precision    recall  f1-score   support\n",
      "\n",
      "           0       0.72      0.59      0.65        44\n",
      "           1       0.50      0.64      0.56        28\n",
      "\n",
      "    accuracy                           0.61        72\n",
      "   macro avg       0.61      0.62      0.61        72\n",
      "weighted avg       0.64      0.61      0.62        72\n",
      "\n",
      "dist case train                precision    recall  f1-score   support\n",
      "\n",
      "           0       0.92      0.93      0.92        96\n",
      "           1       0.85      0.83      0.84        48\n",
      "\n",
      "    accuracy                           0.90       144\n",
      "   macro avg       0.88      0.88      0.88       144\n",
      "weighted avg       0.90      0.90      0.90       144\n",
      "\n",
      "dist case test                precision    recall  f1-score   support\n",
      "\n",
      "           0       0.76      0.80      0.78        44\n",
      "           1       0.65      0.61      0.63        28\n",
      "\n",
      "    accuracy                           0.72        72\n",
      "   macro avg       0.71      0.70      0.70        72\n",
      "weighted avg       0.72      0.72      0.72        72\n",
      "\n",
      "giro # 3 di 5\n",
      "[0.76766856 0.62943657 0.84718735 ... 0.50323809 0.71121267 0.953592  ]\n",
      "bs case train                precision    recall  f1-score   support\n",
      "\n",
      "           0       0.85      0.97      0.91       144\n",
      "           1       0.91      0.67      0.77        72\n",
      "\n",
      "    accuracy                           0.87       216\n",
      "   macro avg       0.88      0.82      0.84       216\n",
      "weighted avg       0.87      0.87      0.86       216\n",
      "\n",
      "bs case test                precision    recall  f1-score   support\n",
      "\n",
      "           0       0.73      0.79      0.76        66\n",
      "           1       0.62      0.55      0.58        42\n",
      "\n",
      "    accuracy                           0.69       108\n",
      "   macro avg       0.68      0.67      0.67       108\n",
      "weighted avg       0.69      0.69      0.69       108\n",
      "\n",
      "cl case train                precision    recall  f1-score   support\n",
      "\n",
      "           0       0.73      0.85      0.78       144\n",
      "           1       0.54      0.36      0.43        72\n",
      "\n",
      "    accuracy                           0.69       216\n",
      "   macro avg       0.63      0.60      0.61       216\n",
      "weighted avg       0.66      0.69      0.67       216\n",
      "\n",
      "cl case test                precision    recall  f1-score   support\n",
      "\n",
      "           0       0.67      0.73      0.70        66\n",
      "           1       0.50      0.43      0.46        42\n",
      "\n",
      "    accuracy                           0.61       108\n",
      "   macro avg       0.58      0.58      0.58       108\n",
      "weighted avg       0.60      0.61      0.60       108\n",
      "\n",
      "dist case train                precision    recall  f1-score   support\n",
      "\n",
      "           0       0.91      0.93      0.92       144\n",
      "           1       0.86      0.82      0.84        72\n",
      "\n",
      "    accuracy                           0.89       216\n",
      "   macro avg       0.88      0.88      0.88       216\n",
      "weighted avg       0.89      0.89      0.89       216\n",
      "\n",
      "dist case test                precision    recall  f1-score   support\n",
      "\n",
      "           0       0.68      0.76      0.72        66\n",
      "           1       0.54      0.45      0.49        42\n",
      "\n",
      "    accuracy                           0.64       108\n",
      "   macro avg       0.61      0.60      0.61       108\n",
      "weighted avg       0.63      0.64      0.63       108\n",
      "\n",
      "giro # 4 di 5\n",
      "[0.49000815 0.12907005 0.44754146 ... 0.87167727 0.27123313 0.15194135]\n",
      "bs case train                precision    recall  f1-score   support\n",
      "\n",
      "           0       0.86      0.96      0.91       192\n",
      "           1       0.89      0.70      0.78        96\n",
      "\n",
      "    accuracy                           0.87       288\n",
      "   macro avg       0.88      0.83      0.85       288\n",
      "weighted avg       0.87      0.87      0.87       288\n",
      "\n",
      "bs case test                precision    recall  f1-score   support\n",
      "\n",
      "           0       0.69      0.75      0.72        88\n",
      "           1       0.54      0.46      0.50        56\n",
      "\n",
      "    accuracy                           0.64       144\n",
      "   macro avg       0.61      0.61      0.61       144\n",
      "weighted avg       0.63      0.64      0.63       144\n",
      "\n"
     ]
    },
    {
     "ename": "KeyboardInterrupt",
     "evalue": "",
     "output_type": "error",
     "traceback": [
      "\u001b[0;31m---------------------------------------------------------------------------\u001b[0m",
      "\u001b[0;31mKeyboardInterrupt\u001b[0m                         Traceback (most recent call last)",
      "\u001b[0;32m<ipython-input-24-afcc7c50fbf3>\u001b[0m in \u001b[0;36m<module>\u001b[0;34m\u001b[0m\n\u001b[1;32m     36\u001b[0m     \u001b[0mprint\u001b[0m\u001b[0;34m(\u001b[0m\u001b[0;34m\"bs case test \"\u001b[0m\u001b[0;34m,\u001b[0m \u001b[0mclassification_report\u001b[0m\u001b[0;34m(\u001b[0m\u001b[0my_test_true\u001b[0m\u001b[0;34m,\u001b[0m \u001b[0my_test_pred\u001b[0m\u001b[0;34m)\u001b[0m\u001b[0;34m)\u001b[0m\u001b[0;34m\u001b[0m\u001b[0;34m\u001b[0m\u001b[0m\n\u001b[1;32m     37\u001b[0m     \u001b[0mparams\u001b[0m\u001b[0;34m=\u001b[0m \u001b[0mparams_in\u001b[0m\u001b[0;34m.\u001b[0m\u001b[0mcopy\u001b[0m\u001b[0;34m(\u001b[0m\u001b[0;34m)\u001b[0m\u001b[0;34m\u001b[0m\u001b[0;34m\u001b[0m\u001b[0m\n\u001b[0;32m---> 38\u001b[0;31m     \u001b[0mresult_cl\u001b[0m \u001b[0;34m=\u001b[0m \u001b[0mminimizeSPSA\u001b[0m\u001b[0;34m(\u001b[0m\u001b[0mtraining_loss_cl\u001b[0m\u001b[0;34m,\u001b[0m \u001b[0mparams\u001b[0m\u001b[0;34m,\u001b[0m \u001b[0mpaired\u001b[0m\u001b[0;34m=\u001b[0m\u001b[0;32mFalse\u001b[0m\u001b[0;34m,\u001b[0m \u001b[0mcallback\u001b[0m\u001b[0;34m=\u001b[0m\u001b[0mcallback_cl\u001b[0m\u001b[0;34m,\u001b[0m \u001b[0mniter\u001b[0m\u001b[0;34m=\u001b[0m\u001b[0;36m400\u001b[0m\u001b[0;34m,\u001b[0m \u001b[0ma\u001b[0m \u001b[0;34m=\u001b[0m \u001b[0;36m0.5\u001b[0m\u001b[0;34m,\u001b[0m \u001b[0malpha\u001b[0m\u001b[0;34m=\u001b[0m\u001b[0malpha\u001b[0m\u001b[0;34m,\u001b[0m \u001b[0mc\u001b[0m\u001b[0;34m=\u001b[0m \u001b[0;36m0.1\u001b[0m\u001b[0;34m,\u001b[0m \u001b[0mgamma\u001b[0m\u001b[0;34m=\u001b[0m\u001b[0mgamma\u001b[0m\u001b[0;34m)\u001b[0m\u001b[0;34m\u001b[0m\u001b[0;34m\u001b[0m\u001b[0m\n\u001b[0m\u001b[1;32m     39\u001b[0m     \u001b[0my_train_pred_cl\u001b[0m \u001b[0;34m=\u001b[0m \u001b[0my_train_pred_cl\u001b[0m\u001b[0;34m+\u001b[0m\u001b[0;34m[\u001b[0m\u001b[0mevaluate_CL\u001b[0m\u001b[0;34m(\u001b[0m\u001b[0mresult_cl\u001b[0m\u001b[0;34m.\u001b[0m\u001b[0mx\u001b[0m\u001b[0;34m,\u001b[0m \u001b[0msentence\u001b[0m\u001b[0;34m)\u001b[0m \u001b[0;34m>\u001b[0m \u001b[0;36m.5\u001b[0m \u001b[0;32mfor\u001b[0m \u001b[0msentence\u001b[0m \u001b[0;32min\u001b[0m \u001b[0mtrain\u001b[0m\u001b[0;34m]\u001b[0m\u001b[0;34m\u001b[0m\u001b[0;34m\u001b[0m\u001b[0m\n\u001b[1;32m     40\u001b[0m     \u001b[0my_test_pred_cl\u001b[0m \u001b[0;34m=\u001b[0m \u001b[0my_test_pred_cl\u001b[0m\u001b[0;34m+\u001b[0m\u001b[0;34m[\u001b[0m\u001b[0mevaluate_CL\u001b[0m\u001b[0;34m(\u001b[0m\u001b[0mresult_cl\u001b[0m\u001b[0;34m.\u001b[0m\u001b[0mx\u001b[0m\u001b[0;34m,\u001b[0m \u001b[0msentence\u001b[0m\u001b[0;34m)\u001b[0m \u001b[0;34m>\u001b[0m \u001b[0;36m.5\u001b[0m \u001b[0;32mfor\u001b[0m \u001b[0msentence\u001b[0m \u001b[0;32min\u001b[0m \u001b[0mtest\u001b[0m\u001b[0;34m]\u001b[0m\u001b[0;34m\u001b[0m\u001b[0;34m\u001b[0m\u001b[0m\n",
      "\u001b[0;32m~/Downloads/discopy-optics/docs/notebooks/noisyopt.py\u001b[0m in \u001b[0;36mminimizeSPSA\u001b[0;34m(func, x0, args, bounds, niter, paired, a, alpha, c, gamma, disp, callback)\u001b[0m\n\u001b[1;32m    337\u001b[0m             \u001b[0mfkwargs\u001b[0m\u001b[0;34m[\u001b[0m\u001b[0;34m'seed'\u001b[0m\u001b[0;34m]\u001b[0m \u001b[0;34m=\u001b[0m \u001b[0mnp\u001b[0m\u001b[0;34m.\u001b[0m\u001b[0mrandom\u001b[0m\u001b[0;34m.\u001b[0m\u001b[0mrandint\u001b[0m\u001b[0;34m(\u001b[0m\u001b[0;36m0\u001b[0m\u001b[0;34m,\u001b[0m \u001b[0mnp\u001b[0m\u001b[0;34m.\u001b[0m\u001b[0miinfo\u001b[0m\u001b[0;34m(\u001b[0m\u001b[0mnp\u001b[0m\u001b[0;34m.\u001b[0m\u001b[0mint32\u001b[0m\u001b[0;34m)\u001b[0m\u001b[0;34m.\u001b[0m\u001b[0mmax\u001b[0m\u001b[0;34m)\u001b[0m\u001b[0;34m\u001b[0m\u001b[0;34m\u001b[0m\u001b[0m\n\u001b[1;32m    338\u001b[0m         \u001b[0;32mif\u001b[0m \u001b[0mbounds\u001b[0m \u001b[0;32mis\u001b[0m \u001b[0;32mNone\u001b[0m\u001b[0;34m:\u001b[0m\u001b[0;34m\u001b[0m\u001b[0;34m\u001b[0m\u001b[0m\n\u001b[0;32m--> 339\u001b[0;31m             \u001b[0mgrad\u001b[0m \u001b[0;34m=\u001b[0m \u001b[0;34m(\u001b[0m\u001b[0mfuncf\u001b[0m\u001b[0;34m(\u001b[0m\u001b[0mx\u001b[0m \u001b[0;34m+\u001b[0m \u001b[0mck\u001b[0m\u001b[0;34m*\u001b[0m\u001b[0mDeltak\u001b[0m\u001b[0;34m,\u001b[0m \u001b[0;34m**\u001b[0m\u001b[0mfkwargs\u001b[0m\u001b[0;34m)\u001b[0m \u001b[0;34m-\u001b[0m \u001b[0mfuncf\u001b[0m\u001b[0;34m(\u001b[0m\u001b[0mx\u001b[0m \u001b[0;34m-\u001b[0m \u001b[0mck\u001b[0m\u001b[0;34m*\u001b[0m\u001b[0mDeltak\u001b[0m\u001b[0;34m,\u001b[0m \u001b[0;34m**\u001b[0m\u001b[0mfkwargs\u001b[0m\u001b[0;34m)\u001b[0m\u001b[0;34m)\u001b[0m \u001b[0;34m/\u001b[0m \u001b[0;34m(\u001b[0m\u001b[0;36m2\u001b[0m\u001b[0;34m*\u001b[0m\u001b[0mck\u001b[0m\u001b[0;34m*\u001b[0m\u001b[0mDeltak\u001b[0m\u001b[0;34m)\u001b[0m\u001b[0;34m\u001b[0m\u001b[0;34m\u001b[0m\u001b[0m\n\u001b[0m\u001b[1;32m    340\u001b[0m             \u001b[0mx\u001b[0m \u001b[0;34m-=\u001b[0m \u001b[0mak\u001b[0m\u001b[0;34m*\u001b[0m\u001b[0mgrad\u001b[0m\u001b[0;34m\u001b[0m\u001b[0;34m\u001b[0m\u001b[0m\n\u001b[1;32m    341\u001b[0m         \u001b[0;32melse\u001b[0m\u001b[0;34m:\u001b[0m\u001b[0;34m\u001b[0m\u001b[0;34m\u001b[0m\u001b[0m\n",
      "\u001b[0;32m~/Downloads/discopy-optics/docs/notebooks/noisyopt.py\u001b[0m in \u001b[0;36mfuncf\u001b[0;34m(x, **kwargs)\u001b[0m\n\u001b[1;32m    323\u001b[0m         \u001b[0;31m# freeze function arguments\u001b[0m\u001b[0;34m\u001b[0m\u001b[0;34m\u001b[0m\u001b[0;34m\u001b[0m\u001b[0m\n\u001b[1;32m    324\u001b[0m         \u001b[0;32mdef\u001b[0m \u001b[0mfuncf\u001b[0m\u001b[0;34m(\u001b[0m\u001b[0mx\u001b[0m\u001b[0;34m,\u001b[0m \u001b[0;34m**\u001b[0m\u001b[0mkwargs\u001b[0m\u001b[0;34m)\u001b[0m\u001b[0;34m:\u001b[0m\u001b[0;34m\u001b[0m\u001b[0;34m\u001b[0m\u001b[0m\n\u001b[0;32m--> 325\u001b[0;31m             \u001b[0;32mreturn\u001b[0m \u001b[0mfunc\u001b[0m\u001b[0;34m(\u001b[0m\u001b[0mx\u001b[0m\u001b[0;34m,\u001b[0m \u001b[0;34m*\u001b[0m\u001b[0margs\u001b[0m\u001b[0;34m,\u001b[0m \u001b[0;34m**\u001b[0m\u001b[0mkwargs\u001b[0m\u001b[0;34m)\u001b[0m\u001b[0;34m\u001b[0m\u001b[0;34m\u001b[0m\u001b[0m\n\u001b[0m\u001b[1;32m    326\u001b[0m \u001b[0;34m\u001b[0m\u001b[0m\n\u001b[1;32m    327\u001b[0m     \u001b[0mN\u001b[0m \u001b[0;34m=\u001b[0m \u001b[0mlen\u001b[0m\u001b[0;34m(\u001b[0m\u001b[0mx0\u001b[0m\u001b[0;34m)\u001b[0m\u001b[0;34m\u001b[0m\u001b[0;34m\u001b[0m\u001b[0m\n",
      "\u001b[0;32m<ipython-input-19-a447e1194e65>\u001b[0m in \u001b[0;36m<lambda>\u001b[0;34m(params)\u001b[0m\n\u001b[1;32m      1\u001b[0m \u001b[0mtesting_loss_cl\u001b[0m \u001b[0;34m=\u001b[0m \u001b[0;32mlambda\u001b[0m \u001b[0mparams\u001b[0m\u001b[0;34m:\u001b[0m \u001b[0mloss\u001b[0m\u001b[0;34m(\u001b[0m\u001b[0mtest\u001b[0m\u001b[0;34m,\u001b[0m \u001b[0mparams\u001b[0m\u001b[0;34m,\u001b[0m \u001b[0;34m'cl'\u001b[0m\u001b[0;34m)\u001b[0m\u001b[0;34m\u001b[0m\u001b[0;34m\u001b[0m\u001b[0m\n\u001b[0;32m----> 2\u001b[0;31m \u001b[0mtraining_loss_cl\u001b[0m \u001b[0;34m=\u001b[0m \u001b[0;32mlambda\u001b[0m \u001b[0mparams\u001b[0m\u001b[0;34m:\u001b[0m \u001b[0mloss\u001b[0m\u001b[0;34m(\u001b[0m\u001b[0mtrain\u001b[0m\u001b[0;34m,\u001b[0m \u001b[0mparams\u001b[0m\u001b[0;34m,\u001b[0m \u001b[0;34m'cl'\u001b[0m\u001b[0;34m)\u001b[0m\u001b[0;34m\u001b[0m\u001b[0;34m\u001b[0m\u001b[0m\n\u001b[0m\u001b[1;32m      3\u001b[0m \u001b[0;34m\u001b[0m\u001b[0m\n\u001b[1;32m      4\u001b[0m \u001b[0mparams\u001b[0m\u001b[0;34m=\u001b[0m\u001b[0mparams_in\u001b[0m\u001b[0;34m.\u001b[0m\u001b[0mcopy\u001b[0m\u001b[0;34m(\u001b[0m\u001b[0;34m)\u001b[0m\u001b[0;34m\u001b[0m\u001b[0;34m\u001b[0m\u001b[0m\n\u001b[1;32m      5\u001b[0m \u001b[0mprint\u001b[0m\u001b[0;34m(\u001b[0m\u001b[0mparams\u001b[0m\u001b[0;34m)\u001b[0m\u001b[0;34m\u001b[0m\u001b[0;34m\u001b[0m\u001b[0m\n",
      "\u001b[0;32m<ipython-input-15-8201a07aed0b>\u001b[0m in \u001b[0;36mloss\u001b[0;34m(corpus, params, mode)\u001b[0m\n\u001b[1;32m     11\u001b[0m         return mean_squared_error(*zip(*[\n\u001b[1;32m     12\u001b[0m         \u001b[0;34m(\u001b[0m\u001b[0mdataset\u001b[0m\u001b[0;34m[\u001b[0m\u001b[0msentence\u001b[0m\u001b[0;34m]\u001b[0m\u001b[0;34m,\u001b[0m \u001b[0mevaluate_CL\u001b[0m\u001b[0;34m(\u001b[0m\u001b[0mparams\u001b[0m\u001b[0;34m,\u001b[0m \u001b[0msentence\u001b[0m\u001b[0;34m)\u001b[0m\u001b[0;34m)\u001b[0m\u001b[0;34m\u001b[0m\u001b[0;34m\u001b[0m\u001b[0m\n\u001b[0;32m---> 13\u001b[0;31m         for sentence in corpus]))\n\u001b[0m\u001b[1;32m     14\u001b[0m \u001b[0;34m\u001b[0m\u001b[0m\n\u001b[1;32m     15\u001b[0m \u001b[0mtesting_loss\u001b[0m \u001b[0;34m=\u001b[0m \u001b[0;32mlambda\u001b[0m \u001b[0mparams\u001b[0m\u001b[0;34m:\u001b[0m \u001b[0mloss\u001b[0m\u001b[0;34m(\u001b[0m\u001b[0mtest\u001b[0m\u001b[0;34m,\u001b[0m \u001b[0mparams\u001b[0m\u001b[0;34m,\u001b[0m \u001b[0;34m'bs'\u001b[0m\u001b[0;34m)\u001b[0m\u001b[0;34m\u001b[0m\u001b[0;34m\u001b[0m\u001b[0m\n",
      "\u001b[0;32m<ipython-input-15-8201a07aed0b>\u001b[0m in \u001b[0;36m<listcomp>\u001b[0;34m(.0)\u001b[0m\n\u001b[1;32m     11\u001b[0m         return mean_squared_error(*zip(*[\n\u001b[1;32m     12\u001b[0m         \u001b[0;34m(\u001b[0m\u001b[0mdataset\u001b[0m\u001b[0;34m[\u001b[0m\u001b[0msentence\u001b[0m\u001b[0;34m]\u001b[0m\u001b[0;34m,\u001b[0m \u001b[0mevaluate_CL\u001b[0m\u001b[0;34m(\u001b[0m\u001b[0mparams\u001b[0m\u001b[0;34m,\u001b[0m \u001b[0msentence\u001b[0m\u001b[0;34m)\u001b[0m\u001b[0;34m)\u001b[0m\u001b[0;34m\u001b[0m\u001b[0;34m\u001b[0m\u001b[0m\n\u001b[0;32m---> 13\u001b[0;31m         for sentence in corpus]))\n\u001b[0m\u001b[1;32m     14\u001b[0m \u001b[0;34m\u001b[0m\u001b[0m\n\u001b[1;32m     15\u001b[0m \u001b[0mtesting_loss\u001b[0m \u001b[0;34m=\u001b[0m \u001b[0;32mlambda\u001b[0m \u001b[0mparams\u001b[0m\u001b[0;34m:\u001b[0m \u001b[0mloss\u001b[0m\u001b[0;34m(\u001b[0m\u001b[0mtest\u001b[0m\u001b[0;34m,\u001b[0m \u001b[0mparams\u001b[0m\u001b[0;34m,\u001b[0m \u001b[0;34m'bs'\u001b[0m\u001b[0;34m)\u001b[0m\u001b[0;34m\u001b[0m\u001b[0;34m\u001b[0m\u001b[0m\n",
      "\u001b[0;32m<ipython-input-13-0903fded027d>\u001b[0m in \u001b[0;36mevaluate_CL\u001b[0;34m(params, sentence)\u001b[0m\n\u001b[1;32m      6\u001b[0m     \u001b[0mparams\u001b[0m \u001b[0;34m=\u001b[0m \u001b[0mparams\u001b[0m\u001b[0;34m.\u001b[0m\u001b[0mreshape\u001b[0m\u001b[0;34m(\u001b[0m\u001b[0mparams0\u001b[0m\u001b[0;34m.\u001b[0m\u001b[0mshape\u001b[0m\u001b[0;34m)\u001b[0m\u001b[0;34m\u001b[0m\u001b[0;34m\u001b[0m\u001b[0m\n\u001b[1;32m      7\u001b[0m     return post_processing(\n\u001b[0;32m----> 8\u001b[0;31m         F(params)(corpus[sentence]).amp_CL(\n\u001b[0m\u001b[1;32m      9\u001b[0m             n_photons, input_modes, output_modes))\n\u001b[1;32m     10\u001b[0m \u001b[0;34m\u001b[0m\u001b[0m\n",
      "\u001b[0;32m<ipython-input-9-8f078f1e97b9>\u001b[0m in \u001b[0;36m<lambda>\u001b[0;34m(params)\u001b[0m\n\u001b[1;32m      1\u001b[0m F = lambda params: Functor(\n\u001b[1;32m      2\u001b[0m     \u001b[0mob\u001b[0m\u001b[0;34m=\u001b[0m\u001b[0;34m{\u001b[0m\u001b[0mn\u001b[0m\u001b[0;34m:\u001b[0m \u001b[0mTy\u001b[0m\u001b[0;34m(\u001b[0m\u001b[0;36m1\u001b[0m\u001b[0;34m)\u001b[0m \u001b[0;34m**\u001b[0m \u001b[0mwidth\u001b[0m\u001b[0;34m}\u001b[0m\u001b[0;34m,\u001b[0m\u001b[0;34m\u001b[0m\u001b[0;34m\u001b[0m\u001b[0m\n\u001b[0;32m----> 3\u001b[0;31m     ar={SimpleWord(w): ansatz(params[i]) for i, w in enumerate(E + R)})\n\u001b[0m\u001b[1;32m      4\u001b[0m \u001b[0;34m\u001b[0m\u001b[0m\n\u001b[1;32m      5\u001b[0m \u001b[0mF0\u001b[0m \u001b[0;34m=\u001b[0m \u001b[0mF\u001b[0m\u001b[0;34m(\u001b[0m\u001b[0mparams0\u001b[0m\u001b[0;34m)\u001b[0m\u001b[0;34m\u001b[0m\u001b[0;34m\u001b[0m\u001b[0m\n",
      "\u001b[0;32m<ipython-input-9-8f078f1e97b9>\u001b[0m in \u001b[0;36m<dictcomp>\u001b[0;34m(.0)\u001b[0m\n\u001b[1;32m      1\u001b[0m F = lambda params: Functor(\n\u001b[1;32m      2\u001b[0m     \u001b[0mob\u001b[0m\u001b[0;34m=\u001b[0m\u001b[0;34m{\u001b[0m\u001b[0mn\u001b[0m\u001b[0;34m:\u001b[0m \u001b[0mTy\u001b[0m\u001b[0;34m(\u001b[0m\u001b[0;36m1\u001b[0m\u001b[0;34m)\u001b[0m \u001b[0;34m**\u001b[0m \u001b[0mwidth\u001b[0m\u001b[0;34m}\u001b[0m\u001b[0;34m,\u001b[0m\u001b[0;34m\u001b[0m\u001b[0;34m\u001b[0m\u001b[0m\n\u001b[0;32m----> 3\u001b[0;31m     ar={SimpleWord(w): ansatz(params[i]) for i, w in enumerate(E + R)})\n\u001b[0m\u001b[1;32m      4\u001b[0m \u001b[0;34m\u001b[0m\u001b[0m\n\u001b[1;32m      5\u001b[0m \u001b[0mF0\u001b[0m \u001b[0;34m=\u001b[0m \u001b[0mF\u001b[0m\u001b[0;34m(\u001b[0m\u001b[0mparams0\u001b[0m\u001b[0;34m)\u001b[0m\u001b[0;34m\u001b[0m\u001b[0;34m\u001b[0m\u001b[0m\n",
      "\u001b[0;32m<ipython-input-7-c7fbf505a413>\u001b[0m in \u001b[0;36mansatz\u001b[0;34m(params)\u001b[0m\n\u001b[1;32m      7\u001b[0m         chip >>= Id().tensor(*[\n\u001b[1;32m      8\u001b[0m                 MZI(*params[i, j]) for j in range(half_width)])\\\n\u001b[0;32m----> 9\u001b[0;31m             if not i % 2 else Id(1).tensor(*[\n\u001b[0m\u001b[1;32m     10\u001b[0m                 MZI(*params[i, j]) for j in range(half_width - 1)]) @ Id(1)\n\u001b[1;32m     11\u001b[0m     \u001b[0;32mreturn\u001b[0m \u001b[0mchip\u001b[0m\u001b[0;34m\u001b[0m\u001b[0;34m\u001b[0m\u001b[0m\n",
      "\u001b[0;32m/usr/local/lib/python3.7/site-packages/discopy/monoidal.py\u001b[0m in \u001b[0;36mtensor\u001b[0;34m(self, other, *rest)\u001b[0m\n\u001b[1;32m    448\u001b[0m             \u001b[0;32mreturn\u001b[0m \u001b[0mself\u001b[0m\u001b[0;34m\u001b[0m\u001b[0;34m\u001b[0m\u001b[0m\n\u001b[1;32m    449\u001b[0m         \u001b[0;32mif\u001b[0m \u001b[0mrest\u001b[0m\u001b[0;34m:\u001b[0m\u001b[0;34m\u001b[0m\u001b[0;34m\u001b[0m\u001b[0m\n\u001b[0;32m--> 450\u001b[0;31m             \u001b[0;32mreturn\u001b[0m \u001b[0mself\u001b[0m\u001b[0;34m.\u001b[0m\u001b[0mtensor\u001b[0m\u001b[0;34m(\u001b[0m\u001b[0mother\u001b[0m\u001b[0;34m)\u001b[0m\u001b[0;34m.\u001b[0m\u001b[0mtensor\u001b[0m\u001b[0;34m(\u001b[0m\u001b[0;34m*\u001b[0m\u001b[0mrest\u001b[0m\u001b[0;34m)\u001b[0m\u001b[0;34m\u001b[0m\u001b[0;34m\u001b[0m\u001b[0m\n\u001b[0m\u001b[1;32m    451\u001b[0m         \u001b[0;32mif\u001b[0m \u001b[0misinstance\u001b[0m\u001b[0;34m(\u001b[0m\u001b[0mother\u001b[0m\u001b[0;34m,\u001b[0m \u001b[0mSum\u001b[0m\u001b[0;34m)\u001b[0m\u001b[0;34m:\u001b[0m\u001b[0;34m\u001b[0m\u001b[0;34m\u001b[0m\u001b[0m\n\u001b[1;32m    452\u001b[0m             \u001b[0;32mreturn\u001b[0m \u001b[0mself\u001b[0m\u001b[0;34m.\u001b[0m\u001b[0msum\u001b[0m\u001b[0;34m(\u001b[0m\u001b[0;34m[\u001b[0m\u001b[0mself\u001b[0m\u001b[0;34m]\u001b[0m\u001b[0;34m)\u001b[0m\u001b[0;34m.\u001b[0m\u001b[0mtensor\u001b[0m\u001b[0;34m(\u001b[0m\u001b[0mother\u001b[0m\u001b[0;34m)\u001b[0m\u001b[0;34m\u001b[0m\u001b[0;34m\u001b[0m\u001b[0m\n",
      "\u001b[0;32m/usr/local/lib/python3.7/site-packages/discopy/monoidal.py\u001b[0m in \u001b[0;36mtensor\u001b[0;34m(self, other, *rest)\u001b[0m\n\u001b[1;32m    460\u001b[0m             \u001b[0mlayers\u001b[0m \u001b[0;34m=\u001b[0m \u001b[0mlayers\u001b[0m \u001b[0;34m>>\u001b[0m \u001b[0mLayer\u001b[0m\u001b[0;34m(\u001b[0m\u001b[0mleft\u001b[0m\u001b[0;34m,\u001b[0m \u001b[0mbox\u001b[0m\u001b[0;34m,\u001b[0m \u001b[0mright\u001b[0m \u001b[0;34m@\u001b[0m \u001b[0mother\u001b[0m\u001b[0;34m.\u001b[0m\u001b[0mdom\u001b[0m\u001b[0;34m)\u001b[0m\u001b[0;34m\u001b[0m\u001b[0;34m\u001b[0m\u001b[0m\n\u001b[1;32m    461\u001b[0m         \u001b[0;32mfor\u001b[0m \u001b[0mleft\u001b[0m\u001b[0;34m,\u001b[0m \u001b[0mbox\u001b[0m\u001b[0;34m,\u001b[0m \u001b[0mright\u001b[0m \u001b[0;32min\u001b[0m \u001b[0mother\u001b[0m\u001b[0;34m.\u001b[0m\u001b[0mlayers\u001b[0m\u001b[0;34m:\u001b[0m\u001b[0;34m\u001b[0m\u001b[0;34m\u001b[0m\u001b[0m\n\u001b[0;32m--> 462\u001b[0;31m             \u001b[0mlayers\u001b[0m \u001b[0;34m=\u001b[0m \u001b[0mlayers\u001b[0m \u001b[0;34m>>\u001b[0m \u001b[0mLayer\u001b[0m\u001b[0;34m(\u001b[0m\u001b[0mself\u001b[0m\u001b[0;34m.\u001b[0m\u001b[0mcod\u001b[0m \u001b[0;34m@\u001b[0m \u001b[0mleft\u001b[0m\u001b[0;34m,\u001b[0m \u001b[0mbox\u001b[0m\u001b[0;34m,\u001b[0m \u001b[0mright\u001b[0m\u001b[0;34m)\u001b[0m\u001b[0;34m\u001b[0m\u001b[0;34m\u001b[0m\u001b[0m\n\u001b[0m\u001b[1;32m    463\u001b[0m         \u001b[0;32mreturn\u001b[0m \u001b[0mself\u001b[0m\u001b[0;34m.\u001b[0m\u001b[0mupgrade\u001b[0m\u001b[0;34m(\u001b[0m\u001b[0mDiagram\u001b[0m\u001b[0;34m(\u001b[0m\u001b[0mdom\u001b[0m\u001b[0;34m,\u001b[0m \u001b[0mcod\u001b[0m\u001b[0;34m,\u001b[0m \u001b[0mboxes\u001b[0m\u001b[0;34m,\u001b[0m \u001b[0moffsets\u001b[0m\u001b[0;34m,\u001b[0m \u001b[0mlayers\u001b[0m\u001b[0;34m=\u001b[0m\u001b[0mlayers\u001b[0m\u001b[0;34m)\u001b[0m\u001b[0;34m)\u001b[0m\u001b[0;34m\u001b[0m\u001b[0;34m\u001b[0m\u001b[0m\n\u001b[1;32m    464\u001b[0m \u001b[0;34m\u001b[0m\u001b[0m\n",
      "\u001b[0;32m/usr/local/lib/python3.7/site-packages/discopy/monoidal.py\u001b[0m in \u001b[0;36m__init__\u001b[0;34m(self, left, box, right)\u001b[0m\n\u001b[1;32m    283\u001b[0m     \u001b[0;32mdef\u001b[0m \u001b[0m__init__\u001b[0m\u001b[0;34m(\u001b[0m\u001b[0mself\u001b[0m\u001b[0;34m,\u001b[0m \u001b[0mleft\u001b[0m\u001b[0;34m,\u001b[0m \u001b[0mbox\u001b[0m\u001b[0;34m,\u001b[0m \u001b[0mright\u001b[0m\u001b[0;34m)\u001b[0m\u001b[0;34m:\u001b[0m\u001b[0;34m\u001b[0m\u001b[0;34m\u001b[0m\u001b[0m\n\u001b[1;32m    284\u001b[0m         \u001b[0mself\u001b[0m\u001b[0;34m.\u001b[0m\u001b[0m_left\u001b[0m\u001b[0;34m,\u001b[0m \u001b[0mself\u001b[0m\u001b[0;34m.\u001b[0m\u001b[0m_box\u001b[0m\u001b[0;34m,\u001b[0m \u001b[0mself\u001b[0m\u001b[0;34m.\u001b[0m\u001b[0m_right\u001b[0m \u001b[0;34m=\u001b[0m \u001b[0mleft\u001b[0m\u001b[0;34m,\u001b[0m \u001b[0mbox\u001b[0m\u001b[0;34m,\u001b[0m \u001b[0mright\u001b[0m\u001b[0;34m\u001b[0m\u001b[0;34m\u001b[0m\u001b[0m\n\u001b[0;32m--> 285\u001b[0;31m         \u001b[0mdom\u001b[0m\u001b[0;34m,\u001b[0m \u001b[0mcod\u001b[0m \u001b[0;34m=\u001b[0m \u001b[0mleft\u001b[0m \u001b[0;34m@\u001b[0m \u001b[0mbox\u001b[0m\u001b[0;34m.\u001b[0m\u001b[0mdom\u001b[0m \u001b[0;34m@\u001b[0m \u001b[0mright\u001b[0m\u001b[0;34m,\u001b[0m \u001b[0mleft\u001b[0m \u001b[0;34m@\u001b[0m \u001b[0mbox\u001b[0m\u001b[0;34m.\u001b[0m\u001b[0mcod\u001b[0m \u001b[0;34m@\u001b[0m \u001b[0mright\u001b[0m\u001b[0;34m\u001b[0m\u001b[0;34m\u001b[0m\u001b[0m\n\u001b[0m\u001b[1;32m    286\u001b[0m         \u001b[0msuper\u001b[0m\u001b[0;34m(\u001b[0m\u001b[0;34m)\u001b[0m\u001b[0;34m.\u001b[0m\u001b[0m__init__\u001b[0m\u001b[0;34m(\u001b[0m\u001b[0;34m\"Layer\"\u001b[0m\u001b[0;34m,\u001b[0m \u001b[0mdom\u001b[0m\u001b[0;34m,\u001b[0m \u001b[0mcod\u001b[0m\u001b[0;34m)\u001b[0m\u001b[0;34m\u001b[0m\u001b[0;34m\u001b[0m\u001b[0m\n\u001b[1;32m    287\u001b[0m \u001b[0;34m\u001b[0m\u001b[0m\n",
      "\u001b[0;32m/usr/local/lib/python3.7/site-packages/discopy/monoidal.py\u001b[0m in \u001b[0;36m__matmul__\u001b[0;34m(self, other)\u001b[0m\n\u001b[1;32m    189\u001b[0m \u001b[0;34m\u001b[0m\u001b[0m\n\u001b[1;32m    190\u001b[0m     \u001b[0;32mdef\u001b[0m \u001b[0m__matmul__\u001b[0m\u001b[0;34m(\u001b[0m\u001b[0mself\u001b[0m\u001b[0;34m,\u001b[0m \u001b[0mother\u001b[0m\u001b[0;34m)\u001b[0m\u001b[0;34m:\u001b[0m\u001b[0;34m\u001b[0m\u001b[0;34m\u001b[0m\u001b[0m\n\u001b[0;32m--> 191\u001b[0;31m         \u001b[0;32mreturn\u001b[0m \u001b[0mself\u001b[0m\u001b[0;34m.\u001b[0m\u001b[0mtensor\u001b[0m\u001b[0;34m(\u001b[0m\u001b[0mother\u001b[0m\u001b[0;34m)\u001b[0m\u001b[0;34m\u001b[0m\u001b[0;34m\u001b[0m\u001b[0m\n\u001b[0m\u001b[1;32m    192\u001b[0m \u001b[0;34m\u001b[0m\u001b[0m\n\u001b[1;32m    193\u001b[0m     \u001b[0;32mdef\u001b[0m \u001b[0m__pow__\u001b[0m\u001b[0;34m(\u001b[0m\u001b[0mself\u001b[0m\u001b[0;34m,\u001b[0m \u001b[0mn_times\u001b[0m\u001b[0;34m)\u001b[0m\u001b[0;34m:\u001b[0m\u001b[0;34m\u001b[0m\u001b[0;34m\u001b[0m\u001b[0m\n",
      "\u001b[0;32m/usr/local/lib/python3.7/site-packages/discopy/monoidal.py\u001b[0m in \u001b[0;36mtensor\u001b[0;34m(self, *others)\u001b[0m\n\u001b[1;32m    129\u001b[0m                 \u001b[0;32mraise\u001b[0m \u001b[0mTypeError\u001b[0m\u001b[0;34m(\u001b[0m\u001b[0mmessages\u001b[0m\u001b[0;34m.\u001b[0m\u001b[0mtype_err\u001b[0m\u001b[0;34m(\u001b[0m\u001b[0mTy\u001b[0m\u001b[0;34m,\u001b[0m \u001b[0mother\u001b[0m\u001b[0;34m)\u001b[0m\u001b[0;34m)\u001b[0m\u001b[0;34m\u001b[0m\u001b[0;34m\u001b[0m\u001b[0m\n\u001b[1;32m    130\u001b[0m         \u001b[0mobjects\u001b[0m \u001b[0;34m=\u001b[0m \u001b[0mself\u001b[0m\u001b[0;34m.\u001b[0m\u001b[0mobjects\u001b[0m \u001b[0;34m+\u001b[0m \u001b[0;34m[\u001b[0m\u001b[0mx\u001b[0m \u001b[0;32mfor\u001b[0m \u001b[0mt\u001b[0m \u001b[0;32min\u001b[0m \u001b[0mothers\u001b[0m \u001b[0;32mfor\u001b[0m \u001b[0mx\u001b[0m \u001b[0;32min\u001b[0m \u001b[0mt\u001b[0m\u001b[0;34m.\u001b[0m\u001b[0mobjects\u001b[0m\u001b[0;34m]\u001b[0m\u001b[0;34m\u001b[0m\u001b[0;34m\u001b[0m\u001b[0m\n\u001b[0;32m--> 131\u001b[0;31m         \u001b[0;32mreturn\u001b[0m \u001b[0mself\u001b[0m\u001b[0;34m.\u001b[0m\u001b[0mupgrade\u001b[0m\u001b[0;34m(\u001b[0m\u001b[0mTy\u001b[0m\u001b[0;34m(\u001b[0m\u001b[0;34m*\u001b[0m\u001b[0mobjects\u001b[0m\u001b[0;34m)\u001b[0m\u001b[0;34m)\u001b[0m\u001b[0;34m\u001b[0m\u001b[0;34m\u001b[0m\u001b[0m\n\u001b[0m\u001b[1;32m    132\u001b[0m \u001b[0;34m\u001b[0m\u001b[0m\n\u001b[1;32m    133\u001b[0m     \u001b[0;32mdef\u001b[0m \u001b[0mcount\u001b[0m\u001b[0;34m(\u001b[0m\u001b[0mself\u001b[0m\u001b[0;34m,\u001b[0m \u001b[0mobj\u001b[0m\u001b[0;34m)\u001b[0m\u001b[0;34m:\u001b[0m\u001b[0;34m\u001b[0m\u001b[0;34m\u001b[0m\u001b[0m\n",
      "\u001b[0;32m/usr/local/lib/python3.7/site-packages/discopy/monoidal.py\u001b[0m in \u001b[0;36mupgrade\u001b[0;34m(old)\u001b[0m\n\u001b[1;32m    240\u001b[0m     \u001b[0;32mdef\u001b[0m \u001b[0mupgrade\u001b[0m\u001b[0;34m(\u001b[0m\u001b[0mold\u001b[0m\u001b[0;34m)\u001b[0m\u001b[0;34m:\u001b[0m\u001b[0;34m\u001b[0m\u001b[0;34m\u001b[0m\u001b[0m\n\u001b[1;32m    241\u001b[0m         \u001b[0;32mfor\u001b[0m \u001b[0mobj\u001b[0m \u001b[0;32min\u001b[0m \u001b[0mold\u001b[0m\u001b[0;34m:\u001b[0m\u001b[0;34m\u001b[0m\u001b[0;34m\u001b[0m\u001b[0m\n\u001b[0;32m--> 242\u001b[0;31m             \u001b[0;32mif\u001b[0m \u001b[0mobj\u001b[0m\u001b[0;34m.\u001b[0m\u001b[0mname\u001b[0m \u001b[0;34m!=\u001b[0m \u001b[0;36m1\u001b[0m\u001b[0;34m:\u001b[0m\u001b[0;34m\u001b[0m\u001b[0;34m\u001b[0m\u001b[0m\n\u001b[0m\u001b[1;32m    243\u001b[0m                 \u001b[0;32mraise\u001b[0m \u001b[0mTypeError\u001b[0m\u001b[0;34m(\u001b[0m\u001b[0mmessages\u001b[0m\u001b[0;34m.\u001b[0m\u001b[0mtype_err\u001b[0m\u001b[0;34m(\u001b[0m\u001b[0mint\u001b[0m\u001b[0;34m,\u001b[0m \u001b[0mobj\u001b[0m\u001b[0;34m.\u001b[0m\u001b[0mname\u001b[0m\u001b[0;34m)\u001b[0m\u001b[0;34m)\u001b[0m\u001b[0;34m\u001b[0m\u001b[0;34m\u001b[0m\u001b[0m\n\u001b[1;32m    244\u001b[0m         \u001b[0;32mreturn\u001b[0m \u001b[0mPRO\u001b[0m\u001b[0;34m(\u001b[0m\u001b[0mlen\u001b[0m\u001b[0;34m(\u001b[0m\u001b[0mold\u001b[0m\u001b[0;34m)\u001b[0m\u001b[0;34m)\u001b[0m\u001b[0;34m\u001b[0m\u001b[0;34m\u001b[0m\u001b[0m\n",
      "\u001b[0;31mKeyboardInterrupt\u001b[0m: "
     ]
    }
   ],
   "source": [
    "y_train_true = []\n",
    "y_test_true = []\n",
    "y_train_pred = []\n",
    "y_train_pred_dist = []\n",
    "y_train_pred_cl = []\n",
    "y_test_pred = []\n",
    "y_test_pred_dist = []\n",
    "y_test_pred_cl = []\n",
    "\n",
    "def callback(params):\n",
    "    training_losses.append(training_loss(params))\n",
    "    testing_losses.append(testing_loss(params))\n",
    "def callback_cl(params):\n",
    "    training_losses_cl.append(training_loss_cl(params))\n",
    "    testing_losses_cl.append(testing_loss_cl(params))\n",
    "def callback_dist(params):\n",
    "    training_losses_dist.append(training_loss_dist(params))\n",
    "    testing_losses_dist.append(testing_loss_dist(params))\n",
    "    \n",
    "n_prove=5\n",
    "\n",
    "\n",
    "for index in range(n_prove):\n",
    "    print(\"giro # %d di %d\" %(index+1, n_prove))\n",
    "    training_losses_cl, testing_losses_cl = [], []\n",
    "    training_losses, testing_losses= [], []\n",
    "    training_losses_dist, testing_losses_dist = [], []\n",
    "    y_train_true = y_train_true+[dataset[sentence] for sentence in train]\n",
    "    y_test_true =y_test_true+[dataset[sentence] for sentence in test]\n",
    "    print(params_in)\n",
    "    params= params_in.copy()\n",
    "    result = minimizeSPSA(training_loss, params, paired=False, callback=callback_dist, niter=400, a = 0.5, alpha=alpha, c= 0.1, gamma=gamma)\n",
    "    y_train_pred = y_train_pred+[evaluate(result.x, sentence) > .5 for sentence in train]\n",
    "    y_test_pred = y_test_pred+[evaluate(result.x, sentence) > .5 for sentence in test]\n",
    "    print(\"bs case train \", classification_report(y_train_true, y_train_pred))\n",
    "    print(\"bs case test \", classification_report(y_test_true, y_test_pred))\n",
    "    params= params_in.copy()\n",
    "    result_cl = minimizeSPSA(training_loss_cl, params, paired=False, callback=callback_cl, niter=400, a = 0.5, alpha=alpha, c= 0.1, gamma=gamma)\n",
    "    y_train_pred_cl = y_train_pred_cl+[evaluate_CL(result_cl.x, sentence) > .5 for sentence in train]\n",
    "    y_test_pred_cl = y_test_pred_cl+[evaluate_CL(result_cl.x, sentence) > .5 for sentence in test]\n",
    "    print(\"cl case train \", classification_report(y_train_true, y_train_pred_cl))\n",
    "    print(\"cl case test \", classification_report(y_test_true, y_test_pred_cl))\n",
    "    params= params_in.copy()\n",
    "    result_dist = minimizeSPSA(training_loss_dist, params, paired=False, callback=callback_dist, niter=400, a = 0.5, alpha=alpha, c= 0.1, gamma=gamma)\n",
    "    y_train_pred_dist = y_train_pred_dist+[evaluate_dist(result_dist.x, sentence) > .5 for sentence in train]\n",
    "    y_test_pred_dist = y_test_pred_dist+[evaluate_dist(result_dist.x, sentence) > .5 for sentence in test]\n",
    "    print(\"dist case train \", classification_report(y_train_true, y_train_pred_dist))\n",
    "    print(\"dist case test \", classification_report(y_test_true, y_test_pred_dist))\n",
    "    params_in = random_params().flatten()\n",
    "    \n",
    "    \n",
    "\n"
   ]
  },
  {
   "cell_type": "code",
   "execution_count": 25,
   "metadata": {},
   "outputs": [],
   "source": [
    "file_bs_test=open(\"y_test_true_bs.txt\", \"wb\")\n",
    "file_bs_train=open(\"y_train_true_bs.txt\", \"wb\")\n",
    "file_dist_test=open(\"y_test_true_dist.txt\", \"wb\")\n",
    "file_dist_train=open(\"y_train_true_dist.txt\", \"wb\")\n",
    "file_cl_test=open(\"y_test_true_cl.txt\", \"wb\")\n",
    "file_cl_train=open(\"y_train_true_cl.txt\", \"wb\")"
   ]
  },
  {
   "cell_type": "code",
   "execution_count": null,
   "metadata": {},
   "outputs": [],
   "source": [
    "import pickle\n",
    "pickle.dump(y_test_pred_bs, file_bs_test)\n",
    "pickle.dump(y_train_pred_bs, file_bs_train)\n",
    "pickle.dump(y_test_pred_bs, file_dist_test)\n",
    "pickle.dump(y_train_pred_bs, file_dist_train)\n",
    "pickle.dump(y_test_pred_bs, file_cl_test)\n",
    "pickle.dump(y_train_pred_bs, file_cl_train)"
   ]
  }
 ],
 "metadata": {
  "kernelspec": {
   "display_name": "Python 3",
   "language": "python",
   "name": "python3"
  },
  "language_info": {
   "codemirror_mode": {
    "name": "ipython",
    "version": 3
   },
   "file_extension": ".py",
   "mimetype": "text/x-python",
   "name": "python",
   "nbconvert_exporter": "python",
   "pygments_lexer": "ipython3",
   "version": "3.9.4"
  },
  "toc": {
   "base_numbering": 1,
   "nav_menu": {},
   "number_sections": true,
   "sideBar": true,
   "skip_h1_title": false,
   "title_cell": "Table of Contents",
   "title_sidebar": "Contents",
   "toc_cell": false,
   "toc_position": {},
   "toc_section_display": true,
   "toc_window_display": false
  }
 },
 "nbformat": 4,
 "nbformat_minor": 2
}
