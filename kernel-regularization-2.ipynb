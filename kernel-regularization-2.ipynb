{
 "cells": [
  {
   "cell_type": "markdown",
   "metadata": {},
   "source": [
    "# Photonic kernels"
   ]
  },
  {
   "cell_type": "code",
   "execution_count": 1,
   "metadata": {
    "scrolled": true
   },
   "outputs": [
    {
     "data": {
      "image/png": "[encoded data removed]",
      "text/plain": [
       "<Figure size 432x288 with 1 Axes>"
      ]
     },
     "metadata": {
      "needs_background": "light"
     },
     "output_type": "display_data"
    },
    {
     "name": "stdout",
     "output_type": "stream",
     "text": [
      "Number of parameters for half chip: 16\n"
     ]
    }
   ],
   "source": [
    "from discopy.quantum.optics import ansatz, params_shape\n",
    "import numpy as np\n",
    "np.set_printoptions(precision=6)\n",
    "\n",
    "state = [1, 1, 0, 0, 0, 0]\n",
    "depth = 3\n",
    "\n",
    "width = len(state)\n",
    "n_photons = sum(state)\n",
    "\n",
    "n_params = np.prod(params_shape(width, depth))\n",
    "random_datapoint = lambda: np.random.uniform(0, 2, size=(n_params,))\n",
    "\n",
    "chip = lambda params: ansatz(width, depth, params)\n",
    "\n",
    "x = random_datapoint()\n",
    "(chip(x) >> chip(x).dagger()).draw(draw_type_labels=False)\n",
    "print(\"Number of parameters for half chip: {}\".format(n_params))"
   ]
  },
  {
   "cell_type": "code",
   "execution_count": 2,
   "metadata": {},
   "outputs": [
    {
     "name": "stdout",
     "output_type": "stream",
     "text": [
      "[[  2.   3.   4.   5.   6.   7.]\n",
      " [  3.   6.  10.  15.  21.  28.]\n",
      " [  4.  10.  20.  35.  56.  84.]\n",
      " [  5.  15.  35.  70. 126. 210.]\n",
      " [  6.  21.  56. 126. 252. 462.]]\n"
     ]
    }
   ],
   "source": [
    "from scipy.special import binom\n",
    "from discopy.quantum.optics import occupation_numbers\n",
    "np.set_printoptions(suppress=True)\n",
    "\n",
    "scale = np.array([[binom(m + n - 1, n) for m in range(2, 8)] for n in range(1, 6)])\n",
    "print(scale)"
   ]
  },
  {
   "cell_type": "code",
   "execution_count": 3,
   "metadata": {},
   "outputs": [
    {
     "name": "stdout",
     "output_type": "stream",
     "text": [
      "Dimension of feature space: 21\n"
     ]
    }
   ],
   "source": [
    "dim = binom(width + n_photons - 1, n_photons)\n",
    "\n",
    "print(\"Dimension of feature space: {}\".format(int(dim)))"
   ]
  },
  {
   "cell_type": "markdown",
   "metadata": {},
   "source": [
    "## Generate random data points"
   ]
  },
  {
   "cell_type": "code",
   "execution_count": 4,
   "metadata": {},
   "outputs": [
    {
     "name": "stdout",
     "output_type": "stream",
     "text": [
      "Number of data points: 80\n"
     ]
    }
   ],
   "source": [
    "N = 80\n",
    "X = [random_datapoint() for _ in range(N)]\n",
    "\n",
    "print(\"Number of data points: {}\".format(N))"
   ]
  },
  {
   "cell_type": "code",
   "execution_count": 5,
   "metadata": {},
   "outputs": [],
   "source": [
    "# Add datapoints\n",
    "\n",
    "# a = 12\n",
    "# N = N + a\n",
    "# X = X + [random_datapoint() for _ in range(a)]"
   ]
  },
  {
   "cell_type": "markdown",
   "metadata": {},
   "source": [
    "## Initialise bosonic and distinguishable kernels"
   ]
  },
  {
   "cell_type": "code",
   "execution_count": 6,
   "metadata": {},
   "outputs": [],
   "source": [
    "def gram_matrix(kernel, x):\n",
    "    # Build a symmetric positive definite matrix\n",
    "    N = len(x)\n",
    "    gram = np.zeros((N, N))\n",
    "    for i in range(N):\n",
    "        for j in range(i + 1, N):\n",
    "            gram[i, j] = kernel(x[i], x[j])\n",
    "    return gram + np.diag(np.ones(N)) + np.transpose(gram)"
   ]
  },
  {
   "cell_type": "code",
   "execution_count": 7,
   "metadata": {},
   "outputs": [
    {
     "name": "stdout",
     "output_type": "stream",
     "text": [
      "Time to compute bosonic gram matrix: 28.297515392303467\n"
     ]
    }
   ],
   "source": [
    "import time\n",
    "\n",
    "q_state = state\n",
    "\n",
    "# Kernel with indistinguishable photons:\n",
    "\n",
    "q_kernel = lambda state: lambda x0, x1: (chip(x0) >> chip(x1).dagger()).indist_prob(state, state)\n",
    "start = time.time()\n",
    "q_gram = gram_matrix(q_kernel(q_state), X)\n",
    "print(\"Time to compute bosonic gram matrix: {}\".format(time.time() - start))"
   ]
  },
  {
   "cell_type": "code",
   "execution_count": 8,
   "metadata": {},
   "outputs": [
    {
     "name": "stdout",
     "output_type": "stream",
     "text": [
      "Time to compute distinguishable gram matrix: 27.428715229034424\n"
     ]
    }
   ],
   "source": [
    "# Kernel with distinguishable photons:\n",
    "\n",
    "c_state = state\n",
    "\n",
    "c_kernel = lambda state: lambda x0, x1: (chip(x0) >> chip(x1).dagger()).dist_prob(state, state)\n",
    "start = time.time()\n",
    "c_gram = gram_matrix(c_kernel(c_state), X)\n",
    "print(\"Time to compute distinguishable gram matrix: {}\".format(time.time() - start))"
   ]
  },
  {
   "cell_type": "markdown",
   "metadata": {},
   "source": [
    "## Generate labels to maximise difference in prediction error bound"
   ]
  },
  {
   "cell_type": "code",
   "execution_count": 9,
   "metadata": {},
   "outputs": [
    {
     "name": "stdout",
     "output_type": "stream",
     "text": [
      "Geometric difference: 1.4018616650388025 \n",
      "Eigenvector: y = sqrt(q_gram)v = [-0.130903  0.102709 -0.720194 ... -0.04421   0.340127 -0.488614]\n"
     ]
    }
   ],
   "source": [
    "from scipy.linalg import inv, eigh\n",
    "\n",
    "regularization = 0.02\n",
    "\n",
    "def geometric_diff(k0, k1, reg=0.0):\n",
    "    S0, P0 = eigh(k0)\n",
    "    S1, P1 = eigh(k1)\n",
    "    sqrtk0 = P0.dot(np.diag(np.sqrt(np.absolute(S0)))).dot(np.transpose(P0))\n",
    "    sqrtk1 = P1.dot(np.diag(np.sqrt(np.absolute(S1)))).dot(np.transpose(P1))\n",
    "    center = P0.dot(np.diag((S0 + reg) ** -2)).dot(np.transpose(P0))\n",
    "    matrix = sqrtk1.dot(sqrtk0).dot(center).dot(sqrtk0).dot(sqrtk1)\n",
    "    S, V = eigh(matrix)\n",
    "    index = np.argmax(np.absolute(S))\n",
    "    return np.sqrt(np.absolute(S[index])), sqrtk1.dot(V[:, index])  \n",
    "\n",
    "g, y = geometric_diff(c_gram, q_gram, reg=regularization)\n",
    "print(\"Geometric difference: {} \\nEigenvector: y = sqrt(q_gram)v = {}\".format(g, y))"
   ]
  },
  {
   "cell_type": "code",
   "execution_count": 10,
   "metadata": {},
   "outputs": [
    {
     "name": "stdout",
     "output_type": "stream",
     "text": [
      "s_Q = 0.9999999999989537 , s_C = 1.9652161278990203 , g = 1.4018616650388025\n"
     ]
    }
   ],
   "source": [
    "def model_complexity(k, y, reg=False):\n",
    "    if not reg:\n",
    "        return np.transpose(y).dot(inv(k)).dot(y)\n",
    "    else:\n",
    "        S, P = eigh(k)\n",
    "        sqrtk = P.dot(np.diag(np.sqrt(np.absolute(S)))).dot(np.transpose(P))\n",
    "        matrix = sqrtk.dot(P).dot(np.diag((S + reg) ** -2)).dot(np.transpose(P)).dot(sqrtk)\n",
    "        return np.transpose(y).dot(matrix).dot(y)\n",
    "\n",
    "sQ = model_complexity(q_gram, y, reg=False)\n",
    "sC = model_complexity(c_gram, y, reg=regularization)\n",
    "assert np.isclose(sC, sQ * g ** 2)\n",
    "print(\"s_Q = {} , s_C = {} , g = {}\".format(sQ, sC, g))"
   ]
  },
  {
   "cell_type": "code",
   "execution_count": 11,
   "metadata": {},
   "outputs": [
    {
     "name": "stdout",
     "output_type": "stream",
     "text": [
      "Mean of y is -0.03922255732166431 labels sum to 18.\n"
     ]
    }
   ],
   "source": [
    "y_labels = [1 if z > np.mean(y) else -1 for z in y]\n",
    "print(\"Mean of y is {} labels sum to {}.\".format(np.mean(y), sum(y_labels)))"
   ]
  },
  {
   "cell_type": "markdown",
   "metadata": {},
   "source": [
    "## SVM comparison bosonic vs distinguishable"
   ]
  },
  {
   "cell_type": "code",
   "execution_count": 12,
   "metadata": {},
   "outputs": [
    {
     "name": "stdout",
     "output_type": "stream",
     "text": [
      "[LibSVM]\n",
      "Train accuracy: 0.9433962264150944\n",
      "\n",
      "Test accuracy: 0.8518518518518519\n",
      "\n",
      "Time elapsed: 41.953596115112305\n"
     ]
    }
   ],
   "source": [
    "from sklearn import svm\n",
    "from sklearn.metrics import classification_report, accuracy_score\n",
    "from sklearn.model_selection import train_test_split\n",
    "\n",
    "test_size = 1 / 3\n",
    "\n",
    "X_train, X_test, y_train, y_test = train_test_split(X, y_labels, test_size=test_size, random_state=115)\n",
    "\n",
    "classifier = svm.SVC(kernel='precomputed', verbose=True)\n",
    "\n",
    "start = time.time()\n",
    "q_gram_train = gram_matrix(q_kernel(q_state), X_train)\n",
    "classifier.fit(q_gram_train, y_train)\n",
    "q_acc_train = accuracy_score(y_train, classifier.predict(q_gram_train))\n",
    "print(\"\\nTrain accuracy: {}\".format(q_acc_train))\n",
    "\n",
    "q_gram_test = np.array([[q_kernel(q_state)(xi, xj) for xi in X_train] for xj in X_test])\n",
    "q_acc_test = accuracy_score(y_test, classifier.predict(q_gram_test))\n",
    "print(\"\\nTest accuracy: {}\".format(q_acc_test))\n",
    "print(\"\\nTime elapsed: {}\".format(time.time() - start))"
   ]
  },
  {
   "cell_type": "code",
   "execution_count": 13,
   "metadata": {},
   "outputs": [
    {
     "name": "stdout",
     "output_type": "stream",
     "text": [
      "[LibSVM]\n",
      "Train accuracy: 0.9056603773584906\n",
      "\n",
      "Test accuracy: 0.8148148148148148\n",
      "\n",
      "Time elapsed: 49.22758197784424\n"
     ]
    }
   ],
   "source": [
    "start = time.time()\n",
    "c_gram_train = gram_matrix(c_kernel(c_state), X_train)\n",
    "classifier.fit(c_gram_train, y_train)\n",
    "c_acc_train = accuracy_score(y_train, classifier.predict(c_gram_train))\n",
    "print(\"\\nTrain accuracy: {}\".format(c_acc_train))\n",
    "\n",
    "c_gram_test = np.array([[c_kernel(c_state)(xi, xj) for xi in X_train] for xj in X_test])\n",
    "c_acc_test = accuracy_score(y_test, classifier.predict(c_gram_test))\n",
    "print(\"\\nTest accuracy: {}\".format(c_acc_test))\n",
    "print(\"\\nTime elapsed: {}\".format(time.time() - start))"
   ]
  },
  {
   "cell_type": "code",
   "execution_count": 14,
   "metadata": {},
   "outputs": [],
   "source": [
    "# Partially distinguishable photons\n",
    "\n",
    "# S2 = lambda p: np.array([[1, p], [p, 1]])\n",
    "# S3 = lambda p: np.array([[1, p, 1], [p, 1, p], [1, p, 1]])\n",
    "\n",
    "# p_kernel = lambda dist, state: lambda x0, x1: (chip(x0) >> chip(x1).dagger()).pdist_prob(state, state, S=S2(dist))\n",
    "\n",
    "# for dist in np.arange(0, 1.1, 0.1):\n",
    "#     gram_train = np.array([[p_kernel(dist, state)(xi, xj) for xi in X_train] for xj in X_train])\n",
    "#     classifier.fit(gram_train, y_train)\n",
    "#     gram_test = np.array([[p_kernel(dist, state)(xi, xj) for xi in X_train] for xj in X_test])\n",
    "#     a_train = accuracy_score(y_train, classifier.predict(gram_train))\n",
    "#     a_test = accuracy_score(y_test, classifier.predict(gram_test))\n",
    "#     a = (1 - test_size) * a_train + test_size * a_test\n",
    "#     print(a_train, a_test, a)"
   ]
  },
  {
   "cell_type": "markdown",
   "metadata": {},
   "source": [
    "## Comparison with Gaussian kernels"
   ]
  },
  {
   "cell_type": "code",
   "execution_count": 15,
   "metadata": {},
   "outputs": [
    {
     "name": "stdout",
     "output_type": "stream",
     "text": [
      "Best gamma is 0.4328761281083057 with geometric difference 2.642933441932638\n"
     ]
    }
   ],
   "source": [
    "# Compare using geometric difference\n",
    "\n",
    "from numpy.linalg import norm\n",
    "\n",
    "reg_param = 0.02\n",
    "\n",
    "gauss = lambda gamma: lambda x0, x1: np.exp(- gamma * norm(x0 - x1) ** 2)\n",
    "\n",
    "geos = {}\n",
    "for gamma in np.logspace(-4, 1, num=100):\n",
    "    g_gram = np.array([[gauss(gamma)(xi, xj) for xi in X] for xj in X])\n",
    "    geos.update({gamma : geometric_diff(g_gram, q_gram, reg=reg_param)[0]})\n",
    "    \n",
    "gamma_min = min(geos, key=geos.get)\n",
    "\n",
    "print(\"Best gamma is {} with geometric difference {}\".format(gamma_min, geos[gamma_min]))"
   ]
  },
  {
   "cell_type": "code",
   "execution_count": 16,
   "metadata": {},
   "outputs": [
    {
     "name": "stdout",
     "output_type": "stream",
     "text": [
      "[LibSVM]\n",
      "Accuracy on train: 1.0\n",
      "Accuracy on test: 0.4074074074074074\n"
     ]
    }
   ],
   "source": [
    "gauss_train = np.array([[gauss(gamma_min)(xi, xj) for xi in X_train] for xj in X_train])\n",
    "classifier.fit(gauss_train, y_train)\n",
    "a_gauss_train = accuracy_score(y_train, classifier.predict(gauss_train))\n",
    "print(\"\\nAccuracy on train: {}\".format(a_gauss_train))\n",
    "\n",
    "gauss_test = np.array([[gauss(gamma_min)(xi, xj) for xi in X_train] for xj in X_test])\n",
    "a_gauss_test = accuracy_score(y_test, classifier.predict(gauss_test))\n",
    "print(\"Accuracy on test: {}\".format(a_gauss_test))"
   ]
  },
  {
   "cell_type": "code",
   "execution_count": 17,
   "metadata": {},
   "outputs": [
    {
     "data": {
      "text/plain": [
       "GridSearchCV(cv=5, error_score='raise-deprecating',\n",
       "             estimator=SVC(C=1.0, cache_size=200, class_weight=None, coef0=0.0,\n",
       "                           decision_function_shape='ovr', degree=3,\n",
       "                           gamma='auto_deprecated', kernel='rbf', max_iter=-1,\n",
       "                           probability=False, random_state=None, shrinking=True,\n",
       "                           tol=0.001, verbose=False),\n",
       "             iid=False, n_jobs=None,\n",
       "             param_grid={'C': array([   0.01    ,    0.012649,    0.015999, ...,  625.055193,\n",
       "        790.604321, 1000.      ]),\n",
       "                         'gamma': array([   0.0001  ,    0.000118,    0.000138, ...,  722.080902,\n",
       "        849.753436, 1000.      ])},\n",
       "             pre_dispatch='2*n_jobs', refit=True, return_train_score=False,\n",
       "             scoring=None, verbose=0)"
      ]
     },
     "execution_count": 17,
     "metadata": {},
     "output_type": "execute_result"
    }
   ],
   "source": [
    "# Compare using GridSearch\n",
    "\n",
    "from sklearn.model_selection import GridSearchCV, StratifiedShuffleSplit\n",
    "\n",
    "C_range = np.logspace(-2, 3, num=50)\n",
    "gamma_range = np.logspace(-4, 3, num=100)\n",
    "param_grid = dict(gamma=gamma_range, C=C_range)\n",
    "grid = GridSearchCV(svm.SVC(), param_grid=param_grid, cv=5, iid=False)\n",
    "grid.fit(X_train, y_train)"
   ]
  },
  {
   "cell_type": "code",
   "execution_count": 18,
   "metadata": {
    "scrolled": false
   },
   "outputs": [
    {
     "name": "stdout",
     "output_type": "stream",
     "text": [
      "The best parameters are {'C': 390.6939937054621, 'gamma': 0.008111308307896872} with a score of 0.57\n",
      "Accuracy on train: 1.0\n",
      "Accuracy on test: 0.4074074074074074\n"
     ]
    }
   ],
   "source": [
    "print(\n",
    "    \"The best parameters are %s with a score of %0.2f\"\n",
    "    % (grid.best_params_, grid.best_score_)\n",
    ")\n",
    "a_g_train = accuracy_score(y_train, grid.predict(X_train))\n",
    "print(\"Accuracy on train: {}\".format(a_gauss_train))\n",
    "a_g_test = accuracy_score(y_test, grid.predict(X_test))\n",
    "print(\"Accuracy on test: {}\".format(a_gauss_test))"
   ]
  },
  {
   "cell_type": "code",
   "execution_count": 19,
   "metadata": {},
   "outputs": [
    {
     "name": "stdout",
     "output_type": "stream",
     "text": [
      "Best gamma is 0.4328761281083057\n"
     ]
    }
   ],
   "source": [
    "a_gauss_test = max(a_gauss_test, a_g_test)\n",
    "\n",
    "print(\"Best gamma is {}\".format(gamma_min))"
   ]
  },
  {
   "cell_type": "markdown",
   "metadata": {},
   "source": [
    "## Store results"
   ]
  },
  {
   "cell_type": "code",
   "execution_count": 23,
   "metadata": {},
   "outputs": [],
   "source": [
    "import pickle \n",
    "\n",
    "dump_data = dict()\n",
    "dump_data.update({'X': X, 'y': y,'g': g, 'regularization': regularization, 'state': state})\n",
    "dump_data.update({'param_grid_gaussian': param_grid})\n",
    "filename = \"./gdatasets/datasetw{}d{}n{}N{}q{:.2f}c{:.2f}g{:.2f}\\\n",
    "            .pickle\".format(width, depth, sum(state), N, q_acc_test, c_acc_test, a_gauss_test)\n",
    "with open(filename, 'wb') as handle:\n",
    "    pickle.dump(dump_data, handle, protocol=pickle.HIGHEST_PROTOCOL)"
   ]
  },
  {
   "cell_type": "markdown",
   "metadata": {},
   "source": [
    "## Compare with different input states"
   ]
  },
  {
   "cell_type": "code",
   "execution_count": 21,
   "metadata": {},
   "outputs": [
    {
     "name": "stdout",
     "output_type": "stream",
     "text": [
      "[LibSVM]\n",
      "Accuracy on train: 0.7358490566037735\n",
      "Accuracy on test: 0.4074074074074074\n",
      "Overall accuracy: 0.6263685068716516\n"
     ]
    }
   ],
   "source": [
    "gram_train = gram_matrix(c_kernel([0, 0, 0, 0, 1, 1]), X_train)\n",
    "classifier.fit(gram_train, y_train)\n",
    "a_train = accuracy_score(y_train, classifier.predict(gram_train))\n",
    "print(\"\\nAccuracy on train: {}\".format(a_train))\n",
    "\n",
    "gram_test = np.array([[c_kernel([0, 0, 0, 0, 1, 1])(xi, xj) for xi in X_train] for xj in X_test])\n",
    "a_test = accuracy_score(y_test, classifier.predict(gram_test))\n",
    "print(\"Accuracy on test: {}\".format(a_test))\n",
    "print(\"Overall accuracy: {}\".format((1 - test_size) * a_train + test_size * a_test))"
   ]
  },
  {
   "cell_type": "code",
   "execution_count": 22,
   "metadata": {},
   "outputs": [
    {
     "name": "stdout",
     "output_type": "stream",
     "text": [
      "[LibSVM]\n",
      "Accuracy on train: 1.0\n",
      "Accuracy on test: 0.7777777777777778\n",
      "Overall accuracy: 0.925925925925926\n"
     ]
    }
   ],
   "source": [
    "q2_gram_train = gram_matrix(q_kernel([1, 1, 1, 0, 0, 0]), X_train)\n",
    "classifier.fit(q2_gram_train, y_train)\n",
    "a_train = accuracy_score(y_train, classifier.predict(q2_gram_train))\n",
    "print(\"\\nAccuracy on train: {}\".format(a_train))\n",
    "\n",
    "q2_gram_test = np.array([[q_kernel([1, 1, 1, 0, 0, 0])(xi, xj) for xi in X_train] for xj in X_test])\n",
    "a_test = accuracy_score(y_test, classifier.predict(q2_gram_test))\n",
    "print(\"Accuracy on test: {}\".format(a_test))\n",
    "print(\"Overall accuracy: {}\".format((1 - test_size) * a_train + test_size * a_test))"
   ]
  },
  {
   "cell_type": "code",
   "execution_count": null,
   "metadata": {},
   "outputs": [],
   "source": []
  }
 ],
 "metadata": {
  "kernelspec": {
   "display_name": "Python 3",
   "language": "python",
   "name": "python3"
  },
  "language_info": {
   "codemirror_mode": {
    "name": "ipython",
    "version": 3
   },
   "file_extension": ".py",
   "mimetype": "text/x-python",
   "name": "python",
   "nbconvert_exporter": "python",
   "pygments_lexer": "ipython3",
   "version": "3.9.4"
  },
  "toc": {
   "base_numbering": 1,
   "nav_menu": {},
   "number_sections": true,
   "sideBar": true,
   "skip_h1_title": false,
   "title_cell": "Table of Contents",
   "title_sidebar": "Contents",
   "toc_cell": false,
   "toc_position": {},
   "toc_section_display": true,
   "toc_window_display": false
  }
 },
 "nbformat": 4,
 "nbformat_minor": 2
}
