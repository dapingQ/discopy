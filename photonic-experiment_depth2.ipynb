{
 "cells": [
  {
   "cell_type": "markdown",
   "source": [
    "## Nanophotonic natural language processing"
   ],
   "metadata": {}
  },
  {
   "cell_type": "code",
   "execution_count": 31,
   "source": [
    "width, depth = 4, 2  # width and depth of the piece of chip for one word\n",
    "\n",
    "n_photons = 2\n",
    "input_modes = output_modes = [0, 1, 1, 0]\n",
    "\n",
    "bias, weight = -0.7, 5  # bias and weight for the classical post-processing\n",
    "\n",
    "n_iter, alpha, gamma = 20, 0.602, 0.101  # optimization, hyper-parameters\n",
    "\n",
    "SEED = 420"
   ],
   "outputs": [],
   "metadata": {}
  },
  {
   "cell_type": "code",
   "execution_count": null,
   "source": [
    "E = [x if not i else x + str(i + 1) \n",
    "     for i in range(1) for x in [\"Alice\", \"Bob\", \"Claire\", \"Dave\", \"Eve\", \"Fred\"]]\n",
    "R = [\"loves\", \"kills\", \"hates\"]\n",
    "\n",
    "print(\"Nouns: {}\".format(', '.join(E)))\n",
    "print(\"Verbs: {}\".format(', '.join(R)))"
   ],
   "outputs": [],
   "metadata": {}
  },
  {
   "cell_type": "code",
   "execution_count": null,
   "source": [
    "from discopy import Ty, Word, drawing\r\n",
    "\r\n",
    "n = Ty('n')\r\n",
    "\r\n",
    "class SimpleWord(Word):\r\n",
    "    \"\"\" Word boxes with `dom == cod == n`. \"\"\"\r\n",
    "    def __init__(self, name, dom=n, cod=n, data=None, _dagger=False):\r\n",
    "        super().__init__(name, dom=dom, cod=cod, data=data, _dagger=_dagger)\r\n",
    "\r\n",
    "corpus = {\r\n",
    "    ' '.join([x, r, y]):\r\n",
    "    SimpleWord(x) >> SimpleWord(r) >> SimpleWord(y).dagger()\r\n",
    "    for x in E for r in R for y in E}\r\n",
    "\r\n",
    "print(\"{} subject-verb-object sentences:\".format(len(corpus)))\r\n",
    "start = drawing.Equation(*list(corpus.values())[:3], symbol=',')\r\n",
    "end = drawing.Equation(*list(corpus.values())[-3:], symbol=',')\r\n",
    "drawing.equation(start, end, symbol='...', asymmetry=5e-2, figsize=(10, 2), draw_type_labels=False)"
   ],
   "outputs": [],
   "metadata": {}
  },
  {
   "cell_type": "code",
   "execution_count": null,
   "source": [
    "import numpy as np; np.random.seed(SEED)\r\n",
    "\r\n",
    "from discopy.quantum.optics import Id, MZI\r\n",
    "\r\n",
    "# params : set of MZI phase \r\n",
    "# axis: index of E+R, depth, width, [external,internal]\r\n",
    "\r\n",
    "# generte ansatz for given parameters\r\n",
    "def ansatz(params):\r\n",
    "    depth, half_width, _ = params.shape\r\n",
    "    chip = Id(2 * half_width)\r\n",
    "    for i in range(depth):\r\n",
    "        chip >>= Id().tensor(*[\r\n",
    "                MZI(*params[i, j]) for j in range(half_width)])\\\r\n",
    "            if not i % 2 else Id(1).tensor(*[\r\n",
    "                MZI(*params[i, j]) for j in range(half_width - 1)]) @ Id(1)\r\n",
    "    return chip"
   ],
   "outputs": [],
   "metadata": {}
  },
  {
   "cell_type": "code",
   "execution_count": null,
   "source": [
    "n_params"
   ],
   "outputs": [],
   "metadata": {}
  },
  {
   "cell_type": "code",
   "execution_count": 12,
   "source": [
    "n_params = 2 * (depth * width // 2 - depth // 2)\n",
    "\n",
    "random_params = lambda: np.random.uniform(size=(len(E + R), depth, width // 2, 2))\n",
    "\n",
    "params0 = random_params()\n",
    "\n",
    "print(\"Ansatz for 'Bob' ({} parameters):\".format(n_params))\n",
    "\n",
    "drawing.equation(\n",
    "    SimpleWord('Bob'), ansatz(params0[1]),\n",
    "    draw_type_labels=False, symbol='$\\\\mapsto$', figsize=(10, 4))\n",
    "\n",
    "print(\"Total: {} * {} = {} parameters.\".format(len(E + R), n_params, len(E + R) * n_params))\n",
    "print(params0.flatten())"
   ],
   "outputs": [
    {
     "output_type": "stream",
     "name": "stdout",
     "text": [
      "Ansatz for 'Bob' (6 parameters):\n"
     ]
    },
    {
     "output_type": "display_data",
     "data": {
      "text/plain": [
       "<Figure size 720x288 with 1 Axes>"
      ],
      "image/svg+xml": "<?xml version=\"1.0\" encoding=\"utf-8\" standalone=\"no\"?>\r\n<!DOCTYPE svg PUBLIC \"-//W3C//DTD SVG 1.1//EN\"\r\n  \"http://www.w3.org/Graphics/SVG/1.1/DTD/svg11.dtd\">\r\n<svg height=\"302.4pt\" version=\"1.1\" viewBox=\"0 0 734.4 302.4\" width=\"734.4pt\" xmlns=\"http://www.w3.org/2000/svg\" xmlns:xlink=\"http://www.w3.org/1999/xlink\">\r\n <metadata>\r\n  <rdf:RDF xmlns:cc=\"http://creativecommons.org/ns#\" xmlns:dc=\"http://purl.org/dc/elements/1.1/\" xmlns:rdf=\"http://www.w3.org/1999/02/22-rdf-syntax-ns#\">\r\n   <cc:Work>\r\n    <dc:type rdf:resource=\"http://purl.org/dc/dcmitype/StillImage\"/>\r\n    <dc:date>2021-08-03T17:35:52.720312</dc:date>\r\n    <dc:format>image/svg+xml</dc:format>\r\n    <dc:creator>\r\n     <cc:Agent>\r\n      <dc:title>Matplotlib v3.4.2, https://matplotlib.org/</dc:title>\r\n     </cc:Agent>\r\n    </dc:creator>\r\n   </cc:Work>\r\n  </rdf:RDF>\r\n </metadata>\r\n <defs>\r\n  <style type=\"text/css\">*{stroke-linecap:butt;stroke-linejoin:round;}</style>\r\n </defs>\r\n <g id=\"figure_1\">\r\n  <g id=\"patch_1\">\r\n   <path d=\"M 0 302.4 \r\nL 734.4 302.4 \r\nL 734.4 0 \r\nL 0 0 \r\nz\r\n\" style=\"fill:none;\"/>\r\n  </g>\r\n  <g id=\"axes_1\">\r\n   <g id=\"patch_2\">\r\n    <path clip-path=\"url(#p90aed99c7e)\" d=\"M 68.385771 31.2 \r\nQ 68.385771 131.2 68.385771 131.2 \r\n\" style=\"fill:none;stroke:#000000;stroke-linejoin:miter;\"/>\r\n   </g>\r\n   <g id=\"patch_3\">\r\n    <path clip-path=\"url(#p90aed99c7e)\" d=\"M 68.385771 171.2 \r\nQ 68.385771 271.2 68.385771 271.2 \r\n\" style=\"fill:none;stroke:#000000;stroke-linejoin:miter;\"/>\r\n   </g>\r\n   <g id=\"patch_4\">\r\n    <path clip-path=\"url(#p90aed99c7e)\" d=\"M 39.927273 171.2 \r\nL 96.844269 171.2 \r\nL 96.844269 131.2 \r\nL 39.927273 131.2 \r\nz\r\n\" style=\"fill:#ffffff;stroke:#000000;stroke-linejoin:miter;\"/>\r\n   </g>\r\n   <g id=\"patch_5\">\r\n    <path clip-path=\"url(#p90aed99c7e)\" d=\"M 324.512253 31.2 \r\nQ 324.512253 51.2 324.512253 51.2 \r\n\" style=\"fill:none;stroke:#000000;stroke-linejoin:miter;\"/>\r\n   </g>\r\n   <g id=\"patch_6\">\r\n    <path clip-path=\"url(#p90aed99c7e)\" d=\"M 438.346245 31.2 \r\nQ 438.346245 51.2 438.346245 51.2 \r\n\" style=\"fill:none;stroke:#000000;stroke-linejoin:miter;\"/>\r\n   </g>\r\n   <g id=\"patch_7\">\r\n    <path clip-path=\"url(#p90aed99c7e)\" d=\"M 552.180237 31.2 \r\nQ 552.180237 131.2 552.180237 131.2 \r\n\" style=\"fill:none;stroke:#000000;stroke-linejoin:miter;\"/>\r\n   </g>\r\n   <g id=\"patch_8\">\r\n    <path clip-path=\"url(#p90aed99c7e)\" d=\"M 666.014229 31.2 \r\nQ 666.014229 131.2 666.014229 131.2 \r\n\" style=\"fill:none;stroke:#000000;stroke-linejoin:miter;\"/>\r\n   </g>\r\n   <g id=\"patch_9\">\r\n    <path clip-path=\"url(#p90aed99c7e)\" d=\"M 324.512253 91.2 \r\nQ 324.512253 271.2 324.512253 271.2 \r\n\" style=\"fill:none;stroke:#000000;stroke-linejoin:miter;\"/>\r\n   </g>\r\n   <g id=\"patch_10\">\r\n    <path clip-path=\"url(#p90aed99c7e)\" d=\"M 438.346245 91.2 \r\nQ 438.346245 211.2 438.346245 211.2 \r\n\" style=\"fill:none;stroke:#000000;stroke-linejoin:miter;\"/>\r\n   </g>\r\n   <g id=\"patch_11\">\r\n    <path clip-path=\"url(#p90aed99c7e)\" d=\"M 552.180237 171.2 \r\nQ 552.180237 211.2 552.180237 211.2 \r\n\" style=\"fill:none;stroke:#000000;stroke-linejoin:miter;\"/>\r\n   </g>\r\n   <g id=\"patch_12\">\r\n    <path clip-path=\"url(#p90aed99c7e)\" d=\"M 666.014229 171.2 \r\nQ 666.014229 271.2 666.014229 271.2 \r\n\" style=\"fill:none;stroke:#000000;stroke-linejoin:miter;\"/>\r\n   </g>\r\n   <g id=\"patch_13\">\r\n    <path clip-path=\"url(#p90aed99c7e)\" d=\"M 438.346245 251.2 \r\nQ 438.346245 271.2 438.346245 271.2 \r\n\" style=\"fill:none;stroke:#000000;stroke-linejoin:miter;\"/>\r\n   </g>\r\n   <g id=\"patch_14\">\r\n    <path clip-path=\"url(#p90aed99c7e)\" d=\"M 552.180237 251.2 \r\nQ 552.180237 271.2 552.180237 271.2 \r\n\" style=\"fill:none;stroke:#000000;stroke-linejoin:miter;\"/>\r\n   </g>\r\n   <g id=\"patch_15\">\r\n    <path clip-path=\"url(#p90aed99c7e)\" d=\"M 296.053755 91.2 \r\nL 466.804743 91.2 \r\nL 466.804743 51.2 \r\nL 296.053755 51.2 \r\nz\r\n\" style=\"fill:#ffffff;stroke:#000000;stroke-linejoin:miter;\"/>\r\n   </g>\r\n   <g id=\"patch_16\">\r\n    <path clip-path=\"url(#p90aed99c7e)\" d=\"M 523.721739 171.2 \r\nL 694.472727 171.2 \r\nL 694.472727 131.2 \r\nL 523.721739 131.2 \r\nz\r\n\" style=\"fill:#ffffff;stroke:#000000;stroke-linejoin:miter;\"/>\r\n   </g>\r\n   <g id=\"patch_17\">\r\n    <path clip-path=\"url(#p90aed99c7e)\" d=\"M 409.887747 251.2 \r\nL 580.638735 251.2 \r\nL 580.638735 211.2 \r\nL 409.887747 211.2 \r\nz\r\n\" style=\"fill:#ffffff;stroke:#000000;stroke-linejoin:miter;\"/>\r\n   </g>\r\n   <g id=\"text_1\">\r\n    <!-- Bob -->\r\n    <g transform=\"translate(58.721708 153.959375)scale(0.1 -0.1)\">\r\n     <defs>\r\n      <path d=\"M 1259 2228 \r\nL 1259 519 \r\nL 2272 519 \r\nQ 2781 519 3026 730 \r\nQ 3272 941 3272 1375 \r\nQ 3272 1813 3026 2020 \r\nQ 2781 2228 2272 2228 \r\nL 1259 2228 \r\nz\r\nM 1259 4147 \r\nL 1259 2741 \r\nL 2194 2741 \r\nQ 2656 2741 2882 2914 \r\nQ 3109 3088 3109 3444 \r\nQ 3109 3797 2882 3972 \r\nQ 2656 4147 2194 4147 \r\nL 1259 4147 \r\nz\r\nM 628 4666 \r\nL 2241 4666 \r\nQ 2963 4666 3353 4366 \r\nQ 3744 4066 3744 3513 \r\nQ 3744 3084 3544 2831 \r\nQ 3344 2578 2956 2516 \r\nQ 3422 2416 3680 2098 \r\nQ 3938 1781 3938 1306 \r\nQ 3938 681 3513 340 \r\nQ 3088 0 2303 0 \r\nL 628 0 \r\nL 628 4666 \r\nz\r\n\" id=\"DejaVuSans-42\" transform=\"scale(0.015625)\"/>\r\n      <path d=\"M 1959 3097 \r\nQ 1497 3097 1228 2736 \r\nQ 959 2375 959 1747 \r\nQ 959 1119 1226 758 \r\nQ 1494 397 1959 397 \r\nQ 2419 397 2687 759 \r\nQ 2956 1122 2956 1747 \r\nQ 2956 2369 2687 2733 \r\nQ 2419 3097 1959 3097 \r\nz\r\nM 1959 3584 \r\nQ 2709 3584 3137 3096 \r\nQ 3566 2609 3566 1747 \r\nQ 3566 888 3137 398 \r\nQ 2709 -91 1959 -91 \r\nQ 1206 -91 779 398 \r\nQ 353 888 353 1747 \r\nQ 353 2609 779 3096 \r\nQ 1206 3584 1959 3584 \r\nz\r\n\" id=\"DejaVuSans-6f\" transform=\"scale(0.015625)\"/>\r\n      <path d=\"M 3116 1747 \r\nQ 3116 2381 2855 2742 \r\nQ 2594 3103 2138 3103 \r\nQ 1681 3103 1420 2742 \r\nQ 1159 2381 1159 1747 \r\nQ 1159 1113 1420 752 \r\nQ 1681 391 2138 391 \r\nQ 2594 391 2855 752 \r\nQ 3116 1113 3116 1747 \r\nz\r\nM 1159 2969 \r\nQ 1341 3281 1617 3432 \r\nQ 1894 3584 2278 3584 \r\nQ 2916 3584 3314 3078 \r\nQ 3713 2572 3713 1747 \r\nQ 3713 922 3314 415 \r\nQ 2916 -91 2278 -91 \r\nQ 1894 -91 1617 61 \r\nQ 1341 213 1159 525 \r\nL 1159 0 \r\nL 581 0 \r\nL 581 4863 \r\nL 1159 4863 \r\nL 1159 2969 \r\nz\r\n\" id=\"DejaVuSans-62\" transform=\"scale(0.015625)\"/>\r\n     </defs>\r\n     <use xlink:href=\"#DejaVuSans-42\"/>\r\n     <use x=\"68.603516\" xlink:href=\"#DejaVuSans-6f\"/>\r\n     <use x=\"129.785156\" xlink:href=\"#DejaVuSans-62\"/>\r\n    </g>\r\n   </g>\r\n   <g id=\"text_2\">\r\n    <!-- $\\mapsto$ -->\r\n    <g transform=\"translate(210.678261 151.2)scale(0.12 -0.12)\">\r\n     <defs>\r\n      <path d=\"M 4175 1741 \r\nL 897 1741 \r\nL 897 663 \r\nL 366 663 \r\nL 366 3350 \r\nL 897 3350 \r\nL 897 2272 \r\nL 4175 2272 \r\nL 3447 3000 \r\nL 3822 3375 \r\nL 5050 2147 \r\nL 5050 1866 \r\nL 3822 638 \r\nL 3447 1013 \r\nL 4175 1741 \r\nz\r\n\" id=\"DejaVuSans-21a6\" transform=\"scale(0.015625)\"/>\r\n     </defs>\r\n     <use transform=\"translate(19.482422 0.265625)\" xlink:href=\"#DejaVuSans-21a6\"/>\r\n    </g>\r\n   </g>\r\n   <g id=\"text_3\">\r\n    <!-- MZI -->\r\n    <g transform=\"translate(372.215187 73.959375)scale(0.1 -0.1)\">\r\n     <defs>\r\n      <path d=\"M 628 4666 \r\nL 1569 4666 \r\nL 2759 1491 \r\nL 3956 4666 \r\nL 4897 4666 \r\nL 4897 0 \r\nL 4281 0 \r\nL 4281 4097 \r\nL 3078 897 \r\nL 2444 897 \r\nL 1241 4097 \r\nL 1241 0 \r\nL 628 0 \r\nL 628 4666 \r\nz\r\n\" id=\"DejaVuSans-4d\" transform=\"scale(0.015625)\"/>\r\n      <path d=\"M 359 4666 \r\nL 4025 4666 \r\nL 4025 4184 \r\nL 1075 531 \r\nL 4097 531 \r\nL 4097 0 \r\nL 288 0 \r\nL 288 481 \r\nL 3238 4134 \r\nL 359 4134 \r\nL 359 4666 \r\nz\r\n\" id=\"DejaVuSans-5a\" transform=\"scale(0.015625)\"/>\r\n      <path d=\"M 628 4666 \r\nL 1259 4666 \r\nL 1259 0 \r\nL 628 0 \r\nL 628 4666 \r\nz\r\n\" id=\"DejaVuSans-49\" transform=\"scale(0.015625)\"/>\r\n     </defs>\r\n     <use xlink:href=\"#DejaVuSans-4d\"/>\r\n     <use x=\"86.279297\" xlink:href=\"#DejaVuSans-5a\"/>\r\n     <use x=\"154.785156\" xlink:href=\"#DejaVuSans-49\"/>\r\n    </g>\r\n   </g>\r\n   <g id=\"text_4\">\r\n    <!-- MZI -->\r\n    <g transform=\"translate(599.883171 153.959375)scale(0.1 -0.1)\">\r\n     <use xlink:href=\"#DejaVuSans-4d\"/>\r\n     <use x=\"86.279297\" xlink:href=\"#DejaVuSans-5a\"/>\r\n     <use x=\"154.785156\" xlink:href=\"#DejaVuSans-49\"/>\r\n    </g>\r\n   </g>\r\n   <g id=\"text_5\">\r\n    <!-- MZI -->\r\n    <g transform=\"translate(486.049179 233.959375)scale(0.1 -0.1)\">\r\n     <use xlink:href=\"#DejaVuSans-4d\"/>\r\n     <use x=\"86.279297\" xlink:href=\"#DejaVuSans-5a\"/>\r\n     <use x=\"154.785156\" xlink:href=\"#DejaVuSans-49\"/>\r\n    </g>\r\n   </g>\r\n  </g>\r\n </g>\r\n <defs>\r\n  <clipPath id=\"p90aed99c7e\">\r\n   <rect height=\"288\" width=\"720\" x=\"7.2\" y=\"7.2\"/>\r\n  </clipPath>\r\n </defs>\r\n</svg>\r\n",
      "image/png": "[encoded data removed]"
     },
     "metadata": {
      "needs_background": "light"
     }
    },
    {
     "output_type": "stream",
     "name": "stdout",
     "text": [
      "Total: 9 * 6 = 54 parameters.\n",
      "[0.15192438 0.5807287  0.18929702 ... 0.41410442 0.04911702 0.99226202]\n"
     ]
    }
   ],
   "metadata": {}
  },
  {
   "cell_type": "code",
   "execution_count": 28,
   "source": [
    "corpus[\"Alice loves Bob\"]"
   ],
   "outputs": [
    {
     "output_type": "execute_result",
     "data": {
      "text/plain": [
       "Diagram(dom=Ty('n'), cod=Ty('n'), boxes=[Word('Alice', Ty('n'), dom=Ty('n')), Word('loves', Ty('n'), dom=Ty('n')), Word('Bob', Ty('n'), dom=Ty('n'))], offsets=[0, 0, 0])"
      ]
     },
     "metadata": {},
     "execution_count": 28
    }
   ],
   "metadata": {}
  },
  {
   "cell_type": "code",
   "execution_count": 29,
   "source": [
    "from discopy.quantum.optics import Functor\n",
    "\n",
    "F = lambda params: Functor(\n",
    "    ob={n: Ty(1) ** width},\n",
    "    ar={SimpleWord(w): ansatz(params[i]) for i, w in enumerate(E + R)})\n",
    "\n",
    "F0 = F(params0)\n",
    "\n",
    "print(\"Ansatz for 'Alice loves Bob':\")\n",
    "drawing.equation(\n",
    "    corpus[\"Alice loves Bob\"], F0(corpus[\"Alice loves Bob\"]),\n",
    "    symbol='$\\\\mapsto$', figsize=(10, 8), draw_type_labels=False, asymmetry=5e-2)"
   ],
   "outputs": [
    {
     "output_type": "stream",
     "name": "stdout",
     "text": [
      "Ansatz for 'Alice loves Bob':\n"
     ]
    },
    {
     "output_type": "display_data",
     "data": {
      "text/plain": [
       "<Figure size 720x576 with 1 Axes>"
      ],
      "image/svg+xml": "<?xml version=\"1.0\" encoding=\"utf-8\" standalone=\"no\"?>\r\n<!DOCTYPE svg PUBLIC \"-//W3C//DTD SVG 1.1//EN\"\r\n  \"http://www.w3.org/Graphics/SVG/1.1/DTD/svg11.dtd\">\r\n<svg height=\"590.4pt\" version=\"1.1\" viewBox=\"0 0 734.4 590.4\" width=\"734.4pt\" xmlns=\"http://www.w3.org/2000/svg\" xmlns:xlink=\"http://www.w3.org/1999/xlink\">\r\n <metadata>\r\n  <rdf:RDF xmlns:cc=\"http://creativecommons.org/ns#\" xmlns:dc=\"http://purl.org/dc/elements/1.1/\" xmlns:rdf=\"http://www.w3.org/1999/02/22-rdf-syntax-ns#\">\r\n   <cc:Work>\r\n    <dc:type rdf:resource=\"http://purl.org/dc/dcmitype/StillImage\"/>\r\n    <dc:date>2021-08-03T17:41:32.182751</dc:date>\r\n    <dc:format>image/svg+xml</dc:format>\r\n    <dc:creator>\r\n     <cc:Agent>\r\n      <dc:title>Matplotlib v3.4.2, https://matplotlib.org/</dc:title>\r\n     </cc:Agent>\r\n    </dc:creator>\r\n   </cc:Work>\r\n  </rdf:RDF>\r\n </metadata>\r\n <defs>\r\n  <style type=\"text/css\">*{stroke-linecap:butt;stroke-linejoin:round;}</style>\r\n </defs>\r\n <g id=\"figure_1\">\r\n  <g id=\"patch_1\">\r\n   <path d=\"M 0 590.4 \r\nL 734.4 590.4 \r\nL 734.4 0 \r\nL 0 0 \r\nz\r\n\" style=\"fill:none;\"/>\r\n  </g>\r\n  <g id=\"axes_1\">\r\n   <g id=\"patch_2\">\r\n    <path clip-path=\"url(#pe0ee811e38)\" d=\"M 67.899301 55.2 \r\nQ 67.899301 121.866667 67.899301 121.866667 \r\n\" style=\"fill:none;stroke:#000000;stroke-linejoin:miter;\"/>\r\n   </g>\r\n   <g id=\"patch_3\">\r\n    <path clip-path=\"url(#pe0ee811e38)\" d=\"M 67.899301 148.533333 \r\nQ 67.899301 281.866667 67.899301 281.866667 \r\n\" style=\"fill:none;stroke:#000000;stroke-linejoin:miter;\"/>\r\n   </g>\r\n   <g id=\"patch_4\">\r\n    <path clip-path=\"url(#pe0ee811e38)\" d=\"M 67.899301 308.533333 \r\nQ 67.899301 441.866667 67.899301 441.866667 \r\n\" style=\"fill:none;stroke:#000000;stroke-linejoin:miter;\"/>\r\n   </g>\r\n   <g id=\"patch_5\">\r\n    <path clip-path=\"url(#pe0ee811e38)\" d=\"M 67.899301 468.533333 \r\nQ 67.899301 535.2 67.899301 535.2 \r\n\" style=\"fill:none;stroke:#000000;stroke-linejoin:miter;\"/>\r\n   </g>\r\n   <g id=\"patch_6\">\r\n    <path clip-path=\"url(#pe0ee811e38)\" d=\"M 39.927273 148.533333 \r\nL 95.871329 148.533333 \r\nL 101.465734 121.866667 \r\nL 39.927273 121.866667 \r\nz\r\n\" style=\"fill:#ffffff;stroke:#000000;stroke-linejoin:miter;\"/>\r\n   </g>\r\n   <g id=\"patch_7\">\r\n    <path clip-path=\"url(#pe0ee811e38)\" d=\"M 39.927273 308.533333 \r\nL 95.871329 308.533333 \r\nL 101.465734 281.866667 \r\nL 39.927273 281.866667 \r\nz\r\n\" style=\"fill:#ffffff;stroke:#000000;stroke-linejoin:miter;\"/>\r\n   </g>\r\n   <g id=\"patch_8\">\r\n    <path clip-path=\"url(#pe0ee811e38)\" d=\"M 39.927273 468.533333 \r\nL 101.465734 468.533333 \r\nL 95.871329 441.866667 \r\nL 39.927273 441.866667 \r\nz\r\n\" style=\"fill:#ffffff;stroke:#000000;stroke-linejoin:miter;\"/>\r\n   </g>\r\n   <g id=\"patch_9\">\r\n    <path clip-path=\"url(#pe0ee811e38)\" d=\"M 325.241958 55.2 \r\nQ 325.241958 68.533333 325.241958 68.533333 \r\n\" style=\"fill:none;stroke:#000000;stroke-linejoin:miter;\"/>\r\n   </g>\r\n   <g id=\"patch_10\">\r\n    <path clip-path=\"url(#pe0ee811e38)\" d=\"M 437.13007 55.2 \r\nQ 437.13007 68.533333 437.13007 68.533333 \r\n\" style=\"fill:none;stroke:#000000;stroke-linejoin:miter;\"/>\r\n   </g>\r\n   <g id=\"patch_11\">\r\n    <path clip-path=\"url(#pe0ee811e38)\" d=\"M 549.018182 55.2 \r\nQ 549.018182 121.866667 549.018182 121.866667 \r\n\" style=\"fill:none;stroke:#000000;stroke-linejoin:miter;\"/>\r\n   </g>\r\n   <g id=\"patch_12\">\r\n    <path clip-path=\"url(#pe0ee811e38)\" d=\"M 660.906294 55.2 \r\nQ 660.906294 121.866667 660.906294 121.866667 \r\n\" style=\"fill:none;stroke:#000000;stroke-linejoin:miter;\"/>\r\n   </g>\r\n   <g id=\"patch_13\">\r\n    <path clip-path=\"url(#pe0ee811e38)\" d=\"M 325.241958 95.2 \r\nQ 325.241958 228.533333 325.241958 228.533333 \r\n\" style=\"fill:none;stroke:#000000;stroke-linejoin:miter;\"/>\r\n   </g>\r\n   <g id=\"patch_14\">\r\n    <path clip-path=\"url(#pe0ee811e38)\" d=\"M 437.13007 95.2 \r\nQ 437.13007 175.2 437.13007 175.2 \r\n\" style=\"fill:none;stroke:#000000;stroke-linejoin:miter;\"/>\r\n   </g>\r\n   <g id=\"patch_15\">\r\n    <path clip-path=\"url(#pe0ee811e38)\" d=\"M 549.018182 148.533333 \r\nQ 549.018182 175.2 549.018182 175.2 \r\n\" style=\"fill:none;stroke:#000000;stroke-linejoin:miter;\"/>\r\n   </g>\r\n   <g id=\"patch_16\">\r\n    <path clip-path=\"url(#pe0ee811e38)\" d=\"M 660.906294 148.533333 \r\nQ 660.906294 281.866667 660.906294 281.866667 \r\n\" style=\"fill:none;stroke:#000000;stroke-linejoin:miter;\"/>\r\n   </g>\r\n   <g id=\"patch_17\">\r\n    <path clip-path=\"url(#pe0ee811e38)\" d=\"M 437.13007 201.866667 \r\nQ 437.13007 228.533333 437.13007 228.533333 \r\n\" style=\"fill:none;stroke:#000000;stroke-linejoin:miter;\"/>\r\n   </g>\r\n   <g id=\"patch_18\">\r\n    <path clip-path=\"url(#pe0ee811e38)\" d=\"M 549.018182 201.866667 \r\nQ 549.018182 281.866667 549.018182 281.866667 \r\n\" style=\"fill:none;stroke:#000000;stroke-linejoin:miter;\"/>\r\n   </g>\r\n   <g id=\"patch_19\">\r\n    <path clip-path=\"url(#pe0ee811e38)\" d=\"M 325.241958 255.2 \r\nQ 325.241958 495.2 325.241958 495.2 \r\n\" style=\"fill:none;stroke:#000000;stroke-linejoin:miter;\"/>\r\n   </g>\r\n   <g id=\"patch_20\">\r\n    <path clip-path=\"url(#pe0ee811e38)\" d=\"M 437.13007 255.2 \r\nQ 437.13007 335.2 437.13007 335.2 \r\n\" style=\"fill:none;stroke:#000000;stroke-linejoin:miter;\"/>\r\n   </g>\r\n   <g id=\"patch_21\">\r\n    <path clip-path=\"url(#pe0ee811e38)\" d=\"M 549.018182 308.533333 \r\nQ 549.018182 335.2 549.018182 335.2 \r\n\" style=\"fill:none;stroke:#000000;stroke-linejoin:miter;\"/>\r\n   </g>\r\n   <g id=\"patch_22\">\r\n    <path clip-path=\"url(#pe0ee811e38)\" d=\"M 660.906294 308.533333 \r\nQ 660.906294 441.866667 660.906294 441.866667 \r\n\" style=\"fill:none;stroke:#000000;stroke-linejoin:miter;\"/>\r\n   </g>\r\n   <g id=\"patch_23\">\r\n    <path clip-path=\"url(#pe0ee811e38)\" d=\"M 437.13007 361.866667 \r\nQ 437.13007 388.533333 437.13007 388.533333 \r\n\" style=\"fill:none;stroke:#000000;stroke-linejoin:miter;\"/>\r\n   </g>\r\n   <g id=\"patch_24\">\r\n    <path clip-path=\"url(#pe0ee811e38)\" d=\"M 549.018182 361.866667 \r\nQ 549.018182 388.533333 549.018182 388.533333 \r\n\" style=\"fill:none;stroke:#000000;stroke-linejoin:miter;\"/>\r\n   </g>\r\n   <g id=\"patch_25\">\r\n    <path clip-path=\"url(#pe0ee811e38)\" d=\"M 437.13007 415.2 \r\nQ 437.13007 495.2 437.13007 495.2 \r\n\" style=\"fill:none;stroke:#000000;stroke-linejoin:miter;\"/>\r\n   </g>\r\n   <g id=\"patch_26\">\r\n    <path clip-path=\"url(#pe0ee811e38)\" d=\"M 549.018182 415.2 \r\nQ 549.018182 441.866667 549.018182 441.866667 \r\n\" style=\"fill:none;stroke:#000000;stroke-linejoin:miter;\"/>\r\n   </g>\r\n   <g id=\"patch_27\">\r\n    <path clip-path=\"url(#pe0ee811e38)\" d=\"M 549.018182 468.533333 \r\nQ 549.018182 535.2 549.018182 535.2 \r\n\" style=\"fill:none;stroke:#000000;stroke-linejoin:miter;\"/>\r\n   </g>\r\n   <g id=\"patch_28\">\r\n    <path clip-path=\"url(#pe0ee811e38)\" d=\"M 660.906294 468.533333 \r\nQ 660.906294 535.2 660.906294 535.2 \r\n\" style=\"fill:none;stroke:#000000;stroke-linejoin:miter;\"/>\r\n   </g>\r\n   <g id=\"patch_29\">\r\n    <path clip-path=\"url(#pe0ee811e38)\" d=\"M 325.241958 521.866667 \r\nQ 325.241958 535.2 325.241958 535.2 \r\n\" style=\"fill:none;stroke:#000000;stroke-linejoin:miter;\"/>\r\n   </g>\r\n   <g id=\"patch_30\">\r\n    <path clip-path=\"url(#pe0ee811e38)\" d=\"M 437.13007 521.866667 \r\nQ 437.13007 535.2 437.13007 535.2 \r\n\" style=\"fill:none;stroke:#000000;stroke-linejoin:miter;\"/>\r\n   </g>\r\n   <g id=\"patch_31\">\r\n    <path clip-path=\"url(#pe0ee811e38)\" d=\"M 297.26993 95.2 \r\nL 465.102098 95.2 \r\nL 470.696503 68.533333 \r\nL 297.26993 68.533333 \r\nz\r\n\" style=\"fill:#ffffff;stroke:#000000;stroke-linejoin:miter;\"/>\r\n   </g>\r\n   <g id=\"patch_32\">\r\n    <path clip-path=\"url(#pe0ee811e38)\" d=\"M 521.046154 148.533333 \r\nL 688.878322 148.533333 \r\nL 694.472727 121.866667 \r\nL 521.046154 121.866667 \r\nz\r\n\" style=\"fill:#ffffff;stroke:#000000;stroke-linejoin:miter;\"/>\r\n   </g>\r\n   <g id=\"patch_33\">\r\n    <path clip-path=\"url(#pe0ee811e38)\" d=\"M 409.158042 201.866667 \r\nL 576.99021 201.866667 \r\nL 582.584615 175.2 \r\nL 409.158042 175.2 \r\nz\r\n\" style=\"fill:#ffffff;stroke:#000000;stroke-linejoin:miter;\"/>\r\n   </g>\r\n   <g id=\"patch_34\">\r\n    <path clip-path=\"url(#pe0ee811e38)\" d=\"M 297.26993 255.2 \r\nL 465.102098 255.2 \r\nL 470.696503 228.533333 \r\nL 297.26993 228.533333 \r\nz\r\n\" style=\"fill:#ffffff;stroke:#000000;stroke-linejoin:miter;\"/>\r\n   </g>\r\n   <g id=\"patch_35\">\r\n    <path clip-path=\"url(#pe0ee811e38)\" d=\"M 521.046154 308.533333 \r\nL 688.878322 308.533333 \r\nL 694.472727 281.866667 \r\nL 521.046154 281.866667 \r\nz\r\n\" style=\"fill:#ffffff;stroke:#000000;stroke-linejoin:miter;\"/>\r\n   </g>\r\n   <g id=\"patch_36\">\r\n    <path clip-path=\"url(#pe0ee811e38)\" d=\"M 409.158042 361.866667 \r\nL 576.99021 361.866667 \r\nL 582.584615 335.2 \r\nL 409.158042 335.2 \r\nz\r\n\" style=\"fill:#ffffff;stroke:#000000;stroke-linejoin:miter;\"/>\r\n   </g>\r\n   <g id=\"patch_37\">\r\n    <path clip-path=\"url(#pe0ee811e38)\" d=\"M 409.158042 415.2 \r\nL 576.99021 415.2 \r\nL 582.584615 388.533333 \r\nL 409.158042 388.533333 \r\nz\r\n\" style=\"fill:#ffffff;stroke:#000000;stroke-linejoin:miter;\"/>\r\n   </g>\r\n   <g id=\"patch_38\">\r\n    <path clip-path=\"url(#pe0ee811e38)\" d=\"M 521.046154 468.533333 \r\nL 688.878322 468.533333 \r\nL 694.472727 441.866667 \r\nL 521.046154 441.866667 \r\nz\r\n\" style=\"fill:#ffffff;stroke:#000000;stroke-linejoin:miter;\"/>\r\n   </g>\r\n   <g id=\"patch_39\">\r\n    <path clip-path=\"url(#pe0ee811e38)\" d=\"M 297.26993 521.866667 \r\nL 465.102098 521.866667 \r\nL 470.696503 495.2 \r\nL 297.26993 495.2 \r\nz\r\n\" style=\"fill:#ffffff;stroke:#000000;stroke-linejoin:miter;\"/>\r\n   </g>\r\n   <g id=\"text_1\">\r\n    <!-- Alice -->\r\n    <g transform=\"translate(55.875082 137.959375)scale(0.1 -0.1)\">\r\n     <defs>\r\n      <path d=\"M 2188 4044 \r\nL 1331 1722 \r\nL 3047 1722 \r\nL 2188 4044 \r\nz\r\nM 1831 4666 \r\nL 2547 4666 \r\nL 4325 0 \r\nL 3669 0 \r\nL 3244 1197 \r\nL 1141 1197 \r\nL 716 0 \r\nL 50 0 \r\nL 1831 4666 \r\nz\r\n\" id=\"DejaVuSans-41\" transform=\"scale(0.015625)\"/>\r\n      <path d=\"M 603 4863 \r\nL 1178 4863 \r\nL 1178 0 \r\nL 603 0 \r\nL 603 4863 \r\nz\r\n\" id=\"DejaVuSans-6c\" transform=\"scale(0.015625)\"/>\r\n      <path d=\"M 603 3500 \r\nL 1178 3500 \r\nL 1178 0 \r\nL 603 0 \r\nL 603 3500 \r\nz\r\nM 603 4863 \r\nL 1178 4863 \r\nL 1178 4134 \r\nL 603 4134 \r\nL 603 4863 \r\nz\r\n\" id=\"DejaVuSans-69\" transform=\"scale(0.015625)\"/>\r\n      <path d=\"M 3122 3366 \r\nL 3122 2828 \r\nQ 2878 2963 2633 3030 \r\nQ 2388 3097 2138 3097 \r\nQ 1578 3097 1268 2742 \r\nQ 959 2388 959 1747 \r\nQ 959 1106 1268 751 \r\nQ 1578 397 2138 397 \r\nQ 2388 397 2633 464 \r\nQ 2878 531 3122 666 \r\nL 3122 134 \r\nQ 2881 22 2623 -34 \r\nQ 2366 -91 2075 -91 \r\nQ 1284 -91 818 406 \r\nQ 353 903 353 1747 \r\nQ 353 2603 823 3093 \r\nQ 1294 3584 2113 3584 \r\nQ 2378 3584 2631 3529 \r\nQ 2884 3475 3122 3366 \r\nz\r\n\" id=\"DejaVuSans-63\" transform=\"scale(0.015625)\"/>\r\n      <path d=\"M 3597 1894 \r\nL 3597 1613 \r\nL 953 1613 \r\nQ 991 1019 1311 708 \r\nQ 1631 397 2203 397 \r\nQ 2534 397 2845 478 \r\nQ 3156 559 3463 722 \r\nL 3463 178 \r\nQ 3153 47 2828 -22 \r\nQ 2503 -91 2169 -91 \r\nQ 1331 -91 842 396 \r\nQ 353 884 353 1716 \r\nQ 353 2575 817 3079 \r\nQ 1281 3584 2069 3584 \r\nQ 2775 3584 3186 3129 \r\nQ 3597 2675 3597 1894 \r\nz\r\nM 3022 2063 \r\nQ 3016 2534 2758 2815 \r\nQ 2500 3097 2075 3097 \r\nQ 1594 3097 1305 2825 \r\nQ 1016 2553 972 2059 \r\nL 3022 2063 \r\nz\r\n\" id=\"DejaVuSans-65\" transform=\"scale(0.015625)\"/>\r\n     </defs>\r\n     <use xlink:href=\"#DejaVuSans-41\"/>\r\n     <use x=\"68.408203\" xlink:href=\"#DejaVuSans-6c\"/>\r\n     <use x=\"96.191406\" xlink:href=\"#DejaVuSans-69\"/>\r\n     <use x=\"123.974609\" xlink:href=\"#DejaVuSans-63\"/>\r\n     <use x=\"178.955078\" xlink:href=\"#DejaVuSans-65\"/>\r\n    </g>\r\n   </g>\r\n   <g id=\"text_2\">\r\n    <!-- loves -->\r\n    <g transform=\"translate(54.810238 297.959375)scale(0.1 -0.1)\">\r\n     <defs>\r\n      <path d=\"M 1959 3097 \r\nQ 1497 3097 1228 2736 \r\nQ 959 2375 959 1747 \r\nQ 959 1119 1226 758 \r\nQ 1494 397 1959 397 \r\nQ 2419 397 2687 759 \r\nQ 2956 1122 2956 1747 \r\nQ 2956 2369 2687 2733 \r\nQ 2419 3097 1959 3097 \r\nz\r\nM 1959 3584 \r\nQ 2709 3584 3137 3096 \r\nQ 3566 2609 3566 1747 \r\nQ 3566 888 3137 398 \r\nQ 2709 -91 1959 -91 \r\nQ 1206 -91 779 398 \r\nQ 353 888 353 1747 \r\nQ 353 2609 779 3096 \r\nQ 1206 3584 1959 3584 \r\nz\r\n\" id=\"DejaVuSans-6f\" transform=\"scale(0.015625)\"/>\r\n      <path d=\"M 191 3500 \r\nL 800 3500 \r\nL 1894 563 \r\nL 2988 3500 \r\nL 3597 3500 \r\nL 2284 0 \r\nL 1503 0 \r\nL 191 3500 \r\nz\r\n\" id=\"DejaVuSans-76\" transform=\"scale(0.015625)\"/>\r\n      <path d=\"M 2834 3397 \r\nL 2834 2853 \r\nQ 2591 2978 2328 3040 \r\nQ 2066 3103 1784 3103 \r\nQ 1356 3103 1142 2972 \r\nQ 928 2841 928 2578 \r\nQ 928 2378 1081 2264 \r\nQ 1234 2150 1697 2047 \r\nL 1894 2003 \r\nQ 2506 1872 2764 1633 \r\nQ 3022 1394 3022 966 \r\nQ 3022 478 2636 193 \r\nQ 2250 -91 1575 -91 \r\nQ 1294 -91 989 -36 \r\nQ 684 19 347 128 \r\nL 347 722 \r\nQ 666 556 975 473 \r\nQ 1284 391 1588 391 \r\nQ 1994 391 2212 530 \r\nQ 2431 669 2431 922 \r\nQ 2431 1156 2273 1281 \r\nQ 2116 1406 1581 1522 \r\nL 1381 1569 \r\nQ 847 1681 609 1914 \r\nQ 372 2147 372 2553 \r\nQ 372 3047 722 3315 \r\nQ 1072 3584 1716 3584 \r\nQ 2034 3584 2315 3537 \r\nQ 2597 3491 2834 3397 \r\nz\r\n\" id=\"DejaVuSans-73\" transform=\"scale(0.015625)\"/>\r\n     </defs>\r\n     <use xlink:href=\"#DejaVuSans-6c\"/>\r\n     <use x=\"27.783203\" xlink:href=\"#DejaVuSans-6f\"/>\r\n     <use x=\"88.964844\" xlink:href=\"#DejaVuSans-76\"/>\r\n     <use x=\"148.144531\" xlink:href=\"#DejaVuSans-65\"/>\r\n     <use x=\"209.667969\" xlink:href=\"#DejaVuSans-73\"/>\r\n    </g>\r\n   </g>\r\n   <g id=\"text_3\">\r\n    <!-- Bob -->\r\n    <g transform=\"translate(58.235238 457.959375)scale(0.1 -0.1)\">\r\n     <defs>\r\n      <path d=\"M 1259 2228 \r\nL 1259 519 \r\nL 2272 519 \r\nQ 2781 519 3026 730 \r\nQ 3272 941 3272 1375 \r\nQ 3272 1813 3026 2020 \r\nQ 2781 2228 2272 2228 \r\nL 1259 2228 \r\nz\r\nM 1259 4147 \r\nL 1259 2741 \r\nL 2194 2741 \r\nQ 2656 2741 2882 2914 \r\nQ 3109 3088 3109 3444 \r\nQ 3109 3797 2882 3972 \r\nQ 2656 4147 2194 4147 \r\nL 1259 4147 \r\nz\r\nM 628 4666 \r\nL 2241 4666 \r\nQ 2963 4666 3353 4366 \r\nQ 3744 4066 3744 3513 \r\nQ 3744 3084 3544 2831 \r\nQ 3344 2578 2956 2516 \r\nQ 3422 2416 3680 2098 \r\nQ 3938 1781 3938 1306 \r\nQ 3938 681 3513 340 \r\nQ 3088 0 2303 0 \r\nL 628 0 \r\nL 628 4666 \r\nz\r\n\" id=\"DejaVuSans-42\" transform=\"scale(0.015625)\"/>\r\n      <path d=\"M 3116 1747 \r\nQ 3116 2381 2855 2742 \r\nQ 2594 3103 2138 3103 \r\nQ 1681 3103 1420 2742 \r\nQ 1159 2381 1159 1747 \r\nQ 1159 1113 1420 752 \r\nQ 1681 391 2138 391 \r\nQ 2594 391 2855 752 \r\nQ 3116 1113 3116 1747 \r\nz\r\nM 1159 2969 \r\nQ 1341 3281 1617 3432 \r\nQ 1894 3584 2278 3584 \r\nQ 2916 3584 3314 3078 \r\nQ 3713 2572 3713 1747 \r\nQ 3713 922 3314 415 \r\nQ 2916 -91 2278 -91 \r\nQ 1894 -91 1617 61 \r\nQ 1341 213 1159 525 \r\nL 1159 0 \r\nL 581 0 \r\nL 581 4863 \r\nL 1159 4863 \r\nL 1159 2969 \r\nz\r\n\" id=\"DejaVuSans-62\" transform=\"scale(0.015625)\"/>\r\n     </defs>\r\n     <use xlink:href=\"#DejaVuSans-42\"/>\r\n     <use x=\"68.603516\" xlink:href=\"#DejaVuSans-6f\"/>\r\n     <use x=\"129.785156\" xlink:href=\"#DejaVuSans-62\"/>\r\n    </g>\r\n   </g>\r\n   <g id=\"text_4\">\r\n    <!-- $\\mapsto$ -->\r\n    <g transform=\"translate(213.353846 295.2)scale(0.12 -0.12)\">\r\n     <defs>\r\n      <path d=\"M 4175 1741 \r\nL 897 1741 \r\nL 897 663 \r\nL 366 663 \r\nL 366 3350 \r\nL 897 3350 \r\nL 897 2272 \r\nL 4175 2272 \r\nL 3447 3000 \r\nL 3822 3375 \r\nL 5050 2147 \r\nL 5050 1866 \r\nL 3822 638 \r\nL 3447 1013 \r\nL 4175 1741 \r\nz\r\n\" id=\"DejaVuSans-21a6\" transform=\"scale(0.015625)\"/>\r\n     </defs>\r\n     <use transform=\"translate(19.482422 0.265625)\" xlink:href=\"#DejaVuSans-21a6\"/>\r\n    </g>\r\n   </g>\r\n   <g id=\"text_5\">\r\n    <!-- MZI -->\r\n    <g transform=\"translate(371.971951 84.626042)scale(0.1 -0.1)\">\r\n     <defs>\r\n      <path d=\"M 628 4666 \r\nL 1569 4666 \r\nL 2759 1491 \r\nL 3956 4666 \r\nL 4897 4666 \r\nL 4897 0 \r\nL 4281 0 \r\nL 4281 4097 \r\nL 3078 897 \r\nL 2444 897 \r\nL 1241 4097 \r\nL 1241 0 \r\nL 628 0 \r\nL 628 4666 \r\nz\r\n\" id=\"DejaVuSans-4d\" transform=\"scale(0.015625)\"/>\r\n      <path d=\"M 359 4666 \r\nL 4025 4666 \r\nL 4025 4184 \r\nL 1075 531 \r\nL 4097 531 \r\nL 4097 0 \r\nL 288 0 \r\nL 288 481 \r\nL 3238 4134 \r\nL 359 4134 \r\nL 359 4666 \r\nz\r\n\" id=\"DejaVuSans-5a\" transform=\"scale(0.015625)\"/>\r\n      <path d=\"M 628 4666 \r\nL 1259 4666 \r\nL 1259 0 \r\nL 628 0 \r\nL 628 4666 \r\nz\r\n\" id=\"DejaVuSans-49\" transform=\"scale(0.015625)\"/>\r\n     </defs>\r\n     <use xlink:href=\"#DejaVuSans-4d\"/>\r\n     <use x=\"86.279297\" xlink:href=\"#DejaVuSans-5a\"/>\r\n     <use x=\"154.785156\" xlink:href=\"#DejaVuSans-49\"/>\r\n    </g>\r\n   </g>\r\n   <g id=\"text_6\">\r\n    <!-- MZI -->\r\n    <g transform=\"translate(595.748175 137.959375)scale(0.1 -0.1)\">\r\n     <use xlink:href=\"#DejaVuSans-4d\"/>\r\n     <use x=\"86.279297\" xlink:href=\"#DejaVuSans-5a\"/>\r\n     <use x=\"154.785156\" xlink:href=\"#DejaVuSans-49\"/>\r\n    </g>\r\n   </g>\r\n   <g id=\"text_7\">\r\n    <!-- MZI -->\r\n    <g transform=\"translate(483.860063 191.292708)scale(0.1 -0.1)\">\r\n     <use xlink:href=\"#DejaVuSans-4d\"/>\r\n     <use x=\"86.279297\" xlink:href=\"#DejaVuSans-5a\"/>\r\n     <use x=\"154.785156\" xlink:href=\"#DejaVuSans-49\"/>\r\n    </g>\r\n   </g>\r\n   <g id=\"text_8\">\r\n    <!-- MZI -->\r\n    <g transform=\"translate(371.971951 244.626042)scale(0.1 -0.1)\">\r\n     <use xlink:href=\"#DejaVuSans-4d\"/>\r\n     <use x=\"86.279297\" xlink:href=\"#DejaVuSans-5a\"/>\r\n     <use x=\"154.785156\" xlink:href=\"#DejaVuSans-49\"/>\r\n    </g>\r\n   </g>\r\n   <g id=\"text_9\">\r\n    <!-- MZI -->\r\n    <g transform=\"translate(595.748175 297.959375)scale(0.1 -0.1)\">\r\n     <use xlink:href=\"#DejaVuSans-4d\"/>\r\n     <use x=\"86.279297\" xlink:href=\"#DejaVuSans-5a\"/>\r\n     <use x=\"154.785156\" xlink:href=\"#DejaVuSans-49\"/>\r\n    </g>\r\n   </g>\r\n   <g id=\"text_10\">\r\n    <!-- MZI -->\r\n    <g transform=\"translate(483.860063 351.292708)scale(0.1 -0.1)\">\r\n     <use xlink:href=\"#DejaVuSans-4d\"/>\r\n     <use x=\"86.279297\" xlink:href=\"#DejaVuSans-5a\"/>\r\n     <use x=\"154.785156\" xlink:href=\"#DejaVuSans-49\"/>\r\n    </g>\r\n   </g>\r\n   <g id=\"text_11\">\r\n    <!-- MZI -->\r\n    <g transform=\"translate(483.860063 404.626042)scale(0.1 -0.1)\">\r\n     <use xlink:href=\"#DejaVuSans-4d\"/>\r\n     <use x=\"86.279297\" xlink:href=\"#DejaVuSans-5a\"/>\r\n     <use x=\"154.785156\" xlink:href=\"#DejaVuSans-49\"/>\r\n    </g>\r\n   </g>\r\n   <g id=\"text_12\">\r\n    <!-- MZI -->\r\n    <g transform=\"translate(595.748175 457.959375)scale(0.1 -0.1)\">\r\n     <use xlink:href=\"#DejaVuSans-4d\"/>\r\n     <use x=\"86.279297\" xlink:href=\"#DejaVuSans-5a\"/>\r\n     <use x=\"154.785156\" xlink:href=\"#DejaVuSans-49\"/>\r\n    </g>\r\n   </g>\r\n   <g id=\"text_13\">\r\n    <!-- MZI -->\r\n    <g transform=\"translate(371.971951 511.292708)scale(0.1 -0.1)\">\r\n     <use xlink:href=\"#DejaVuSans-4d\"/>\r\n     <use x=\"86.279297\" xlink:href=\"#DejaVuSans-5a\"/>\r\n     <use x=\"154.785156\" xlink:href=\"#DejaVuSans-49\"/>\r\n    </g>\r\n   </g>\r\n  </g>\r\n </g>\r\n <defs>\r\n  <clipPath id=\"pe0ee811e38\">\r\n   <rect height=\"576\" width=\"720\" x=\"7.2\" y=\"7.2\"/>\r\n  </clipPath>\r\n </defs>\r\n</svg>\r\n",
      "image/png": "[encoded data removed]"
     },
     "metadata": {
      "needs_background": "light"
     }
    }
   ],
   "metadata": {}
  },
  {
   "cell_type": "code",
   "execution_count": 30,
   "source": [
    "probability = lambda amplitude: np.absolute(amplitude) ** 2\n",
    "\n",
    "activation = lambda x: 1 / (1 + np.exp(-x))\n",
    "post_processing = lambda x: activation(x * weight + bias)\n",
    "\n",
    "# evaluate the possibiity of sentence, with the group of parameters\n",
    "def evaluate(params, sentence):\n",
    "    params = params.reshape(params0.shape)\n",
    "    return post_processing(probability(\n",
    "        F(params)(corpus[sentence]).amp(\n",
    "            n_photons, input_modes, output_modes)))\n",
    "\n",
    "%time scores = {sentence: evaluate(params0, sentence) for sentence in corpus}\n",
    "\n",
    "print(\"Does Alice love Bob? {} ({:.2F})\".format(\n",
    "    \"Yes\" if scores[\"Alice loves Bob\"] > .5 else \"No\", scores[\"Alice loves Bob\"]))"
   ],
   "outputs": [
    {
     "output_type": "stream",
     "name": "stdout",
     "text": [
      "Wall time: 1.39 s\n",
      "Does Alice love Bob? No (0.43)\n"
     ]
    }
   ],
   "metadata": {}
  },
  {
   "cell_type": "code",
   "execution_count": 32,
   "source": [
    "from matplotlib import pyplot as plt\n",
    "\n",
    "X = list(scores.values())\n",
    "\n",
    "plt.hist(X, 20)\n",
    "\n",
    "_min, _max = min(X), max(X)\n",
    "arg_min, arg_max = list(corpus)[X.index(_min)], list(corpus)[X.index(_max)]\n",
    "\n",
    "print(\"Min: {:.2F} ({})\".format(_min, arg_min))\n",
    "print(\"Max: {:.2F} ({})\".format(_max, arg_max))\n",
    "print(\"Mean: {:.2F}\".format(np.mean(X)))\n",
    "print(\"Standard deviation: {:.2F}\".format(np.std(X)))\n",
    "print()\n",
    "print(\"{} true sentences (score > .5)\".format(sum([x > .5 for x in X])))"
   ],
   "outputs": [
    {
     "output_type": "stream",
     "name": "stdout",
     "text": [
      "Min: 0.33 (Bob hates Alice)\n",
      "Max: 0.97 (Fred hates Fred)\n",
      "Mean: 0.50\n",
      "Standard deviation: 0.16\n",
      "\n",
      "40 true sentences (score > .5)\n"
     ]
    },
    {
     "output_type": "display_data",
     "data": {
      "text/plain": [
       "<Figure size 432x288 with 1 Axes>"
      ],
      "image/svg+xml": "<?xml version=\"1.0\" encoding=\"utf-8\" standalone=\"no\"?>\r\n<!DOCTYPE svg PUBLIC \"-//W3C//DTD SVG 1.1//EN\"\r\n  \"http://www.w3.org/Graphics/SVG/1.1/DTD/svg11.dtd\">\r\n<svg height=\"248.518125pt\" version=\"1.1\" viewBox=\"0 0 373.892612 248.518125\" width=\"373.892612pt\" xmlns=\"http://www.w3.org/2000/svg\" xmlns:xlink=\"http://www.w3.org/1999/xlink\">\r\n <metadata>\r\n  <rdf:RDF xmlns:cc=\"http://creativecommons.org/ns#\" xmlns:dc=\"http://purl.org/dc/elements/1.1/\" xmlns:rdf=\"http://www.w3.org/1999/02/22-rdf-syntax-ns#\">\r\n   <cc:Work>\r\n    <dc:type rdf:resource=\"http://purl.org/dc/dcmitype/StillImage\"/>\r\n    <dc:date>2021-08-03T18:00:45.832365</dc:date>\r\n    <dc:format>image/svg+xml</dc:format>\r\n    <dc:creator>\r\n     <cc:Agent>\r\n      <dc:title>Matplotlib v3.4.2, https://matplotlib.org/</dc:title>\r\n     </cc:Agent>\r\n    </dc:creator>\r\n   </cc:Work>\r\n  </rdf:RDF>\r\n </metadata>\r\n <defs>\r\n  <style type=\"text/css\">*{stroke-linecap:butt;stroke-linejoin:round;}</style>\r\n </defs>\r\n <g id=\"figure_1\">\r\n  <g id=\"patch_1\">\r\n   <path d=\"M -0 248.518125 \r\nL 373.892612 248.518125 \r\nL 373.892612 0 \r\nL -0 0 \r\nz\r\n\" style=\"fill:none;\"/>\r\n  </g>\r\n  <g id=\"axes_1\">\r\n   <g id=\"patch_2\">\r\n    <path d=\"M 26.925 224.64 \r\nL 361.725 224.64 \r\nL 361.725 7.2 \r\nL 26.925 7.2 \r\nz\r\n\" style=\"fill:#ffffff;\"/>\r\n   </g>\r\n   <g id=\"patch_3\">\r\n    <path clip-path=\"url(#pac7908ee7c)\" d=\"M 42.143182 224.64 \r\nL 57.361364 224.64 \r\nL 57.361364 17.554286 \r\nL 42.143182 17.554286 \r\nz\r\n\" style=\"fill:#1f77b4;\"/>\r\n   </g>\r\n   <g id=\"patch_4\">\r\n    <path clip-path=\"url(#pac7908ee7c)\" d=\"M 57.361364 224.64 \r\nL 72.579545 224.64 \r\nL 72.579545 100.388571 \r\nL 57.361364 100.388571 \r\nz\r\n\" style=\"fill:#1f77b4;\"/>\r\n   </g>\r\n   <g id=\"patch_5\">\r\n    <path clip-path=\"url(#pac7908ee7c)\" d=\"M 72.579545 224.64 \r\nL 87.797727 224.64 \r\nL 87.797727 158.372571 \r\nL 72.579545 158.372571 \r\nz\r\n\" style=\"fill:#1f77b4;\"/>\r\n   </g>\r\n   <g id=\"patch_6\">\r\n    <path clip-path=\"url(#pac7908ee7c)\" d=\"M 87.797727 224.64 \r\nL 103.015909 224.64 \r\nL 103.015909 116.955429 \r\nL 87.797727 116.955429 \r\nz\r\n\" style=\"fill:#1f77b4;\"/>\r\n   </g>\r\n   <g id=\"patch_7\">\r\n    <path clip-path=\"url(#pac7908ee7c)\" d=\"M 103.015909 224.64 \r\nL 118.234091 224.64 \r\nL 118.234091 174.939429 \r\nL 103.015909 174.939429 \r\nz\r\n\" style=\"fill:#1f77b4;\"/>\r\n   </g>\r\n   <g id=\"patch_8\">\r\n    <path clip-path=\"url(#pac7908ee7c)\" d=\"M 118.234091 224.64 \r\nL 133.452273 224.64 \r\nL 133.452273 199.789714 \r\nL 118.234091 199.789714 \r\nz\r\n\" style=\"fill:#1f77b4;\"/>\r\n   </g>\r\n   <g id=\"patch_9\">\r\n    <path clip-path=\"url(#pac7908ee7c)\" d=\"M 133.452273 224.64 \r\nL 148.670455 224.64 \r\nL 148.670455 191.506286 \r\nL 133.452273 191.506286 \r\nz\r\n\" style=\"fill:#1f77b4;\"/>\r\n   </g>\r\n   <g id=\"patch_10\">\r\n    <path clip-path=\"url(#pac7908ee7c)\" d=\"M 148.670455 224.64 \r\nL 163.888636 224.64 \r\nL 163.888636 191.506286 \r\nL 148.670455 191.506286 \r\nz\r\n\" style=\"fill:#1f77b4;\"/>\r\n   </g>\r\n   <g id=\"patch_11\">\r\n    <path clip-path=\"url(#pac7908ee7c)\" d=\"M 163.888636 224.64 \r\nL 179.106818 224.64 \r\nL 179.106818 141.805714 \r\nL 163.888636 141.805714 \r\nz\r\n\" style=\"fill:#1f77b4;\"/>\r\n   </g>\r\n   <g id=\"patch_12\">\r\n    <path clip-path=\"url(#pac7908ee7c)\" d=\"M 179.106818 224.64 \r\nL 194.325 224.64 \r\nL 194.325 208.073143 \r\nL 179.106818 208.073143 \r\nz\r\n\" style=\"fill:#1f77b4;\"/>\r\n   </g>\r\n   <g id=\"patch_13\">\r\n    <path clip-path=\"url(#pac7908ee7c)\" d=\"M 194.325 224.64 \r\nL 209.543182 224.64 \r\nL 209.543182 216.356571 \r\nL 194.325 216.356571 \r\nz\r\n\" style=\"fill:#1f77b4;\"/>\r\n   </g>\r\n   <g id=\"patch_14\">\r\n    <path clip-path=\"url(#pac7908ee7c)\" d=\"M 209.543182 224.64 \r\nL 224.761364 224.64 \r\nL 224.761364 199.789714 \r\nL 209.543182 199.789714 \r\nz\r\n\" style=\"fill:#1f77b4;\"/>\r\n   </g>\r\n   <g id=\"patch_15\">\r\n    <path clip-path=\"url(#pac7908ee7c)\" d=\"M 224.761364 224.64 \r\nL 239.979545 224.64 \r\nL 239.979545 199.789714 \r\nL 224.761364 199.789714 \r\nz\r\n\" style=\"fill:#1f77b4;\"/>\r\n   </g>\r\n   <g id=\"patch_16\">\r\n    <path clip-path=\"url(#pac7908ee7c)\" d=\"M 239.979545 224.64 \r\nL 255.197727 224.64 \r\nL 255.197727 199.789714 \r\nL 239.979545 199.789714 \r\nz\r\n\" style=\"fill:#1f77b4;\"/>\r\n   </g>\r\n   <g id=\"patch_17\">\r\n    <path clip-path=\"url(#pac7908ee7c)\" d=\"M 255.197727 224.64 \r\nL 270.415909 224.64 \r\nL 270.415909 191.506286 \r\nL 255.197727 191.506286 \r\nz\r\n\" style=\"fill:#1f77b4;\"/>\r\n   </g>\r\n   <g id=\"patch_18\">\r\n    <path clip-path=\"url(#pac7908ee7c)\" d=\"M 270.415909 224.64 \r\nL 285.634091 224.64 \r\nL 285.634091 224.64 \r\nL 270.415909 224.64 \r\nz\r\n\" style=\"fill:#1f77b4;\"/>\r\n   </g>\r\n   <g id=\"patch_19\">\r\n    <path clip-path=\"url(#pac7908ee7c)\" d=\"M 285.634091 224.64 \r\nL 300.852273 224.64 \r\nL 300.852273 216.356571 \r\nL 285.634091 216.356571 \r\nz\r\n\" style=\"fill:#1f77b4;\"/>\r\n   </g>\r\n   <g id=\"patch_20\">\r\n    <path clip-path=\"url(#pac7908ee7c)\" d=\"M 300.852273 224.64 \r\nL 316.070455 224.64 \r\nL 316.070455 216.356571 \r\nL 300.852273 216.356571 \r\nz\r\n\" style=\"fill:#1f77b4;\"/>\r\n   </g>\r\n   <g id=\"patch_21\">\r\n    <path clip-path=\"url(#pac7908ee7c)\" d=\"M 316.070455 224.64 \r\nL 331.288636 224.64 \r\nL 331.288636 216.356571 \r\nL 316.070455 216.356571 \r\nz\r\n\" style=\"fill:#1f77b4;\"/>\r\n   </g>\r\n   <g id=\"patch_22\">\r\n    <path clip-path=\"url(#pac7908ee7c)\" d=\"M 331.288636 224.64 \r\nL 346.506818 224.64 \r\nL 346.506818 216.356571 \r\nL 331.288636 216.356571 \r\nz\r\n\" style=\"fill:#1f77b4;\"/>\r\n   </g>\r\n   <g id=\"matplotlib.axis_1\">\r\n    <g id=\"xtick_1\">\r\n     <g id=\"line2d_1\">\r\n      <defs>\r\n       <path d=\"M 0 0 \r\nL 0 3.5 \r\n\" id=\"m3c30fe2751\" style=\"stroke:#000000;stroke-width:0.8;\"/>\r\n      </defs>\r\n      <g>\r\n       <use style=\"stroke:#000000;stroke-width:0.8;\" x=\"74.203783\" xlink:href=\"#m3c30fe2751\" y=\"224.64\"/>\r\n      </g>\r\n     </g>\r\n     <g id=\"text_1\">\r\n      <!-- 0.4 -->\r\n      <g transform=\"translate(66.25222 239.238438)scale(0.1 -0.1)\">\r\n       <defs>\r\n        <path d=\"M 2034 4250 \r\nQ 1547 4250 1301 3770 \r\nQ 1056 3291 1056 2328 \r\nQ 1056 1369 1301 889 \r\nQ 1547 409 2034 409 \r\nQ 2525 409 2770 889 \r\nQ 3016 1369 3016 2328 \r\nQ 3016 3291 2770 3770 \r\nQ 2525 4250 2034 4250 \r\nz\r\nM 2034 4750 \r\nQ 2819 4750 3233 4129 \r\nQ 3647 3509 3647 2328 \r\nQ 3647 1150 3233 529 \r\nQ 2819 -91 2034 -91 \r\nQ 1250 -91 836 529 \r\nQ 422 1150 422 2328 \r\nQ 422 3509 836 4129 \r\nQ 1250 4750 2034 4750 \r\nz\r\n\" id=\"DejaVuSans-30\" transform=\"scale(0.015625)\"/>\r\n        <path d=\"M 684 794 \r\nL 1344 794 \r\nL 1344 0 \r\nL 684 0 \r\nL 684 794 \r\nz\r\n\" id=\"DejaVuSans-2e\" transform=\"scale(0.015625)\"/>\r\n        <path d=\"M 2419 4116 \r\nL 825 1625 \r\nL 2419 1625 \r\nL 2419 4116 \r\nz\r\nM 2253 4666 \r\nL 3047 4666 \r\nL 3047 1625 \r\nL 3713 1625 \r\nL 3713 1100 \r\nL 3047 1100 \r\nL 3047 0 \r\nL 2419 0 \r\nL 2419 1100 \r\nL 313 1100 \r\nL 313 1709 \r\nL 2253 4666 \r\nz\r\n\" id=\"DejaVuSans-34\" transform=\"scale(0.015625)\"/>\r\n       </defs>\r\n       <use xlink:href=\"#DejaVuSans-30\"/>\r\n       <use x=\"63.623047\" xlink:href=\"#DejaVuSans-2e\"/>\r\n       <use x=\"95.410156\" xlink:href=\"#DejaVuSans-34\"/>\r\n      </g>\r\n     </g>\r\n    </g>\r\n    <g id=\"xtick_2\">\r\n     <g id=\"line2d_2\">\r\n      <g>\r\n       <use style=\"stroke:#000000;stroke-width:0.8;\" x=\"121.62666\" xlink:href=\"#m3c30fe2751\" y=\"224.64\"/>\r\n      </g>\r\n     </g>\r\n     <g id=\"text_2\">\r\n      <!-- 0.5 -->\r\n      <g transform=\"translate(113.675098 239.238438)scale(0.1 -0.1)\">\r\n       <defs>\r\n        <path d=\"M 691 4666 \r\nL 3169 4666 \r\nL 3169 4134 \r\nL 1269 4134 \r\nL 1269 2991 \r\nQ 1406 3038 1543 3061 \r\nQ 1681 3084 1819 3084 \r\nQ 2600 3084 3056 2656 \r\nQ 3513 2228 3513 1497 \r\nQ 3513 744 3044 326 \r\nQ 2575 -91 1722 -91 \r\nQ 1428 -91 1123 -41 \r\nQ 819 9 494 109 \r\nL 494 744 \r\nQ 775 591 1075 516 \r\nQ 1375 441 1709 441 \r\nQ 2250 441 2565 725 \r\nQ 2881 1009 2881 1497 \r\nQ 2881 1984 2565 2268 \r\nQ 2250 2553 1709 2553 \r\nQ 1456 2553 1204 2497 \r\nQ 953 2441 691 2322 \r\nL 691 4666 \r\nz\r\n\" id=\"DejaVuSans-35\" transform=\"scale(0.015625)\"/>\r\n       </defs>\r\n       <use xlink:href=\"#DejaVuSans-30\"/>\r\n       <use x=\"63.623047\" xlink:href=\"#DejaVuSans-2e\"/>\r\n       <use x=\"95.410156\" xlink:href=\"#DejaVuSans-35\"/>\r\n      </g>\r\n     </g>\r\n    </g>\r\n    <g id=\"xtick_3\">\r\n     <g id=\"line2d_3\">\r\n      <g>\r\n       <use style=\"stroke:#000000;stroke-width:0.8;\" x=\"169.049538\" xlink:href=\"#m3c30fe2751\" y=\"224.64\"/>\r\n      </g>\r\n     </g>\r\n     <g id=\"text_3\">\r\n      <!-- 0.6 -->\r\n      <g transform=\"translate(161.097976 239.238438)scale(0.1 -0.1)\">\r\n       <defs>\r\n        <path d=\"M 2113 2584 \r\nQ 1688 2584 1439 2293 \r\nQ 1191 2003 1191 1497 \r\nQ 1191 994 1439 701 \r\nQ 1688 409 2113 409 \r\nQ 2538 409 2786 701 \r\nQ 3034 994 3034 1497 \r\nQ 3034 2003 2786 2293 \r\nQ 2538 2584 2113 2584 \r\nz\r\nM 3366 4563 \r\nL 3366 3988 \r\nQ 3128 4100 2886 4159 \r\nQ 2644 4219 2406 4219 \r\nQ 1781 4219 1451 3797 \r\nQ 1122 3375 1075 2522 \r\nQ 1259 2794 1537 2939 \r\nQ 1816 3084 2150 3084 \r\nQ 2853 3084 3261 2657 \r\nQ 3669 2231 3669 1497 \r\nQ 3669 778 3244 343 \r\nQ 2819 -91 2113 -91 \r\nQ 1303 -91 875 529 \r\nQ 447 1150 447 2328 \r\nQ 447 3434 972 4092 \r\nQ 1497 4750 2381 4750 \r\nQ 2619 4750 2861 4703 \r\nQ 3103 4656 3366 4563 \r\nz\r\n\" id=\"DejaVuSans-36\" transform=\"scale(0.015625)\"/>\r\n       </defs>\r\n       <use xlink:href=\"#DejaVuSans-30\"/>\r\n       <use x=\"63.623047\" xlink:href=\"#DejaVuSans-2e\"/>\r\n       <use x=\"95.410156\" xlink:href=\"#DejaVuSans-36\"/>\r\n      </g>\r\n     </g>\r\n    </g>\r\n    <g id=\"xtick_4\">\r\n     <g id=\"line2d_4\">\r\n      <g>\r\n       <use style=\"stroke:#000000;stroke-width:0.8;\" x=\"216.472416\" xlink:href=\"#m3c30fe2751\" y=\"224.64\"/>\r\n      </g>\r\n     </g>\r\n     <g id=\"text_4\">\r\n      <!-- 0.7 -->\r\n      <g transform=\"translate(208.520853 239.238438)scale(0.1 -0.1)\">\r\n       <defs>\r\n        <path d=\"M 525 4666 \r\nL 3525 4666 \r\nL 3525 4397 \r\nL 1831 0 \r\nL 1172 0 \r\nL 2766 4134 \r\nL 525 4134 \r\nL 525 4666 \r\nz\r\n\" id=\"DejaVuSans-37\" transform=\"scale(0.015625)\"/>\r\n       </defs>\r\n       <use xlink:href=\"#DejaVuSans-30\"/>\r\n       <use x=\"63.623047\" xlink:href=\"#DejaVuSans-2e\"/>\r\n       <use x=\"95.410156\" xlink:href=\"#DejaVuSans-37\"/>\r\n      </g>\r\n     </g>\r\n    </g>\r\n    <g id=\"xtick_5\">\r\n     <g id=\"line2d_5\">\r\n      <g>\r\n       <use style=\"stroke:#000000;stroke-width:0.8;\" x=\"263.895294\" xlink:href=\"#m3c30fe2751\" y=\"224.64\"/>\r\n      </g>\r\n     </g>\r\n     <g id=\"text_5\">\r\n      <!-- 0.8 -->\r\n      <g transform=\"translate(255.943731 239.238438)scale(0.1 -0.1)\">\r\n       <defs>\r\n        <path d=\"M 2034 2216 \r\nQ 1584 2216 1326 1975 \r\nQ 1069 1734 1069 1313 \r\nQ 1069 891 1326 650 \r\nQ 1584 409 2034 409 \r\nQ 2484 409 2743 651 \r\nQ 3003 894 3003 1313 \r\nQ 3003 1734 2745 1975 \r\nQ 2488 2216 2034 2216 \r\nz\r\nM 1403 2484 \r\nQ 997 2584 770 2862 \r\nQ 544 3141 544 3541 \r\nQ 544 4100 942 4425 \r\nQ 1341 4750 2034 4750 \r\nQ 2731 4750 3128 4425 \r\nQ 3525 4100 3525 3541 \r\nQ 3525 3141 3298 2862 \r\nQ 3072 2584 2669 2484 \r\nQ 3125 2378 3379 2068 \r\nQ 3634 1759 3634 1313 \r\nQ 3634 634 3220 271 \r\nQ 2806 -91 2034 -91 \r\nQ 1263 -91 848 271 \r\nQ 434 634 434 1313 \r\nQ 434 1759 690 2068 \r\nQ 947 2378 1403 2484 \r\nz\r\nM 1172 3481 \r\nQ 1172 3119 1398 2916 \r\nQ 1625 2713 2034 2713 \r\nQ 2441 2713 2670 2916 \r\nQ 2900 3119 2900 3481 \r\nQ 2900 3844 2670 4047 \r\nQ 2441 4250 2034 4250 \r\nQ 1625 4250 1398 4047 \r\nQ 1172 3844 1172 3481 \r\nz\r\n\" id=\"DejaVuSans-38\" transform=\"scale(0.015625)\"/>\r\n       </defs>\r\n       <use xlink:href=\"#DejaVuSans-30\"/>\r\n       <use x=\"63.623047\" xlink:href=\"#DejaVuSans-2e\"/>\r\n       <use x=\"95.410156\" xlink:href=\"#DejaVuSans-38\"/>\r\n      </g>\r\n     </g>\r\n    </g>\r\n    <g id=\"xtick_6\">\r\n     <g id=\"line2d_6\">\r\n      <g>\r\n       <use style=\"stroke:#000000;stroke-width:0.8;\" x=\"311.318171\" xlink:href=\"#m3c30fe2751\" y=\"224.64\"/>\r\n      </g>\r\n     </g>\r\n     <g id=\"text_6\">\r\n      <!-- 0.9 -->\r\n      <g transform=\"translate(303.366609 239.238438)scale(0.1 -0.1)\">\r\n       <defs>\r\n        <path d=\"M 703 97 \r\nL 703 672 \r\nQ 941 559 1184 500 \r\nQ 1428 441 1663 441 \r\nQ 2288 441 2617 861 \r\nQ 2947 1281 2994 2138 \r\nQ 2813 1869 2534 1725 \r\nQ 2256 1581 1919 1581 \r\nQ 1219 1581 811 2004 \r\nQ 403 2428 403 3163 \r\nQ 403 3881 828 4315 \r\nQ 1253 4750 1959 4750 \r\nQ 2769 4750 3195 4129 \r\nQ 3622 3509 3622 2328 \r\nQ 3622 1225 3098 567 \r\nQ 2575 -91 1691 -91 \r\nQ 1453 -91 1209 -44 \r\nQ 966 3 703 97 \r\nz\r\nM 1959 2075 \r\nQ 2384 2075 2632 2365 \r\nQ 2881 2656 2881 3163 \r\nQ 2881 3666 2632 3958 \r\nQ 2384 4250 1959 4250 \r\nQ 1534 4250 1286 3958 \r\nQ 1038 3666 1038 3163 \r\nQ 1038 2656 1286 2365 \r\nQ 1534 2075 1959 2075 \r\nz\r\n\" id=\"DejaVuSans-39\" transform=\"scale(0.015625)\"/>\r\n       </defs>\r\n       <use xlink:href=\"#DejaVuSans-30\"/>\r\n       <use x=\"63.623047\" xlink:href=\"#DejaVuSans-2e\"/>\r\n       <use x=\"95.410156\" xlink:href=\"#DejaVuSans-39\"/>\r\n      </g>\r\n     </g>\r\n    </g>\r\n    <g id=\"xtick_7\">\r\n     <g id=\"line2d_7\">\r\n      <g>\r\n       <use style=\"stroke:#000000;stroke-width:0.8;\" x=\"358.741049\" xlink:href=\"#m3c30fe2751\" y=\"224.64\"/>\r\n      </g>\r\n     </g>\r\n     <g id=\"text_7\">\r\n      <!-- 1.0 -->\r\n      <g transform=\"translate(350.789487 239.238438)scale(0.1 -0.1)\">\r\n       <defs>\r\n        <path d=\"M 794 531 \r\nL 1825 531 \r\nL 1825 4091 \r\nL 703 3866 \r\nL 703 4441 \r\nL 1819 4666 \r\nL 2450 4666 \r\nL 2450 531 \r\nL 3481 531 \r\nL 3481 0 \r\nL 794 0 \r\nL 794 531 \r\nz\r\n\" id=\"DejaVuSans-31\" transform=\"scale(0.015625)\"/>\r\n       </defs>\r\n       <use xlink:href=\"#DejaVuSans-31\"/>\r\n       <use x=\"63.623047\" xlink:href=\"#DejaVuSans-2e\"/>\r\n       <use x=\"95.410156\" xlink:href=\"#DejaVuSans-30\"/>\r\n      </g>\r\n     </g>\r\n    </g>\r\n   </g>\r\n   <g id=\"matplotlib.axis_2\">\r\n    <g id=\"ytick_1\">\r\n     <g id=\"line2d_8\">\r\n      <defs>\r\n       <path d=\"M 0 0 \r\nL -3.5 0 \r\n\" id=\"m00a155f257\" style=\"stroke:#000000;stroke-width:0.8;\"/>\r\n      </defs>\r\n      <g>\r\n       <use style=\"stroke:#000000;stroke-width:0.8;\" x=\"26.925\" xlink:href=\"#m00a155f257\" y=\"224.64\"/>\r\n      </g>\r\n     </g>\r\n     <g id=\"text_8\">\r\n      <!-- 0 -->\r\n      <g transform=\"translate(13.5625 228.439219)scale(0.1 -0.1)\">\r\n       <use xlink:href=\"#DejaVuSans-30\"/>\r\n      </g>\r\n     </g>\r\n    </g>\r\n    <g id=\"ytick_2\">\r\n     <g id=\"line2d_9\">\r\n      <g>\r\n       <use style=\"stroke:#000000;stroke-width:0.8;\" x=\"26.925\" xlink:href=\"#m00a155f257\" y=\"183.222857\"/>\r\n      </g>\r\n     </g>\r\n     <g id=\"text_9\">\r\n      <!-- 5 -->\r\n      <g transform=\"translate(13.5625 187.022076)scale(0.1 -0.1)\">\r\n       <use xlink:href=\"#DejaVuSans-35\"/>\r\n      </g>\r\n     </g>\r\n    </g>\r\n    <g id=\"ytick_3\">\r\n     <g id=\"line2d_10\">\r\n      <g>\r\n       <use style=\"stroke:#000000;stroke-width:0.8;\" x=\"26.925\" xlink:href=\"#m00a155f257\" y=\"141.805714\"/>\r\n      </g>\r\n     </g>\r\n     <g id=\"text_10\">\r\n      <!-- 10 -->\r\n      <g transform=\"translate(7.2 145.604933)scale(0.1 -0.1)\">\r\n       <use xlink:href=\"#DejaVuSans-31\"/>\r\n       <use x=\"63.623047\" xlink:href=\"#DejaVuSans-30\"/>\r\n      </g>\r\n     </g>\r\n    </g>\r\n    <g id=\"ytick_4\">\r\n     <g id=\"line2d_11\">\r\n      <g>\r\n       <use style=\"stroke:#000000;stroke-width:0.8;\" x=\"26.925\" xlink:href=\"#m00a155f257\" y=\"100.388571\"/>\r\n      </g>\r\n     </g>\r\n     <g id=\"text_11\">\r\n      <!-- 15 -->\r\n      <g transform=\"translate(7.2 104.18779)scale(0.1 -0.1)\">\r\n       <use xlink:href=\"#DejaVuSans-31\"/>\r\n       <use x=\"63.623047\" xlink:href=\"#DejaVuSans-35\"/>\r\n      </g>\r\n     </g>\r\n    </g>\r\n    <g id=\"ytick_5\">\r\n     <g id=\"line2d_12\">\r\n      <g>\r\n       <use style=\"stroke:#000000;stroke-width:0.8;\" x=\"26.925\" xlink:href=\"#m00a155f257\" y=\"58.971429\"/>\r\n      </g>\r\n     </g>\r\n     <g id=\"text_12\">\r\n      <!-- 20 -->\r\n      <g transform=\"translate(7.2 62.770647)scale(0.1 -0.1)\">\r\n       <defs>\r\n        <path d=\"M 1228 531 \r\nL 3431 531 \r\nL 3431 0 \r\nL 469 0 \r\nL 469 531 \r\nQ 828 903 1448 1529 \r\nQ 2069 2156 2228 2338 \r\nQ 2531 2678 2651 2914 \r\nQ 2772 3150 2772 3378 \r\nQ 2772 3750 2511 3984 \r\nQ 2250 4219 1831 4219 \r\nQ 1534 4219 1204 4116 \r\nQ 875 4013 500 3803 \r\nL 500 4441 \r\nQ 881 4594 1212 4672 \r\nQ 1544 4750 1819 4750 \r\nQ 2544 4750 2975 4387 \r\nQ 3406 4025 3406 3419 \r\nQ 3406 3131 3298 2873 \r\nQ 3191 2616 2906 2266 \r\nQ 2828 2175 2409 1742 \r\nQ 1991 1309 1228 531 \r\nz\r\n\" id=\"DejaVuSans-32\" transform=\"scale(0.015625)\"/>\r\n       </defs>\r\n       <use xlink:href=\"#DejaVuSans-32\"/>\r\n       <use x=\"63.623047\" xlink:href=\"#DejaVuSans-30\"/>\r\n      </g>\r\n     </g>\r\n    </g>\r\n    <g id=\"ytick_6\">\r\n     <g id=\"line2d_13\">\r\n      <g>\r\n       <use style=\"stroke:#000000;stroke-width:0.8;\" x=\"26.925\" xlink:href=\"#m00a155f257\" y=\"17.554286\"/>\r\n      </g>\r\n     </g>\r\n     <g id=\"text_13\">\r\n      <!-- 25 -->\r\n      <g transform=\"translate(7.2 21.353504)scale(0.1 -0.1)\">\r\n       <use xlink:href=\"#DejaVuSans-32\"/>\r\n       <use x=\"63.623047\" xlink:href=\"#DejaVuSans-35\"/>\r\n      </g>\r\n     </g>\r\n    </g>\r\n   </g>\r\n   <g id=\"patch_23\">\r\n    <path d=\"M 26.925 224.64 \r\nL 26.925 7.2 \r\n\" style=\"fill:none;stroke:#000000;stroke-linecap:square;stroke-linejoin:miter;stroke-width:0.8;\"/>\r\n   </g>\r\n   <g id=\"patch_24\">\r\n    <path d=\"M 361.725 224.64 \r\nL 361.725 7.2 \r\n\" style=\"fill:none;stroke:#000000;stroke-linecap:square;stroke-linejoin:miter;stroke-width:0.8;\"/>\r\n   </g>\r\n   <g id=\"patch_25\">\r\n    <path d=\"M 26.925 224.64 \r\nL 361.725 224.64 \r\n\" style=\"fill:none;stroke:#000000;stroke-linecap:square;stroke-linejoin:miter;stroke-width:0.8;\"/>\r\n   </g>\r\n   <g id=\"patch_26\">\r\n    <path d=\"M 26.925 7.2 \r\nL 361.725 7.2 \r\n\" style=\"fill:none;stroke:#000000;stroke-linecap:square;stroke-linejoin:miter;stroke-width:0.8;\"/>\r\n   </g>\r\n  </g>\r\n </g>\r\n <defs>\r\n  <clipPath id=\"pac7908ee7c\">\r\n   <rect height=\"217.44\" width=\"334.8\" x=\"26.925\" y=\"7.2\"/>\r\n  </clipPath>\r\n </defs>\r\n</svg>\r\n",
      "image/png": "[encoded data removed]"
     },
     "metadata": {
      "needs_background": "light"
     }
    }
   ],
   "metadata": {}
  },
  {
   "cell_type": "code",
   "execution_count": null,
   "source": [
    "from sklearn.model_selection import train_test_split\n",
    "from sklearn.metrics import mean_squared_error\n",
    "\n",
    "dataset = {sentence: int(score > .5) for sentence, score in scores.items()}\n",
    "\n",
    "train, test = train_test_split(list(corpus), test_size=1 / 3, random_state=42)\n",
    "\n",
    "print(\"Training set:\\n{}\\n{}\".format('\\n'.join(train[:3]), '...\\n' if len(train) > 3 else ''))\n",
    "print(\"Testing set:\\n{}\\n{}\".format('\\n'.join(test[:3]), '...\\n' if len(test) > 3 else ''))"
   ],
   "outputs": [],
   "metadata": {}
  },
  {
   "cell_type": "code",
   "execution_count": null,
   "source": [
    "def loss(corpus, params):\n",
    "    return mean_squared_error(*zip(*[\n",
    "        (dataset[sentence], evaluate(params, sentence))\n",
    "        for sentence in corpus]))\n",
    "\n",
    "testing_loss = lambda params: loss(test, params)\n",
    "training_loss = lambda params: loss(train, params)\n",
    "\n",
    "params = random_params().flatten()\n",
    "\n",
    "print(\"Random initialisation, training_loss: {:.3f}, testing loss: {:.3f}\".format(\n",
    "    training_loss(params), testing_loss(params)))\n",
    "print(params)\n",
    "print()\n",
    "print(\"Does Alice love Bob?\")\n",
    "print(\"Yes\" if evaluate(params, 'Alice loves Bob') > .5 else \"No\")"
   ],
   "outputs": [],
   "metadata": {}
  },
  {
   "cell_type": "code",
   "execution_count": null,
   "source": [
    "from noisyopt import minimizeSPSA\n",
    "from time import time \n",
    "\n",
    "training_losses, testing_losses = [], []\n",
    "start = time()\n",
    "def callback(params):\n",
    "    training_losses.append(training_loss(params))\n",
    "    testing_losses.append(testing_loss(params))\n",
    "    if not len(training_losses) % (n_iter // 10) or len(training_losses) < 10:\n",
    "        print(\"Iteration {}, training_loss: {:.3f}, testing loss: {:.3f}\".format(\n",
    "            len(training_losses), training_losses[-1], testing_losses[-1]))\n",
    "        print(params)\n",
    "        print()\n",
    "\n",
    "result = minimizeSPSA(training_loss, params, paired=False, callback=callback, niter=n_iter, a = 0.5, alpha=alpha, c= 0.1, gamma=gamma)\n",
    "\n",
    "print(\"Does Alice love Bob?\")\n",
    "print(\"Yes\" if evaluate(result.x, 'Alice loves Bob') > .5 else \"No\")\n",
    "print(\"time taken\", time()-start)"
   ],
   "outputs": [],
   "metadata": {}
  },
  {
   "cell_type": "code",
   "execution_count": null,
   "source": [
    "plt.plot(training_losses)"
   ],
   "outputs": [],
   "metadata": {}
  },
  {
   "cell_type": "code",
   "execution_count": null,
   "source": [
    "plt.plot(testing_losses)"
   ],
   "outputs": [],
   "metadata": {
    "scrolled": false
   }
  },
  {
   "cell_type": "code",
   "execution_count": null,
   "source": [
    "plt.plot(training_losses)\n",
    "plt.plot(testing_losses)"
   ],
   "outputs": [],
   "metadata": {}
  },
  {
   "cell_type": "code",
   "execution_count": null,
   "source": [
    "from sklearn.metrics import classification_report\n",
    "\n",
    "y_train_true = [dataset[sentence] for sentence in train]\n",
    "y_train_pred = [evaluate(result.x, sentence) > .5 for sentence in train]\n",
    "\n",
    "print(classification_report(y_train_true, y_train_pred))"
   ],
   "outputs": [],
   "metadata": {}
  },
  {
   "cell_type": "code",
   "execution_count": null,
   "source": [
    "y_test_true = [dataset[sentence] for sentence in test]\n",
    "y_test_pred = [evaluate(result.x, sentence) > .5 for sentence in test]\n",
    "\n",
    "print(classification_report(y_test_true, y_test_pred))"
   ],
   "outputs": [],
   "metadata": {}
  },
  {
   "cell_type": "code",
   "execution_count": null,
   "source": [
    "y_true = y_train_true + y_test_true\n",
    "y_pred = y_train_pred + y_test_pred\n",
    "\n",
    "print(classification_report(y_true, y_pred))"
   ],
   "outputs": [],
   "metadata": {}
  },
  {
   "cell_type": "code",
   "execution_count": null,
   "source": [],
   "outputs": [],
   "metadata": {}
  }
 ],
 "metadata": {
  "kernelspec": {
   "name": "python3",
   "display_name": "Python 3.9.4 64-bit ('discopy': conda)"
  },
  "language_info": {
   "codemirror_mode": {
    "name": "ipython",
    "version": 3
   },
   "file_extension": ".py",
   "mimetype": "text/x-python",
   "name": "python",
   "nbconvert_exporter": "python",
   "pygments_lexer": "ipython3",
   "version": "3.9.4"
  },
  "toc": {
   "base_numbering": 1,
   "nav_menu": {},
   "number_sections": true,
   "sideBar": true,
   "skip_h1_title": false,
   "title_cell": "Table of Contents",
   "title_sidebar": "Contents",
   "toc_cell": false,
   "toc_position": {},
   "toc_section_display": true,
   "toc_window_display": false
  },
  "interpreter": {
   "hash": "d63890fa2c3ef0f7ba297bebaf66618d7fab7d2850fc09d1ec8522451708e595"
  }
 },
 "nbformat": 4,
 "nbformat_minor": 2
}