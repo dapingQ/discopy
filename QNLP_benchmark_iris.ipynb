{
 "cells": [
  {
   "cell_type": "markdown",
   "metadata": {},
   "source": [
    "## prove iris"
   ]
  },
  {
   "cell_type": "code",
   "execution_count": 7,
   "metadata": {},
   "outputs": [],
   "source": [
    "import numpy as np\n",
    "from scipy.linalg import block_diag\n",
    "from math import factorial\n",
    "from discopy import cat, monoidal\n",
    "from discopy.monoidal import PRO\n",
    "from discopy.tensor import Dim\n",
    "from itertools import permutations as pr\n",
    "import itertools as it\n",
    "SEED = 420\n",
    "import numpy as np; np.random.seed(SEED)\n",
    "from matplotlib import pyplot as plt\n",
    "from noisyopt import minimizeSPSA\n",
    "from time import time "
   ]
  },
  {
   "cell_type": "markdown",
   "metadata": {},
   "source": [
    "## creazione data set e inizializzazione input"
   ]
  },
  {
   "cell_type": "code",
   "execution_count": 2,
   "metadata": {},
   "outputs": [],
   "source": [
    "width, depth = 4, 2  # width and depth of the piece of chip for one word\n",
    "\n",
    "n_photons = 2\n",
    "input_modes = output_modes = [0, 1, 1, 0]\n",
    "\n",
    "bias, weight = -0.7, 5  # bias and weight for the classical post-processing\n",
    "\n",
    "n_iter, alpha, gamma = 100, 0.602, 0.101  # optimization, hyper-parameters\n",
    "\n",
    "SEED = 420"
   ]
  },
  {
   "cell_type": "code",
   "execution_count": 3,
   "metadata": {},
   "outputs": [
    {
     "name": "stdout",
     "output_type": "stream",
     "text": [
      "Nouns: Alice, Bob, Claire, Dave, Eve, Fred\n",
      "Verbs: loves, kills, hates\n"
     ]
    }
   ],
   "source": [
    "E = [x if not i else x + str(i + 1) \n",
    "     for i in range(1) for x in [\"Alice\", \"Bob\", \"Claire\", \"Dave\", \"Eve\", \"Fred\"]]\n",
    "R = [\"loves\", \"kills\", \"hates\"]\n",
    "\n",
    "print(\"Nouns: {}\".format(', '.join(E)))\n",
    "print(\"Verbs: {}\".format(', '.join(R)))"
   ]
  },
  {
   "cell_type": "code",
   "execution_count": 14,
   "metadata": {},
   "outputs": [
    {
     "name": "stdout",
     "output_type": "stream",
     "text": [
      "108 subject-verb-object sentences:\n"
     ]
    },
    {
     "data": {
      "image/png": "[encoded data removed]",
      "text/plain": [
       "<Figure size 720x144 with 1 Axes>"
      ]
     },
     "metadata": {
      "needs_background": "light"
     },
     "output_type": "display_data"
    }
   ],
   "source": [
    "from discopy import Ty, Word, drawing\n",
    "\n",
    "n = Ty('n')\n",
    "\n",
    "class SimpleWord(Word):\n",
    "    \"\"\" Word boxes with `dom == cod == n`. \"\"\"\n",
    "    def __init__(self, name, dom=n, cod=n, data=None, _dagger=False):\n",
    "        super().__init__(name, dom=dom, cod=cod, data=data, _dagger=_dagger)\n",
    "\n",
    "corpus = {\n",
    "    ' '.join([x, r, y]):\n",
    "    SimpleWord(x) >> SimpleWord(r) >> SimpleWord(y).dagger()\n",
    "    for x in E for r in R for y in E}\n",
    "\n",
    "print(\"{} subject-verb-object sentences:\".format(len(corpus)))\n",
    "start = drawing.Equation(*list(corpus.values())[:3], symbol=',')\n",
    "end = drawing.Equation(*list(corpus.values())[-3:], symbol=',')\n",
    "drawing.equation(start, end, symbol='...', asymmetry=5e-2, figsize=(10, 2), draw_type_labels=False)"
   ]
  },
  {
   "cell_type": "code",
   "execution_count": null,
   "metadata": {},
   "outputs": [
    {
     "name": "stdout",
     "output_type": "stream",
     "text": [
      "[1, 1, 0, 0]\n",
      "[0, 1, 1, 0]\n",
      "[2, 0, 0, 0]\n",
      "[0, 2, 0, 0]\n",
      "[1, 0, 0, 1]\n",
      "[0, 0, 1, 1]\n",
      "[1, 0, 1, 0]\n",
      "[0, 0, 0, 2]\n",
      "[0, 0, 2, 0]\n",
      "[0, 1, 0, 1]\n"
     ]
    },
    {
     "data": {
      "text/plain": [
       "1.0"
      ]
     },
     "execution_count": 30,
     "metadata": {},
     "output_type": "execute_result"
    }
   ],
   "source": [
    "# #controllo normalizzazione\n",
    "# t=[]\n",
    "# modes=np.array([0,0,1,1,2,2,3,3])\n",
    "# comb=set(it.combinations(modes, 2))\n",
    "# combs=list(comb)\n",
    "# p_bs=0\n",
    "# p_dist=0\n",
    "# for y in combs:\n",
    "#     output=[0,0,0,0]\n",
    "#     for xx in range(len(y)):\n",
    "#         output[y[xx]]+=1\n",
    "#     print(output)\n",
    "#     p_bs=p_bs+probability(F(params0)(corpus[\"Alice loves Bob\"]).amp(2, [0,1,1,0],output))\n",
    "#     p_dist=p_dist+F(params0)(corpus[\"Alice loves Bob\"]).amp_dist(2, [0,1,1,0],output)  \n",
    "# F(params0)(corpus[\"Alice kills Eve\"]).amp_CL(2, [0,1,1,0],[1,0,0,0])+\\\n",
    "# F(params0)(corpus[\"Alice kills Eve\"]).amp_CL(2, [0,1,1,0],[0,1,0,0])+\\\n",
    "# F(params0)(corpus[\"Alice kills Eve\"]).amp_CL(2, [0,1,1,0],[0,0,1,0])+\\\n",
    "# F(params0)(corpus[\"Alice kills Eve\"]).amp_CL(2, [0,1,1,0],[0,0,0,1])"
   ]
  },
  {
   "cell_type": "code",
   "execution_count": null,
   "metadata": {},
   "outputs": [],
   "source": [
    "# t=[]\n",
    "# modes=np.array([0,0,1,1,2,2,3,3])\n",
    "# comb=set(it.combinations(modes, 2))\n",
    "# combs=list(comb)\n",
    "# p_cl=0\n",
    "# for y in combs:\n",
    "#     output=[0,0,0,0]\n",
    "#     for xx in range(len(y)):\n",
    "#         output[y[xx]]+=1\n",
    "#     print(output)\n",
    "#     p_bs=p_bs+probability(F(params0)(corpus[\"Alice loves Bob\"]).amp(2, [0,1,1,0],output))\n",
    "#     p_dist=p_dist+F(params0)(corpus[\"Alice loves Bob\"]).amp_dist(2, [0,1,1,0],output)  "
   ]
  },
  {
   "cell_type": "markdown",
   "metadata": {},
   "source": [
    "p_bs"
   ]
  },
  {
   "cell_type": "markdown",
   "metadata": {},
   "source": [
    "p_dist"
   ]
  },
  {
   "cell_type": "code",
   "execution_count": 17,
   "metadata": {},
   "outputs": [],
   "source": [
    "#costruisce il chip\n",
    "\n",
    "def ansatz(params):\n",
    "    depth, half_width, _ = params.shape\n",
    "    chip = Id(2 * half_width)\n",
    "    for i in range(depth):\n",
    "        chip >>= Id().tensor(*[\n",
    "                MZI(*params[i, j]) for j in range(half_width)])\\\n",
    "            if not i % 2 else Id(1).tensor(*[\n",
    "                MZI(*params[i, j]) for j in range(half_width - 1)]) @ Id(1)\n",
    "    return chip"
   ]
  },
  {
   "cell_type": "code",
   "execution_count": 20,
   "metadata": {
    "scrolled": true
   },
   "outputs": [
    {
     "name": "stdout",
     "output_type": "stream",
     "text": [
      "Ansatz for 'Bob' (6 parameters):\n"
     ]
    },
    {
     "ename": "NameError",
     "evalue": "name 'Id' is not defined",
     "output_type": "error",
     "traceback": [
      "\u001b[1;31m---------------------------------------------------------------------------\u001b[0m",
      "\u001b[1;31mNameError\u001b[0m                                 Traceback (most recent call last)",
      "\u001b[1;32m<ipython-input-20-7b551dffd737>\u001b[0m in \u001b[0;36m<module>\u001b[1;34m\u001b[0m\n\u001b[0;32m      8\u001b[0m \u001b[1;33m\u001b[0m\u001b[0m\n\u001b[0;32m      9\u001b[0m drawing.equation(\n\u001b[1;32m---> 10\u001b[1;33m     \u001b[0mSimpleWord\u001b[0m\u001b[1;33m(\u001b[0m\u001b[1;34m'Bob'\u001b[0m\u001b[1;33m)\u001b[0m\u001b[1;33m,\u001b[0m \u001b[0mansatz\u001b[0m\u001b[1;33m(\u001b[0m\u001b[0mparams0\u001b[0m\u001b[1;33m[\u001b[0m\u001b[1;36m1\u001b[0m\u001b[1;33m]\u001b[0m\u001b[1;33m)\u001b[0m\u001b[1;33m,\u001b[0m\u001b[1;33m\u001b[0m\u001b[1;33m\u001b[0m\u001b[0m\n\u001b[0m\u001b[0;32m     11\u001b[0m     draw_type_labels=False, symbol='$\\\\mapsto$', figsize=(10, 4))\n\u001b[0;32m     12\u001b[0m \u001b[1;33m\u001b[0m\u001b[0m\n",
      "\u001b[1;32m<ipython-input-17-c7fbf505a413>\u001b[0m in \u001b[0;36mansatz\u001b[1;34m(params)\u001b[0m\n\u001b[0;32m      3\u001b[0m \u001b[1;32mdef\u001b[0m \u001b[0mansatz\u001b[0m\u001b[1;33m(\u001b[0m\u001b[0mparams\u001b[0m\u001b[1;33m)\u001b[0m\u001b[1;33m:\u001b[0m\u001b[1;33m\u001b[0m\u001b[1;33m\u001b[0m\u001b[0m\n\u001b[0;32m      4\u001b[0m     \u001b[0mdepth\u001b[0m\u001b[1;33m,\u001b[0m \u001b[0mhalf_width\u001b[0m\u001b[1;33m,\u001b[0m \u001b[0m_\u001b[0m \u001b[1;33m=\u001b[0m \u001b[0mparams\u001b[0m\u001b[1;33m.\u001b[0m\u001b[0mshape\u001b[0m\u001b[1;33m\u001b[0m\u001b[1;33m\u001b[0m\u001b[0m\n\u001b[1;32m----> 5\u001b[1;33m     \u001b[0mchip\u001b[0m \u001b[1;33m=\u001b[0m \u001b[0mId\u001b[0m\u001b[1;33m(\u001b[0m\u001b[1;36m2\u001b[0m \u001b[1;33m*\u001b[0m \u001b[0mhalf_width\u001b[0m\u001b[1;33m)\u001b[0m\u001b[1;33m\u001b[0m\u001b[1;33m\u001b[0m\u001b[0m\n\u001b[0m\u001b[0;32m      6\u001b[0m     \u001b[1;32mfor\u001b[0m \u001b[0mi\u001b[0m \u001b[1;32min\u001b[0m \u001b[0mrange\u001b[0m\u001b[1;33m(\u001b[0m\u001b[0mdepth\u001b[0m\u001b[1;33m)\u001b[0m\u001b[1;33m:\u001b[0m\u001b[1;33m\u001b[0m\u001b[1;33m\u001b[0m\u001b[0m\n\u001b[0;32m      7\u001b[0m         chip >>= Id().tensor(*[\n",
      "\u001b[1;31mNameError\u001b[0m: name 'Id' is not defined"
     ]
    }
   ],
   "source": [
    "n_params = 2 * (depth * width // 2 - depth // 2)\n",
    "\n",
    "random_params = lambda: np.random.uniform(size=(len(E + R), depth, width // 2, 2))\n",
    "\n",
    "params0 = random_params()\n",
    "\n",
    "print(\"Ansatz for 'Bob' ({} parameters):\".format(n_params))\n",
    "\n",
    "drawing.equation(\n",
    "    SimpleWord('Bob'), ansatz(params0[1]),\n",
    "    draw_type_labels=False, symbol='$\\\\mapsto$', figsize=(10, 4))\n",
    "\n",
    "print(\"Total: {} * {} = {} parameters.\".format(len(E + R), n_params, len(E + R) * n_params))\n",
    "print(params0.flatten())"
   ]
  },
  {
   "cell_type": "markdown",
   "metadata": {},
   "source": [
    "## giro di prova"
   ]
  },
  {
   "cell_type": "code",
   "execution_count": null,
   "metadata": {},
   "outputs": [
    {
     "name": "stdout",
     "output_type": "stream",
     "text": [
      "Ansatz for 'Alice loves Bob':\n"
     ]
    },
    {
     "data": {
      "image/png": "[encoded data removed]",
      "text/plain": [
       "<Figure size 720x576 with 1 Axes>"
      ]
     },
     "metadata": {
      "needs_background": "light"
     },
     "output_type": "display_data"
    }
   ],
   "source": [
    "F = lambda params: Functor(\n",
    "    ob={n: Ty(1) ** width},\n",
    "    ar={SimpleWord(w): ansatz(params[i]) for i, w in enumerate(E + R)})\n",
    "\n",
    "F0 = F(params0)\n",
    "\n",
    "print(\"Ansatz for 'Alice loves Bob':\")\n",
    "drawing.equation(\n",
    "    corpus[\"Alice loves Bob\"], F0(corpus[\"Alice loves Bob\"]),\n",
    "    symbol='$\\\\mapsto$', figsize=(10, 8), draw_type_labels=False, asymmetry=5e-2)\n",
    "\n",
    "activation = lambda x: 1 / (1 + np.exp(-x))\n",
    "post_processing = lambda x: activation(x * weight + bias)"
   ]
  },
  {
   "cell_type": "code",
   "execution_count": null,
   "metadata": {},
   "outputs": [
    {
     "name": "stdout",
     "output_type": "stream",
     "text": [
      "[0.15192438 0.5807287  0.18929702 ... 0.41410442 0.04911702 0.99226202]\n",
      "None\n",
      "Wall time: 1.69 s\n",
      "Does Fred love Eve? No (0.48)\n"
     ]
    }
   ],
   "source": [
    "#generazione dataset con valori di true e false\n",
    "\n",
    "probability = lambda amplitude: np.absolute(amplitude) ** 2\n",
    "\n",
    "def evaluate(params, sentence):\n",
    "    params = params.reshape(params0.shape)\n",
    "    return post_processing(probability(\n",
    "        F(params)(corpus[sentence]).amp(\n",
    "            n_photons, input_modes, output_modes)))\n",
    "\n",
    "print(print(params0.flatten()))\n",
    "\n",
    "%time scores = {sentence: evaluate(params0, sentence) for sentence in corpus}\n",
    "\n",
    "print(\"Does Fred love Eve? {} ({:.2F})\".format(\n",
    "    \"Yes\" if scores[\"Fred loves Eve\"] > .5 else \"No\", scores[\"Fred loves Eve\"]))"
   ]
  },
  {
   "cell_type": "code",
   "execution_count": null,
   "metadata": {},
   "outputs": [
    {
     "name": "stdout",
     "output_type": "stream",
     "text": [
      "Min: 0.33 (Bob hates Alice)\n",
      "Max: 0.97 (Fred hates Fred)\n",
      "Mean: 0.50\n",
      "Standard deviation: 0.16\n",
      "\n",
      "40 true sentences (score > .5)\n"
     ]
    },
    {
     "data": {
      "image/png": "[encoded data removed]",
      "text/plain": [
       "<Figure size 432x288 with 1 Axes>"
      ]
     },
     "metadata": {
      "needs_background": "light"
     },
     "output_type": "display_data"
    }
   ],
   "source": [
    "X = list(scores.values())\n",
    "\n",
    "plt.hist(X, 20)\n",
    "\n",
    "_min, _max = min(X), max(X)\n",
    "arg_min, arg_max = list(corpus)[X.index(_min)], list(corpus)[X.index(_max)]\n",
    "\n",
    "print(\"Min: {:.2F} ({})\".format(_min, arg_min))\n",
    "print(\"Max: {:.2F} ({})\".format(_max, arg_max))\n",
    "print(\"Mean: {:.2F}\".format(np.mean(X)))\n",
    "print(\"Standard deviation: {:.2F}\".format(np.std(X)))\n",
    "print()\n",
    "print(\"{} true sentences (score > .5)\".format(sum([x > .5 for x in X])))"
   ]
  },
  {
   "cell_type": "code",
   "execution_count": null,
   "metadata": {},
   "outputs": [
    {
     "name": "stdout",
     "output_type": "stream",
     "text": [
      "Does Fred love Eve? No (0.48)\n",
      "Min: 0.33 (Bob hates Alice)\n",
      "Max: 0.97 (Fred hates Fred)\n",
      "Mean: 0.50\n",
      "Standard deviation: 0.16\n",
      "\n",
      "40 true sentences (score > .5)\n"
     ]
    },
    {
     "data": {
      "image/png": "[encoded data removed]",
      "text/plain": [
       "<Figure size 432x288 with 1 Axes>"
      ]
     },
     "metadata": {
      "needs_background": "light"
     },
     "output_type": "display_data"
    }
   ],
   "source": [
    "#evaluation per fotoni distinguibili\n",
    "\n",
    "def evaluate_dist(params, sentence):\n",
    "    params = params.reshape(params0.shape)\n",
    "    return post_processing(\n",
    "        F(params)(corpus[sentence]).amp_dist(\n",
    "            n_photons, input_modes, output_modes))\n",
    "\n",
    "#%time scores = {sentence: evaluate_dist(params0, sentence) for sentence in corpus}\n",
    "\n",
    "print(\"Does Fred love Eve? {} ({:.2F})\".format(\n",
    "    \"Yes\" if scores[\"Fred loves Eve\"] > .5 else \"No\", scores[\"Fred loves Eve\"]))\n",
    "\n",
    "X = list(scores.values())\n",
    "\n",
    "plt.hist(X, 20)\n",
    "\n",
    "_min, _max = min(X), max(X)\n",
    "arg_min, arg_max = list(corpus)[X.index(_min)], list(corpus)[X.index(_max)]\n",
    "\n",
    "print(\"Min: {:.2F} ({})\".format(_min, arg_min))\n",
    "print(\"Max: {:.2F} ({})\".format(_max, arg_max))\n",
    "print(\"Mean: {:.2F}\".format(np.mean(X)))\n",
    "print(\"Standard deviation: {:.2F}\".format(np.std(X)))\n",
    "print()\n",
    "print(\"{} true sentences (score > .5)\".format(sum([x > .5 for x in X])))"
   ]
  },
  {
   "cell_type": "code",
   "execution_count": null,
   "metadata": {},
   "outputs": [
    {
     "name": "stdout",
     "output_type": "stream",
     "text": [
      "Does Fred love Eve? No (0.48)\n",
      "Min: 0.33 (Bob hates Alice)\n",
      "Max: 0.97 (Fred hates Fred)\n",
      "Mean: 0.50\n",
      "Standard deviation: 0.16\n",
      "\n",
      "40 true sentences (score > .5)\n"
     ]
    },
    {
     "data": {
      "image/png": "[encoded data removed]",
      "text/plain": [
       "<Figure size 432x288 with 1 Axes>"
      ]
     },
     "metadata": {
      "needs_background": "light"
     },
     "output_type": "display_data"
    }
   ],
   "source": [
    "#evaluation per luce classica (fasci che non interferiscono)\n",
    "\n",
    "params0 = random_params()\n",
    "\n",
    "def evaluate_CL(params, sentence):\n",
    "    params = params.reshape(params0.shape)\n",
    "    return post_processing(\n",
    "        F(params)(corpus[sentence]).amp_CL(\n",
    "            n_photons, input_modes, output_modes))\n",
    "\n",
    "#%time scores = {sentence: evaluate_CL(params0, sentence) for sentence in corpus}\n",
    "\n",
    "print(\"Does Fred love Eve? {} ({:.2F})\".format(\n",
    "    \"Yes\" if scores[\"Fred loves Eve\"] > .50 else \"No\", scores[\"Fred loves Eve\"]))\n",
    "X = list(scores.values())\n",
    "\n",
    "plt.hist(X, 20)\n",
    "\n",
    "_min, _max = min(X), max(X)\n",
    "arg_min, arg_max = list(corpus)[X.index(_min)], list(corpus)[X.index(_max)]\n",
    "\n",
    "print(\"Min: {:.2F} ({})\".format(_min, arg_min))\n",
    "print(\"Max: {:.2F} ({})\".format(_max, arg_max))\n",
    "print(\"Mean: {:.2F}\".format(np.mean(X)))\n",
    "print(\"Standard deviation: {:.2F}\".format(np.std(X)))\n",
    "print()\n",
    "print(\"{} true sentences (score > .5)\".format(sum([x > .5 for x in X])))"
   ]
  },
  {
   "cell_type": "markdown",
   "metadata": {},
   "source": [
    "## ottimizzazione "
   ]
  },
  {
   "cell_type": "code",
   "execution_count": null,
   "metadata": {},
   "outputs": [
    {
     "name": "stdout",
     "output_type": "stream",
     "text": [
      "Training set:\n",
      "Bob kills Eve\n",
      "Claire loves Eve\n",
      "Alice loves Fred\n",
      "...\n",
      "\n",
      "Testing set:\n",
      "Eve loves Fred\n",
      "Alice kills Eve\n",
      "Alice loves Eve\n",
      "...\n",
      "\n"
     ]
    }
   ],
   "source": [
    "## separazione training set e testing set\n",
    "\n",
    "from sklearn.model_selection import train_test_split\n",
    "from sklearn.metrics import mean_squared_error\n",
    "\n",
    "dataset = {sentence: int(score > .5) for sentence, score in scores.items()}\n",
    "\n",
    "train, test = train_test_split(list(corpus), test_size=1 / 3, random_state=42)\n",
    "\n",
    "print(\"Training set:\\n{}\\n{}\".format('\\n'.join(train[:3]), '...\\n' if len(train) > 3 else ''))\n",
    "print(\"Testing set:\\n{}\\n{}\".format('\\n'.join(test[:3]), '...\\n' if len(test) > 3 else ''))"
   ]
  },
  {
   "cell_type": "code",
   "execution_count": null,
   "metadata": {},
   "outputs": [
    {
     "name": "stdout",
     "output_type": "stream",
     "text": [
      "Random initialisation, training_loss: 0.282, testing loss: 0.243\n",
      "[0.64004512 0.82792698 0.13086325 ... 0.75013443 0.57627137 0.58343567]\n",
      "\n",
      "Does Fred love Eve?\n",
      "No\n"
     ]
    }
   ],
   "source": [
    "def loss(corpus, params, mode):\n",
    "    if mode=='bs':\n",
    "        return mean_squared_error(*zip(*[\n",
    "        (dataset[sentence], evaluate(params, sentence))\n",
    "        for sentence in corpus]))\n",
    "    if mode=='dist':\n",
    "        return mean_squared_error(*zip(*[\n",
    "        (dataset[sentence], evaluate_dist(params, sentence))\n",
    "        for sentence in corpus]))\n",
    "    if mode=='cl':\n",
    "        return mean_squared_error(*zip(*[\n",
    "        (dataset[sentence], evaluate_CL(params, sentence))\n",
    "        for sentence in corpus]))\n",
    "\n",
    "testing_loss = lambda params: loss(test, params, 'bs')\n",
    "training_loss = lambda params: loss(train, params, 'bs')\n",
    "\n",
    "params_in = random_params().flatten()\n",
    "params= params_in.copy()\n",
    "\n",
    "print(\"Random initialisation, training_loss: {:.3f}, testing loss: {:.3f}\".format(\n",
    "    training_loss(params), testing_loss(params)))\n",
    "print(params)\n",
    "print()\n",
    "print(\"Does Fred love Eve?\")\n",
    "print(\"Yes\" if evaluate(params, 'Fred loves Eve') > .5 else \"No\")"
   ]
  },
  {
   "cell_type": "code",
   "execution_count": null,
   "metadata": {},
   "outputs": [
    {
     "data": {
      "text/plain": [
       "array([0.64004512, 0.82792698, 0.13086325, ..., 0.75013443, 0.57627137,\n",
       "       0.58343567])"
      ]
     },
     "execution_count": 41,
     "metadata": {},
     "output_type": "execute_result"
    }
   ],
   "source": [
    "params_in"
   ]
  },
  {
   "cell_type": "code",
   "execution_count": null,
   "metadata": {
    "scrolled": false
   },
   "outputs": [
    {
     "name": "stdout",
     "output_type": "stream",
     "text": [
      "[0.64004512 0.82792698 0.13086325 ... 0.75013443 0.57627137 0.58343567]\n",
      "Iteration 1, training_loss: 0.277, testing loss: 0.240\n",
      "[0.66710297 0.80086913 0.1038054  ... 0.72307658 0.54921352 0.61049351]\n",
      "\n",
      "Iteration 2, training_loss: 0.277, testing loss: 0.239\n",
      "[0.66859028 0.80235644 0.1023181  ... 0.72158927 0.54772621 0.61198082]\n",
      "\n",
      "Iteration 3, training_loss: 0.276, testing loss: 0.247\n",
      "[0.68249956 0.81626572 0.11622738 ... 0.73549855 0.56163549 0.59807154]\n",
      "\n",
      "Iteration 4, training_loss: 0.275, testing loss: 0.247\n",
      "[0.67478956 0.82397572 0.12393738 ... 0.72778855 0.55392549 0.60578154]\n",
      "\n",
      "Iteration 5, training_loss: 0.277, testing loss: 0.237\n",
      "[0.69551496 0.80325032 0.10321198 ... 0.74851395 0.53320009 0.62650694]\n",
      "\n",
      "Iteration 6, training_loss: 0.276, testing loss: 0.235\n",
      "[0.68540416 0.81336111 0.09310118 ... 0.75862475 0.52308929 0.61639615]\n",
      "\n",
      "Iteration 7, training_loss: 0.275, testing loss: 0.240\n",
      "[0.69781298 0.8009523  0.10551    ... 0.74621593 0.53549811 0.60398733]\n",
      "\n",
      "Iteration 8, training_loss: 0.275, testing loss: 0.241\n",
      "[0.69039128 0.808374   0.1129317  ... 0.73879423 0.54291981 0.59656563]\n",
      "\n",
      "Iteration 9, training_loss: 0.275, testing loss: 0.244\n",
      "[0.69883144 0.79993384 0.12137186 ... 0.74723439 0.55135997 0.58812547]\n",
      "\n",
      "Iteration 10, training_loss: 0.271, testing loss: 0.253\n",
      "[0.71469865 0.81580105 0.10550465 ... 0.7631016  0.53549276 0.60399268]\n",
      "\n",
      "Iteration 20, training_loss: 0.256, testing loss: 0.248\n",
      "[0.67190842 0.82556579 0.10222625 ... 0.7584878  0.48036622 0.57333138]\n",
      "\n",
      "Iteration 30, training_loss: 0.240, testing loss: 0.243\n",
      "[0.70932046 0.83786167 0.07923026 ... 0.74010033 0.52739215 0.58276869]\n",
      "\n",
      "Iteration 40, training_loss: 0.235, testing loss: 0.239\n",
      "[0.72920875 0.82465432 0.0867612  ... 0.73582656 0.53072855 0.56167977]\n",
      "\n",
      "Iteration 50, training_loss: 0.238, testing loss: 0.247\n",
      "[0.74174289 0.81244369 0.10113308 ... 0.72850403 0.50621129 0.53917498]\n",
      "\n",
      "Iteration 60, training_loss: 0.218, testing loss: 0.248\n",
      "[0.77046143 0.82517877 0.0643546  ... 0.72606698 0.52095971 0.57262054]\n",
      "\n",
      "Iteration 70, training_loss: 0.213, testing loss: 0.244\n",
      "[0.76124211 0.82887983 0.05374174 ... 0.73792266 0.5198737  0.58474442]\n",
      "\n",
      "Iteration 80, training_loss: 0.205, testing loss: 0.242\n",
      "[0.77339111 0.83296219 0.03249327 ... 0.75073946 0.52870266 0.59339863]\n",
      "\n",
      "Iteration 90, training_loss: 0.200, testing loss: 0.245\n",
      "[0.74743464 0.84183406 0.01686516 ... 0.74184297 0.55783984 0.59893115]\n",
      "\n",
      "Iteration 100, training_loss: 0.196, testing loss: 0.245\n",
      "[0.75995031 0.8454934  0.00901278 ... 0.73966826 0.56555293 0.59886444]\n",
      "\n",
      "Iteration 110, training_loss: 0.196, testing loss: 0.242\n",
      "[0.7656987  0.83271688 0.00161379 ... 0.73965886 0.56195122 0.60694688]\n",
      "\n",
      "Iteration 120, training_loss: 0.195, testing loss: 0.242\n",
      "[0.76762826 0.83200814 0.00489013 ... 0.74079635 0.57319832 0.6050468 ]\n",
      "\n",
      "Iteration 130, training_loss: 0.193, testing loss: 0.246\n",
      "[0.78168009 0.82779477 0.00273384 ... 0.73093472 0.57993757 0.598041  ]\n",
      "\n",
      "Iteration 140, training_loss: 0.189, testing loss: 0.247\n",
      "[ 0.78887012  0.84136937 -0.0058568  ...  0.72433677  0.57468571\n",
      "  0.59193205]\n",
      "\n",
      "Iteration 150, training_loss: 0.188, testing loss: 0.247\n",
      "[ 0.79994009  0.84272042 -0.00774839 ...  0.72222984  0.57149916\n",
      "  0.59991616]\n",
      "\n",
      "Iteration 160, training_loss: 0.186, testing loss: 0.249\n",
      "[ 0.80551318  0.84728162 -0.01515343 ...  0.72350865  0.57086602\n",
      "  0.59617532]\n",
      "\n",
      "Iteration 170, training_loss: 0.184, testing loss: 0.248\n",
      "[ 0.81233928  0.84582162 -0.01967151 ...  0.72561565  0.57652678\n",
      "  0.61058127]\n",
      "\n",
      "Iteration 180, training_loss: 0.183, testing loss: 0.248\n",
      "[ 0.8161006   0.84879398 -0.03161615 ...  0.71441545  0.5671551\n",
      "  0.62469471]\n",
      "\n",
      "Iteration 190, training_loss: 0.182, testing loss: 0.250\n",
      "[ 0.81939188  0.84342919 -0.03709548 ...  0.72644991  0.56148447\n",
      "  0.62828288]\n",
      "\n",
      "Iteration 200, training_loss: 0.180, testing loss: 0.248\n",
      "[ 0.82954558  0.84902552 -0.03845022 ...  0.71549317  0.55205737\n",
      "  0.61891286]\n",
      "\n",
      "Iteration 210, training_loss: 0.179, testing loss: 0.248\n",
      "[ 0.84087362  0.84636344 -0.02342137 ...  0.717961    0.55074555\n",
      "  0.62683386]\n",
      "\n",
      "Iteration 220, training_loss: 0.176, testing loss: 0.251\n",
      "[ 0.8428396   0.85671878 -0.0287542  ...  0.72159518  0.56686448\n",
      "  0.61452486]\n",
      "\n",
      "Iteration 230, training_loss: 0.175, testing loss: 0.251\n",
      "[ 0.83453945  0.85994284 -0.02855204 ...  0.72350461  0.5646355\n",
      "  0.61499843]\n",
      "\n",
      "Iteration 240, training_loss: 0.173, testing loss: 0.253\n",
      "[ 0.83424742  0.85253805 -0.02462731 ...  0.71152015  0.56028154\n",
      "  0.61557744]\n",
      "\n",
      "Iteration 250, training_loss: 0.172, testing loss: 0.253\n",
      "[ 0.82966689  0.84820683 -0.03148463 ...  0.71857034  0.55446472\n",
      "  0.61704566]\n",
      "\n",
      "Iteration 260, training_loss: 0.172, testing loss: 0.254\n",
      "[ 0.83697222  0.85305266 -0.02941726 ...  0.71710047  0.54974511\n",
      "  0.61239679]\n",
      "\n",
      "Iteration 270, training_loss: 0.170, testing loss: 0.256\n",
      "[ 0.8353068   0.86037425 -0.02701699 ...  0.71209786  0.55039868\n",
      "  0.62282808]\n",
      "\n",
      "Iteration 280, training_loss: 0.170, testing loss: 0.256\n",
      "[ 0.82855736  0.85346373 -0.03354772 ...  0.71423813  0.55546426\n",
      "  0.62233172]\n",
      "\n",
      "Iteration 290, training_loss: 0.168, testing loss: 0.255\n",
      "[ 0.83176249  0.84431939 -0.03883175 ...  0.71821906  0.55495875\n",
      "  0.61848736]\n",
      "\n",
      "Iteration 300, training_loss: 0.167, testing loss: 0.255\n",
      "[ 0.833823    0.84757388 -0.04208885 ...  0.70960513  0.54557035\n",
      "  0.61523026]\n",
      "\n",
      "Iteration 310, training_loss: 0.167, testing loss: 0.255\n",
      "[ 0.83390153  0.84379334 -0.03322181 ...  0.71411816  0.54410896\n",
      "  0.62151161]\n",
      "\n",
      "Iteration 320, training_loss: 0.166, testing loss: 0.253\n",
      "[ 0.83731121  0.84699211 -0.02491173 ...  0.71155829  0.54612185\n",
      "  0.6218164 ]\n",
      "\n",
      "Iteration 330, training_loss: 0.165, testing loss: 0.252\n",
      "[ 0.84568674  0.84586097 -0.02390073 ...  0.70956497  0.54429704\n",
      "  0.6266911 ]\n",
      "\n",
      "Iteration 340, training_loss: 0.164, testing loss: 0.252\n",
      "[ 0.83653356  0.85256039 -0.0232562  ...  0.7042367   0.54560366\n",
      "  0.62565883]\n",
      "\n",
      "Iteration 350, training_loss: 0.164, testing loss: 0.253\n",
      "[ 0.82854289  0.85494275 -0.02229655 ...  0.70146602  0.54966919\n",
      "  0.62601572]\n",
      "\n",
      "Iteration 360, training_loss: 0.164, testing loss: 0.252\n",
      "[ 0.83305103  0.86161261 -0.02324384 ...  0.69998211  0.54709272\n",
      "  0.62656469]\n",
      "\n",
      "Iteration 370, training_loss: 0.162, testing loss: 0.252\n",
      "[ 0.83117177  0.8566433  -0.01727759 ...  0.70030213  0.55018518\n",
      "  0.62028729]\n",
      "\n",
      "Iteration 380, training_loss: 0.162, testing loss: 0.251\n",
      "[ 0.83589535  0.85903771 -0.01667152 ...  0.70258114  0.54400806\n",
      "  0.62487903]\n",
      "\n",
      "Iteration 390, training_loss: 0.161, testing loss: 0.254\n",
      "[ 0.83925337  0.84786711 -0.01367897 ...  0.70258326  0.54678944\n",
      "  0.6268662 ]\n",
      "\n",
      "Iteration 400, training_loss: 0.160, testing loss: 0.252\n",
      "[ 0.83759677  0.8488455  -0.01305463 ...  0.69938321  0.54790212\n",
      "  0.62996575]\n",
      "\n",
      "Does Alice love Bob?\n",
      "No\n",
      "time taken 1481.955013036728\n"
     ]
    }
   ],
   "source": [
    "params=params_in.copy()\n",
    "print(params)\n",
    "\n",
    "training_losses, testing_losses = [], []\n",
    "start = time()\n",
    "def callback(params):\n",
    "    training_losses.append(training_loss(params))\n",
    "    testing_losses.append(testing_loss(params))\n",
    "    if not len(training_losses) % (n_iter // 10) or len(training_losses) < 10:\n",
    "        print(\"Iteration {}, training_loss: {:.3f}, testing loss: {:.3f}\".format(\n",
    "            len(training_losses), training_losses[-1], testing_losses[-1]))\n",
    "        print(params)\n",
    "        print()\n",
    "\n",
    "result = minimizeSPSA(training_loss, params, paired=False, callback=callback, niter=400, a = 0.5, alpha=alpha, c= 0.1, gamma=gamma)\n",
    "\n",
    "print(\"Does Alice love Bob?\")\n",
    "print(\"Yes\" if evaluate(result.x, 'Alice loves Bob') > .5 else \"No\")\n",
    "print(\"time taken\", time()-start)"
   ]
  },
  {
   "cell_type": "code",
   "execution_count": null,
   "metadata": {},
   "outputs": [
    {
     "name": "stdout",
     "output_type": "stream",
     "text": [
      "Does Fred love Eve?\n",
      "No\n",
      "time taken 1531.7049267292023\n"
     ]
    }
   ],
   "source": [
    "print(\"Does Fred love Eve?\")\n",
    "print(\"Yes\" if evaluate(result.x, 'Fred loves Eve') > .5 else \"No\")\n",
    "print(\"time taken\", time()-start)\n"
   ]
  },
  {
   "cell_type": "code",
   "execution_count": null,
   "metadata": {},
   "outputs": [
    {
     "data": {
      "text/plain": [
       "[<matplotlib.lines.Line2D at 0x2392f938400>]"
      ]
     },
     "execution_count": 45,
     "metadata": {},
     "output_type": "execute_result"
    },
    {
     "data": {
      "image/png": "[encoded data removed]",
      "text/plain": [
       "<Figure size 432x288 with 1 Axes>"
      ]
     },
     "metadata": {
      "needs_background": "light"
     },
     "output_type": "display_data"
    }
   ],
   "source": [
    "plt.plot(training_losses)"
   ]
  },
  {
   "cell_type": "code",
   "execution_count": null,
   "metadata": {},
   "outputs": [
    {
     "data": {
      "text/plain": [
       "[<matplotlib.lines.Line2D at 0x23930247640>]"
      ]
     },
     "execution_count": 46,
     "metadata": {},
     "output_type": "execute_result"
    },
    {
     "data": {
      "image/png": "[encoded data removed]",
      "text/plain": [
       "<Figure size 432x288 with 1 Axes>"
      ]
     },
     "metadata": {
      "needs_background": "light"
     },
     "output_type": "display_data"
    }
   ],
   "source": [
    "plt.plot(testing_losses)"
   ]
  },
  {
   "cell_type": "code",
   "execution_count": null,
   "metadata": {},
   "outputs": [
    {
     "name": "stdout",
     "output_type": "stream",
     "text": [
      "Iteration 1, training_loss: 0.289, testing loss: 0.226\n",
      "[0.63446387 0.82234573 0.1364445  ... 0.75571568 0.57069012 0.58901691]\n",
      "\n",
      "Iteration 2, training_loss: 0.289, testing loss: 0.227\n",
      "[0.63577324 0.82103637 0.13775387 ... 0.75440631 0.57199949 0.59032628]\n",
      "\n",
      "Iteration 3, training_loss: 0.288, testing loss: 0.246\n",
      "[0.65619411 0.84145723 0.117333   ... 0.73398544 0.59242036 0.61074715]\n",
      "\n",
      "Iteration 4, training_loss: 0.285, testing loss: 0.250\n",
      "[0.63906212 0.82432525 0.10020102 ... 0.75111743 0.60955234 0.59361516]\n",
      "\n",
      "Iteration 5, training_loss: 0.285, testing loss: 0.251\n",
      "[0.63418365 0.82920372 0.10507949 ... 0.7559959  0.61443081 0.58873669]\n",
      "\n",
      "Iteration 6, training_loss: 0.271, testing loss: 0.253\n",
      "[0.67360281 0.86862289 0.14449865 ... 0.71657674 0.57501165 0.62815585]\n",
      "\n",
      "Iteration 7, training_loss: 0.268, testing loss: 0.256\n",
      "[0.69304511 0.84918059 0.12505636 ... 0.73601903 0.59445394 0.64759815]\n",
      "\n",
      "Iteration 8, training_loss: 0.267, testing loss: 0.243\n",
      "[0.71072754 0.83149816 0.10737392 ... 0.75370147 0.61213638 0.66528058]\n",
      "\n",
      "Iteration 9, training_loss: 0.254, testing loss: 0.257\n",
      "[0.68239934 0.80316996 0.13570212 ... 0.72537327 0.58380818 0.63695238]\n",
      "\n",
      "Iteration 10, training_loss: 0.255, testing loss: 0.259\n",
      "[0.69833617 0.78723313 0.15163895 ... 0.74131009 0.56787136 0.65288921]\n",
      "\n",
      "Iteration 20, training_loss: 0.242, testing loss: 0.275\n",
      "[0.65999728 0.76771729 0.09922668 ... 0.75600693 0.57686872 0.68543256]\n",
      "\n",
      "Iteration 30, training_loss: 0.228, testing loss: 0.272\n",
      "[0.68316398 0.76677249 0.11332391 ... 0.7475863  0.62534959 0.65050837]\n",
      "\n",
      "Iteration 40, training_loss: 0.216, testing loss: 0.271\n",
      "[0.71706327 0.73794725 0.08621661 ... 0.75873061 0.63810429 0.65167132]\n",
      "\n",
      "Iteration 50, training_loss: 0.215, testing loss: 0.276\n",
      "[0.70276931 0.74405183 0.10755917 ... 0.75290975 0.6630152  0.6498985 ]\n",
      "\n",
      "Iteration 60, training_loss: 0.213, testing loss: 0.274\n",
      "[0.72001659 0.74601678 0.12370868 ... 0.75536257 0.67251162 0.64602029]\n",
      "\n",
      "Iteration 70, training_loss: 0.212, testing loss: 0.275\n",
      "[0.72391744 0.76447955 0.11826716 ... 0.75685942 0.68736381 0.64873701]\n",
      "\n",
      "Iteration 80, training_loss: 0.211, testing loss: 0.275\n",
      "[0.71445747 0.76807115 0.11149404 ... 0.75158413 0.69241604 0.63781243]\n",
      "\n",
      "Iteration 90, training_loss: 0.209, testing loss: 0.274\n",
      "[0.72797048 0.76053435 0.09466714 ... 0.76249983 0.68449958 0.63290605]\n",
      "\n",
      "Iteration 100, training_loss: 0.207, testing loss: 0.273\n",
      "[0.7228577  0.75490504 0.09177773 ... 0.76315968 0.69650957 0.62902118]\n",
      "\n"
     ]
    }
   ],
   "source": [
    "testing_loss_dist = lambda params: loss(test, params, 'dist')\n",
    "training_loss_dist = lambda params: loss(train, params, 'dist')\n",
    "\n",
    "params=params_in.copy()\n",
    "\n",
    "training_losses_dist, testing_losses_dist = [], []\n",
    "start = time()\n",
    "def callback_dist(params):\n",
    "    training_losses_dist.append(training_loss_dist(params))\n",
    "    testing_losses_dist.append(testing_loss_dist(params))\n",
    "    if not len(training_losses_dist) % (n_iter // 10) or len(training_losses_dist) < 10:\n",
    "        print(\"Iteration {}, training_loss: {:.3f}, testing loss: {:.3f}\".format(\n",
    "            len(training_losses_dist), training_losses_dist[-1], testing_losses_dist[-1]))\n",
    "        print(params)\n",
    "        print()\n",
    "\n",
    "result_dist = minimizeSPSA(training_loss_dist, params, paired=False, callback=callback_dist, niter=100, a = 0.5, alpha=alpha, c= 0.1, gamma=gamma)\n",
    "\n",
    "#print(\"Does Alice love Bob?\")\n",
    "#print(\"Yes\" if evaluate_dist(result_dist.x, 'Alice loves Bob') > .5 else \"No\")\n",
    "#print(\"time taken\", time()-start)"
   ]
  },
  {
   "cell_type": "code",
   "execution_count": null,
   "metadata": {},
   "outputs": [
    {
     "name": "stdout",
     "output_type": "stream",
     "text": [
      "Iteration 1, training_loss: 0.457, testing loss: 0.475\n",
      "[0.68617847 0.78179363 0.17699661 ... 0.70400108 0.53013801 0.53730231]\n",
      "\n",
      "Iteration 2, training_loss: 0.457, testing loss: 0.472\n",
      "[0.71378678 0.75418532 0.1493883  ... 0.73160939 0.55774632 0.509694  ]\n",
      "\n",
      "Iteration 3, training_loss: 0.455, testing loss: 0.476\n",
      "[0.72095082 0.76134935 0.15655233 ... 0.73877342 0.55058229 0.51685804]\n",
      "\n",
      "Iteration 4, training_loss: 0.451, testing loss: 0.480\n",
      "[0.73543548 0.74686469 0.17103699 ... 0.72428876 0.53609763 0.50237338]\n",
      "\n",
      "Iteration 5, training_loss: 0.451, testing loss: 0.480\n",
      "[0.73709523 0.74852444 0.16937724 ... 0.72594851 0.53775738 0.50071363]\n",
      "\n",
      "Iteration 6, training_loss: 0.448, testing loss: 0.491\n",
      "[0.719156   0.73058521 0.15143801 ... 0.74388775 0.51981814 0.51865286]\n",
      "\n",
      "Iteration 7, training_loss: 0.443, testing loss: 0.497\n",
      "[0.70022203 0.74951917 0.13250404 ... 0.72495379 0.53875211 0.4997189 ]\n",
      "\n",
      "Iteration 8, training_loss: 0.442, testing loss: 0.496\n",
      "[0.71350249 0.76279963 0.11922359 ... 0.71167333 0.52547165 0.48643844]\n",
      "\n",
      "Iteration 9, training_loss: 0.441, testing loss: 0.493\n",
      "[0.72143841 0.77073555 0.12715951 ... 0.71960925 0.51753573 0.47850252]\n",
      "\n",
      "Iteration 10, training_loss: 0.436, testing loss: 0.491\n",
      "[0.69747574 0.79469823 0.15112218 ... 0.69564657 0.5414984  0.45453984]\n",
      "\n",
      "Iteration 20, training_loss: 0.422, testing loss: 0.492\n",
      "[0.69047576 0.80577822 0.10515187 ... 0.66319995 0.52198093 0.43934044]\n",
      "\n",
      "Iteration 30, training_loss: 0.409, testing loss: 0.497\n",
      "[0.63672361 0.81616706 0.1155237  ... 0.65973623 0.48260778 0.43553223]\n",
      "\n",
      "Iteration 40, training_loss: 0.404, testing loss: 0.493\n",
      "[0.62727739 0.80453622 0.12257639 ... 0.66144605 0.48258785 0.42096031]\n",
      "\n",
      "Iteration 50, training_loss: 0.402, testing loss: 0.492\n",
      "[0.62012443 0.83056107 0.13984502 ... 0.6641958  0.48972869 0.43144509]\n",
      "\n",
      "Iteration 60, training_loss: 0.399, testing loss: 0.496\n",
      "[0.61358702 0.83472906 0.13744204 ... 0.64760894 0.4923104  0.4497234 ]\n",
      "\n",
      "Iteration 70, training_loss: 0.396, testing loss: 0.496\n",
      "[0.61374607 0.85320106 0.13024054 ... 0.64089934 0.50340068 0.46034171]\n",
      "\n",
      "Iteration 80, training_loss: 0.395, testing loss: 0.497\n",
      "[0.6114987  0.85265851 0.12551558 ... 0.62015184 0.49445342 0.45732319]\n",
      "\n",
      "Iteration 90, training_loss: 0.392, testing loss: 0.496\n",
      "[0.61125768 0.86257466 0.14242264 ... 0.62730925 0.48193258 0.45065534]\n",
      "\n",
      "Iteration 100, training_loss: 0.391, testing loss: 0.493\n",
      "[0.61650189 0.86616349 0.13899122 ... 0.61817487 0.4878313  0.46360617]\n",
      "\n"
     ]
    }
   ],
   "source": [
    "testing_loss_cl = lambda params: loss(test, params, 'cl')\n",
    "training_loss_cl = lambda params: loss(train, params, 'cl')\n",
    "\n",
    "params=params_in.copy()\n",
    "\n",
    "training_losses_cl, testing_losses_cl = [], []\n",
    "start = time()\n",
    "def callback_cl(params):\n",
    "    training_losses_cl.append(training_loss_cl(params))\n",
    "    testing_losses_cl.append(testing_loss_cl(params))\n",
    "\n",
    "    if not len(training_losses_cl) % (n_iter // 10) or len(training_losses_cl) < 10:\n",
    "        print(\"Iteration {}, training_loss: {:.3f}, testing loss: {:.3f}\".format(\n",
    "            len(training_losses_cl), training_losses_cl[-1], testing_losses_cl[-1]))\n",
    "        print(params)\n",
    "        print()\n",
    "\n",
    "result_cl = minimizeSPSA(training_loss_cl, params, paired=False, callback=callback_cl, niter=100, a = 0.5, alpha=alpha, c= 0.1, gamma=gamma)\n",
    "\n",
    "#print(\"Does Alice love Bob?\")\n",
    "#print(\"Yes\" if evaluate_cl(result_cl.x, 'Alice loves Bob') > .5 else \"No\")\n",
    "#print(\"time taken\", time()-start)"
   ]
  },
  {
   "cell_type": "code",
   "execution_count": null,
   "metadata": {},
   "outputs": [
    {
     "name": "stdout",
     "output_type": "stream",
     "text": [
      "Does Fred love Eve?\n",
      "No\n",
      "time taken 1716.1423156261444\n"
     ]
    }
   ],
   "source": [
    "print(\"Does Fred love Eve?\")\n",
    "\n",
    "print(\"Yes\" if evaluate(result_dist.x, 'Fred loves Eve') > .5 else \"No\")\n",
    "print(\"time taken\", time()-start)"
   ]
  },
  {
   "cell_type": "code",
   "execution_count": null,
   "metadata": {},
   "outputs": [
    {
     "data": {
      "text/plain": [
       "[<matplotlib.lines.Line2D at 0x239302faaf0>]"
      ]
     },
     "execution_count": 56,
     "metadata": {},
     "output_type": "execute_result"
    },
    {
     "data": {
      "image/png": "[encoded data removed]",
      "text/plain": [
       "<Figure size 432x288 with 1 Axes>"
      ]
     },
     "metadata": {
      "needs_background": "light"
     },
     "output_type": "display_data"
    }
   ],
   "source": [
    "plt.plot(training_losses_dist)\n",
    "# plt.plot(training_losses_cl)\n",
    "plt.plot(training_losses)"
   ]
  },
  {
   "cell_type": "code",
   "execution_count": null,
   "metadata": {},
   "outputs": [
    {
     "data": {
      "text/plain": [
       "[<matplotlib.lines.Line2D at 0x16d850668>]"
      ]
     },
     "execution_count": 31,
     "metadata": {},
     "output_type": "execute_result"
    },
    {
     "data": {
      "image/png": "[encoded data removed]",
      "text/plain": [
       "<Figure size 432x288 with 1 Axes>"
      ]
     },
     "metadata": {
      "needs_background": "light"
     },
     "output_type": "display_data"
    }
   ],
   "source": [
    "plt.plot(testing_losses_dist)\n",
    "plt.plot(testing_losses_cl)\n",
    "plt.plot(testing_losses)"
   ]
  },
  {
   "cell_type": "code",
   "execution_count": null,
   "metadata": {},
   "outputs": [
    {
     "name": "stdout",
     "output_type": "stream",
     "text": [
      "[0.04689655 0.14173987 0.25197844 ... 0.7641264  0.50990268 0.93593863]\n"
     ]
    }
   ],
   "source": [
    "testing_loss_cl = lambda params: loss(test, params, 'cl')\n",
    "training_loss_cl = lambda params: loss(train, params, 'cl')\n",
    "\n",
    "params=params_in.copy()\n",
    "print(params)\n",
    "training_losses_cl, testing_losses_cl = [], []\n",
    "start = time()\n",
    "def callback_cl(params):\n",
    "    training_losses_cl.append(training_loss_cl(params))\n",
    "    testing_losses_cl.append(testing_loss_cl(params))\n",
    "    if not len(training_losses_cl) % (n_iter // 10) or len(training_losses_cl) < 10:\n",
    "        print(\"Iteration {}, training_loss: {:.3f}, testing loss: {:.3f}\".format(\n",
    "            len(training_losses_cl), training_losses_cl[-1], testing_losses_cl[-1]))\n",
    "        print(params)\n",
    "        print()\n",
    "\n",
    "#result_cl = minimizeSPSA(training_loss_cl, params, paired=False, callback=callback_cl, niter=400, a = 0.5, alpha=alpha, c= 0.1, gamma=gamma)\n",
    "\n",
    "#print(\"Does Alice love Bob?\")\n",
    "#print(\"Yes\" if evaluate_CL(result_cl.x, 'Alice loves Bob') > .5 else \"No\")\n",
    "#print(\"time taken\", time()-start)"
   ]
  },
  {
   "cell_type": "code",
   "execution_count": null,
   "metadata": {},
   "outputs": [
    {
     "data": {
      "text/plain": [
       "[<matplotlib.lines.Line2D at 0x16dcc1438>]"
      ]
     },
     "execution_count": 28,
     "metadata": {},
     "output_type": "execute_result"
    },
    {
     "data": {
      "image/png": "[encoded data removed]",
      "text/plain": [
       "<Figure size 432x288 with 1 Axes>"
      ]
     },
     "metadata": {
      "needs_background": "light"
     },
     "output_type": "display_data"
    }
   ],
   "source": [
    "plt.plot(training_losses_cl)"
   ]
  },
  {
   "cell_type": "code",
   "execution_count": null,
   "metadata": {},
   "outputs": [
    {
     "data": {
      "text/plain": [
       "[<matplotlib.lines.Line2D at 0x16db3eef0>]"
      ]
     },
     "execution_count": 29,
     "metadata": {},
     "output_type": "execute_result"
    },
    {
     "data": {
      "image/png": "[encoded data removed]",
      "text/plain": [
       "<Figure size 432x288 with 1 Axes>"
      ]
     },
     "metadata": {
      "needs_background": "light"
     },
     "output_type": "display_data"
    }
   ],
   "source": [
    "plt.plot(testing_losses_cl)"
   ]
  },
  {
   "cell_type": "code",
   "execution_count": null,
   "metadata": {},
   "outputs": [
    {
     "name": "stdout",
     "output_type": "stream",
     "text": [
      "              precision    recall  f1-score   support\n",
      "\n",
      "           0       0.92      0.96      0.94        48\n",
      "           1       0.91      0.83      0.87        24\n",
      "\n",
      "    accuracy                           0.92        72\n",
      "   macro avg       0.91      0.90      0.90        72\n",
      "weighted avg       0.92      0.92      0.92        72\n",
      "\n",
      "              precision    recall  f1-score   support\n",
      "\n",
      "           0       0.79      0.68      0.73        22\n",
      "           1       0.59      0.71      0.65        14\n",
      "\n",
      "    accuracy                           0.69        36\n",
      "   macro avg       0.69      0.70      0.69        36\n",
      "weighted avg       0.71      0.69      0.70        36\n",
      "\n"
     ]
    }
   ],
   "source": [
    "#bs\n",
    "from sklearn.metrics import classification_report\n",
    "\n",
    "y_train_true = [dataset[sentence] for sentence in train]\n",
    "y_train_pred = [evaluate(result.x, sentence) > .5 for sentence in train]\n",
    "\n",
    "print(classification_report(y_train_true, y_train_pred))\n",
    "\n",
    "y_test_true = [dataset[sentence] for sentence in test]\n",
    "y_test_pred = [evaluate(result.x, sentence) > .5 for sentence in test]\n",
    "\n",
    "print(classification_report(y_test_true, y_test_pred))"
   ]
  },
  {
   "cell_type": "code",
   "execution_count": null,
   "metadata": {},
   "outputs": [
    {
     "name": "stdout",
     "output_type": "stream",
     "text": [
      "              precision    recall  f1-score   support\n",
      "\n",
      "           0       0.90      0.98      0.94        48\n",
      "           1       0.95      0.79      0.86        24\n",
      "\n",
      "    accuracy                           0.92        72\n",
      "   macro avg       0.93      0.89      0.90        72\n",
      "weighted avg       0.92      0.92      0.91        72\n",
      "\n",
      "              precision    recall  f1-score   support\n",
      "\n",
      "           0       0.83      0.86      0.84        22\n",
      "           1       0.77      0.71      0.74        14\n",
      "\n",
      "    accuracy                           0.81        36\n",
      "   macro avg       0.80      0.79      0.79        36\n",
      "weighted avg       0.80      0.81      0.80        36\n",
      "\n"
     ]
    }
   ],
   "source": [
    "#dist\n",
    "y_train_true = [dataset[sentence] for sentence in train]\n",
    "y_train_pred = [evaluate_dist(result_dist.x, sentence) > .5 for sentence in train]\n",
    "\n",
    "print(classification_report(y_train_true, y_train_pred))\n",
    "\n",
    "y_test_true = [dataset[sentence] for sentence in test]\n",
    "y_test_pred = [evaluate_dist(result_dist.x, sentence) > .5 for sentence in test]\n",
    "\n",
    "print(classification_report(y_test_true, y_test_pred))"
   ]
  },
  {
   "cell_type": "code",
   "execution_count": null,
   "metadata": {},
   "outputs": [
    {
     "name": "stdout",
     "output_type": "stream",
     "text": [
      "              precision    recall  f1-score   support\n",
      "\n",
      "           0       0.79      0.92      0.85        48\n",
      "           1       0.75      0.50      0.60        24\n",
      "\n",
      "    accuracy                           0.78        72\n",
      "   macro avg       0.77      0.71      0.72        72\n",
      "weighted avg       0.77      0.78      0.76        72\n",
      "\n",
      "              precision    recall  f1-score   support\n",
      "\n",
      "           0       0.73      0.73      0.73        22\n",
      "           1       0.57      0.57      0.57        14\n",
      "\n",
      "    accuracy                           0.67        36\n",
      "   macro avg       0.65      0.65      0.65        36\n",
      "weighted avg       0.67      0.67      0.67        36\n",
      "\n"
     ]
    }
   ],
   "source": [
    "#cl\n",
    "from sklearn.metrics import classification_report\n",
    "y_train_true = [dataset[sentence] for sentence in train]\n",
    "y_train_pred = [evaluate_CL(result_cl.x, sentence) > .5 for sentence in train]\n",
    "\n",
    "print(classification_report(y_train_true, y_train_pred))\n",
    "\n",
    "y_test_true = [dataset[sentence] for sentence in test]\n",
    "y_test_pred = [evaluate_CL(result_cl.x, sentence) > .5 for sentence in test]\n",
    "\n",
    "print(classification_report(y_test_true, y_test_pred))"
   ]
  },
  {
   "cell_type": "markdown",
   "metadata": {},
   "source": [
    "## Average"
   ]
  },
  {
   "cell_type": "code",
   "execution_count": null,
   "metadata": {},
   "outputs": [
    {
     "data": {
      "text/plain": [
       "array([0.04689655, 0.14173987, 0.25197844, ..., 0.7641264 , 0.50990268,\n",
       "       0.93593863])"
      ]
     },
     "execution_count": 22,
     "metadata": {},
     "output_type": "execute_result"
    }
   ],
   "source": [
    "params_in"
   ]
  },
  {
   "cell_type": "code",
   "execution_count": null,
   "metadata": {},
   "outputs": [],
   "source": [
    "from sklearn.metrics import classification_report"
   ]
  },
  {
   "cell_type": "code",
   "execution_count": null,
   "metadata": {},
   "outputs": [
    {
     "name": "stdout",
     "output_type": "stream",
     "text": [
      "giro # 1 di 5\n",
      "[0.04689655 0.14173987 0.25197844 ... 0.7641264  0.50990268 0.93593863]\n",
      "bs case train                precision    recall  f1-score   support\n",
      "\n",
      "           0       0.82      0.98      0.90        48\n",
      "           1       0.93      0.58      0.72        24\n",
      "\n",
      "    accuracy                           0.85        72\n",
      "   macro avg       0.88      0.78      0.81        72\n",
      "weighted avg       0.86      0.85      0.84        72\n",
      "\n",
      "bs case test                precision    recall  f1-score   support\n",
      "\n",
      "           0       0.82      0.82      0.82        22\n",
      "           1       0.71      0.71      0.71        14\n",
      "\n",
      "    accuracy                           0.78        36\n",
      "   macro avg       0.77      0.77      0.77        36\n",
      "weighted avg       0.78      0.78      0.78        36\n",
      "\n",
      "cl case train                precision    recall  f1-score   support\n",
      "\n",
      "           0       0.79      0.96      0.87        48\n",
      "           1       0.86      0.50      0.63        24\n",
      "\n",
      "    accuracy                           0.81        72\n",
      "   macro avg       0.83      0.73      0.75        72\n",
      "weighted avg       0.81      0.81      0.79        72\n",
      "\n",
      "cl case test                precision    recall  f1-score   support\n",
      "\n",
      "           0       0.69      0.82      0.75        22\n",
      "           1       0.60      0.43      0.50        14\n",
      "\n",
      "    accuracy                           0.67        36\n",
      "   macro avg       0.65      0.62      0.62        36\n",
      "weighted avg       0.66      0.67      0.65        36\n",
      "\n",
      "dist case train                precision    recall  f1-score   support\n",
      "\n",
      "           0       0.93      0.90      0.91        48\n",
      "           1       0.81      0.88      0.84        24\n",
      "\n",
      "    accuracy                           0.89        72\n",
      "   macro avg       0.87      0.89      0.88        72\n",
      "weighted avg       0.89      0.89      0.89        72\n",
      "\n",
      "dist case test                precision    recall  f1-score   support\n",
      "\n",
      "           0       0.77      0.77      0.77        22\n",
      "           1       0.64      0.64      0.64        14\n",
      "\n",
      "    accuracy                           0.72        36\n",
      "   macro avg       0.71      0.71      0.71        36\n",
      "weighted avg       0.72      0.72      0.72        36\n",
      "\n",
      "giro # 2 di 5\n",
      "[0.19837707 0.19193911 0.40422224 ... 0.61836254 0.47890782 0.78252238]\n",
      "bs case train                precision    recall  f1-score   support\n",
      "\n",
      "           0       0.84      0.98      0.90        96\n",
      "           1       0.94      0.62      0.75        48\n",
      "\n",
      "    accuracy                           0.86       144\n",
      "   macro avg       0.89      0.80      0.83       144\n",
      "weighted avg       0.87      0.86      0.85       144\n",
      "\n",
      "bs case test                precision    recall  f1-score   support\n",
      "\n",
      "           0       0.68      0.77      0.72        44\n",
      "           1       0.55      0.43      0.48        28\n",
      "\n",
      "    accuracy                           0.64        72\n",
      "   macro avg       0.61      0.60      0.60        72\n",
      "weighted avg       0.63      0.64      0.63        72\n",
      "\n",
      "cl case train                precision    recall  f1-score   support\n",
      "\n",
      "           0       0.77      0.77      0.77        96\n",
      "           1       0.54      0.54      0.54        48\n",
      "\n",
      "    accuracy                           0.69       144\n",
      "   macro avg       0.66      0.66      0.66       144\n",
      "weighted avg       0.69      0.69      0.69       144\n",
      "\n",
      "cl case test                precision    recall  f1-score   support\n",
      "\n",
      "           0       0.72      0.59      0.65        44\n",
      "           1       0.50      0.64      0.56        28\n",
      "\n",
      "    accuracy                           0.61        72\n",
      "   macro avg       0.61      0.62      0.61        72\n",
      "weighted avg       0.64      0.61      0.62        72\n",
      "\n",
      "dist case train                precision    recall  f1-score   support\n",
      "\n",
      "           0       0.92      0.93      0.92        96\n",
      "           1       0.85      0.83      0.84        48\n",
      "\n",
      "    accuracy                           0.90       144\n",
      "   macro avg       0.88      0.88      0.88       144\n",
      "weighted avg       0.90      0.90      0.90       144\n",
      "\n",
      "dist case test                precision    recall  f1-score   support\n",
      "\n",
      "           0       0.76      0.80      0.78        44\n",
      "           1       0.65      0.61      0.63        28\n",
      "\n",
      "    accuracy                           0.72        72\n",
      "   macro avg       0.71      0.70      0.70        72\n",
      "weighted avg       0.72      0.72      0.72        72\n",
      "\n",
      "giro # 3 di 5\n",
      "[0.76766856 0.62943657 0.84718735 ... 0.50323809 0.71121267 0.953592  ]\n",
      "bs case train                precision    recall  f1-score   support\n",
      "\n",
      "           0       0.85      0.97      0.91       144\n",
      "           1       0.91      0.67      0.77        72\n",
      "\n",
      "    accuracy                           0.87       216\n",
      "   macro avg       0.88      0.82      0.84       216\n",
      "weighted avg       0.87      0.87      0.86       216\n",
      "\n",
      "bs case test                precision    recall  f1-score   support\n",
      "\n",
      "           0       0.73      0.79      0.76        66\n",
      "           1       0.62      0.55      0.58        42\n",
      "\n",
      "    accuracy                           0.69       108\n",
      "   macro avg       0.68      0.67      0.67       108\n",
      "weighted avg       0.69      0.69      0.69       108\n",
      "\n",
      "cl case train                precision    recall  f1-score   support\n",
      "\n",
      "           0       0.73      0.85      0.78       144\n",
      "           1       0.54      0.36      0.43        72\n",
      "\n",
      "    accuracy                           0.69       216\n",
      "   macro avg       0.63      0.60      0.61       216\n",
      "weighted avg       0.66      0.69      0.67       216\n",
      "\n",
      "cl case test                precision    recall  f1-score   support\n",
      "\n",
      "           0       0.67      0.73      0.70        66\n",
      "           1       0.50      0.43      0.46        42\n",
      "\n",
      "    accuracy                           0.61       108\n",
      "   macro avg       0.58      0.58      0.58       108\n",
      "weighted avg       0.60      0.61      0.60       108\n",
      "\n",
      "dist case train                precision    recall  f1-score   support\n",
      "\n",
      "           0       0.91      0.93      0.92       144\n",
      "           1       0.86      0.82      0.84        72\n",
      "\n",
      "    accuracy                           0.89       216\n",
      "   macro avg       0.88      0.88      0.88       216\n",
      "weighted avg       0.89      0.89      0.89       216\n",
      "\n",
      "dist case test                precision    recall  f1-score   support\n",
      "\n",
      "           0       0.68      0.76      0.72        66\n",
      "           1       0.54      0.45      0.49        42\n",
      "\n",
      "    accuracy                           0.64       108\n",
      "   macro avg       0.61      0.60      0.61       108\n",
      "weighted avg       0.63      0.64      0.63       108\n",
      "\n",
      "giro # 4 di 5\n",
      "[0.49000815 0.12907005 0.44754146 ... 0.87167727 0.27123313 0.15194135]\n",
      "bs case train                precision    recall  f1-score   support\n",
      "\n",
      "           0       0.86      0.96      0.91       192\n",
      "           1       0.89      0.70      0.78        96\n",
      "\n",
      "    accuracy                           0.87       288\n",
      "   macro avg       0.88      0.83      0.85       288\n",
      "weighted avg       0.87      0.87      0.87       288\n",
      "\n",
      "bs case test                precision    recall  f1-score   support\n",
      "\n",
      "           0       0.69      0.75      0.72        88\n",
      "           1       0.54      0.46      0.50        56\n",
      "\n",
      "    accuracy                           0.64       144\n",
      "   macro avg       0.61      0.61      0.61       144\n",
      "weighted avg       0.63      0.64      0.63       144\n",
      "\n"
     ]
    },
    {
     "ename": "KeyboardInterrupt",
     "evalue": "",
     "output_type": "error",
     "traceback": [
      "\u001b[0;31m---------------------------------------------------------------------------\u001b[0m",
      "\u001b[0;31mKeyboardInterrupt\u001b[0m                         Traceback (most recent call last)",
      "\u001b[0;32m<ipython-input-24-afcc7c50fbf3>\u001b[0m in \u001b[0;36m<module>\u001b[0;34m\u001b[0m\n\u001b[1;32m     36\u001b[0m     \u001b[0mprint\u001b[0m\u001b[0;34m(\u001b[0m\u001b[0;34m\"bs case test \"\u001b[0m\u001b[0;34m,\u001b[0m \u001b[0mclassification_report\u001b[0m\u001b[0;34m(\u001b[0m\u001b[0my_test_true\u001b[0m\u001b[0;34m,\u001b[0m \u001b[0my_test_pred\u001b[0m\u001b[0;34m)\u001b[0m\u001b[0;34m)\u001b[0m\u001b[0;34m\u001b[0m\u001b[0;34m\u001b[0m\u001b[0m\n\u001b[1;32m     37\u001b[0m     \u001b[0mparams\u001b[0m\u001b[0;34m=\u001b[0m \u001b[0mparams_in\u001b[0m\u001b[0;34m.\u001b[0m\u001b[0mcopy\u001b[0m\u001b[0;34m(\u001b[0m\u001b[0;34m)\u001b[0m\u001b[0;34m\u001b[0m\u001b[0;34m\u001b[0m\u001b[0m\n\u001b[0;32m---> 38\u001b[0;31m     \u001b[0mresult_cl\u001b[0m \u001b[0;34m=\u001b[0m \u001b[0mminimizeSPSA\u001b[0m\u001b[0;34m(\u001b[0m\u001b[0mtraining_loss_cl\u001b[0m\u001b[0;34m,\u001b[0m \u001b[0mparams\u001b[0m\u001b[0;34m,\u001b[0m \u001b[0mpaired\u001b[0m\u001b[0;34m=\u001b[0m\u001b[0;32mFalse\u001b[0m\u001b[0;34m,\u001b[0m \u001b[0mcallback\u001b[0m\u001b[0;34m=\u001b[0m\u001b[0mcallback_cl\u001b[0m\u001b[0;34m,\u001b[0m \u001b[0mniter\u001b[0m\u001b[0;34m=\u001b[0m\u001b[0;36m400\u001b[0m\u001b[0;34m,\u001b[0m \u001b[0ma\u001b[0m \u001b[0;34m=\u001b[0m \u001b[0;36m0.5\u001b[0m\u001b[0;34m,\u001b[0m \u001b[0malpha\u001b[0m\u001b[0;34m=\u001b[0m\u001b[0malpha\u001b[0m\u001b[0;34m,\u001b[0m \u001b[0mc\u001b[0m\u001b[0;34m=\u001b[0m \u001b[0;36m0.1\u001b[0m\u001b[0;34m,\u001b[0m \u001b[0mgamma\u001b[0m\u001b[0;34m=\u001b[0m\u001b[0mgamma\u001b[0m\u001b[0;34m)\u001b[0m\u001b[0;34m\u001b[0m\u001b[0;34m\u001b[0m\u001b[0m\n\u001b[0m\u001b[1;32m     39\u001b[0m     \u001b[0my_train_pred_cl\u001b[0m \u001b[0;34m=\u001b[0m \u001b[0my_train_pred_cl\u001b[0m\u001b[0;34m+\u001b[0m\u001b[0;34m[\u001b[0m\u001b[0mevaluate_CL\u001b[0m\u001b[0;34m(\u001b[0m\u001b[0mresult_cl\u001b[0m\u001b[0;34m.\u001b[0m\u001b[0mx\u001b[0m\u001b[0;34m,\u001b[0m \u001b[0msentence\u001b[0m\u001b[0;34m)\u001b[0m \u001b[0;34m>\u001b[0m \u001b[0;36m.5\u001b[0m \u001b[0;32mfor\u001b[0m \u001b[0msentence\u001b[0m \u001b[0;32min\u001b[0m \u001b[0mtrain\u001b[0m\u001b[0;34m]\u001b[0m\u001b[0;34m\u001b[0m\u001b[0;34m\u001b[0m\u001b[0m\n\u001b[1;32m     40\u001b[0m     \u001b[0my_test_pred_cl\u001b[0m \u001b[0;34m=\u001b[0m \u001b[0my_test_pred_cl\u001b[0m\u001b[0;34m+\u001b[0m\u001b[0;34m[\u001b[0m\u001b[0mevaluate_CL\u001b[0m\u001b[0;34m(\u001b[0m\u001b[0mresult_cl\u001b[0m\u001b[0;34m.\u001b[0m\u001b[0mx\u001b[0m\u001b[0;34m,\u001b[0m \u001b[0msentence\u001b[0m\u001b[0;34m)\u001b[0m \u001b[0;34m>\u001b[0m \u001b[0;36m.5\u001b[0m \u001b[0;32mfor\u001b[0m \u001b[0msentence\u001b[0m \u001b[0;32min\u001b[0m \u001b[0mtest\u001b[0m\u001b[0;34m]\u001b[0m\u001b[0;34m\u001b[0m\u001b[0;34m\u001b[0m\u001b[0m\n",
      "\u001b[0;32m~/Downloads/discopy-optics/docs/notebooks/noisyopt.py\u001b[0m in \u001b[0;36mminimizeSPSA\u001b[0;34m(func, x0, args, bounds, niter, paired, a, alpha, c, gamma, disp, callback)\u001b[0m\n\u001b[1;32m    337\u001b[0m             \u001b[0mfkwargs\u001b[0m\u001b[0;34m[\u001b[0m\u001b[0;34m'seed'\u001b[0m\u001b[0;34m]\u001b[0m \u001b[0;34m=\u001b[0m \u001b[0mnp\u001b[0m\u001b[0;34m.\u001b[0m\u001b[0mrandom\u001b[0m\u001b[0;34m.\u001b[0m\u001b[0mrandint\u001b[0m\u001b[0;34m(\u001b[0m\u001b[0;36m0\u001b[0m\u001b[0;34m,\u001b[0m \u001b[0mnp\u001b[0m\u001b[0;34m.\u001b[0m\u001b[0miinfo\u001b[0m\u001b[0;34m(\u001b[0m\u001b[0mnp\u001b[0m\u001b[0;34m.\u001b[0m\u001b[0mint32\u001b[0m\u001b[0;34m)\u001b[0m\u001b[0;34m.\u001b[0m\u001b[0mmax\u001b[0m\u001b[0;34m)\u001b[0m\u001b[0;34m\u001b[0m\u001b[0;34m\u001b[0m\u001b[0m\n\u001b[1;32m    338\u001b[0m         \u001b[0;32mif\u001b[0m \u001b[0mbounds\u001b[0m \u001b[0;32mis\u001b[0m \u001b[0;32mNone\u001b[0m\u001b[0;34m:\u001b[0m\u001b[0;34m\u001b[0m\u001b[0;34m\u001b[0m\u001b[0m\n\u001b[0;32m--> 339\u001b[0;31m             \u001b[0mgrad\u001b[0m \u001b[0;34m=\u001b[0m \u001b[0;34m(\u001b[0m\u001b[0mfuncf\u001b[0m\u001b[0;34m(\u001b[0m\u001b[0mx\u001b[0m \u001b[0;34m+\u001b[0m \u001b[0mck\u001b[0m\u001b[0;34m*\u001b[0m\u001b[0mDeltak\u001b[0m\u001b[0;34m,\u001b[0m \u001b[0;34m**\u001b[0m\u001b[0mfkwargs\u001b[0m\u001b[0;34m)\u001b[0m \u001b[0;34m-\u001b[0m \u001b[0mfuncf\u001b[0m\u001b[0;34m(\u001b[0m\u001b[0mx\u001b[0m \u001b[0;34m-\u001b[0m \u001b[0mck\u001b[0m\u001b[0;34m*\u001b[0m\u001b[0mDeltak\u001b[0m\u001b[0;34m,\u001b[0m \u001b[0;34m**\u001b[0m\u001b[0mfkwargs\u001b[0m\u001b[0;34m)\u001b[0m\u001b[0;34m)\u001b[0m \u001b[0;34m/\u001b[0m \u001b[0;34m(\u001b[0m\u001b[0;36m2\u001b[0m\u001b[0;34m*\u001b[0m\u001b[0mck\u001b[0m\u001b[0;34m*\u001b[0m\u001b[0mDeltak\u001b[0m\u001b[0;34m)\u001b[0m\u001b[0;34m\u001b[0m\u001b[0;34m\u001b[0m\u001b[0m\n\u001b[0m\u001b[1;32m    340\u001b[0m             \u001b[0mx\u001b[0m \u001b[0;34m-=\u001b[0m \u001b[0mak\u001b[0m\u001b[0;34m*\u001b[0m\u001b[0mgrad\u001b[0m\u001b[0;34m\u001b[0m\u001b[0;34m\u001b[0m\u001b[0m\n\u001b[1;32m    341\u001b[0m         \u001b[0;32melse\u001b[0m\u001b[0;34m:\u001b[0m\u001b[0;34m\u001b[0m\u001b[0;34m\u001b[0m\u001b[0m\n",
      "\u001b[0;32m~/Downloads/discopy-optics/docs/notebooks/noisyopt.py\u001b[0m in \u001b[0;36mfuncf\u001b[0;34m(x, **kwargs)\u001b[0m\n\u001b[1;32m    323\u001b[0m         \u001b[0;31m# freeze function arguments\u001b[0m\u001b[0;34m\u001b[0m\u001b[0;34m\u001b[0m\u001b[0;34m\u001b[0m\u001b[0m\n\u001b[1;32m    324\u001b[0m         \u001b[0;32mdef\u001b[0m \u001b[0mfuncf\u001b[0m\u001b[0;34m(\u001b[0m\u001b[0mx\u001b[0m\u001b[0;34m,\u001b[0m \u001b[0;34m**\u001b[0m\u001b[0mkwargs\u001b[0m\u001b[0;34m)\u001b[0m\u001b[0;34m:\u001b[0m\u001b[0;34m\u001b[0m\u001b[0;34m\u001b[0m\u001b[0m\n\u001b[0;32m--> 325\u001b[0;31m             \u001b[0;32mreturn\u001b[0m \u001b[0mfunc\u001b[0m\u001b[0;34m(\u001b[0m\u001b[0mx\u001b[0m\u001b[0;34m,\u001b[0m \u001b[0;34m*\u001b[0m\u001b[0margs\u001b[0m\u001b[0;34m,\u001b[0m \u001b[0;34m**\u001b[0m\u001b[0mkwargs\u001b[0m\u001b[0;34m)\u001b[0m\u001b[0;34m\u001b[0m\u001b[0;34m\u001b[0m\u001b[0m\n\u001b[0m\u001b[1;32m    326\u001b[0m \u001b[0;34m\u001b[0m\u001b[0m\n\u001b[1;32m    327\u001b[0m     \u001b[0mN\u001b[0m \u001b[0;34m=\u001b[0m \u001b[0mlen\u001b[0m\u001b[0;34m(\u001b[0m\u001b[0mx0\u001b[0m\u001b[0;34m)\u001b[0m\u001b[0;34m\u001b[0m\u001b[0;34m\u001b[0m\u001b[0m\n",
      "\u001b[0;32m<ipython-input-19-a447e1194e65>\u001b[0m in \u001b[0;36m<lambda>\u001b[0;34m(params)\u001b[0m\n\u001b[1;32m      1\u001b[0m \u001b[0mtesting_loss_cl\u001b[0m \u001b[0;34m=\u001b[0m \u001b[0;32mlambda\u001b[0m \u001b[0mparams\u001b[0m\u001b[0;34m:\u001b[0m \u001b[0mloss\u001b[0m\u001b[0;34m(\u001b[0m\u001b[0mtest\u001b[0m\u001b[0;34m,\u001b[0m \u001b[0mparams\u001b[0m\u001b[0;34m,\u001b[0m \u001b[0;34m'cl'\u001b[0m\u001b[0;34m)\u001b[0m\u001b[0;34m\u001b[0m\u001b[0;34m\u001b[0m\u001b[0m\n\u001b[0;32m----> 2\u001b[0;31m \u001b[0mtraining_loss_cl\u001b[0m \u001b[0;34m=\u001b[0m \u001b[0;32mlambda\u001b[0m \u001b[0mparams\u001b[0m\u001b[0;34m:\u001b[0m \u001b[0mloss\u001b[0m\u001b[0;34m(\u001b[0m\u001b[0mtrain\u001b[0m\u001b[0;34m,\u001b[0m \u001b[0mparams\u001b[0m\u001b[0;34m,\u001b[0m \u001b[0;34m'cl'\u001b[0m\u001b[0;34m)\u001b[0m\u001b[0;34m\u001b[0m\u001b[0;34m\u001b[0m\u001b[0m\n\u001b[0m\u001b[1;32m      3\u001b[0m \u001b[0;34m\u001b[0m\u001b[0m\n\u001b[1;32m      4\u001b[0m \u001b[0mparams\u001b[0m\u001b[0;34m=\u001b[0m\u001b[0mparams_in\u001b[0m\u001b[0;34m.\u001b[0m\u001b[0mcopy\u001b[0m\u001b[0;34m(\u001b[0m\u001b[0;34m)\u001b[0m\u001b[0;34m\u001b[0m\u001b[0;34m\u001b[0m\u001b[0m\n\u001b[1;32m      5\u001b[0m \u001b[0mprint\u001b[0m\u001b[0;34m(\u001b[0m\u001b[0mparams\u001b[0m\u001b[0;34m)\u001b[0m\u001b[0;34m\u001b[0m\u001b[0;34m\u001b[0m\u001b[0m\n",
      "\u001b[0;32m<ipython-input-15-8201a07aed0b>\u001b[0m in \u001b[0;36mloss\u001b[0;34m(corpus, params, mode)\u001b[0m\n\u001b[1;32m     11\u001b[0m         return mean_squared_error(*zip(*[\n\u001b[1;32m     12\u001b[0m         \u001b[0;34m(\u001b[0m\u001b[0mdataset\u001b[0m\u001b[0;34m[\u001b[0m\u001b[0msentence\u001b[0m\u001b[0;34m]\u001b[0m\u001b[0;34m,\u001b[0m \u001b[0mevaluate_CL\u001b[0m\u001b[0;34m(\u001b[0m\u001b[0mparams\u001b[0m\u001b[0;34m,\u001b[0m \u001b[0msentence\u001b[0m\u001b[0;34m)\u001b[0m\u001b[0;34m)\u001b[0m\u001b[0;34m\u001b[0m\u001b[0;34m\u001b[0m\u001b[0m\n\u001b[0;32m---> 13\u001b[0;31m         for sentence in corpus]))\n\u001b[0m\u001b[1;32m     14\u001b[0m \u001b[0;34m\u001b[0m\u001b[0m\n\u001b[1;32m     15\u001b[0m \u001b[0mtesting_loss\u001b[0m \u001b[0;34m=\u001b[0m \u001b[0;32mlambda\u001b[0m \u001b[0mparams\u001b[0m\u001b[0;34m:\u001b[0m \u001b[0mloss\u001b[0m\u001b[0;34m(\u001b[0m\u001b[0mtest\u001b[0m\u001b[0;34m,\u001b[0m \u001b[0mparams\u001b[0m\u001b[0;34m,\u001b[0m \u001b[0;34m'bs'\u001b[0m\u001b[0;34m)\u001b[0m\u001b[0;34m\u001b[0m\u001b[0;34m\u001b[0m\u001b[0m\n",
      "\u001b[0;32m<ipython-input-15-8201a07aed0b>\u001b[0m in \u001b[0;36m<listcomp>\u001b[0;34m(.0)\u001b[0m\n\u001b[1;32m     11\u001b[0m         return mean_squared_error(*zip(*[\n\u001b[1;32m     12\u001b[0m         \u001b[0;34m(\u001b[0m\u001b[0mdataset\u001b[0m\u001b[0;34m[\u001b[0m\u001b[0msentence\u001b[0m\u001b[0;34m]\u001b[0m\u001b[0;34m,\u001b[0m \u001b[0mevaluate_CL\u001b[0m\u001b[0;34m(\u001b[0m\u001b[0mparams\u001b[0m\u001b[0;34m,\u001b[0m \u001b[0msentence\u001b[0m\u001b[0;34m)\u001b[0m\u001b[0;34m)\u001b[0m\u001b[0;34m\u001b[0m\u001b[0;34m\u001b[0m\u001b[0m\n\u001b[0;32m---> 13\u001b[0;31m         for sentence in corpus]))\n\u001b[0m\u001b[1;32m     14\u001b[0m \u001b[0;34m\u001b[0m\u001b[0m\n\u001b[1;32m     15\u001b[0m \u001b[0mtesting_loss\u001b[0m \u001b[0;34m=\u001b[0m \u001b[0;32mlambda\u001b[0m \u001b[0mparams\u001b[0m\u001b[0;34m:\u001b[0m \u001b[0mloss\u001b[0m\u001b[0;34m(\u001b[0m\u001b[0mtest\u001b[0m\u001b[0;34m,\u001b[0m \u001b[0mparams\u001b[0m\u001b[0;34m,\u001b[0m \u001b[0;34m'bs'\u001b[0m\u001b[0;34m)\u001b[0m\u001b[0;34m\u001b[0m\u001b[0;34m\u001b[0m\u001b[0m\n",
      "\u001b[0;32m<ipython-input-13-0903fded027d>\u001b[0m in \u001b[0;36mevaluate_CL\u001b[0;34m(params, sentence)\u001b[0m\n\u001b[1;32m      6\u001b[0m     \u001b[0mparams\u001b[0m \u001b[0;34m=\u001b[0m \u001b[0mparams\u001b[0m\u001b[0;34m.\u001b[0m\u001b[0mreshape\u001b[0m\u001b[0;34m(\u001b[0m\u001b[0mparams0\u001b[0m\u001b[0;34m.\u001b[0m\u001b[0mshape\u001b[0m\u001b[0;34m)\u001b[0m\u001b[0;34m\u001b[0m\u001b[0;34m\u001b[0m\u001b[0m\n\u001b[1;32m      7\u001b[0m     return post_processing(\n\u001b[0;32m----> 8\u001b[0;31m         F(params)(corpus[sentence]).amp_CL(\n\u001b[0m\u001b[1;32m      9\u001b[0m             n_photons, input_modes, output_modes))\n\u001b[1;32m     10\u001b[0m \u001b[0;34m\u001b[0m\u001b[0m\n",
      "\u001b[0;32m<ipython-input-9-8f078f1e97b9>\u001b[0m in \u001b[0;36m<lambda>\u001b[0;34m(params)\u001b[0m\n\u001b[1;32m      1\u001b[0m F = lambda params: Functor(\n\u001b[1;32m      2\u001b[0m     \u001b[0mob\u001b[0m\u001b[0;34m=\u001b[0m\u001b[0;34m{\u001b[0m\u001b[0mn\u001b[0m\u001b[0;34m:\u001b[0m \u001b[0mTy\u001b[0m\u001b[0;34m(\u001b[0m\u001b[0;36m1\u001b[0m\u001b[0;34m)\u001b[0m \u001b[0;34m**\u001b[0m \u001b[0mwidth\u001b[0m\u001b[0;34m}\u001b[0m\u001b[0;34m,\u001b[0m\u001b[0;34m\u001b[0m\u001b[0;34m\u001b[0m\u001b[0m\n\u001b[0;32m----> 3\u001b[0;31m     ar={SimpleWord(w): ansatz(params[i]) for i, w in enumerate(E + R)})\n\u001b[0m\u001b[1;32m      4\u001b[0m \u001b[0;34m\u001b[0m\u001b[0m\n\u001b[1;32m      5\u001b[0m \u001b[0mF0\u001b[0m \u001b[0;34m=\u001b[0m \u001b[0mF\u001b[0m\u001b[0;34m(\u001b[0m\u001b[0mparams0\u001b[0m\u001b[0;34m)\u001b[0m\u001b[0;34m\u001b[0m\u001b[0;34m\u001b[0m\u001b[0m\n",
      "\u001b[0;32m<ipython-input-9-8f078f1e97b9>\u001b[0m in \u001b[0;36m<dictcomp>\u001b[0;34m(.0)\u001b[0m\n\u001b[1;32m      1\u001b[0m F = lambda params: Functor(\n\u001b[1;32m      2\u001b[0m     \u001b[0mob\u001b[0m\u001b[0;34m=\u001b[0m\u001b[0;34m{\u001b[0m\u001b[0mn\u001b[0m\u001b[0;34m:\u001b[0m \u001b[0mTy\u001b[0m\u001b[0;34m(\u001b[0m\u001b[0;36m1\u001b[0m\u001b[0;34m)\u001b[0m \u001b[0;34m**\u001b[0m \u001b[0mwidth\u001b[0m\u001b[0;34m}\u001b[0m\u001b[0;34m,\u001b[0m\u001b[0;34m\u001b[0m\u001b[0;34m\u001b[0m\u001b[0m\n\u001b[0;32m----> 3\u001b[0;31m     ar={SimpleWord(w): ansatz(params[i]) for i, w in enumerate(E + R)})\n\u001b[0m\u001b[1;32m      4\u001b[0m \u001b[0;34m\u001b[0m\u001b[0m\n\u001b[1;32m      5\u001b[0m \u001b[0mF0\u001b[0m \u001b[0;34m=\u001b[0m \u001b[0mF\u001b[0m\u001b[0;34m(\u001b[0m\u001b[0mparams0\u001b[0m\u001b[0;34m)\u001b[0m\u001b[0;34m\u001b[0m\u001b[0;34m\u001b[0m\u001b[0m\n",
      "\u001b[0;32m<ipython-input-7-c7fbf505a413>\u001b[0m in \u001b[0;36mansatz\u001b[0;34m(params)\u001b[0m\n\u001b[1;32m      7\u001b[0m         chip >>= Id().tensor(*[\n\u001b[1;32m      8\u001b[0m                 MZI(*params[i, j]) for j in range(half_width)])\\\n\u001b[0;32m----> 9\u001b[0;31m             if not i % 2 else Id(1).tensor(*[\n\u001b[0m\u001b[1;32m     10\u001b[0m                 MZI(*params[i, j]) for j in range(half_width - 1)]) @ Id(1)\n\u001b[1;32m     11\u001b[0m     \u001b[0;32mreturn\u001b[0m \u001b[0mchip\u001b[0m\u001b[0;34m\u001b[0m\u001b[0;34m\u001b[0m\u001b[0m\n",
      "\u001b[0;32m/usr/local/lib/python3.7/site-packages/discopy/monoidal.py\u001b[0m in \u001b[0;36mtensor\u001b[0;34m(self, other, *rest)\u001b[0m\n\u001b[1;32m    448\u001b[0m             \u001b[0;32mreturn\u001b[0m \u001b[0mself\u001b[0m\u001b[0;34m\u001b[0m\u001b[0;34m\u001b[0m\u001b[0m\n\u001b[1;32m    449\u001b[0m         \u001b[0;32mif\u001b[0m \u001b[0mrest\u001b[0m\u001b[0;34m:\u001b[0m\u001b[0;34m\u001b[0m\u001b[0;34m\u001b[0m\u001b[0m\n\u001b[0;32m--> 450\u001b[0;31m             \u001b[0;32mreturn\u001b[0m \u001b[0mself\u001b[0m\u001b[0;34m.\u001b[0m\u001b[0mtensor\u001b[0m\u001b[0;34m(\u001b[0m\u001b[0mother\u001b[0m\u001b[0;34m)\u001b[0m\u001b[0;34m.\u001b[0m\u001b[0mtensor\u001b[0m\u001b[0;34m(\u001b[0m\u001b[0;34m*\u001b[0m\u001b[0mrest\u001b[0m\u001b[0;34m)\u001b[0m\u001b[0;34m\u001b[0m\u001b[0;34m\u001b[0m\u001b[0m\n\u001b[0m\u001b[1;32m    451\u001b[0m         \u001b[0;32mif\u001b[0m \u001b[0misinstance\u001b[0m\u001b[0;34m(\u001b[0m\u001b[0mother\u001b[0m\u001b[0;34m,\u001b[0m \u001b[0mSum\u001b[0m\u001b[0;34m)\u001b[0m\u001b[0;34m:\u001b[0m\u001b[0;34m\u001b[0m\u001b[0;34m\u001b[0m\u001b[0m\n\u001b[1;32m    452\u001b[0m             \u001b[0;32mreturn\u001b[0m \u001b[0mself\u001b[0m\u001b[0;34m.\u001b[0m\u001b[0msum\u001b[0m\u001b[0;34m(\u001b[0m\u001b[0;34m[\u001b[0m\u001b[0mself\u001b[0m\u001b[0;34m]\u001b[0m\u001b[0;34m)\u001b[0m\u001b[0;34m.\u001b[0m\u001b[0mtensor\u001b[0m\u001b[0;34m(\u001b[0m\u001b[0mother\u001b[0m\u001b[0;34m)\u001b[0m\u001b[0;34m\u001b[0m\u001b[0;34m\u001b[0m\u001b[0m\n",
      "\u001b[0;32m/usr/local/lib/python3.7/site-packages/discopy/monoidal.py\u001b[0m in \u001b[0;36mtensor\u001b[0;34m(self, other, *rest)\u001b[0m\n\u001b[1;32m    460\u001b[0m             \u001b[0mlayers\u001b[0m \u001b[0;34m=\u001b[0m \u001b[0mlayers\u001b[0m \u001b[0;34m>>\u001b[0m \u001b[0mLayer\u001b[0m\u001b[0;34m(\u001b[0m\u001b[0mleft\u001b[0m\u001b[0;34m,\u001b[0m \u001b[0mbox\u001b[0m\u001b[0;34m,\u001b[0m \u001b[0mright\u001b[0m \u001b[0;34m@\u001b[0m \u001b[0mother\u001b[0m\u001b[0;34m.\u001b[0m\u001b[0mdom\u001b[0m\u001b[0;34m)\u001b[0m\u001b[0;34m\u001b[0m\u001b[0;34m\u001b[0m\u001b[0m\n\u001b[1;32m    461\u001b[0m         \u001b[0;32mfor\u001b[0m \u001b[0mleft\u001b[0m\u001b[0;34m,\u001b[0m \u001b[0mbox\u001b[0m\u001b[0;34m,\u001b[0m \u001b[0mright\u001b[0m \u001b[0;32min\u001b[0m \u001b[0mother\u001b[0m\u001b[0;34m.\u001b[0m\u001b[0mlayers\u001b[0m\u001b[0;34m:\u001b[0m\u001b[0;34m\u001b[0m\u001b[0;34m\u001b[0m\u001b[0m\n\u001b[0;32m--> 462\u001b[0;31m             \u001b[0mlayers\u001b[0m \u001b[0;34m=\u001b[0m \u001b[0mlayers\u001b[0m \u001b[0;34m>>\u001b[0m \u001b[0mLayer\u001b[0m\u001b[0;34m(\u001b[0m\u001b[0mself\u001b[0m\u001b[0;34m.\u001b[0m\u001b[0mcod\u001b[0m \u001b[0;34m@\u001b[0m \u001b[0mleft\u001b[0m\u001b[0;34m,\u001b[0m \u001b[0mbox\u001b[0m\u001b[0;34m,\u001b[0m \u001b[0mright\u001b[0m\u001b[0;34m)\u001b[0m\u001b[0;34m\u001b[0m\u001b[0;34m\u001b[0m\u001b[0m\n\u001b[0m\u001b[1;32m    463\u001b[0m         \u001b[0;32mreturn\u001b[0m \u001b[0mself\u001b[0m\u001b[0;34m.\u001b[0m\u001b[0mupgrade\u001b[0m\u001b[0;34m(\u001b[0m\u001b[0mDiagram\u001b[0m\u001b[0;34m(\u001b[0m\u001b[0mdom\u001b[0m\u001b[0;34m,\u001b[0m \u001b[0mcod\u001b[0m\u001b[0;34m,\u001b[0m \u001b[0mboxes\u001b[0m\u001b[0;34m,\u001b[0m \u001b[0moffsets\u001b[0m\u001b[0;34m,\u001b[0m \u001b[0mlayers\u001b[0m\u001b[0;34m=\u001b[0m\u001b[0mlayers\u001b[0m\u001b[0;34m)\u001b[0m\u001b[0;34m)\u001b[0m\u001b[0;34m\u001b[0m\u001b[0;34m\u001b[0m\u001b[0m\n\u001b[1;32m    464\u001b[0m \u001b[0;34m\u001b[0m\u001b[0m\n",
      "\u001b[0;32m/usr/local/lib/python3.7/site-packages/discopy/monoidal.py\u001b[0m in \u001b[0;36m__init__\u001b[0;34m(self, left, box, right)\u001b[0m\n\u001b[1;32m    283\u001b[0m     \u001b[0;32mdef\u001b[0m \u001b[0m__init__\u001b[0m\u001b[0;34m(\u001b[0m\u001b[0mself\u001b[0m\u001b[0;34m,\u001b[0m \u001b[0mleft\u001b[0m\u001b[0;34m,\u001b[0m \u001b[0mbox\u001b[0m\u001b[0;34m,\u001b[0m \u001b[0mright\u001b[0m\u001b[0;34m)\u001b[0m\u001b[0;34m:\u001b[0m\u001b[0;34m\u001b[0m\u001b[0;34m\u001b[0m\u001b[0m\n\u001b[1;32m    284\u001b[0m         \u001b[0mself\u001b[0m\u001b[0;34m.\u001b[0m\u001b[0m_left\u001b[0m\u001b[0;34m,\u001b[0m \u001b[0mself\u001b[0m\u001b[0;34m.\u001b[0m\u001b[0m_box\u001b[0m\u001b[0;34m,\u001b[0m \u001b[0mself\u001b[0m\u001b[0;34m.\u001b[0m\u001b[0m_right\u001b[0m \u001b[0;34m=\u001b[0m \u001b[0mleft\u001b[0m\u001b[0;34m,\u001b[0m \u001b[0mbox\u001b[0m\u001b[0;34m,\u001b[0m \u001b[0mright\u001b[0m\u001b[0;34m\u001b[0m\u001b[0;34m\u001b[0m\u001b[0m\n\u001b[0;32m--> 285\u001b[0;31m         \u001b[0mdom\u001b[0m\u001b[0;34m,\u001b[0m \u001b[0mcod\u001b[0m \u001b[0;34m=\u001b[0m \u001b[0mleft\u001b[0m \u001b[0;34m@\u001b[0m \u001b[0mbox\u001b[0m\u001b[0;34m.\u001b[0m\u001b[0mdom\u001b[0m \u001b[0;34m@\u001b[0m \u001b[0mright\u001b[0m\u001b[0;34m,\u001b[0m \u001b[0mleft\u001b[0m \u001b[0;34m@\u001b[0m \u001b[0mbox\u001b[0m\u001b[0;34m.\u001b[0m\u001b[0mcod\u001b[0m \u001b[0;34m@\u001b[0m \u001b[0mright\u001b[0m\u001b[0;34m\u001b[0m\u001b[0;34m\u001b[0m\u001b[0m\n\u001b[0m\u001b[1;32m    286\u001b[0m         \u001b[0msuper\u001b[0m\u001b[0;34m(\u001b[0m\u001b[0;34m)\u001b[0m\u001b[0;34m.\u001b[0m\u001b[0m__init__\u001b[0m\u001b[0;34m(\u001b[0m\u001b[0;34m\"Layer\"\u001b[0m\u001b[0;34m,\u001b[0m \u001b[0mdom\u001b[0m\u001b[0;34m,\u001b[0m \u001b[0mcod\u001b[0m\u001b[0;34m)\u001b[0m\u001b[0;34m\u001b[0m\u001b[0;34m\u001b[0m\u001b[0m\n\u001b[1;32m    287\u001b[0m \u001b[0;34m\u001b[0m\u001b[0m\n",
      "\u001b[0;32m/usr/local/lib/python3.7/site-packages/discopy/monoidal.py\u001b[0m in \u001b[0;36m__matmul__\u001b[0;34m(self, other)\u001b[0m\n\u001b[1;32m    189\u001b[0m \u001b[0;34m\u001b[0m\u001b[0m\n\u001b[1;32m    190\u001b[0m     \u001b[0;32mdef\u001b[0m \u001b[0m__matmul__\u001b[0m\u001b[0;34m(\u001b[0m\u001b[0mself\u001b[0m\u001b[0;34m,\u001b[0m \u001b[0mother\u001b[0m\u001b[0;34m)\u001b[0m\u001b[0;34m:\u001b[0m\u001b[0;34m\u001b[0m\u001b[0;34m\u001b[0m\u001b[0m\n\u001b[0;32m--> 191\u001b[0;31m         \u001b[0;32mreturn\u001b[0m \u001b[0mself\u001b[0m\u001b[0;34m.\u001b[0m\u001b[0mtensor\u001b[0m\u001b[0;34m(\u001b[0m\u001b[0mother\u001b[0m\u001b[0;34m)\u001b[0m\u001b[0;34m\u001b[0m\u001b[0;34m\u001b[0m\u001b[0m\n\u001b[0m\u001b[1;32m    192\u001b[0m \u001b[0;34m\u001b[0m\u001b[0m\n\u001b[1;32m    193\u001b[0m     \u001b[0;32mdef\u001b[0m \u001b[0m__pow__\u001b[0m\u001b[0;34m(\u001b[0m\u001b[0mself\u001b[0m\u001b[0;34m,\u001b[0m \u001b[0mn_times\u001b[0m\u001b[0;34m)\u001b[0m\u001b[0;34m:\u001b[0m\u001b[0;34m\u001b[0m\u001b[0;34m\u001b[0m\u001b[0m\n",
      "\u001b[0;32m/usr/local/lib/python3.7/site-packages/discopy/monoidal.py\u001b[0m in \u001b[0;36mtensor\u001b[0;34m(self, *others)\u001b[0m\n\u001b[1;32m    129\u001b[0m                 \u001b[0;32mraise\u001b[0m \u001b[0mTypeError\u001b[0m\u001b[0;34m(\u001b[0m\u001b[0mmessages\u001b[0m\u001b[0;34m.\u001b[0m\u001b[0mtype_err\u001b[0m\u001b[0;34m(\u001b[0m\u001b[0mTy\u001b[0m\u001b[0;34m,\u001b[0m \u001b[0mother\u001b[0m\u001b[0;34m)\u001b[0m\u001b[0;34m)\u001b[0m\u001b[0;34m\u001b[0m\u001b[0;34m\u001b[0m\u001b[0m\n\u001b[1;32m    130\u001b[0m         \u001b[0mobjects\u001b[0m \u001b[0;34m=\u001b[0m \u001b[0mself\u001b[0m\u001b[0;34m.\u001b[0m\u001b[0mobjects\u001b[0m \u001b[0;34m+\u001b[0m \u001b[0;34m[\u001b[0m\u001b[0mx\u001b[0m \u001b[0;32mfor\u001b[0m \u001b[0mt\u001b[0m \u001b[0;32min\u001b[0m \u001b[0mothers\u001b[0m \u001b[0;32mfor\u001b[0m \u001b[0mx\u001b[0m \u001b[0;32min\u001b[0m \u001b[0mt\u001b[0m\u001b[0;34m.\u001b[0m\u001b[0mobjects\u001b[0m\u001b[0;34m]\u001b[0m\u001b[0;34m\u001b[0m\u001b[0;34m\u001b[0m\u001b[0m\n\u001b[0;32m--> 131\u001b[0;31m         \u001b[0;32mreturn\u001b[0m \u001b[0mself\u001b[0m\u001b[0;34m.\u001b[0m\u001b[0mupgrade\u001b[0m\u001b[0;34m(\u001b[0m\u001b[0mTy\u001b[0m\u001b[0;34m(\u001b[0m\u001b[0;34m*\u001b[0m\u001b[0mobjects\u001b[0m\u001b[0;34m)\u001b[0m\u001b[0;34m)\u001b[0m\u001b[0;34m\u001b[0m\u001b[0;34m\u001b[0m\u001b[0m\n\u001b[0m\u001b[1;32m    132\u001b[0m \u001b[0;34m\u001b[0m\u001b[0m\n\u001b[1;32m    133\u001b[0m     \u001b[0;32mdef\u001b[0m \u001b[0mcount\u001b[0m\u001b[0;34m(\u001b[0m\u001b[0mself\u001b[0m\u001b[0;34m,\u001b[0m \u001b[0mobj\u001b[0m\u001b[0;34m)\u001b[0m\u001b[0;34m:\u001b[0m\u001b[0;34m\u001b[0m\u001b[0;34m\u001b[0m\u001b[0m\n",
      "\u001b[0;32m/usr/local/lib/python3.7/site-packages/discopy/monoidal.py\u001b[0m in \u001b[0;36mupgrade\u001b[0;34m(old)\u001b[0m\n\u001b[1;32m    240\u001b[0m     \u001b[0;32mdef\u001b[0m \u001b[0mupgrade\u001b[0m\u001b[0;34m(\u001b[0m\u001b[0mold\u001b[0m\u001b[0;34m)\u001b[0m\u001b[0;34m:\u001b[0m\u001b[0;34m\u001b[0m\u001b[0;34m\u001b[0m\u001b[0m\n\u001b[1;32m    241\u001b[0m         \u001b[0;32mfor\u001b[0m \u001b[0mobj\u001b[0m \u001b[0;32min\u001b[0m \u001b[0mold\u001b[0m\u001b[0;34m:\u001b[0m\u001b[0;34m\u001b[0m\u001b[0;34m\u001b[0m\u001b[0m\n\u001b[0;32m--> 242\u001b[0;31m             \u001b[0;32mif\u001b[0m \u001b[0mobj\u001b[0m\u001b[0;34m.\u001b[0m\u001b[0mname\u001b[0m \u001b[0;34m!=\u001b[0m \u001b[0;36m1\u001b[0m\u001b[0;34m:\u001b[0m\u001b[0;34m\u001b[0m\u001b[0;34m\u001b[0m\u001b[0m\n\u001b[0m\u001b[1;32m    243\u001b[0m                 \u001b[0;32mraise\u001b[0m \u001b[0mTypeError\u001b[0m\u001b[0;34m(\u001b[0m\u001b[0mmessages\u001b[0m\u001b[0;34m.\u001b[0m\u001b[0mtype_err\u001b[0m\u001b[0;34m(\u001b[0m\u001b[0mint\u001b[0m\u001b[0;34m,\u001b[0m \u001b[0mobj\u001b[0m\u001b[0;34m.\u001b[0m\u001b[0mname\u001b[0m\u001b[0;34m)\u001b[0m\u001b[0;34m)\u001b[0m\u001b[0;34m\u001b[0m\u001b[0;34m\u001b[0m\u001b[0m\n\u001b[1;32m    244\u001b[0m         \u001b[0;32mreturn\u001b[0m \u001b[0mPRO\u001b[0m\u001b[0;34m(\u001b[0m\u001b[0mlen\u001b[0m\u001b[0;34m(\u001b[0m\u001b[0mold\u001b[0m\u001b[0;34m)\u001b[0m\u001b[0;34m)\u001b[0m\u001b[0;34m\u001b[0m\u001b[0;34m\u001b[0m\u001b[0m\n",
      "\u001b[0;31mKeyboardInterrupt\u001b[0m: "
     ]
    }
   ],
   "source": [
    "y_train_true = []\n",
    "y_test_true = []\n",
    "y_train_pred = []\n",
    "y_train_pred_dist = []\n",
    "y_train_pred_cl = []\n",
    "y_test_pred = []\n",
    "y_test_pred_dist = []\n",
    "y_test_pred_cl = []\n",
    "\n",
    "def callback(params):\n",
    "    training_losses.append(training_loss(params))\n",
    "    testing_losses.append(testing_loss(params))\n",
    "def callback_cl(params):\n",
    "    training_losses_cl.append(training_loss_cl(params))\n",
    "    testing_losses_cl.append(testing_loss_cl(params))\n",
    "def callback_dist(params):\n",
    "    training_losses_dist.append(training_loss_dist(params))\n",
    "    testing_losses_dist.append(testing_loss_dist(params))\n",
    "    \n",
    "n_prove=5\n",
    "\n",
    "\n",
    "for index in range(n_prove):\n",
    "    print(\"giro # %d di %d\" %(index+1, n_prove))\n",
    "    training_losses_cl, testing_losses_cl = [], []\n",
    "    training_losses, testing_losses= [], []\n",
    "    training_losses_dist, testing_losses_dist = [], []\n",
    "    y_train_true = y_train_true+[dataset[sentence] for sentence in train]\n",
    "    y_test_true =y_test_true+[dataset[sentence] for sentence in test]\n",
    "    print(params_in)\n",
    "    params= params_in.copy()\n",
    "    result = minimizeSPSA(training_loss, params, paired=False, callback=callback_dist, niter=400, a = 0.5, alpha=alpha, c= 0.1, gamma=gamma)\n",
    "    y_train_pred = y_train_pred+[evaluate(result.x, sentence) > .5 for sentence in train]\n",
    "    y_test_pred = y_test_pred+[evaluate(result.x, sentence) > .5 for sentence in test]\n",
    "    print(\"bs case train \", classification_report(y_train_true, y_train_pred))\n",
    "    print(\"bs case test \", classification_report(y_test_true, y_test_pred))\n",
    "    params= params_in.copy()\n",
    "    result_cl = minimizeSPSA(training_loss_cl, params, paired=False, callback=callback_cl, niter=400, a = 0.5, alpha=alpha, c= 0.1, gamma=gamma)\n",
    "    y_train_pred_cl = y_train_pred_cl+[evaluate_CL(result_cl.x, sentence) > .5 for sentence in train]\n",
    "    y_test_pred_cl = y_test_pred_cl+[evaluate_CL(result_cl.x, sentence) > .5 for sentence in test]\n",
    "    print(\"cl case train \", classification_report(y_train_true, y_train_pred_cl))\n",
    "    print(\"cl case test \", classification_report(y_test_true, y_test_pred_cl))\n",
    "    params= params_in.copy()\n",
    "    result_dist = minimizeSPSA(training_loss_dist, params, paired=False, callback=callback_dist, niter=400, a = 0.5, alpha=alpha, c= 0.1, gamma=gamma)\n",
    "    y_train_pred_dist = y_train_pred_dist+[evaluate_dist(result_dist.x, sentence) > .5 for sentence in train]\n",
    "    y_test_pred_dist = y_test_pred_dist+[evaluate_dist(result_dist.x, sentence) > .5 for sentence in test]\n",
    "    print(\"dist case train \", classification_report(y_train_true, y_train_pred_dist))\n",
    "    print(\"dist case test \", classification_report(y_test_true, y_test_pred_dist))\n",
    "    params_in = random_params().flatten()\n",
    "    \n",
    "    \n",
    "\n"
   ]
  },
  {
   "cell_type": "code",
   "execution_count": null,
   "metadata": {},
   "outputs": [],
   "source": [
    "file_bs_test=open(\"y_test_true_bs.txt\", \"wb\")\n",
    "file_bs_train=open(\"y_train_true_bs.txt\", \"wb\")\n",
    "file_dist_test=open(\"y_test_true_dist.txt\", \"wb\")\n",
    "file_dist_train=open(\"y_train_true_dist.txt\", \"wb\")\n",
    "file_cl_test=open(\"y_test_true_cl.txt\", \"wb\")\n",
    "file_cl_train=open(\"y_train_true_cl.txt\", \"wb\")"
   ]
  },
  {
   "cell_type": "code",
   "execution_count": null,
   "metadata": {},
   "outputs": [],
   "source": [
    "import pickle\n",
    "pickle.dump(y_test_pred_bs, file_bs_test)\n",
    "pickle.dump(y_train_pred_bs, file_bs_train)\n",
    "pickle.dump(y_test_pred_bs, file_dist_test)\n",
    "pickle.dump(y_train_pred_bs, file_dist_train)\n",
    "pickle.dump(y_test_pred_bs, file_cl_test)\n",
    "pickle.dump(y_train_pred_bs, file_cl_train)"
   ]
  }
 ],
 "metadata": {
  "interpreter": {
   "hash": "d63890fa2c3ef0f7ba297bebaf66618d7fab7d2850fc09d1ec8522451708e595"
  },
  "kernelspec": {
   "display_name": "Python 3.9.4 64-bit ('discopy': conda)",
   "name": "python3"
  },
  "language_info": {
   "codemirror_mode": {
    "name": "ipython",
    "version": 3
   },
   "file_extension": ".py",
   "mimetype": "text/x-python",
   "name": "python",
   "nbconvert_exporter": "python",
   "pygments_lexer": "ipython3",
   "version": "3.9.4"
  }
 },
 "nbformat": 4,
 "nbformat_minor": 2
}
