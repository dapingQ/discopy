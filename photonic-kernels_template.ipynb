{
 "cells": [
  {
   "cell_type": "markdown",
   "metadata": {},
   "source": [
    "# Photonic kernels\n",
    "\n",
    "- Generate a dataset using the chip with $n$ photons\n",
    "- Learn the dataset using $k \\leq n$ photons\n",
    "- Compare performance with standard Gaussian kernels"
   ]
  },
  {
   "cell_type": "markdown",
   "metadata": {},
   "source": [
    "### Code to construct chips"
   ]
  },
  {
   "cell_type": "code",
   "execution_count": 1,
   "metadata": {},
   "outputs": [],
   "source": [
    "from discopy.quantum.optics import MZI, BeamSplitter, PhaseShift, Id\n",
    "\n",
    "def params_shape(width, depth):\n",
    "    \"\"\" Returns the shape of parameters given width and depth. \"\"\"\n",
    "    even_width = not width % 2\n",
    "    even_depth = not depth % 2\n",
    "    if even_width:\n",
    "        if even_depth:\n",
    "            # we have width // 2 MZIs on the first row\n",
    "            # followed by width // 2 - 1 equals width - 1\n",
    "            return (depth // 2, width - 1, 2)\n",
    "        else:\n",
    "            # we have the parameters for even depths plus\n",
    "            # a last layer of width // 2 MZIs\n",
    "            return (depth // 2 * (width - 1) + width // 2, 2)\n",
    "    else:\n",
    "        # we have width // 2 MZIs on each row, where\n",
    "        # the even layers are tensored by Id on the right\n",
    "        # and the odd layers are tensored on the left.\n",
    "        return (depth, width // 2, 2)\n",
    "\n",
    "\n",
    "def ansatz(width, depth, x):\n",
    "        \"\"\" Returns the chip given width, depth and parameters x\"\"\"\n",
    "        params = x.reshape(params_shape(width, depth))\n",
    "        chip = Id(width)\n",
    "        if not width % 2:\n",
    "            if depth % 2:\n",
    "                params, last_layer = params[:-width // 2].reshape(\n",
    "                    params_shape(width, depth - 1)), params[-width // 2:]\n",
    "            for i in range(depth // 2):\n",
    "                chip = chip\\\n",
    "                    >> Id().tensor(*[\n",
    "                        MZI(*params[i, j])\n",
    "                        for j in range(width // 2)])\\\n",
    "                    >> Id(1) @ Id().tensor(*[\n",
    "                        MZI(*params[i, j + width // 2])\n",
    "                        for j in range(width // 2 - 1)]) @ Id(1)\n",
    "            if depth % 2:\n",
    "                chip = chip >> Id().tensor(*[\n",
    "                    MZI(*last_layer[j]) for j in range(width // 2)])\n",
    "        else:\n",
    "            for i in range(depth):\n",
    "                left, right = (Id(1), Id()) if i % 2 else (Id(), Id(1))\n",
    "                chip >>= left.tensor(*[\n",
    "                    MZI(*params[i, j])\n",
    "                    for j in range(width // 2)]) @ right\n",
    "        return chip"
   ]
  },
  {
   "cell_type": "markdown",
   "metadata": {},
   "source": [
    "### Initialise width and depth of chip"
   ]
  },
  {
   "cell_type": "code",
   "execution_count": 2,
   "metadata": {
    "scrolled": true
   },
   "outputs": [
    {
     "data": {
      "image/png": "[encoded data removed]",
      "text/plain": [
       "<Figure size 432x288 with 1 Axes>"
      ]
     },
     "metadata": {
      "needs_background": "light"
     },
     "output_type": "display_data"
    }
   ],
   "source": [
    "import numpy as np\n",
    "\n",
    "depth = 4\n",
    "width = 5\n",
    "n_params = 2 * (depth * width // 2 - depth // 2)\n",
    "\n",
    "random_datapoint = lambda: np.random.uniform(0, 2, size=(n_params,))\n",
    "\n",
    "x0 = random_datapoint()\n",
    "ansatz(width, depth, x0).draw()"
   ]
  },
  {
   "cell_type": "code",
   "execution_count": 3,
   "metadata": {},
   "outputs": [
    {
     "data": {
      "image/png": "[encoded data removed]",
      "text/plain": [
       "<Figure size 432x288 with 1 Axes>"
      ]
     },
     "metadata": {
      "needs_background": "light"
     },
     "output_type": "display_data"
    }
   ],
   "source": [
    "(ansatz(width, depth, x0) >> ansatz(width, depth, x0).dagger()).draw()"
   ]
  },
  {
   "cell_type": "markdown",
   "metadata": {},
   "source": [
    "### Generate the dataset"
   ]
  },
  {
   "cell_type": "code",
   "execution_count": 4,
   "metadata": {},
   "outputs": [],
   "source": [
    "from discopy.quantum.optics import occupation_numbers\n",
    "\n",
    "n_photons = 3\n",
    "a = [0, 1, 1, 1, 0]\n",
    "\n",
    "def label(x):\n",
    "    ''' Returns label of datapoint x, obtained by sampling from the chip with input state a'''\n",
    "    basis_states = occupation_numbers(n_photons, width)\n",
    "    chip = ansatz(width, depth, x)\n",
    "    p_left = sum([np.absolute(chip.amp(a, b)) ** 2 for b in basis_states[:len(basis_states) // 2]])\n",
    "    if p_left > .5:\n",
    "        return 1\n",
    "    else:\n",
    "        return -1      "
   ]
  },
  {
   "cell_type": "code",
   "execution_count": 5,
   "metadata": {
    "scrolled": false
   },
   "outputs": [
    {
     "name": "stdout",
     "output_type": "stream",
     "text": [
      "Number of positive samples: 60, Number of negative samples: 60\n",
      "Number of discarded samples: 19\n"
     ]
    }
   ],
   "source": [
    "D = 120 # number of datapoints, must be even.\n",
    "\n",
    "data = []\n",
    "labels =[]\n",
    "count_positive, count_negative, count_discarded = 0, 0, 0\n",
    "\n",
    "while count_negative + count_positive < D:\n",
    "        x = random_datapoint()\n",
    "        y = label(x)\n",
    "        if y == -1 and count_negative < D // 2:\n",
    "            data += [x]\n",
    "            labels += [y]\n",
    "            count_negative += 1\n",
    "        elif y == 1 and count_positive < D // 2:\n",
    "            data += [x]\n",
    "            labels += [y]\n",
    "            count_positive += 1\n",
    "        else:\n",
    "            count_discarded += 1\n",
    "        print('Number of positive samples: {}, Number of negative samples: {}'.format(\n",
    "                count_positive, count_negative), end='\\r')\n",
    "\n",
    "assert sum(labels) == 0 \n",
    "print('\\nNumber of discarded samples: {}'.format(count_discarded))"
   ]
  },
  {
   "cell_type": "markdown",
   "metadata": {},
   "source": [
    "### Learn dataset with photonic kernel"
   ]
  },
  {
   "cell_type": "code",
   "execution_count": 6,
   "metadata": {},
   "outputs": [
    {
     "data": {
      "text/plain": [
       "0.9999999999999993"
      ]
     },
     "execution_count": 6,
     "metadata": {},
     "output_type": "execute_result"
    }
   ],
   "source": [
    "photonic_kernel = lambda state: lambda x0, x1: np.absolute(\n",
    "                        (ansatz(width, depth, x0) >> ansatz(width, depth, x1).dagger()).amp(state, state)) ** 2\n",
    "\n",
    "photonic_kernel(a)(data[4], data[4])"
   ]
  },
  {
   "cell_type": "code",
   "execution_count": 7,
   "metadata": {},
   "outputs": [
    {
     "data": {
      "text/plain": [
       "2"
      ]
     },
     "execution_count": 7,
     "metadata": {},
     "output_type": "execute_result"
    }
   ],
   "source": [
    "from sklearn.model_selection import train_test_split\n",
    "\n",
    "X_train, X_test, y_train, y_test = train_test_split(data, labels, test_size=1/4, random_state=115)\n",
    "sum(y_train)"
   ]
  },
  {
   "cell_type": "code",
   "execution_count": 8,
   "metadata": {},
   "outputs": [
    {
     "name": "stdout",
     "output_type": "stream",
     "text": [
      "[LibSVM]Performance on TRAIN data:\n",
      "              precision    recall  f1-score   support\n",
      "\n",
      "          -1       1.00      1.00      1.00        44\n",
      "           1       1.00      1.00      1.00        46\n",
      "\n",
      "    accuracy                           1.00        90\n",
      "   macro avg       1.00      1.00      1.00        90\n",
      "weighted avg       1.00      1.00      1.00        90\n",
      "\n"
     ]
    }
   ],
   "source": [
    "from sklearn import svm\n",
    "from sklearn.metrics import classification_report\n",
    "\n",
    "classifier = svm.SVC(kernel='precomputed', verbose=True)\n",
    "\n",
    "state = [0, 1, 1, 1, 0]\n",
    "\n",
    "gram_train = np.array([[photonic_kernel(state)(x0, x1) for x1 in X_train] for x0 in X_train])\n",
    "classifier.fit(gram_train, y_train)\n",
    "\n",
    "print('Performance on TRAIN data:')\n",
    "print(classification_report(y_train, classifier.predict(gram_train)))"
   ]
  },
  {
   "cell_type": "code",
   "execution_count": 9,
   "metadata": {
    "scrolled": true
   },
   "outputs": [
    {
     "name": "stdout",
     "output_type": "stream",
     "text": [
      "Performance on TEST data:\n",
      "              precision    recall  f1-score   support\n",
      "\n",
      "          -1       0.80      0.50      0.62        16\n",
      "           1       0.60      0.86      0.71        14\n",
      "\n",
      "    accuracy                           0.67        30\n",
      "   macro avg       0.70      0.68      0.66        30\n",
      "weighted avg       0.71      0.67      0.66        30\n",
      "\n"
     ]
    }
   ],
   "source": [
    "gram_test = [[photonic_kernel(state)(x0, x1) for x1 in X_train] for x0 in X_test] \n",
    "print('Performance on TEST data:')\n",
    "print(classification_report(y_test, classifier.predict(gram_test)))\n"
   ]
  },
  {
   "cell_type": "markdown",
   "metadata": {},
   "source": [
    "### Learn dataset with less photons"
   ]
  },
  {
   "cell_type": "code",
   "execution_count": 10,
   "metadata": {},
   "outputs": [
    {
     "name": "stdout",
     "output_type": "stream",
     "text": [
      "[LibSVM]Performance on TRAIN data:\n",
      "              precision    recall  f1-score   support\n",
      "\n",
      "          -1       1.00      0.98      0.99        44\n",
      "           1       0.98      1.00      0.99        46\n",
      "\n",
      "    accuracy                           0.99        90\n",
      "   macro avg       0.99      0.99      0.99        90\n",
      "weighted avg       0.99      0.99      0.99        90\n",
      "\n",
      "Performance on TEST data:\n",
      "              precision    recall  f1-score   support\n",
      "\n",
      "          -1       0.60      0.56      0.58        16\n",
      "           1       0.53      0.57      0.55        14\n",
      "\n",
      "    accuracy                           0.57        30\n",
      "   macro avg       0.57      0.57      0.57        30\n",
      "weighted avg       0.57      0.57      0.57        30\n",
      "\n"
     ]
    }
   ],
   "source": [
    "state = [0, 1, 0, 1, 0]\n",
    "\n",
    "gram_train = np.array([[photonic_kernel(state)(x0, x1) for x1 in X_train] for x0 in X_train])\n",
    "classifier.fit(gram_train, y_train)\n",
    "\n",
    "print('Performance on TRAIN data:')\n",
    "print(classification_report(y_train, classifier.predict(gram_train)))\n",
    "\n",
    "gram_test = [[photonic_kernel(state)(x0, x1) for x1 in X_train] for x0 in X_test] \n",
    "\n",
    "print('Performance on TEST data:')\n",
    "print(classification_report(y_test, classifier.predict(gram_test)))"
   ]
  },
  {
   "cell_type": "code",
   "execution_count": 11,
   "metadata": {
    "scrolled": true
   },
   "outputs": [
    {
     "name": "stdout",
     "output_type": "stream",
     "text": [
      "[LibSVM]Performance on TRAIN data:\n",
      "              precision    recall  f1-score   support\n",
      "\n",
      "          -1       0.74      0.70      0.72        44\n",
      "           1       0.73      0.76      0.74        46\n",
      "\n",
      "    accuracy                           0.73        90\n",
      "   macro avg       0.73      0.73      0.73        90\n",
      "weighted avg       0.73      0.73      0.73        90\n",
      "\n",
      "Performance on TEST data:\n",
      "              precision    recall  f1-score   support\n",
      "\n",
      "          -1       0.45      0.31      0.37        16\n",
      "           1       0.42      0.57      0.48        14\n",
      "\n",
      "    accuracy                           0.43        30\n",
      "   macro avg       0.44      0.44      0.43        30\n",
      "weighted avg       0.44      0.43      0.42        30\n",
      "\n"
     ]
    }
   ],
   "source": [
    "state = [0, 0, 1, 0, 0]\n",
    "\n",
    "gram_train = np.array([[photonic_kernel(state)(x0, x1) for x1 in X_train] for x0 in X_train])\n",
    "classifier.fit(gram_train, y_train)\n",
    "\n",
    "print('Performance on TRAIN data:')\n",
    "print(classification_report(y_train, classifier.predict(gram_train)))\n",
    "\n",
    "gram_test = [[photonic_kernel(state)(x0, x1) for x1 in X_train] for x0 in X_test] \n",
    "\n",
    "print('Performance on TEST data:')\n",
    "print(classification_report(y_test, classifier.predict(gram_test)))"
   ]
  },
  {
   "cell_type": "markdown",
   "metadata": {},
   "source": [
    "### Learn with distinguishable photons"
   ]
  },
  {
   "cell_type": "code",
   "execution_count": 12,
   "metadata": {},
   "outputs": [
    {
     "name": "stdout",
     "output_type": "stream",
     "text": [
      "[LibSVM]Performance on TRAIN data:\n",
      "              precision    recall  f1-score   support\n",
      "\n",
      "          -1       1.00      1.00      1.00        46\n",
      "           1       1.00      1.00      1.00        44\n",
      "\n",
      "    accuracy                           1.00        90\n",
      "   macro avg       1.00      1.00      1.00        90\n",
      "weighted avg       1.00      1.00      1.00        90\n",
      "\n",
      "Performance on TEST data:\n",
      "              precision    recall  f1-score   support\n",
      "\n",
      "          -1       0.92      0.86      0.89        14\n",
      "           1       0.88      0.94      0.91        16\n",
      "\n",
      "    accuracy                           0.90        30\n",
      "   macro avg       0.90      0.90      0.90        30\n",
      "weighted avg       0.90      0.90      0.90        30\n",
      "\n"
     ]
    }
   ],
   "source": [
    "dist_photons_kernel = lambda state: lambda x0, x1: (\n",
    "        ansatz(width, depth, x0) >> ansatz(width, depth, x1).dagger()).amp_dist(state, state)\n",
    "\n",
    "state = [0, 1, 1, 1, 0]\n",
    "\n",
    "gram_train = np.array([[dist_photons_kernel(state)(x0, x1) for x1 in X_train] for x0 in X_train])\n",
    "classifier.fit(gram_train, y_train)\n",
    "\n",
    "print('Performance on TRAIN data:')\n",
    "print(classification_report(y_train, classifier.predict(gram_train)))\n",
    "\n",
    "gram_test = [[dist_photons_kernel(state)(x0, x1) for x1 in X_train] for x0 in X_test] \n",
    "\n",
    "print('Performance on TEST data:')\n",
    "print(classification_report(y_test, classifier.predict(gram_test)))"
   ]
  },
  {
   "cell_type": "markdown",
   "metadata": {},
   "source": [
    "### Compare with Gaussian kernels"
   ]
  },
  {
   "cell_type": "code",
   "execution_count": 13,
   "metadata": {},
   "outputs": [
    {
     "name": "stderr",
     "output_type": "stream",
     "text": [
      "/Users/giovannidefelice/.pyenv/versions/3.7.4/lib/python3.7/site-packages/sklearn/model_selection/_split.py:1978: FutureWarning: The default value of cv will change from 3 to 5 in version 0.22. Specify it explicitly to silence this warning.\n",
      "  warnings.warn(CV_WARNING, FutureWarning)\n",
      "/Users/giovannidefelice/.pyenv/versions/3.7.4/lib/python3.7/site-packages/sklearn/model_selection/_search.py:814: DeprecationWarning: The default of the `iid` parameter will change from True to False in version 0.22 and will be removed in 0.24. This will change numeric results when test-set sizes are unequal.\n",
      "  DeprecationWarning)\n"
     ]
    },
    {
     "data": {
      "text/plain": [
       "GridSearchCV(cv='warn', error_score='raise-deprecating',\n",
       "             estimator=SVC(C=1.0, cache_size=200, class_weight=None, coef0=0.0,\n",
       "                           decision_function_shape='ovr', degree=3,\n",
       "                           gamma='auto_deprecated', kernel='rbf', max_iter=-1,\n",
       "                           probability=False, random_state=None, shrinking=True,\n",
       "                           tol=0.001, verbose=False),\n",
       "             iid='warn', n_jobs=None,\n",
       "             param_grid={'C': array([1.00000000e-02, 1.20679264e-02, 1.45634848e-02, ...,\n",
       "       6.86648845e+01, 8.28642773e+01, 1.00000000e+02]),\n",
       "                         'gamma': array([1.00000000e-09, 1.67683294e-09, 2.81176870e-09, ...,\n",
       "       3.55648031e+01, 5.96362332e+01, 1.00000000e+02])},\n",
       "             pre_dispatch='2*n_jobs', refit=True, return_train_score=False,\n",
       "             scoring=None, verbose=0)"
      ]
     },
     "execution_count": 13,
     "metadata": {},
     "output_type": "execute_result"
    }
   ],
   "source": [
    "from sklearn.model_selection import GridSearchCV, StratifiedShuffleSplit\n",
    "\n",
    "C_range = np.logspace(-2, 2, 50)\n",
    "gamma_range = np.logspace(-9, 2, 50)\n",
    "param_grid = dict(gamma=gamma_range, C=C_range)\n",
    "grid = GridSearchCV(svm.SVC(), param_grid=param_grid)\n",
    "grid.fit(X_train, y_train)"
   ]
  },
  {
   "cell_type": "code",
   "execution_count": 14,
   "metadata": {},
   "outputs": [
    {
     "name": "stdout",
     "output_type": "stream",
     "text": [
      "The best parameters are {'C': 3.3932217718953264, 'gamma': 0.12067926406393265} with a score of 0.62\n"
     ]
    }
   ],
   "source": [
    "print(\n",
    "    \"The best parameters are %s with a score of %0.2f\"\n",
    "    % (grid.best_params_, grid.best_score_)\n",
    ")"
   ]
  },
  {
   "cell_type": "code",
   "execution_count": 15,
   "metadata": {},
   "outputs": [
    {
     "name": "stdout",
     "output_type": "stream",
     "text": [
      "Performance on TRAIN data:\n",
      "              precision    recall  f1-score   support\n",
      "\n",
      "          -1       0.94      1.00      0.97        46\n",
      "           1       1.00      0.93      0.96        44\n",
      "\n",
      "    accuracy                           0.97        90\n",
      "   macro avg       0.97      0.97      0.97        90\n",
      "weighted avg       0.97      0.97      0.97        90\n",
      "\n"
     ]
    }
   ],
   "source": [
    "print('Performance on TRAIN data:')\n",
    "print(classification_report(y_train, grid.predict(X_train)))"
   ]
  },
  {
   "cell_type": "code",
   "execution_count": 16,
   "metadata": {},
   "outputs": [
    {
     "name": "stdout",
     "output_type": "stream",
     "text": [
      "Performance on TEST data:\n",
      "              precision    recall  f1-score   support\n",
      "\n",
      "          -1       0.47      0.57      0.52        14\n",
      "           1       0.54      0.44      0.48        16\n",
      "\n",
      "    accuracy                           0.50        30\n",
      "   macro avg       0.50      0.50      0.50        30\n",
      "weighted avg       0.51      0.50      0.50        30\n",
      "\n"
     ]
    }
   ],
   "source": [
    "print('Performance on TEST data:')\n",
    "print(classification_report(y_test, grid.predict(X_test)))"
   ]
  },
  {
   "cell_type": "code",
   "execution_count": null,
   "metadata": {},
   "outputs": [],
   "source": [
    "# import pickle\n",
    "# pickle_out = open('dataset-D120-w5-d4-01110.pickle',\"wb\")\n",
    "# pickle.dump(data, pickle_out)\n",
    "# pickle_out.close()"
   ]
  },
  {
   "cell_type": "code",
   "execution_count": null,
   "metadata": {},
   "outputs": [],
   "source": []
  }
 ],
 "metadata": {
  "kernelspec": {
   "display_name": "Python 3",
   "language": "python",
   "name": "python3"
  },
  "language_info": {
   "codemirror_mode": {
    "name": "ipython",
    "version": 3
   },
   "file_extension": ".py",
   "mimetype": "text/x-python",
   "name": "python",
   "nbconvert_exporter": "python",
   "pygments_lexer": "ipython3",
   "version": "3.9.4"
  }
 },
 "nbformat": 4,
 "nbformat_minor": 2
}
